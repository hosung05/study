{
 "cells": [
  {
   "cell_type": "code",
   "execution_count": 23,
   "metadata": {},
   "outputs": [],
   "source": [
    "import requests\n",
    "from bs4 import BeautifulSoup\n",
    "from selenium import webdriver\n",
    "import time\n",
    "from selenium.webdriver.common.keys import Keys"
   ]
  },
  {
   "cell_type": "code",
   "execution_count": 29,
   "metadata": {},
   "outputs": [],
   "source": [
    "browser = webdriver.Chrome('./chromedriver')"
   ]
  },
  {
   "cell_type": "code",
   "execution_count": 41,
   "metadata": {},
   "outputs": [
    {
     "name": "stdout",
     "output_type": "stream",
     "text": [
      "keywords = taste\n",
      "스크롤 완료\n",
      "['제 입맛에는 아빠보다 아기 버거가 더 맛있네요. ㅋㅋㅋㅋ', '맛있어요', '새우상어버거엄청맛있어요~~ 새우도탱글탱글', '플랜트 와퍼 맛있어요', '신선하고 맛있어요~', '맛있어요', '맛있어요! 항상 사람이 많지만 빨리나오고 직원들도 친절함. 원체 와퍼는 먹다가 질리는 타입이라 와퍼주니어 먹는데 여긴 야채도 신선해서 올엑스트라로 추가하면 개꿀임🤩', '맛있어요', '맛있어요', '좋아요 맛있어요', '맛있어요', '야채가 신선하고 맛있어요. 사람이 항상 많아서간신히 앉아요.', '너겟 짱맛나용용!', '좋아요 행사버거 맛있어요', '와퍼 진짜 맛있음', '맛있어요ㅔ', '머쉬룸와퍼 정말 맛있어요 ^^', '맛있어요!! 배달이지만 잘먹었습니다', '맛있어요.', '맛있어요']\n",
      "리뷰 크롤링 완료\n",
      "keywords = service\n",
      "스크롤 완료\n",
      "['이른아침에 카운터에서 근무하시는 아주머니 너무 친절하십니다. 덕분에 든든하게 한끼식사하고 즐겁게 출근하러 갑니다. 기회있으면 또 재방문 하려고합니다.', '깨끗하고 친절하고 좋아요', '맛있어요! 항상 사람이 많지만 빨리나오고 직원들도 친절함. 원체 와퍼는 먹다가 질리는 타입이라 와퍼주니어 먹는데 여긴 야채도 신선해서 올엑스트라로 추가하면 개꿀임🤩', '키오스크에서 쿠폰을 쓰려니 잘 안 되서 알바생에게 물어보니 쳐다만 보고 그냥 가는데 어이가 없더군요', '9시가 지나서 장에서 섭취는 불가했지만 방문 포장은 가능해서 방문포장해갔어요~!', '리필이 안돼요', '불친절의 표본임 먹기도전에 아니 가져가기도 전에 기분나빠서 거의 안먹었음 두명이와서 햄버거 두개시켜야했는데 버튼을 잘못눌러서 모르고 세트하나만 시켜졌는데 그건 확인못한건 저희잘못이지만 친절하게 말하면 누가 잡아먹나요 무표정에 째려보고 싸울듯이 쳐다보면서 하나더 시키라고하더군요 기분 매우별로였음 아무리 바빠서 힘들다고하더라도 혼자만 힘든가 매우 화가났음 보니까 다른손님한테도 불친절한게보였음 낮에 카운터보시는 안경쓰시는 여자분 매우 불친절함 화나서 빨리나옴', '매장 쾌적하고 직원분들 친절하고 서비스 빠릅니다.', '와퍼 소스양이랑 내용물을 엑스트라만큼 주셨어요~! 친절하고 너무 좋아용', '불친절해요', '너무 불친절함', '전철역 가까워서 좋고 다 친절하셔서 좋아요 맛있어요', '매장도 넓고 음식 빨리나와서 좋고 직원분들 친절해요! 맛있고 24시여서 좋아요!', '알바생 친절', '장소이전된걸 모르고 헤매다 왔고 코로나라 현금결재의 의사소통이 안됨이 약간짜증으로', '아이랑 방문했는데 직원분인지 아르바이트생인지 여자분인데 친절하시네여 맛있어요 따뜻하게 먹었어요~', '새로 오픈해서 그런지 아직 손님많이 없고 음식도 빨리 나왔어요']\n",
      "리뷰 크롤링 완료\n",
      "keywords = mood\n",
      "스크롤 완료\n",
      "['매장 쾌적하고 좋고ᆢ혼자 이용하기도 좋아요^-^ 와버주니어 행사♡애용!', '매장이깔끔해용', '앉을 자리가 좋아요', '분위기 좋아요', '길건너에서 이사온 버거킹 이전보다는 매장이 깔끔해졌어요. 여전히 점심시간에는 붐비네요. 그리고 1인석이 생겼네요.', '안북적거리고좋아요 ~', '양상추도푸짐하고 내부도 깔끔해요 혼밥하기도 좋은 곳 굿입니다~', '매장이 엄청 깔끔해요']\n",
      "리뷰 크롤링 완료\n",
      "keywords = price\n",
      "스크롤 완료\n",
      "['타 버거집보다 저렴해서 좋아여 (이벤트)', '행사중이랑 저렴하게 먹었어요', '버거킹 와퍼주니어세트 !! 가격대비 가성비 짱임 ㅋㅋㅋㅋ']\n",
      "리뷰 크롤링 완료\n",
      "keywords = amount\n",
      "스크롤 완료\n",
      "['아 통새우맛나요']\n",
      "리뷰 크롤링 완료\n",
      "keywords = menu\n",
      "스크롤 완료\n",
      "[]\n",
      "리뷰 크롤링 완료\n",
      "keywords = cleanliness\n",
      "스크롤 완료\n",
      "['밖에는 강풍이 불고 날씨는 비가 올 듯 어둑한데  컵아이스크림 포장을 주문했는데 뚜껑 찾기 귀찮다고 안덮은 채로 일회용종이수저를 푸욱 꽂아 주는 건 코로나로 다들 마스크 쓰고 다니는데 너 혼자만 마스크 벗고 추워서 다들 웅크리는 날씨에 컵아이스크림 길에서 떠먹으며 가라는거죠??! 이름표 보니 수석부점장이던데 도대체 수석부점장은 어떤 자격으로 되는거지요?  기본이 안되어 있는데. 신입도 그렇게는 안할 것 같은데.', '사람이 미끄러져서 뒤로 넘어졌는데 살피는 사람이 없네요; 바쁜거 알겠는데 매장이 미끄러워서 넘어진거면 책임이 있는거 아닌가요 넘어지셔서 한참 못일어나고 누워계셨고 머리로 떨어져서 쿵하는 소리도 들리고 다들 쳐다봤는데 살피는것도, 119 부르는 것도 올때까지 기다리는 것도 고객들이 했네요 사람이 다쳤는데 계속 자기 할일만 하시더라구요. 119 전화하고 여기 지점 주소좀 불러달라니 바빠서 모르겠다고 하시던 직원분도 있었어요 아무리 바빠도 뭐가 우선인지 생각하셨으면 좋겠고 매장 관리도 신경쓰셨으면 합니다', '맛있어요~ 매장도 깨끗합니다', '1인 테이블 있어서 좋아요']\n",
      "리뷰 크롤링 완료\n",
      "keywords = waitingtime\n",
      "스크롤 완료\n",
      "['정말 넓고 일인용 자리도 있고 깨끗한데  점심시간에는 대기시간이 꽤 있습니다.']\n",
      "리뷰 크롤링 완료\n",
      "keywords = total\n"
     ]
    },
    {
     "ename": "KeyboardInterrupt",
     "evalue": "",
     "output_type": "error",
     "traceback": [
      "\u001b[0;31m---------------------------------------------------------------------------\u001b[0m",
      "\u001b[0;31mKeyboardInterrupt\u001b[0m                         Traceback (most recent call last)",
      "\u001b[0;32m<ipython-input-41-ce1bbd081cd9>\u001b[0m in \u001b[0;36m<module>\u001b[0;34m\u001b[0m\n\u001b[1;32m     25\u001b[0m         \u001b[0;32mexcept\u001b[0m\u001b[0;34m:\u001b[0m\u001b[0;34m\u001b[0m\u001b[0;34m\u001b[0m\u001b[0m\n\u001b[1;32m     26\u001b[0m             \u001b[0;32mpass\u001b[0m\u001b[0;34m\u001b[0m\u001b[0;34m\u001b[0m\u001b[0m\n\u001b[0;32m---> 27\u001b[0;31m         \u001b[0mtime\u001b[0m\u001b[0;34m.\u001b[0m\u001b[0msleep\u001b[0m\u001b[0;34m(\u001b[0m\u001b[0;36m3\u001b[0m\u001b[0;34m)\u001b[0m\u001b[0;34m\u001b[0m\u001b[0;34m\u001b[0m\u001b[0m\n\u001b[0m\u001b[1;32m     28\u001b[0m \u001b[0;34m\u001b[0m\u001b[0m\n\u001b[1;32m     29\u001b[0m         \u001b[0mcurr_height\u001b[0m \u001b[0;34m=\u001b[0m \u001b[0mbrowser\u001b[0m\u001b[0;34m.\u001b[0m\u001b[0mexecute_script\u001b[0m\u001b[0;34m(\u001b[0m\u001b[0;34m\"return document.body.scrollHeight\"\u001b[0m\u001b[0;34m)\u001b[0m\u001b[0;34m\u001b[0m\u001b[0;34m\u001b[0m\u001b[0m\n",
      "\u001b[0;31mKeyboardInterrupt\u001b[0m: "
     ]
    }
   ],
   "source": [
    "category = ['taste', 'service', 'mood', 'price', 'amount', 'menu', 'cleanliness', 'waitingtime', 'total', 'location']\n",
    "\n",
    "\n",
    "for cate in category:\n",
    "    \n",
    "    print(\"keywords =\", cate)\n",
    "    browser.get(\"https://m.place.naver.com/restaurant/1526373632/review/visitor?reviewTheme={0}\".format(cate))\n",
    "    browser.maximize_window()\n",
    "    time.sleep(3)\n",
    "    try :\n",
    "        more_review = browser.find_element_by_css_selector(\"div._2kAri a._3iTUo\")\n",
    "        more_review.click()\n",
    "    except :\n",
    "        pass\n",
    "    \n",
    "    browser.execute_script(\"window.scrollTo(0, document.body.scrollHeight)\")\n",
    "\n",
    "    # 현재 문서 높이를 가져와서 저장\n",
    "    prev_height = browser.execute_script(\"return document.body.scrollHeight\")\n",
    "\n",
    "    while True:\n",
    "        browser.execute_script(\"window.scrollTo(0, document.body.scrollHeight)\")\n",
    "        try:\n",
    "            more.click()\n",
    "        except:\n",
    "            pass\n",
    "        time.sleep(3)\n",
    "    \n",
    "        curr_height = browser.execute_script(\"return document.body.scrollHeight\")\n",
    "        if curr_height == prev_height:\n",
    "            break\n",
    "    \n",
    "        prev_height = curr_height\n",
    "\n",
    "    print(\"스크롤 완료\")\n",
    "    \n",
    "    soup = BeautifulSoup(browser.page_source, \"html.parser\")\n",
    "    lis  = soup.select(\"div.PVBo8\")\n",
    "    comments = []\n",
    "    for li in lis:\n",
    "        comments.append(li.select_one(\"div.PVBo8 > a span\").text)\n",
    "    \n",
    "    print(comments)\n",
    "    print(\"리뷰 크롤링 완료\")\n",
    "    # 하이라이트 키워드 스크랩\n",
    "\n",
    "    elems = browser.find_elements_by_css_selector('span.highlight')\n",
    "    for elem in elems:\n",
    "        elem.text"
   ]
  },
  {
   "cell_type": "code",
   "execution_count": null,
   "metadata": {},
   "outputs": [],
   "source": []
  }
 ],
 "metadata": {
  "kernelspec": {
   "display_name": "Python 3",
   "language": "python",
   "name": "python3"
  },
  "language_info": {
   "codemirror_mode": {
    "name": "ipython",
    "version": 3
   },
   "file_extension": ".py",
   "mimetype": "text/x-python",
   "name": "python",
   "nbconvert_exporter": "python",
   "pygments_lexer": "ipython3",
   "version": "3.8.5"
  },
  "toc": {
   "base_numbering": 1,
   "nav_menu": {},
   "number_sections": true,
   "sideBar": true,
   "skip_h1_title": false,
   "title_cell": "Table of Contents",
   "title_sidebar": "Contents",
   "toc_cell": false,
   "toc_position": {},
   "toc_section_display": true,
   "toc_window_display": false
  },
  "varInspector": {
   "cols": {
    "lenName": 16,
    "lenType": 16,
    "lenVar": 40
   },
   "kernels_config": {
    "python": {
     "delete_cmd_postfix": "",
     "delete_cmd_prefix": "del ",
     "library": "var_list.py",
     "varRefreshCmd": "print(var_dic_list())"
    },
    "r": {
     "delete_cmd_postfix": ") ",
     "delete_cmd_prefix": "rm(",
     "library": "var_list.r",
     "varRefreshCmd": "cat(var_dic_list()) "
    }
   },
   "types_to_exclude": [
    "module",
    "function",
    "builtin_function_or_method",
    "instance",
    "_Feature"
   ],
   "window_display": false
  }
 },
 "nbformat": 4,
 "nbformat_minor": 4
}
