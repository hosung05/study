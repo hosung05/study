{
 "cells": [
  {
   "cell_type": "code",
   "execution_count": 6,
   "metadata": {},
   "outputs": [],
   "source": [
    "import os, re\n",
    "import requests\n",
    "import pandas as pd\n",
    "import numpy as np\n",
    "from bs4 import BeautifulSoup as bs\n",
    "import urllib.request as ur\n",
    "from selenium import webdriver\n",
    "from selenium.webdriver.common.keys import Keys\n",
    "import time\n"
   ]
  },
  {
   "cell_type": "code",
   "execution_count": 11,
   "metadata": {
    "scrolled": true
   },
   "outputs": [
    {
     "name": "stdout",
     "output_type": "stream",
     "text": [
      "['2021년 1월 1일', '2021년 1월 2일', '2021년 1월 3일', '2021년 1월 4일', '2021년 1월 5일', '2021년 1월 6일', '2021년 1월 7일', '2021년 1월 8일', '2021년 1월 9일']\n",
      "2021년 1월 4일까지 스크롤 완료\n",
      "맛 평점:  ['1', '1', '3', '1', '4', '5', '1', '5', '5', '1', '4', '4', '5', '1', '5', '1', '5', '5', '3', '4', '4', '4', '4', '3', '5', '1', '5', '1', '3', '1', '1', '1', '2', '1', '5', '1', '2', '5', '1', '3', '3', '5', '3', '5', '5', '3', '3', '3', '3', '4', '1', '5', '1', '4', '1', '3', '4', '1', '2', '3', '1']\n",
      "양 평점:  ['1', '1', '3', '1', '3', '3', '1', '3', '5', '1', '3', '4', '3', '2', '5', '2', '4', '5', '5', '4', '4', '3', '3', '5', '5', '1', '3', '1', '3', '1', '1', '5', '4', '1', '5', '1', '2', '5', '1', '4', '5', '5', '4', '3', '1', '3', '3', '3', '3', '5', '1', '5', '4', '5', '4', '3', '5', '1', '2', '3', '3']\n",
      "배달 평점:  ['1', '1', '5', '1', '5', '5', '1', '5', '3', '1', '5', '1', '5', '5', '1', '1', '3', '3', '4', '2', '3', '3', '5', '3', '1', '1', '5', '1', '1', '1', '1', '2', '2', '1', '3', '1', '2', '1', '1', '4', '5', '2', '5', '5', '5', '4', '1', '3', '3', '2', '1', '1', '1', '3', '1', '3', '2', '1', '1', '3', '3']\n",
      "전체 ['배달은 재 시간보다 40분 늦게 왔고... 감자튀김은 식어서 눅눅하고.. 햄버거 양상추는 시든것으로 오고.... 콜라가 제일 맛나더이다', '햄버거를 한시간 기다려서 먹으면 패스트푸드가 맞나요? 주문 30분 후 잘 받았냐, 맛있게 먹었냐는 왜 묻는지? 음식 출발은 45분만에 했다면서 롯데리아 배달 이따위로 할거면 요기요로 장사 집어치우세요', '양상추좀 많이 넣어달랬는데.. 본인 햄버거라면 이렇게 만드셨을지 참..', '오늘 진짜 맛없었습니다......양ㄴㅕㅁ도 거의없고 튀김은무슨 기름덩어리네요...진짜 욕나옵니다 누가 조리했는지 형편없네요', '감자튀김 양이 반절정도 빠져있던것도 있어서..... 다음에는 확실히 알차게 담아주세요..', '맛있고 다 좋은데 콜라 이만큼 줄거면 추가요금 받지 마시쥬,,? 사진이라 얼마 차이 안나보이지만 그냥 보통 사이즈랑 별 다를게 없던데요', '양념감자 2개, 닭가슴살 1개, 아이스 라떼 1개 주문했는데 1시간 걸렸어요. 양념감자 양 너무 적고 라떼는 아무리 롯데리아여도 거의 맹물 맛이네요. 너무 심해요.', '맛은 워낙 먹는거라 말도않고 배달 빨라좋았습니다', '콜라 포장부분에 바늘구멍같은 구멍이 나서 왔어요 음료 밖에 튀어나오고 괜히 찝찝하고 불안해서 그냥 버렸습니다', '아이스크림이 안왔네요?', '롯리는 신메뉴는 원래 한동안 좋아서 신메뉴기대했는데 이번엔 시작부터 별로네요. trex드세요', '진짜. 맨날 1시간 넘게걸림 ㅡㅡ', '맛있게 잘 먹었습니다...ㅎㅎ', '감자튀김이 하나빠져서왔오요 ㅡㅡ', '배달ㄹㅇ늦어염ㅜㅜㅜㅜㅜ', '오늘 비가 와서 배송이 늦긴 했는데 ..오다 혹시감자튀김 물에 빠뜨리신건지 ...너무 눅눅 하더라구요 ㅠㅠ', '배달이 늦어서 조금 식었지만 맛있었어요~!^^', '배달이 늦어서 다 식어서 왔어요ㅠㅠㅠ', '치즈넘버파이브 완전 차갑게 왔고, 버거도 맛없어요.', '사각새우더블버거를 시켰는데 오리지널 새우버거가 왔어요', '프로모션때문인지 배달이 좀 늦고 햄버거가 너무 식은채로 배달되서 좀 아쉽네요..', '처음 먹어보는 버거였는데 맛있었다', '맛있게잘먹었네요.', '음식이 다식어서왔어요', '새벽에 가끔시켜먹는데 상품질이 좋아요 야채신선하고 튀김바삭하고.. 다좋은데 배달라이더한테는 한손으로 쭉 내밀어주라고는 않하시죠? 그것도 음료는 손가락에 끼워서 빼가라네요 대행인가하고 옷을봤더니 롯데리아 옷입고 있더군요 배달하는 친구가 몰라서 그러는거 같은데 교육부탁해요 한손에 핸폰쳐다보면서..몇번째입니다', '처음 시킬때 25-35분걸린댔는데 1시간이 지나도 안오네요.', '롯데리아에서 몇 안되는 맛있는버거들입니다', '배달 한시간30분걸림 음식다식어서옴.. 차라리 배달비밭고빨리보내줘라', '안오는데오?????', '언제와요ㅡㅡ짜증나게ㅡㅡ', '6천원과 3천원차이 레게노 배달한시간 ㅋㅋ', '비가 와서 그런지 배달이 예상시간보다 조금 늦었고, 음식이 많이 식어 있었어요. 또한 감튀, 햄버거가 눅눅했어요. 평소 시킬땐 이런 일이 없었는데 오늘 비가 와서 그렇겠죠?', '오류인가요 별이 1개뿐이 선탴못하네요', '역대 최악의 햄버거 체인 롯데리아 롯데리아 최악의 지점 선릉 새벽에 주문 폭주로 배달예상 시간보다 2배 이상 걸리고 감자튀김은 다 말라비틀어짐', '예상 배달 시간이랑 안맞아서 아쉬워요 ..ㅠㅠ', '배송도 느리고 2세트를 시켰는데 빨대 케찹은 1개씩 옴;;', '너무차가워서 대워먹었어요 그리고 패티랑빵이랑 다위치가;;;', '문앞에 두고 문자주고 가시라고 했는데 다 자는 새벽에 문을 두드리시면 어떻게해요ㅠㅠㅠ... 제발 확인좀 하고 배달 해주세요 이 새벽에 가족들 다 깨고....아휴 진짜 이게 뭡니까 진짜 화나서...먹기도 전에 기분 다 잡쳐놓으시네요..', '최악이네요.정확히 1시간30분정도후에 배달이되네요.주문이안들어간것인지,배달기사님 잘못인지 롯데리아 선릉점 잘못인지 모르지만 배달후에 늦어져서 죄송합니다 이 한마디만 하셨으면 되었는데 하여튼 최악 입니다.다시는 주문안할것입니다.', '원래 주문 한 시간 걸린다고 되어 있었으나 30, 40분은 더 걸린 것 같아요. 비가 와서 이해는 하지만.. 온 종일 아무 것도 안 먹고 늦은 점심을 시킨거라 기다리는데 어질어질 했습니다. 하지만 맛있게 잘 먹었습니다. 감사합니다.', '배달은빠르나 점심시간여서 만들어놓은거 보낸느낌 ㅠ 차갑고 딱딱하고ㅠ 배달빨라 따근히먹겟구나 생각햇는덱 고기가 다말라잇어요', '비가와서 그런지 예상시간보다 더걸리구 뒷문으로 오구 뭐...공휴일이라 배달빼고는 잘먹엇어용', '할인해서 먹었지만 한우도 그닥이네요... 정가 생각하면 패티가 얇아도 너무 얇네요.', '양은 살짝 모자라지만 맛있어요', '아니 진짜 어이없어요 치즈 시즈닝 일부러 두번 추가해서 2개 시켰는데 하나만 옴;;', '잘먹었습니다.', '30분 도착 메세지 보내시고 1시간이 넘도록 기다리는데 아직도 도착안하네요 패스트푸드 맞나요..??', '어허 ~ 아직도 식어서 왔구나 버거가 좀 추운가보다 이불좀 잘좀 덮어주니라~', '어멈아 버거가 식었다! 더 따숩게 해서 오니라 ~', '1.57분주문.지금 2시57분. 아직도착전..ㅠ', '1점 주고 싶은대 그럼 제ㅜ리뷰가 밑에 묻히니 별 5개를 했는데 음식을 기본적으로 맛이 있다 없다를 떠나서 음식을 제대로 익히고 따뜻해야죠 저는 햄버거랑 다른 음식들 받았을때 어제 쓰시다가 남은 음식 주신줄 알았어요 이렇게 차가운걸 어떻게 먹으라는거죠? 뭐 데워먹으면된다하고 감자튀김은 적어도 익혀서 보내주셔야줘 감자튀김이 안익었어서 왔어요 제가 한끼 식사에 16000원을 투자했는데 재가 먹은거는 1600원치인가보네요 다시는 시켜먹을 맘이 없내요', '🍔🍔🍔🍔🍔🍔🍔🍔🍔🍔🍔🍔🍔🍔', '두 시간 만에 왔네요. 배달 예정시간보다도 한 시간 늦게 왔어요. 배달하신 분도 불친절하고 음식은 다 식어있었어요.', '예상 배달 시간보다 20분 정도 지연됐어요. 감튀가 식어서 맛이 없었네요. 버거는 익스프레스 되는 곳으로 시켜야겠어요.', '예정시간 보다 30분 지나서 오다보니, 다 식어버렸네요..', '새우버거에서 쉰네나고 좀 별로네요', '칠십분예상.. 예상대로 감튀는 못먹을수준입니다 나머지는 괜츈', '최악의 배달입니다. 12시54분에 온다하고 1시 22분에 도착하네요. 1시4분에 전화했을때 이미 출발해서 5분안에 도착한다 하고 1시 22분에 오네요. 요기요는 다른 어플과 다르게 라이더 추적도 안돼서 엄청 불편하네요 여기서 시키지 마세요 다른 어플에서 시키세요 배x민 쿠x이츠 등 많습니다', '배달 시간 많이지연됬어요. 1시간 걸림.…', '식었어요 ㅠㅠㅠㅠㅠ', '감튀 다 식어서 뭉탱이로 뭉쳐져있고 치킨도 별로고 별로']\n"
     ]
    }
   ],
   "source": [
    "options = webdriver.ChromeOptions()\n",
    "options.add_argument('--no-sandbox')\n",
    "options.add_argument('--disable-dev-shm-usage')\n",
    "options.add_argument(\"user-agent=Mozilla/5.0 (Windows NT 10.0; Win64; x64) AppleWebKit/537.36 (KHTML, like Gecko) Chrome/91.0.4472.77 Safari/537.36\")\n",
    "browser =  webdriver.Chrome('../chromedriver', options = options)\n",
    "\n",
    "url = 'https://www.yogiyo.co.kr/mobile/#/234942/'\n",
    "# headers = {'user-agent':Mozilla/5.0 (Windows NT 10.0; Win64; x64) AppleWebKit/537.36 (KHTML, like Gecko) Chrome/90.0.4430.212 Safari/537.36'}\n",
    "\n",
    "\n",
    "# 링크 주소 가져오기\n",
    "browser.get(url)\n",
    "browser.maximize_window()\n",
    "\n",
    "# 리뷰 버튼 클릭\n",
    "\n",
    "time.sleep(3)\n",
    "\n",
    "review_button = browser.find_elements_by_css_selector('.nav.nav-tabs.restaurant-tab a')\n",
    "review_button[1].click()\n",
    "\n",
    "# 더보기 클릭\n",
    "\n",
    "# try :\n",
    "#     more = browser.find_element_by_css_selector('li.list-group-item.btn-more a')\n",
    "#     more.click()\n",
    "# except :\n",
    "#     pass\n",
    "\n",
    "# 화면 가장 아래로 스크롤 내리기\n",
    "browser.execute_script(\"window.scrollTo(0, document.body.scrollHeight)\")\n",
    "\n",
    "Interval = 3 # 2초에 한번씩\n",
    "\n",
    "\n",
    "# 마지막 날짜(크롤링 시작 날짜) 20년 1월 1일~10일\n",
    "first_days = []\n",
    "for i in range(1,10,1):\n",
    "    first_days.append(\"2021년 1월 {}일\".format(i))\n",
    "print(first_days)\n",
    "\n",
    "\n",
    "# 현재 문서 높이를 가져와서 저장\n",
    "prev_height = browser.execute_script(\"return document.body.scrollHeight\")\n",
    "\n",
    "while True:\n",
    "    browser.execute_script(\"window.scrollTo(0, document.body.scrollHeight)\")\n",
    "    try:\n",
    "        more = browser.find_element_by_css_selector('li.list-group-item.btn-more a')\n",
    "        more.click()\n",
    "    except:\n",
    "        pass\n",
    "    time.sleep(Interval)\n",
    "    \n",
    "    curr_height = browser.execute_script(\"return document.body.scrollHeight\")\n",
    "    if curr_height == prev_height:\n",
    "        break\n",
    "    \n",
    "    prev_height = curr_height\n",
    "#     print(browser.find_elements_by_css_selector('li.list-group-item.star-point.ng-scope span.review-time.ng-binding')[-1].text)\n",
    "    \n",
    "    # first_day에 정한 날짜까지 스크롤할 시 스크롤 중지\n",
    "    if browser.find_elements_by_css_selector('li.list-group-item.star-point.ng-scope span.review-time.ng-binding')[-1].text.strip() in first_days:\n",
    "        print(\"{}까지 스크롤 완료\".format(browser.find_elements_by_css_selector('li.list-group-item.star-point.ng-scope span.review-time.ng-binding')[-1].text.strip()))\n",
    "        break\n",
    "        \n",
    "\n",
    "\n",
    "\n",
    "# 별점 태그 ratings에 저장\n",
    "ratings = browser.find_elements_by_css_selector('span.category span.points.ng-binding')\n",
    "\n",
    "\n",
    "# 리뷰 reviews에 저장\n",
    "reviews = browser.find_elements_by_css_selector('li.list-group-item.star-point.ng-scope p')\n",
    "\n",
    "# 카테고리 별 인덱싱\n",
    "taste_idx = 0\n",
    "quantity_idx = 1\n",
    "delivery_idx = 2\n",
    "review_idx = 0   \n",
    "\n",
    "# 맛, 양, 배달 별 별점, 리뷰 리스트 선언\n",
    "taste_ratings = []\n",
    "quantity_ratings = []\n",
    "delivery_ratings = []\n",
    "overall_reviews = []\n",
    "\n",
    "\n",
    "\n",
    "# 각 별점 중 하나라도 3점 이하면 review_bads에 append\n",
    "\n",
    "\n",
    "\n",
    "while True:\n",
    "    try:\n",
    "        # 별점 중 하나라도 3점 이하면 각 별점 리스트 및 리뷰 리스트에 어펜드\n",
    "        if int(ratings[taste_idx].text) <= 3 or int(ratings[quantity_idx].text) <= 3 or int(ratings[delivery_idx].text) <= 3:\n",
    "            taste_ratings.append(ratings[taste_idx].text)\n",
    "            quantity_ratings.append(ratings[quantity_idx].text)\n",
    "            delivery_ratings.append(ratings[delivery_idx].text)\n",
    "            overall_reviews.append(reviews[review_idx].text)\n",
    "        else :\n",
    "            pass\n",
    "    except:\n",
    "        break\n",
    "    \n",
    "\n",
    "    taste_idx += 3\n",
    "    quantity_idx += 3\n",
    "    delivery_idx += 3\n",
    "    review_idx += 1\n",
    "\n",
    "\n",
    "print('맛 평점: ', taste_ratings)\n",
    "print('양 평점: ', quantity_ratings)\n",
    "print('배달 평점: ', delivery_ratings)\n",
    "print('전체', overall_reviews)\n",
    "\n",
    "\n",
    "\n"
   ]
  },
  {
   "cell_type": "code",
   "execution_count": 12,
   "metadata": {
    "scrolled": true
   },
   "outputs": [
    {
     "data": {
      "text/plain": [
       "61"
      ]
     },
     "execution_count": 12,
     "metadata": {},
     "output_type": "execute_result"
    }
   ],
   "source": [
    "len(taste_ratings)"
   ]
  },
  {
   "cell_type": "code",
   "execution_count": 13,
   "metadata": {},
   "outputs": [
    {
     "data": {
      "text/plain": [
       "['배달은 재 시간보다 40분 늦게 왔고... 감자튀김은 식어서 눅눅하고.. 햄버거 양상추는 시든것으로 오고.... 콜라가 제일 맛나더이다',\n",
       " '햄버거를 한시간 기다려서 먹으면 패스트푸드가 맞나요? 주문 30분 후 잘 받았냐, 맛있게 먹었냐는 왜 묻는지? 음식 출발은 45분만에 했다면서 롯데리아 배달 이따위로 할거면 요기요로 장사 집어치우세요',\n",
       " '양상추좀 많이 넣어달랬는데.. 본인 햄버거라면 이렇게 만드셨을지 참..',\n",
       " '오늘 진짜 맛없었습니다......양ㄴㅕㅁ도 거의없고 튀김은무슨 기름덩어리네요...진짜 욕나옵니다 누가 조리했는지 형편없네요',\n",
       " '감자튀김 양이 반절정도 빠져있던것도 있어서..... 다음에는 확실히 알차게 담아주세요..',\n",
       " '맛있고 다 좋은데 콜라 이만큼 줄거면 추가요금 받지 마시쥬,,? 사진이라 얼마 차이 안나보이지만 그냥 보통 사이즈랑 별 다를게 없던데요',\n",
       " '양념감자 2개, 닭가슴살 1개, 아이스 라떼 1개 주문했는데 1시간 걸렸어요. 양념감자 양 너무 적고 라떼는 아무리 롯데리아여도 거의 맹물 맛이네요. 너무 심해요.',\n",
       " '맛은 워낙 먹는거라 말도않고 배달 빨라좋았습니다',\n",
       " '콜라 포장부분에 바늘구멍같은 구멍이 나서 왔어요 음료 밖에 튀어나오고 괜히 찝찝하고 불안해서 그냥 버렸습니다',\n",
       " '아이스크림이 안왔네요?',\n",
       " '롯리는 신메뉴는 원래 한동안 좋아서 신메뉴기대했는데 이번엔 시작부터 별로네요. trex드세요',\n",
       " '진짜. 맨날 1시간 넘게걸림 ㅡㅡ',\n",
       " '맛있게 잘 먹었습니다...ㅎㅎ',\n",
       " '감자튀김이 하나빠져서왔오요 ㅡㅡ',\n",
       " '배달ㄹㅇ늦어염ㅜㅜㅜㅜㅜ',\n",
       " '오늘 비가 와서 배송이 늦긴 했는데 ..오다 혹시감자튀김 물에 빠뜨리신건지 ...너무 눅눅 하더라구요 ㅠㅠ',\n",
       " '배달이 늦어서 조금 식었지만 맛있었어요~!^^',\n",
       " '배달이 늦어서 다 식어서 왔어요ㅠㅠㅠ',\n",
       " '치즈넘버파이브 완전 차갑게 왔고, 버거도 맛없어요.',\n",
       " '사각새우더블버거를 시켰는데 오리지널 새우버거가 왔어요',\n",
       " '프로모션때문인지 배달이 좀 늦고 햄버거가 너무 식은채로 배달되서 좀 아쉽네요..',\n",
       " '처음 먹어보는 버거였는데 맛있었다',\n",
       " '맛있게잘먹었네요.',\n",
       " '음식이 다식어서왔어요',\n",
       " '새벽에 가끔시켜먹는데 상품질이 좋아요 야채신선하고 튀김바삭하고.. 다좋은데 배달라이더한테는 한손으로 쭉 내밀어주라고는 않하시죠? 그것도 음료는 손가락에 끼워서 빼가라네요 대행인가하고 옷을봤더니 롯데리아 옷입고 있더군요 배달하는 친구가 몰라서 그러는거 같은데 교육부탁해요 한손에 핸폰쳐다보면서..몇번째입니다',\n",
       " '처음 시킬때 25-35분걸린댔는데 1시간이 지나도 안오네요.',\n",
       " '롯데리아에서 몇 안되는 맛있는버거들입니다',\n",
       " '배달 한시간30분걸림 음식다식어서옴.. 차라리 배달비밭고빨리보내줘라',\n",
       " '안오는데오?????',\n",
       " '언제와요ㅡㅡ짜증나게ㅡㅡ',\n",
       " '6천원과 3천원차이 레게노 배달한시간 ㅋㅋ',\n",
       " '비가 와서 그런지 배달이 예상시간보다 조금 늦었고, 음식이 많이 식어 있었어요. 또한 감튀, 햄버거가 눅눅했어요. 평소 시킬땐 이런 일이 없었는데 오늘 비가 와서 그렇겠죠?',\n",
       " '오류인가요 별이 1개뿐이 선탴못하네요',\n",
       " '역대 최악의 햄버거 체인 롯데리아 롯데리아 최악의 지점 선릉 새벽에 주문 폭주로 배달예상 시간보다 2배 이상 걸리고 감자튀김은 다 말라비틀어짐',\n",
       " '예상 배달 시간이랑 안맞아서 아쉬워요 ..ㅠㅠ',\n",
       " '배송도 느리고 2세트를 시켰는데 빨대 케찹은 1개씩 옴;;',\n",
       " '너무차가워서 대워먹었어요 그리고 패티랑빵이랑 다위치가;;;',\n",
       " '문앞에 두고 문자주고 가시라고 했는데 다 자는 새벽에 문을 두드리시면 어떻게해요ㅠㅠㅠ... 제발 확인좀 하고 배달 해주세요 이 새벽에 가족들 다 깨고....아휴 진짜 이게 뭡니까 진짜 화나서...먹기도 전에 기분 다 잡쳐놓으시네요..',\n",
       " '최악이네요.정확히 1시간30분정도후에 배달이되네요.주문이안들어간것인지,배달기사님 잘못인지 롯데리아 선릉점 잘못인지 모르지만 배달후에 늦어져서 죄송합니다 이 한마디만 하셨으면 되었는데 하여튼 최악 입니다.다시는 주문안할것입니다.',\n",
       " '원래 주문 한 시간 걸린다고 되어 있었으나 30, 40분은 더 걸린 것 같아요. 비가 와서 이해는 하지만.. 온 종일 아무 것도 안 먹고 늦은 점심을 시킨거라 기다리는데 어질어질 했습니다. 하지만 맛있게 잘 먹었습니다. 감사합니다.',\n",
       " '배달은빠르나 점심시간여서 만들어놓은거 보낸느낌 ㅠ 차갑고 딱딱하고ㅠ 배달빨라 따근히먹겟구나 생각햇는덱 고기가 다말라잇어요',\n",
       " '비가와서 그런지 예상시간보다 더걸리구 뒷문으로 오구 뭐...공휴일이라 배달빼고는 잘먹엇어용',\n",
       " '할인해서 먹었지만 한우도 그닥이네요... 정가 생각하면 패티가 얇아도 너무 얇네요.',\n",
       " '양은 살짝 모자라지만 맛있어요',\n",
       " '아니 진짜 어이없어요 치즈 시즈닝 일부러 두번 추가해서 2개 시켰는데 하나만 옴;;',\n",
       " '잘먹었습니다.',\n",
       " '30분 도착 메세지 보내시고 1시간이 넘도록 기다리는데 아직도 도착안하네요 패스트푸드 맞나요..??',\n",
       " '어허 ~ 아직도 식어서 왔구나 버거가 좀 추운가보다 이불좀 잘좀 덮어주니라~',\n",
       " '어멈아 버거가 식었다! 더 따숩게 해서 오니라 ~',\n",
       " '1.57분주문.지금 2시57분. 아직도착전..ㅠ',\n",
       " '1점 주고 싶은대 그럼 제ㅜ리뷰가 밑에 묻히니 별 5개를 했는데 음식을 기본적으로 맛이 있다 없다를 떠나서 음식을 제대로 익히고 따뜻해야죠 저는 햄버거랑 다른 음식들 받았을때 어제 쓰시다가 남은 음식 주신줄 알았어요 이렇게 차가운걸 어떻게 먹으라는거죠? 뭐 데워먹으면된다하고 감자튀김은 적어도 익혀서 보내주셔야줘 감자튀김이 안익었어서 왔어요 제가 한끼 식사에 16000원을 투자했는데 재가 먹은거는 1600원치인가보네요 다시는 시켜먹을 맘이 없내요',\n",
       " '🍔🍔🍔🍔🍔🍔🍔🍔🍔🍔🍔🍔🍔🍔',\n",
       " '두 시간 만에 왔네요. 배달 예정시간보다도 한 시간 늦게 왔어요. 배달하신 분도 불친절하고 음식은 다 식어있었어요.',\n",
       " '예상 배달 시간보다 20분 정도 지연됐어요. 감튀가 식어서 맛이 없었네요. 버거는 익스프레스 되는 곳으로 시켜야겠어요.',\n",
       " '예정시간 보다 30분 지나서 오다보니, 다 식어버렸네요..',\n",
       " '새우버거에서 쉰네나고 좀 별로네요',\n",
       " '칠십분예상.. 예상대로 감튀는 못먹을수준입니다 나머지는 괜츈',\n",
       " '최악의 배달입니다. 12시54분에 온다하고 1시 22분에 도착하네요. 1시4분에 전화했을때 이미 출발해서 5분안에 도착한다 하고 1시 22분에 오네요. 요기요는 다른 어플과 다르게 라이더 추적도 안돼서 엄청 불편하네요 여기서 시키지 마세요 다른 어플에서 시키세요 배x민 쿠x이츠 등 많습니다',\n",
       " '배달 시간 많이지연됬어요. 1시간 걸림.…',\n",
       " '식었어요 ㅠㅠㅠㅠㅠ',\n",
       " '감튀 다 식어서 뭉탱이로 뭉쳐져있고 치킨도 별로고 별로']"
      ]
     },
     "execution_count": 13,
     "metadata": {},
     "output_type": "execute_result"
    }
   ],
   "source": [
    "(overall_reviews)"
   ]
  },
  {
   "cell_type": "code",
   "execution_count": 14,
   "metadata": {},
   "outputs": [],
   "source": [
    "import konlpy\n",
    "from konlpy.tag import Kkma\n",
    "from konlpy.utils import pprint\n",
    "from konlpy.tag import Komoran"
   ]
  },
  {
   "cell_type": "code",
   "execution_count": 15,
   "metadata": {},
   "outputs": [],
   "source": [
    "komoran = Komoran()"
   ]
  },
  {
   "cell_type": "code",
   "execution_count": 23,
   "metadata": {},
   "outputs": [
    {
     "data": {
      "text/plain": [
       "str"
      ]
     },
     "execution_count": 23,
     "metadata": {},
     "output_type": "execute_result"
    }
   ],
   "source": [
    "type(overall_reviews[0])"
   ]
  },
  {
   "cell_type": "code",
   "execution_count": 22,
   "metadata": {},
   "outputs": [
    {
     "data": {
      "text/plain": [
       "51"
      ]
     },
     "execution_count": 22,
     "metadata": {},
     "output_type": "execute_result"
    }
   ],
   "source": [
    "len(word_dict)"
   ]
  },
  {
   "cell_type": "code",
   "execution_count": 25,
   "metadata": {},
   "outputs": [
    {
     "name": "stdout",
     "output_type": "stream",
     "text": [
      "['배달', '시간', '분', '감자', '튀김', '식', '햄버거', '상추', '것', '콜라', '제일', '맛나', '더']\n",
      "['햄버거', '시간', '패스트푸드', '주문', '분', '후', '음식', '출발', '분만', '롯데리아', '배달', '따위', '할거', '요기', '요로', '장사']\n",
      "['상추', '본인', '햄버거', '라면']\n",
      "['오늘', '양념', '튀김', '은', '기름', '덩어리', '욕', '조리']\n",
      "['감자', '튀김', '양이', '반절', '정도', '것', '다음']\n",
      "['콜라', '줄', '거', '추가', '요금', '마시', '쥬', '사진', '얼마', '차이', '나보이', '지만', '사이즈']\n",
      "['양념', '감자', '개', '닭', '가슴', '살', '개', '아이스', '라', '떼', '개', '주문', '시간', '양념', '감자', '라', '떼', '롯데리아', '맹물', '맛']\n",
      "['맛', '거', '말', '배달']\n",
      "['콜라', '포장', '부분', '바늘구멍', '구멍', '음료', '밖', '불안']\n",
      "['아이스크림']\n",
      "['롯', '리', '메뉴', '원래', '한동안', '좋아서', '메뉴', '기대', '이번', '시작']\n",
      "['진짜', '시간']\n",
      "[]\n",
      "['감자', '튀김']\n",
      "[]\n",
      "['오늘', '비', '배', '송이', '오다', '감자', '튀김', '물', '건지']\n",
      "['배달']\n",
      "['배달', '식']\n",
      "['치즈', '넘버', '파이브', '완전', '버거']\n",
      "['사각', '새우', '더블', '버거', '오리지널', '새우', '버거']\n",
      "['프로모션', '때문', '배달', '햄버거', '채', '배달']\n",
      "['처음', '버거']\n",
      "[]\n",
      "['음식', '다식']\n",
      "['새벽', '상품', '야채', '튀김', '배달', '라이', '더', '손', '음료', '손가락', '대행', '인가', '옷', '롯데리아', '옷', '배달', '친구', '거', '교육', '부탁', '손', '폰', '번']\n",
      "['처음', '때', '분', '걸리', '시간']\n",
      "['롯데리아', '안', '버거']\n",
      "['배달', '시간', '분', '음식', '다식', '배달', '밭']\n",
      "['데', '오']\n",
      "[]\n",
      "['천원', '천원', '차이', '레게', '노', '배달', '시간']\n",
      "['비', '그런지', '배달', '예상', '시간', '음식', '감', '햄버거', '평소', '때', '일', '오늘', '비']\n",
      "['오류', '별', '개', '뿐']\n",
      "['역대', '최악', '햄버거', '체인', '롯데리아', '롯데리아', '최악', '지점', '선릉', '새벽', '주문', '폭주', '배달', '예상', '시간', '배', '이상', '감자', '튀김']\n",
      "['예상', '배달', '시간', '이랑']\n",
      "['배', '송도', '세트', '빨대', '개']\n",
      "['패티', '랑', '빵', '이랑', '다', '위치']\n",
      "['문', '앞', '문자', '자', '새벽', '문', '확인', '배달', '새벽', '가족', '화나', '전', '기분']\n",
      "['최악', '시간', '분', '정도', '후에', '배달', '이', '주문', '이안', '것', '배달', '기사', '잘못', '롯데리아', '선릉', '점', '잘못', '배달', '후에', '한마디', '최악', '다시', '주문', '안', '것']\n",
      "['원래', '주문', '시간', '분', '것', '비', '이해', '종일', '것', '점심', '거', '잘 먹었습니다', '감사']\n",
      "['배달', '점심시간', '거', '느낌', '배달', '고기']\n",
      "['가와', '그런지', '예상', '시간', '뒷문', '오구', '공휴일', '배달']\n",
      "['할인', '한우', '학', '정가', '생각', '패티']\n",
      "['양은']\n",
      "['치즈', '번', '추가', '개']\n",
      "[]\n",
      "['분', '도착', '메세지', '시간', '도착', '안', '패스트푸드']\n",
      "['식', '버거', '이불']\n",
      "['어멈', '버거']\n",
      "['분', '주문', '지금', '2시', '분']\n",
      "['점', '대', '밑', '개', '음식', '기본', '맛', '음식', '햄버거', '음식', '때', '남은', '음식', '주신', '줄', '거', '감자', '튀김', '감자', '튀김', '제가', '끼', '식사', '원', '투자', '재가', '것', '원', '맘']\n"
     ]
    },
    {
     "ename": "UnicodeDecodeError",
     "evalue": "'utf-8' codec can't decode byte 0xed in position 0: invalid continuation byte",
     "output_type": "error",
     "traceback": [
      "\u001b[0;31m---------------------------------------------------------------------------\u001b[0m",
      "\u001b[0;31mUnicodeDecodeError\u001b[0m                        Traceback (most recent call last)",
      "\u001b[0;32m<ipython-input-25-e36ecdcf6895>\u001b[0m in \u001b[0;36m<module>\u001b[0;34m\u001b[0m\n\u001b[1;32m      1\u001b[0m \u001b[0mword_list\u001b[0m\u001b[0;34m=\u001b[0m\u001b[0;34m[\u001b[0m\u001b[0;34m]\u001b[0m\u001b[0;34m\u001b[0m\u001b[0;34m\u001b[0m\u001b[0m\n\u001b[1;32m      2\u001b[0m \u001b[0;32mfor\u001b[0m \u001b[0mi\u001b[0m \u001b[0;32min\u001b[0m \u001b[0mrange\u001b[0m\u001b[0;34m(\u001b[0m\u001b[0mlen\u001b[0m\u001b[0;34m(\u001b[0m\u001b[0moverall_reviews\u001b[0m\u001b[0;34m)\u001b[0m\u001b[0;34m)\u001b[0m\u001b[0;34m:\u001b[0m\u001b[0;34m\u001b[0m\u001b[0;34m\u001b[0m\u001b[0m\n\u001b[0;32m----> 3\u001b[0;31m     \u001b[0mword_list\u001b[0m\u001b[0;34m.\u001b[0m\u001b[0mappend\u001b[0m\u001b[0;34m(\u001b[0m\u001b[0mkomoran\u001b[0m\u001b[0;34m.\u001b[0m\u001b[0mnouns\u001b[0m\u001b[0;34m(\u001b[0m\u001b[0moverall_reviews\u001b[0m\u001b[0;34m[\u001b[0m\u001b[0mi\u001b[0m\u001b[0;34m]\u001b[0m\u001b[0;34m)\u001b[0m\u001b[0;34m)\u001b[0m\u001b[0;34m\u001b[0m\u001b[0;34m\u001b[0m\u001b[0m\n\u001b[0m\u001b[1;32m      4\u001b[0m     \u001b[0mprint\u001b[0m\u001b[0;34m(\u001b[0m\u001b[0mkomoran\u001b[0m\u001b[0;34m.\u001b[0m\u001b[0mnouns\u001b[0m\u001b[0;34m(\u001b[0m\u001b[0moverall_reviews\u001b[0m\u001b[0;34m[\u001b[0m\u001b[0mi\u001b[0m\u001b[0;34m]\u001b[0m\u001b[0;34m)\u001b[0m\u001b[0;34m)\u001b[0m \u001b[0;31m# 단어들을 각각 요소로 저장\u001b[0m\u001b[0;34m\u001b[0m\u001b[0;34m\u001b[0m\u001b[0m\n",
      "\u001b[0;32m~/opt/anaconda3/lib/python3.8/site-packages/konlpy/tag/_komoran.py\u001b[0m in \u001b[0;36mnouns\u001b[0;34m(self, phrase)\u001b[0m\n\u001b[1;32m     81\u001b[0m         \u001b[0;34m\"\"\"Noun extractor.\"\"\"\u001b[0m\u001b[0;34m\u001b[0m\u001b[0;34m\u001b[0m\u001b[0m\n\u001b[1;32m     82\u001b[0m \u001b[0;34m\u001b[0m\u001b[0m\n\u001b[0;32m---> 83\u001b[0;31m         \u001b[0mtagged\u001b[0m \u001b[0;34m=\u001b[0m \u001b[0mself\u001b[0m\u001b[0;34m.\u001b[0m\u001b[0mpos\u001b[0m\u001b[0;34m(\u001b[0m\u001b[0mphrase\u001b[0m\u001b[0;34m)\u001b[0m\u001b[0;34m\u001b[0m\u001b[0;34m\u001b[0m\u001b[0m\n\u001b[0m\u001b[1;32m     84\u001b[0m         \u001b[0;32mreturn\u001b[0m \u001b[0;34m[\u001b[0m\u001b[0ms\u001b[0m \u001b[0;32mfor\u001b[0m \u001b[0ms\u001b[0m\u001b[0;34m,\u001b[0m \u001b[0mt\u001b[0m \u001b[0;32min\u001b[0m \u001b[0mtagged\u001b[0m \u001b[0;32mif\u001b[0m \u001b[0mt\u001b[0m\u001b[0;34m.\u001b[0m\u001b[0mstartswith\u001b[0m\u001b[0;34m(\u001b[0m\u001b[0;34m'NN'\u001b[0m\u001b[0;34m)\u001b[0m\u001b[0;34m]\u001b[0m\u001b[0;34m\u001b[0m\u001b[0;34m\u001b[0m\u001b[0m\n\u001b[1;32m     85\u001b[0m \u001b[0;34m\u001b[0m\u001b[0m\n",
      "\u001b[0;32m~/opt/anaconda3/lib/python3.8/site-packages/konlpy/tag/_komoran.py\u001b[0m in \u001b[0;36mpos\u001b[0;34m(self, phrase, flatten, join)\u001b[0m\n\u001b[1;32m     67\u001b[0m                 \u001b[0;32mcontinue\u001b[0m\u001b[0;34m\u001b[0m\u001b[0;34m\u001b[0m\u001b[0m\n\u001b[1;32m     68\u001b[0m             \u001b[0mresult\u001b[0m \u001b[0;34m=\u001b[0m \u001b[0mself\u001b[0m\u001b[0;34m.\u001b[0m\u001b[0mjki\u001b[0m\u001b[0;34m.\u001b[0m\u001b[0manalyze\u001b[0m\u001b[0;34m(\u001b[0m\u001b[0msentence\u001b[0m\u001b[0;34m)\u001b[0m\u001b[0;34m.\u001b[0m\u001b[0mgetTokenList\u001b[0m\u001b[0;34m(\u001b[0m\u001b[0;34m)\u001b[0m\u001b[0;34m\u001b[0m\u001b[0;34m\u001b[0m\u001b[0m\n\u001b[0;32m---> 69\u001b[0;31m             \u001b[0mresult\u001b[0m \u001b[0;34m=\u001b[0m \u001b[0;34m[\u001b[0m\u001b[0;34m(\u001b[0m\u001b[0mtoken\u001b[0m\u001b[0;34m.\u001b[0m\u001b[0mgetMorph\u001b[0m\u001b[0;34m(\u001b[0m\u001b[0;34m)\u001b[0m\u001b[0;34m,\u001b[0m \u001b[0mtoken\u001b[0m\u001b[0;34m.\u001b[0m\u001b[0mgetPos\u001b[0m\u001b[0;34m(\u001b[0m\u001b[0;34m)\u001b[0m\u001b[0;34m)\u001b[0m \u001b[0;32mfor\u001b[0m \u001b[0mtoken\u001b[0m \u001b[0;32min\u001b[0m \u001b[0mresult\u001b[0m\u001b[0;34m]\u001b[0m\u001b[0;34m\u001b[0m\u001b[0;34m\u001b[0m\u001b[0m\n\u001b[0m\u001b[1;32m     70\u001b[0m \u001b[0;34m\u001b[0m\u001b[0m\n\u001b[1;32m     71\u001b[0m             \u001b[0;32mif\u001b[0m \u001b[0mjoin\u001b[0m\u001b[0;34m:\u001b[0m\u001b[0;34m\u001b[0m\u001b[0;34m\u001b[0m\u001b[0m\n",
      "\u001b[0;32m~/opt/anaconda3/lib/python3.8/site-packages/konlpy/tag/_komoran.py\u001b[0m in \u001b[0;36m<listcomp>\u001b[0;34m(.0)\u001b[0m\n\u001b[1;32m     67\u001b[0m                 \u001b[0;32mcontinue\u001b[0m\u001b[0;34m\u001b[0m\u001b[0;34m\u001b[0m\u001b[0m\n\u001b[1;32m     68\u001b[0m             \u001b[0mresult\u001b[0m \u001b[0;34m=\u001b[0m \u001b[0mself\u001b[0m\u001b[0;34m.\u001b[0m\u001b[0mjki\u001b[0m\u001b[0;34m.\u001b[0m\u001b[0manalyze\u001b[0m\u001b[0;34m(\u001b[0m\u001b[0msentence\u001b[0m\u001b[0;34m)\u001b[0m\u001b[0;34m.\u001b[0m\u001b[0mgetTokenList\u001b[0m\u001b[0;34m(\u001b[0m\u001b[0;34m)\u001b[0m\u001b[0;34m\u001b[0m\u001b[0;34m\u001b[0m\u001b[0m\n\u001b[0;32m---> 69\u001b[0;31m             \u001b[0mresult\u001b[0m \u001b[0;34m=\u001b[0m \u001b[0;34m[\u001b[0m\u001b[0;34m(\u001b[0m\u001b[0mtoken\u001b[0m\u001b[0;34m.\u001b[0m\u001b[0mgetMorph\u001b[0m\u001b[0;34m(\u001b[0m\u001b[0;34m)\u001b[0m\u001b[0;34m,\u001b[0m \u001b[0mtoken\u001b[0m\u001b[0;34m.\u001b[0m\u001b[0mgetPos\u001b[0m\u001b[0;34m(\u001b[0m\u001b[0;34m)\u001b[0m\u001b[0;34m)\u001b[0m \u001b[0;32mfor\u001b[0m \u001b[0mtoken\u001b[0m \u001b[0;32min\u001b[0m \u001b[0mresult\u001b[0m\u001b[0;34m]\u001b[0m\u001b[0;34m\u001b[0m\u001b[0;34m\u001b[0m\u001b[0m\n\u001b[0m\u001b[1;32m     70\u001b[0m \u001b[0;34m\u001b[0m\u001b[0m\n\u001b[1;32m     71\u001b[0m             \u001b[0;32mif\u001b[0m \u001b[0mjoin\u001b[0m\u001b[0;34m:\u001b[0m\u001b[0;34m\u001b[0m\u001b[0;34m\u001b[0m\u001b[0m\n",
      "\u001b[0;31mUnicodeDecodeError\u001b[0m: 'utf-8' codec can't decode byte 0xed in position 0: invalid continuation byte"
     ]
    }
   ],
   "source": [
    "word_list=[]\n",
    "for i in range(len(overall_reviews)):\n",
    "    word_list.append(komoran.nouns(overall_reviews[i]))\n",
    "    print(komoran.nouns(overall_reviews[i])) # 단어들을 각각 요소로 저장\n"
   ]
  },
  {
   "cell_type": "code",
   "execution_count": 27,
   "metadata": {},
   "outputs": [],
   "source": [
    "# word_list=[]\n",
    "# for i in range(len(overall_reviews)):\n",
    "#     temp_list = []\n",
    "#     print(komoran.nouns(overall_reviews[i]))\n",
    "#     for j in range(len(overall_reviews[i])):\n",
    "#         temp_list.append(komoran.nouns(overall_reviews))\n",
    "#         word_list.append(temp_list) # 단어들을 각각 요소로 저장\n"
   ]
  },
  {
   "cell_type": "code",
   "execution_count": 34,
   "metadata": {},
   "outputs": [
    {
     "ename": "NameError",
     "evalue": "name 'keys' is not defined",
     "output_type": "error",
     "traceback": [
      "\u001b[0;31m---------------------------------------------------------------------------\u001b[0m",
      "\u001b[0;31mNameError\u001b[0m                                 Traceback (most recent call last)",
      "\u001b[0;32m<ipython-input-34-076d80208d82>\u001b[0m in \u001b[0;36m<module>\u001b[0;34m\u001b[0m\n\u001b[1;32m     11\u001b[0m     \u001b[0mkeys\u001b[0m \u001b[0;34m=\u001b[0m \u001b[0msorted\u001b[0m\u001b[0;34m(\u001b[0m\u001b[0mwordCount\u001b[0m\u001b[0;34m.\u001b[0m\u001b[0mkeys\u001b[0m\u001b[0;34m(\u001b[0m\u001b[0;34m)\u001b[0m\u001b[0;34m)\u001b[0m\u001b[0;34m\u001b[0m\u001b[0;34m\u001b[0m\u001b[0m\n\u001b[1;32m     12\u001b[0m \u001b[0;34m\u001b[0m\u001b[0m\n\u001b[0;32m---> 13\u001b[0;31m \u001b[0;32mfor\u001b[0m \u001b[0mword\u001b[0m \u001b[0;32min\u001b[0m \u001b[0mkeys\u001b[0m\u001b[0;34m:\u001b[0m\u001b[0;34m\u001b[0m\u001b[0;34m\u001b[0m\u001b[0m\n\u001b[0m\u001b[1;32m     14\u001b[0m \u001b[0;34m\u001b[0m\u001b[0m\n\u001b[1;32m     15\u001b[0m     \u001b[0mprint\u001b[0m\u001b[0;34m(\u001b[0m\u001b[0mword\u001b[0m \u001b[0;34m+\u001b[0m \u001b[0;34m':'\u001b[0m \u001b[0;34m+\u001b[0m \u001b[0mstr\u001b[0m\u001b[0;34m(\u001b[0m\u001b[0mwordCount\u001b[0m\u001b[0;34m[\u001b[0m\u001b[0mword\u001b[0m\u001b[0;34m]\u001b[0m\u001b[0;34m)\u001b[0m\u001b[0;34m)\u001b[0m\u001b[0;34m\u001b[0m\u001b[0;34m\u001b[0m\u001b[0m\n",
      "\u001b[0;31mNameError\u001b[0m: name 'keys' is not defined"
     ]
    }
   ],
   "source": [
    "wordList = word_list\n",
    " \n",
    "wordCount = {}\n",
    " \n",
    "for word in wordList:\n",
    "\n",
    "    # Get 명령어를 통해, Dictionary에 Key가 없으면 0리턴\n",
    "\n",
    "    wordCount[word] = wordCount.get(word, 0) + 1 \n",
    "    \n",
    "    keys = sorted(wordCount.keys())\n",
    "\n",
    "for word in keys:\n",
    "\n",
    "    print(word + ':' + str(wordCount[word])) "
   ]
  },
  {
   "cell_type": "code",
   "execution_count": 31,
   "metadata": {},
   "outputs": [
    {
     "ename": "NameError",
     "evalue": "name 'keys' is not defined",
     "output_type": "error",
     "traceback": [
      "\u001b[0;31m---------------------------------------------------------------------------\u001b[0m",
      "\u001b[0;31mNameError\u001b[0m                                 Traceback (most recent call last)",
      "\u001b[0;32m<ipython-input-31-a0e945ced83d>\u001b[0m in \u001b[0;36m<module>\u001b[0;34m\u001b[0m\n\u001b[0;32m----> 1\u001b[0;31m \u001b[0mkeys\u001b[0m\u001b[0;34m\u001b[0m\u001b[0;34m\u001b[0m\u001b[0m\n\u001b[0m",
      "\u001b[0;31mNameError\u001b[0m: name 'keys' is not defined"
     ]
    }
   ],
   "source": []
  },
  {
   "cell_type": "code",
   "execution_count": null,
   "metadata": {},
   "outputs": [],
   "source": []
  }
 ],
 "metadata": {
  "kernelspec": {
   "display_name": "Python 3",
   "language": "python",
   "name": "python3"
  },
  "language_info": {
   "codemirror_mode": {
    "name": "ipython",
    "version": 3
   },
   "file_extension": ".py",
   "mimetype": "text/x-python",
   "name": "python",
   "nbconvert_exporter": "python",
   "pygments_lexer": "ipython3",
   "version": "3.8.5"
  },
  "toc": {
   "base_numbering": 1,
   "nav_menu": {},
   "number_sections": true,
   "sideBar": true,
   "skip_h1_title": false,
   "title_cell": "Table of Contents",
   "title_sidebar": "Contents",
   "toc_cell": false,
   "toc_position": {},
   "toc_section_display": true,
   "toc_window_display": false
  },
  "varInspector": {
   "cols": {
    "lenName": 16,
    "lenType": 16,
    "lenVar": 40
   },
   "kernels_config": {
    "python": {
     "delete_cmd_postfix": "",
     "delete_cmd_prefix": "del ",
     "library": "var_list.py",
     "varRefreshCmd": "print(var_dic_list())"
    },
    "r": {
     "delete_cmd_postfix": ") ",
     "delete_cmd_prefix": "rm(",
     "library": "var_list.r",
     "varRefreshCmd": "cat(var_dic_list()) "
    }
   },
   "types_to_exclude": [
    "module",
    "function",
    "builtin_function_or_method",
    "instance",
    "_Feature"
   ],
   "window_display": false
  }
 },
 "nbformat": 4,
 "nbformat_minor": 4
}
