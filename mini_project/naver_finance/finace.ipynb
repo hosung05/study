{
 "cells": [
  {
   "cell_type": "code",
   "execution_count": 79,
   "metadata": {},
   "outputs": [],
   "source": [
    "import pandas as pd\n"
   ]
  },
  {
   "cell_type": "code",
   "execution_count": 80,
   "metadata": {},
   "outputs": [
    {
     "name": "stdout",
     "output_type": "stream",
     "text": [
      "Requirement already satisfied: lxml in /Users/seojiwon/opt/anaconda3/envs/tf2/lib/python3.7/site-packages (4.6.3)\n",
      "Note: you may need to restart the kernel to use updated packages.\n"
     ]
    }
   ],
   "source": [
    "pip install lxml\n"
   ]
  },
  {
   "cell_type": "code",
   "execution_count": 81,
   "metadata": {},
   "outputs": [],
   "source": [
    "df=pd.read_html(\"https://kind.krx.co.kr/corpgeneral/corpList.do?method=download&searchType=13\",header=0)[0]"
   ]
  },
  {
   "cell_type": "code",
   "execution_count": 82,
   "metadata": {},
   "outputs": [
    {
     "data": {
      "text/plain": [
       "0         4840\n",
       "1       155660\n",
       "2         1250\n",
       "3       294870\n",
       "4        92220\n",
       "         ...  \n",
       "2443    189350\n",
       "2444    199800\n",
       "2445    222670\n",
       "2446    331660\n",
       "2447    212310\n",
       "Name: 종목코드, Length: 2448, dtype: int64"
      ]
     },
     "execution_count": 82,
     "metadata": {},
     "output_type": "execute_result"
    }
   ],
   "source": [
    "df[\"종목코드\"]"
   ]
  },
  {
   "cell_type": "code",
   "execution_count": 83,
   "metadata": {
    "scrolled": true
   },
   "outputs": [
    {
     "name": "stdout",
     "output_type": "stream",
     "text": [
      "Requirement already satisfied: html5lib in /Users/seojiwon/opt/anaconda3/envs/tf2/lib/python3.7/site-packages (1.1)\n",
      "Requirement already satisfied: six>=1.9 in /Users/seojiwon/opt/anaconda3/envs/tf2/lib/python3.7/site-packages (from html5lib) (1.15.0)\n",
      "Requirement already satisfied: webencodings in /Users/seojiwon/opt/anaconda3/envs/tf2/lib/python3.7/site-packages (from html5lib) (0.5.1)\n",
      "Note: you may need to restart the kernel to use updated packages.\n"
     ]
    }
   ],
   "source": [
    "pip install html5lib\n"
   ]
  },
  {
   "cell_type": "code",
   "execution_count": 84,
   "metadata": {
    "scrolled": true
   },
   "outputs": [
    {
     "name": "stdout",
     "output_type": "stream",
     "text": [
      "Requirement already satisfied: BeautifulSoup4 in /Users/seojiwon/opt/anaconda3/envs/tf2/lib/python3.7/site-packages (4.9.3)\n",
      "Requirement already satisfied: soupsieve>1.2 in /Users/seojiwon/opt/anaconda3/envs/tf2/lib/python3.7/site-packages (from BeautifulSoup4) (2.2.1)\n",
      "Note: you may need to restart the kernel to use updated packages.\n"
     ]
    }
   ],
   "source": [
    "pip install BeautifulSoup4"
   ]
  },
  {
   "cell_type": "code",
   "execution_count": 85,
   "metadata": {},
   "outputs": [],
   "source": [
    "import requests\n",
    "from bs4 import BeautifulSoup"
   ]
  },
  {
   "cell_type": "code",
   "execution_count": 139,
   "metadata": {},
   "outputs": [
    {
     "name": "stdout",
     "output_type": "stream",
     "text": [
      "[<span class=\"tah p10 gray03\">2021.06.17</span>, <span class=\"tah p11\">8,040</span>, <span class=\"tah p11 nv01\">\n",
      "\t\t\t\t50\n",
      "\t\t\t\t</span>, <span class=\"tah p11\">8,030</span>, <span class=\"tah p11\">8,130</span>, <span class=\"tah p11\">8,000</span>, <span class=\"tah p11\">21,979</span>, <span class=\"tah p10 gray03\">2021.06.16</span>, <span class=\"tah p11\">8,090</span>, <span class=\"tah p11 red02\">\n",
      "\t\t\t\t90\n",
      "\t\t\t\t</span>, <span class=\"tah p11\">8,080</span>, <span class=\"tah p11\">8,090</span>, <span class=\"tah p11\">7,970</span>, <span class=\"tah p11\">46,875</span>, <span class=\"tah p10 gray03\">2021.06.15</span>, <span class=\"tah p11\">8,000</span>, <span class=\"tah p11 nv01\">\n",
      "\t\t\t\t240\n",
      "\t\t\t\t</span>, <span class=\"tah p11\">8,220</span>, <span class=\"tah p11\">8,220</span>, <span class=\"tah p11\">7,950</span>, <span class=\"tah p11\">141,253</span>, <span class=\"tah p10 gray03\">2021.06.14</span>, <span class=\"tah p11\">8,240</span>, <span class=\"tah p11 nv01\">\n",
      "\t\t\t\t240\n",
      "\t\t\t\t</span>, <span class=\"tah p11\">8,600</span>, <span class=\"tah p11\">8,600</span>, <span class=\"tah p11\">8,100</span>, <span class=\"tah p11\">188,106</span>, <span class=\"tah p10 gray03\">2021.06.11</span>, <span class=\"tah p11\">8,480</span>, <span class=\"tah p11 nv01\">\n",
      "\t\t\t\t60\n",
      "\t\t\t\t</span>, <span class=\"tah p11\">8,590</span>, <span class=\"tah p11\">8,600</span>, <span class=\"tah p11\">8,370</span>, <span class=\"tah p11\">133,405</span>, <span class=\"tah p10 gray03\">2021.06.10</span>, <span class=\"tah p11\">8,540</span>, <span class=\"tah p11 red02\">\n",
      "\t\t\t\t40\n",
      "\t\t\t\t</span>, <span class=\"tah p11\">8,450</span>, <span class=\"tah p11\">8,540</span>, <span class=\"tah p11\">8,320</span>, <span class=\"tah p11\">134,782</span>, <span class=\"tah p10 gray03\">2021.06.09</span>, <span class=\"tah p11\">8,500</span>, <span class=\"tah p11 red02\">\n",
      "\t\t\t\t480\n",
      "\t\t\t\t</span>, <span class=\"tah p11\">8,040</span>, <span class=\"tah p11\">8,660</span>, <span class=\"tah p11\">8,040</span>, <span class=\"tah p11\">467,819</span>, <span class=\"tah p10 gray03\">2021.06.08</span>, <span class=\"tah p11\">8,020</span>, <span class=\"tah p11 red02\">\n",
      "\t\t\t\t20\n",
      "\t\t\t\t</span>, <span class=\"tah p11\">8,000</span>, <span class=\"tah p11\">8,080</span>, <span class=\"tah p11\">7,910</span>, <span class=\"tah p11\">62,912</span>, <span class=\"tah p10 gray03\">2021.06.07</span>, <span class=\"tah p11\">8,000</span>, <span class=\"tah p11 red02\">\n",
      "\t\t\t\t70\n",
      "\t\t\t\t</span>, <span class=\"tah p11\">7,930</span>, <span class=\"tah p11\">8,090</span>, <span class=\"tah p11\">7,750</span>, <span class=\"tah p11\">130,706</span>, <span class=\"tah p10 gray03\">2021.06.04</span>, <span class=\"tah p11\">7,930</span>, <span class=\"tah p11 red02\">\n",
      "\t\t\t\t20\n",
      "\t\t\t\t</span>, <span class=\"tah p11\">7,920</span>, <span class=\"tah p11\">8,120</span>, <span class=\"tah p11\">7,880</span>, <span class=\"tah p11\">168,039</span>, <span class=\"tah p10 gray03\">2021.06.03</span>, <span class=\"tah p11\">7,910</span>, <span class=\"tah p11 nv01\">\n",
      "\t\t\t\t120\n",
      "\t\t\t\t</span>, <span class=\"tah p11\">8,040</span>, <span class=\"tah p11\">8,070</span>, <span class=\"tah p11\">7,820</span>, <span class=\"tah p11\">211,222</span>, <span class=\"tah p10 gray03\">2021.06.02</span>, <span class=\"tah p11\">8,030</span>, <span class=\"tah p11 red02\">\n",
      "\t\t\t\t150\n",
      "\t\t\t\t</span>, <span class=\"tah p11\">7,900</span>, <span class=\"tah p11\">8,090</span>, <span class=\"tah p11\">7,790</span>, <span class=\"tah p11\">365,987</span>, <span class=\"tah p10 gray03\">2021.06.01</span>, <span class=\"tah p11\">7,880</span>, <span class=\"tah p11 red02\">\n",
      "\t\t\t\t700\n",
      "\t\t\t\t</span>, <span class=\"tah p11\">7,190</span>, <span class=\"tah p11\">7,880</span>, <span class=\"tah p11\">7,160</span>, <span class=\"tah p11\">1,019,939</span>, <span class=\"tah p10 gray03\">2021.05.31</span>, <span class=\"tah p11\">7,180</span>, <span class=\"tah p11 red02\">\n",
      "\t\t\t\t50\n",
      "\t\t\t\t</span>, <span class=\"tah p11\">7,140</span>, <span class=\"tah p11\">7,180</span>, <span class=\"tah p11\">7,080</span>, <span class=\"tah p11\">38,115</span>, <span class=\"tah p10 gray03\">2021.05.28</span>, <span class=\"tah p11\">7,130</span>, <span class=\"tah p11 nv01\">\n",
      "\t\t\t\t20\n",
      "\t\t\t\t</span>, <span class=\"tah p11\">7,160</span>, <span class=\"tah p11\">7,160</span>, <span class=\"tah p11\">7,080</span>, <span class=\"tah p11\">17,212</span>, <span class=\"tah p10 gray03\">2021.05.27</span>, <span class=\"tah p11\">7,150</span>, <span class=\"tah p11 red02\">\n",
      "\t\t\t\t10\n",
      "\t\t\t\t</span>, <span class=\"tah p11\">7,150</span>, <span class=\"tah p11\">7,150</span>, <span class=\"tah p11\">7,070</span>, <span class=\"tah p11\">20,041</span>, <span class=\"tah p10 gray03\">2021.05.26</span>, <span class=\"tah p11\">7,140</span>, <span class=\"tah p11 red02\">\n",
      "\t\t\t\t60\n",
      "\t\t\t\t</span>, <span class=\"tah p11\">7,080</span>, <span class=\"tah p11\">7,140</span>, <span class=\"tah p11\">7,060</span>, <span class=\"tah p11\">20,564</span>, <span class=\"tah p10 gray03\">2021.05.25</span>, <span class=\"tah p11\">7,080</span>, <span class=\"tah p11 red02\">\n",
      "\t\t\t\t70\n",
      "\t\t\t\t</span>, <span class=\"tah p11\">7,010</span>, <span class=\"tah p11\">7,080</span>, <span class=\"tah p11\">6,960</span>, <span class=\"tah p11\">26,639</span>, <span class=\"tah p10 gray03\">2021.05.24</span>, <span class=\"tah p11\">7,010</span>, <span class=\"tah p11 nv01\">\n",
      "\t\t\t\t150\n",
      "\t\t\t\t</span>, <span class=\"tah p11\">7,180</span>, <span class=\"tah p11\">7,180</span>, <span class=\"tah p11\">7,000</span>, <span class=\"tah p11\">61,356</span>, <span class=\"tah p10 gray03\">2021.05.21</span>, <span class=\"tah p11\">7,160</span>, <span class=\"tah p11 nv01\">\n",
      "\t\t\t\t10\n",
      "\t\t\t\t</span>, <span class=\"tah p11\">7,220</span>, <span class=\"tah p11\">7,270</span>, <span class=\"tah p11\">7,080</span>, <span class=\"tah p11\">27,629</span>, <span class=\"tah p10 gray03\">2021.05.20</span>, <span class=\"tah p11\">7,170</span>, <span class=\"tah p11 red02\">\n",
      "\t\t\t\t10\n",
      "\t\t\t\t</span>, <span class=\"tah p11\">7,140</span>, <span class=\"tah p11\">7,200</span>, <span class=\"tah p11\">7,090</span>, <span class=\"tah p11\">19,337</span>, <span class=\"tah p10 gray03\">2021.05.18</span>, <span class=\"tah p11\">7,160</span>, <span class=\"tah p11 nv01\">\n",
      "\t\t\t\t40\n",
      "\t\t\t\t</span>, <span class=\"tah p11\">7,200</span>, <span class=\"tah p11\">7,270</span>, <span class=\"tah p11\">7,150</span>, <span class=\"tah p11\">49,240</span>, <span class=\"tah p10 gray03\">2021.05.17</span>, <span class=\"tah p11\">7,200</span>, <span class=\"tah p11 red02\">\n",
      "\t\t\t\t40\n",
      "\t\t\t\t</span>, <span class=\"tah p11\">7,180</span>, <span class=\"tah p11\">7,200</span>, <span class=\"tah p11\">7,070</span>, <span class=\"tah p11\">29,072</span>, <span class=\"tah p10 gray03\">2021.05.14</span>, <span class=\"tah p11\">7,160</span>, <span class=\"tah p11 red02\">\n",
      "\t\t\t\t80\n",
      "\t\t\t\t</span>, <span class=\"tah p11\">7,150</span>, <span class=\"tah p11\">7,160</span>, <span class=\"tah p11\">7,040</span>, <span class=\"tah p11\">19,847</span>, <span class=\"tah p10 gray03\">2021.05.13</span>, <span class=\"tah p11\">7,080</span>, <span class=\"tah p11 nv01\">\n",
      "\t\t\t\t120\n",
      "\t\t\t\t</span>, <span class=\"tah p11\">7,130</span>, <span class=\"tah p11\">7,270</span>, <span class=\"tah p11\">7,010</span>, <span class=\"tah p11\">44,870</span>, <span class=\"tah p10 gray03\">2021.05.12</span>, <span class=\"tah p11\">7,200</span>, <span class=\"tah p11 nv01\">\n",
      "\t\t\t\t50\n",
      "\t\t\t\t</span>, <span class=\"tah p11\">7,330</span>, <span class=\"tah p11\">7,330</span>, <span class=\"tah p11\">7,080</span>, <span class=\"tah p11\">61,435</span>, <span class=\"tah p10 gray03\">2021.05.11</span>, <span class=\"tah p11\">7,250</span>, <span class=\"tah p11 red02\">\n",
      "\t\t\t\t40\n",
      "\t\t\t\t</span>, <span class=\"tah p11\">7,120</span>, <span class=\"tah p11\">7,290</span>, <span class=\"tah p11\">7,100</span>, <span class=\"tah p11\">39,749</span>, <span class=\"tah p10 gray03\">2021.05.10</span>, <span class=\"tah p11\">7,210</span>, <span class=\"tah p11 nv01\">\n",
      "\t\t\t\t10\n",
      "\t\t\t\t</span>, <span class=\"tah p11\">7,140</span>, <span class=\"tah p11\">7,320</span>, <span class=\"tah p11\">7,120</span>, <span class=\"tah p11\">54,018</span>, <span class=\"tah p10 gray03\">2021.05.07</span>, <span class=\"tah p11\">7,220</span>, <span class=\"tah p11 red02\">\n",
      "\t\t\t\t40\n",
      "\t\t\t\t</span>, <span class=\"tah p11\">7,190</span>, <span class=\"tah p11\">7,260</span>, <span class=\"tah p11\">7,160</span>, <span class=\"tah p11\">34,089</span>, <span class=\"tah p10 gray03\">2021.05.06</span>, <span class=\"tah p11\">7,180</span>, <span class=\"tah p11 red02\">\n",
      "\t\t\t\t100\n",
      "\t\t\t\t</span>, <span class=\"tah p11\">7,070</span>, <span class=\"tah p11\">7,220</span>, <span class=\"tah p11\">7,070</span>, <span class=\"tah p11\">61,125</span>, <span class=\"tah p10 gray03\">2021.05.04</span>, <span class=\"tah p11\">7,080</span>, <span class=\"tah p11 red02\">\n",
      "\t\t\t\t30\n",
      "\t\t\t\t</span>, <span class=\"tah p11\">7,050</span>, <span class=\"tah p11\">7,100</span>, <span class=\"tah p11\">6,910</span>, <span class=\"tah p11\">40,513</span>, <span class=\"tah p10 gray03\">2021.05.03</span>, <span class=\"tah p11\">7,050</span>, <span class=\"tah p11 red02\">\n",
      "\t\t\t\t10\n",
      "\t\t\t\t</span>, <span class=\"tah p11\">7,020</span>, <span class=\"tah p11\">7,250</span>, <span class=\"tah p11\">6,990</span>, <span class=\"tah p11\">47,943</span>, <span class=\"tah p10 gray03\">2021.04.30</span>, <span class=\"tah p11\">7,040</span>, <span class=\"tah p11 nv01\">\n",
      "\t\t\t\t70\n",
      "\t\t\t\t</span>, <span class=\"tah p11\">7,160</span>, <span class=\"tah p11\">7,160</span>, <span class=\"tah p11\">6,940</span>, <span class=\"tah p11\">40,599</span>, <span class=\"tah p10 gray03\">2021.04.29</span>, <span class=\"tah p11\">7,110</span>, <span class=\"tah p11 nv01\">\n",
      "\t\t\t\t10\n",
      "\t\t\t\t</span>, <span class=\"tah p11\">7,120</span>, <span class=\"tah p11\">7,160</span>, <span class=\"tah p11\">6,910</span>, <span class=\"tah p11\">51,032</span>, <span class=\"tah p10 gray03\">2021.04.28</span>, <span class=\"tah p11\">7,120</span>, <span class=\"tah p11 nv01\">\n",
      "\t\t\t\t310\n",
      "\t\t\t\t</span>, <span class=\"tah p11\">7,350</span>, <span class=\"tah p11\">7,480</span>, <span class=\"tah p11\">7,010</span>, <span class=\"tah p11\">171,363</span>, <span class=\"tah p10 gray03\">2021.04.27</span>, <span class=\"tah p11\">7,430</span>, <span class=\"tah p11 red02\">\n",
      "\t\t\t\t80\n",
      "\t\t\t\t</span>, <span class=\"tah p11\">7,350</span>, <span class=\"tah p11\">7,450</span>, <span class=\"tah p11\">7,250</span>, <span class=\"tah p11\">239,909</span>, <span class=\"tah p10 gray03\">2021.04.26</span>, <span class=\"tah p11\">7,350</span>, <span class=\"tah p11 red02\">\n",
      "\t\t\t\t300\n",
      "\t\t\t\t</span>, <span class=\"tah p11\">7,090</span>, <span class=\"tah p11\">7,450</span>, <span class=\"tah p11\">7,000</span>, <span class=\"tah p11\">312,029</span>, <span class=\"tah p10 gray03\">2021.04.23</span>, <span class=\"tah p11\">7,050</span>, <span class=\"tah p11 nv01\">\n",
      "\t\t\t\t50\n",
      "\t\t\t\t</span>, <span class=\"tah p11\">7,110</span>, <span class=\"tah p11\">7,150</span>, <span class=\"tah p11\">7,000</span>, <span class=\"tah p11\">46,305</span>, <span class=\"tah p10 gray03\">2021.04.22</span>, <span class=\"tah p11\">7,100</span>, <span class=\"tah p11 nv01\">\n",
      "\t\t\t\t80\n",
      "\t\t\t\t</span>, <span class=\"tah p11\">7,250</span>, <span class=\"tah p11\">7,280</span>, <span class=\"tah p11\">7,000</span>, <span class=\"tah p11\">93,746</span>, <span class=\"tah p10 gray03\">2021.04.21</span>, <span class=\"tah p11\">7,180</span>, <span class=\"tah p11 red02\">\n",
      "\t\t\t\t290\n",
      "\t\t\t\t</span>, <span class=\"tah p11\">6,830</span>, <span class=\"tah p11\">7,210</span>, <span class=\"tah p11\">6,830</span>, <span class=\"tah p11\">212,413</span>, <span class=\"tah p10 gray03\">2021.04.20</span>, <span class=\"tah p11\">6,890</span>, <span class=\"tah p11 red02\">\n",
      "\t\t\t\t40\n",
      "\t\t\t\t</span>, <span class=\"tah p11\">6,880</span>, <span class=\"tah p11\">6,920</span>, <span class=\"tah p11\">6,790</span>, <span class=\"tah p11\">32,042</span>, <span class=\"tah p10 gray03\">2021.04.19</span>, <span class=\"tah p11\">6,850</span>, <span class=\"tah p11 red02\">\n",
      "\t\t\t\t30\n",
      "\t\t\t\t</span>, <span class=\"tah p11\">6,820</span>, <span class=\"tah p11\">6,870</span>, <span class=\"tah p11\">6,730</span>, <span class=\"tah p11\">19,360</span>, <span class=\"tah p10 gray03\">2021.04.16</span>, <span class=\"tah p11\">6,820</span>, <span class=\"tah p11\">0</span>, <span class=\"tah p11\">6,810</span>, <span class=\"tah p11\">6,950</span>, <span class=\"tah p11\">6,730</span>, <span class=\"tah p11\">31,885</span>, <span class=\"tah p10 gray03\">2021.04.15</span>, <span class=\"tah p11\">6,820</span>, <span class=\"tah p11 red02\">\n",
      "\t\t\t\t30\n",
      "\t\t\t\t</span>, <span class=\"tah p11\">6,880</span>, <span class=\"tah p11\">6,890</span>, <span class=\"tah p11\">6,770</span>, <span class=\"tah p11\">22,182</span>, <span class=\"tah p10 gray03\">2021.04.14</span>, <span class=\"tah p11\">6,790</span>, <span class=\"tah p11 red02\">\n",
      "\t\t\t\t140\n",
      "\t\t\t\t</span>, <span class=\"tah p11\">6,610</span>, <span class=\"tah p11\">6,800</span>, <span class=\"tah p11\">6,610</span>, <span class=\"tah p11\">37,238</span>, <span class=\"tah p10 gray03\">2021.04.13</span>, <span class=\"tah p11\">6,650</span>, <span class=\"tah p11 nv01\">\n",
      "\t\t\t\t140\n",
      "\t\t\t\t</span>, <span class=\"tah p11\">6,750</span>, <span class=\"tah p11\">6,800</span>, <span class=\"tah p11\">6,650</span>, <span class=\"tah p11\">51,165</span>, <span class=\"tah p10 gray03\">2021.04.12</span>, <span class=\"tah p11\">6,790</span>, <span class=\"tah p11 red02\">\n",
      "\t\t\t\t10\n",
      "\t\t\t\t</span>, <span class=\"tah p11\">6,750</span>, <span class=\"tah p11\">6,850</span>, <span class=\"tah p11\">6,740</span>, <span class=\"tah p11\">19,796</span>, <span class=\"tah p10 gray03\">2021.04.09</span>, <span class=\"tah p11\">6,780</span>, <span class=\"tah p11 red02\">\n",
      "\t\t\t\t80\n",
      "\t\t\t\t</span>, <span class=\"tah p11\">6,710</span>, <span class=\"tah p11\">6,840</span>, <span class=\"tah p11\">6,700</span>, <span class=\"tah p11\">26,284</span>, <span class=\"tah p10 gray03\">2021.04.08</span>, <span class=\"tah p11\">6,700</span>, <span class=\"tah p11 red02\">\n",
      "\t\t\t\t70\n",
      "\t\t\t\t</span>, <span class=\"tah p11\">6,650</span>, <span class=\"tah p11\">6,720</span>, <span class=\"tah p11\">6,640</span>, <span class=\"tah p11\">17,600</span>, <span class=\"tah p10 gray03\">2021.04.07</span>, <span class=\"tah p11\">6,630</span>, <span class=\"tah p11 red02\">\n",
      "\t\t\t\t50\n",
      "\t\t\t\t</span>, <span class=\"tah p11\">6,580</span>, <span class=\"tah p11\">6,730</span>, <span class=\"tah p11\">6,570</span>, <span class=\"tah p11\">47,284</span>, <span class=\"tah p10 gray03\">2021.04.06</span>, <span class=\"tah p11\">6,580</span>, <span class=\"tah p11 red02\">\n",
      "\t\t\t\t40\n",
      "\t\t\t\t</span>, <span class=\"tah p11\">6,490</span>, <span class=\"tah p11\">6,600</span>, <span class=\"tah p11\">6,480</span>, <span class=\"tah p11\">51,066</span>, <span class=\"tah p10 gray03\">2021.04.05</span>, <span class=\"tah p11\">6,540</span>, <span class=\"tah p11 nv01\">\n",
      "\t\t\t\t160\n",
      "\t\t\t\t</span>, <span class=\"tah p11\">6,700</span>, <span class=\"tah p11\">6,720</span>, <span class=\"tah p11\">6,490</span>, <span class=\"tah p11\">85,287</span>, <span class=\"tah p10 gray03\">2021.04.02</span>, <span class=\"tah p11\">6,700</span>, <span class=\"tah p11 nv01\">\n",
      "\t\t\t\t60\n",
      "\t\t\t\t</span>, <span class=\"tah p11\">6,750</span>, <span class=\"tah p11\">6,750</span>, <span class=\"tah p11\">6,600</span>, <span class=\"tah p11\">26,784</span>, <span class=\"tah p10 gray03\">2021.04.01</span>, <span class=\"tah p11\">6,760</span>, <span class=\"tah p11\">0</span>, <span class=\"tah p11\">6,770</span>, <span class=\"tah p11\">6,960</span>, <span class=\"tah p11\">6,690</span>, <span class=\"tah p11\">30,198</span>, <span class=\"tah p10 gray03\">2021.03.31</span>, <span class=\"tah p11\">6,760</span>, <span class=\"tah p11 nv01\">\n",
      "\t\t\t\t60\n",
      "\t\t\t\t</span>, <span class=\"tah p11\">6,800</span>, <span class=\"tah p11\">6,800</span>, <span class=\"tah p11\">6,670</span>, <span class=\"tah p11\">24,805</span>, <span class=\"tah p10 gray03\">2021.03.30</span>, <span class=\"tah p11\">6,820</span>, <span class=\"tah p11 red02\">\n",
      "\t\t\t\t120\n",
      "\t\t\t\t</span>, <span class=\"tah p11\">6,730</span>, <span class=\"tah p11\">6,820</span>, <span class=\"tah p11\">6,640</span>, <span class=\"tah p11\">68,369</span>, <span class=\"tah p10 gray03\">2021.03.29</span>, <span class=\"tah p11\">6,700</span>, <span class=\"tah p11 nv01\">\n",
      "\t\t\t\t100\n",
      "\t\t\t\t</span>, <span class=\"tah p11\">6,930</span>, <span class=\"tah p11\">6,930</span>, <span class=\"tah p11\">6,680</span>, <span class=\"tah p11\">26,606</span>, <span class=\"tah p10 gray03\">2021.03.26</span>, <span class=\"tah p11\">6,800</span>, <span class=\"tah p11 nv01\">\n",
      "\t\t\t\t30\n",
      "\t\t\t\t</span>, <span class=\"tah p11\">6,800</span>, <span class=\"tah p11\">6,880</span>, <span class=\"tah p11\">6,720</span>, <span class=\"tah p11\">30,144</span>, <span class=\"tah p10 gray03\">2021.03.25</span>, <span class=\"tah p11\">6,830</span>, <span class=\"tah p11 red02\">\n",
      "\t\t\t\t110\n",
      "\t\t\t\t</span>, <span class=\"tah p11\">6,670</span>, <span class=\"tah p11\">6,900</span>, <span class=\"tah p11\">6,560</span>, <span class=\"tah p11\">46,688</span>, <span class=\"tah p10 gray03\">2021.03.24</span>, <span class=\"tah p11\">6,720</span>, <span class=\"tah p11 nv01\">\n",
      "\t\t\t\t220\n",
      "\t\t\t\t</span>, <span class=\"tah p11\">6,880</span>, <span class=\"tah p11\">6,970</span>, <span class=\"tah p11\">6,460</span>, <span class=\"tah p11\">76,904</span>, <span class=\"tah p10 gray03\">2021.03.23</span>, <span class=\"tah p11\">6,940</span>, <span class=\"tah p11 nv01\">\n",
      "\t\t\t\t20\n",
      "\t\t\t\t</span>, <span class=\"tah p11\">6,960</span>, <span class=\"tah p11\">6,980</span>, <span class=\"tah p11\">6,900</span>, <span class=\"tah p11\">28,282</span>, <span class=\"tah p10 gray03\">2021.03.22</span>, <span class=\"tah p11\">6,960</span>, <span class=\"tah p11\">0</span>, <span class=\"tah p11\">6,960</span>, <span class=\"tah p11\">7,080</span>, <span class=\"tah p11\">6,930</span>, <span class=\"tah p11\">6,937</span>, <span class=\"tah p10 gray03\">2021.03.19</span>, <span class=\"tah p11\">6,960</span>, <span class=\"tah p11 nv01\">\n",
      "\t\t\t\t30\n",
      "\t\t\t\t</span>, <span class=\"tah p11\">7,020</span>, <span class=\"tah p11\">7,050</span>, <span class=\"tah p11\">6,850</span>, <span class=\"tah p11\">30,324</span>, <span class=\"tah p10 gray03\">2021.03.18</span>, <span class=\"tah p11\">6,990</span>, <span class=\"tah p11 red02\">\n",
      "\t\t\t\t90\n",
      "\t\t\t\t</span>, <span class=\"tah p11\">6,980</span>, <span class=\"tah p11\">7,010</span>, <span class=\"tah p11\">6,870</span>, <span class=\"tah p11\">12,801</span>, <span class=\"tah p10 gray03\">2021.03.17</span>, <span class=\"tah p11\">6,900</span>, <span class=\"tah p11\">0</span>, <span class=\"tah p11\">6,990</span>, <span class=\"tah p11\">7,090</span>, <span class=\"tah p11\">6,840</span>, <span class=\"tah p11\">7,833</span>, <span class=\"tah p10 gray03\">2021.03.16</span>, <span class=\"tah p11\">6,900</span>, <span class=\"tah p11 red02\">\n",
      "\t\t\t\t200\n",
      "\t\t\t\t</span>, <span class=\"tah p11\">6,710</span>, <span class=\"tah p11\">7,060</span>, <span class=\"tah p11\">6,710</span>, <span class=\"tah p11\">72,464</span>, <span class=\"tah p10 gray03\">2021.03.15</span>, <span class=\"tah p11\">6,700</span>, <span class=\"tah p11 red02\">\n",
      "\t\t\t\t30\n",
      "\t\t\t\t</span>, <span class=\"tah p11\">6,750</span>, <span class=\"tah p11\">6,750</span>, <span class=\"tah p11\">6,670</span>, <span class=\"tah p11\">9,434</span>, <span class=\"tah p10 gray03\">2021.03.12</span>, <span class=\"tah p11\">6,670</span>, <span class=\"tah p11 red02\">\n",
      "\t\t\t\t30\n",
      "\t\t\t\t</span>, <span class=\"tah p11\">6,590</span>, <span class=\"tah p11\">6,710</span>, <span class=\"tah p11\">6,580</span>, <span class=\"tah p11\">19,791</span>, <span class=\"tah p10 gray03\">2021.03.11</span>, <span class=\"tah p11\">6,640</span>, <span class=\"tah p11 red02\">\n",
      "\t\t\t\t20\n",
      "\t\t\t\t</span>, <span class=\"tah p11\">6,700</span>, <span class=\"tah p11\">6,700</span>, <span class=\"tah p11\">6,300</span>, <span class=\"tah p11\">22,505</span>, <span class=\"tah p10 gray03\">2021.03.10</span>, <span class=\"tah p11\">6,620</span>, <span class=\"tah p11 nv01\">\n",
      "\t\t\t\t30\n",
      "\t\t\t\t</span>, <span class=\"tah p11\">6,660</span>, <span class=\"tah p11\">6,820</span>, <span class=\"tah p11\">6,610</span>, <span class=\"tah p11\">28,250</span>, <span class=\"tah p10 gray03\">2021.03.09</span>, <span class=\"tah p11\">6,650</span>, <span class=\"tah p11 nv01\">\n",
      "\t\t\t\t250\n",
      "\t\t\t\t</span>, <span class=\"tah p11\">6,830</span>, <span class=\"tah p11\">6,910</span>, <span class=\"tah p11\">6,620</span>, <span class=\"tah p11\">51,414</span>, <span class=\"tah p10 gray03\">2021.03.08</span>, <span class=\"tah p11\">6,900</span>, <span class=\"tah p11 nv01\">\n",
      "\t\t\t\t130\n",
      "\t\t\t\t</span>, <span class=\"tah p11\">7,060</span>, <span class=\"tah p11\">7,060</span>, <span class=\"tah p11\">6,900</span>, <span class=\"tah p11\">20,969</span>, <span class=\"tah p10 gray03\">2021.03.05</span>, <span class=\"tah p11\">7,030</span>, <span class=\"tah p11 red02\">\n",
      "\t\t\t\t30\n",
      "\t\t\t\t</span>, <span class=\"tah p11\">6,930</span>, <span class=\"tah p11\">7,070</span>, <span class=\"tah p11\">6,900</span>, <span class=\"tah p11\">29,008</span>, <span class=\"tah p10 gray03\">2021.03.04</span>, <span class=\"tah p11\">7,000</span>, <span class=\"tah p11 red02\">\n",
      "\t\t\t\t50\n",
      "\t\t\t\t</span>, <span class=\"tah p11\">6,990</span>, <span class=\"tah p11\">7,030</span>, <span class=\"tah p11\">6,830</span>, <span class=\"tah p11\">22,989</span>, <span class=\"tah p10 gray03\">2021.03.03</span>, <span class=\"tah p11\">6,950</span>, <span class=\"tah p11 red02\">\n",
      "\t\t\t\t20\n",
      "\t\t\t\t</span>, <span class=\"tah p11\">6,870</span>, <span class=\"tah p11\">6,990</span>, <span class=\"tah p11\">6,850</span>, <span class=\"tah p11\">12,715</span>, <span class=\"tah p10 gray03\">2021.03.02</span>, <span class=\"tah p11\">6,930</span>, <span class=\"tah p11 nv01\">\n",
      "\t\t\t\t30\n",
      "\t\t\t\t</span>, <span class=\"tah p11\">6,960</span>, <span class=\"tah p11\">7,040</span>, <span class=\"tah p11\">6,890</span>, <span class=\"tah p11\">17,303</span>, <span class=\"tah p10 gray03\">2021.02.26</span>, <span class=\"tah p11\">6,960</span>, <span class=\"tah p11 nv01\">\n",
      "\t\t\t\t40\n",
      "\t\t\t\t</span>, <span class=\"tah p11\">6,940</span>, <span class=\"tah p11\">6,990</span>, <span class=\"tah p11\">6,860</span>, <span class=\"tah p11\">35,459</span>, <span class=\"tah p10 gray03\">2021.02.25</span>, <span class=\"tah p11\">7,000</span>, <span class=\"tah p11 red02\">\n",
      "\t\t\t\t120\n",
      "\t\t\t\t</span>, <span class=\"tah p11\">6,900</span>, <span class=\"tah p11\">7,030</span>, <span class=\"tah p11\">6,900</span>, <span class=\"tah p11\">26,285</span>, <span class=\"tah p10 gray03\">2021.02.24</span>, <span class=\"tah p11\">6,880</span>, <span class=\"tah p11 nv01\">\n",
      "\t\t\t\t270\n",
      "\t\t\t\t</span>, <span class=\"tah p11\">7,160</span>, <span class=\"tah p11\">7,170</span>, <span class=\"tah p11\">6,880</span>, <span class=\"tah p11\">42,690</span>, <span class=\"tah p10 gray03\">2021.02.23</span>, <span class=\"tah p11\">7,150</span>, <span class=\"tah p11 red02\">\n",
      "\t\t\t\t90\n",
      "\t\t\t\t</span>, <span class=\"tah p11\">7,080</span>, <span class=\"tah p11\">7,240</span>, <span class=\"tah p11\">6,990</span>, <span class=\"tah p11\">58,269</span>, <span class=\"tah p10 gray03\">2021.02.22</span>, <span class=\"tah p11\">7,060</span>, <span class=\"tah p11 nv01\">\n",
      "\t\t\t\t10\n",
      "\t\t\t\t</span>, <span class=\"tah p11\">7,130</span>, <span class=\"tah p11\">7,130</span>, <span class=\"tah p11\">7,050</span>, <span class=\"tah p11\">13,733</span>, <span class=\"tah p10 gray03\">2021.02.19</span>, <span class=\"tah p11\">7,070</span>, <span class=\"tah p11 nv01\">\n",
      "\t\t\t\t90\n",
      "\t\t\t\t</span>, <span class=\"tah p11\">7,160</span>, <span class=\"tah p11\">7,160</span>, <span class=\"tah p11\">7,000</span>, <span class=\"tah p11\">20,294</span>, <span class=\"tah p10 gray03\">2021.02.18</span>, <span class=\"tah p11\">7,160</span>, <span class=\"tah p11 red02\">\n",
      "\t\t\t\t100\n",
      "\t\t\t\t</span>, <span class=\"tah p11\">7,060</span>, <span class=\"tah p11\">7,180</span>, <span class=\"tah p11\">7,030</span>, <span class=\"tah p11\">42,340</span>, <span class=\"tah p10 gray03\">2021.02.17</span>, <span class=\"tah p11\">7,060</span>, <span class=\"tah p11 red02\">\n",
      "\t\t\t\t50\n",
      "\t\t\t\t</span>, <span class=\"tah p11\">7,010</span>, <span class=\"tah p11\">7,130</span>, <span class=\"tah p11\">6,970</span>, <span class=\"tah p11\">42,071</span>, <span class=\"tah p10 gray03\">2021.02.16</span>, <span class=\"tah p11\">7,010</span>, <span class=\"tah p11 nv01\">\n",
      "\t\t\t\t20\n",
      "\t\t\t\t</span>, <span class=\"tah p11\">7,030</span>, <span class=\"tah p11\">7,070</span>, <span class=\"tah p11\">7,000</span>, <span class=\"tah p11\">55,849</span>, <span class=\"tah p10 gray03\">2021.02.15</span>, <span class=\"tah p11\">7,030</span>, <span class=\"tah p11 red02\">\n",
      "\t\t\t\t20\n",
      "\t\t\t\t</span>, <span class=\"tah p11\">7,000</span>, <span class=\"tah p11\">7,040</span>, <span class=\"tah p11\">6,990</span>, <span class=\"tah p11\">18,020</span>, <span class=\"tah p10 gray03\">2021.02.10</span>, <span class=\"tah p11\">7,010</span>, <span class=\"tah p11 red02\">\n",
      "\t\t\t\t50\n",
      "\t\t\t\t</span>, <span class=\"tah p11\">6,940</span>, <span class=\"tah p11\">7,010</span>, <span class=\"tah p11\">6,740</span>, <span class=\"tah p11\">35,845</span>, <span class=\"tah p10 gray03\">2021.02.09</span>, <span class=\"tah p11\">6,960</span>, <span class=\"tah p11 nv01\">\n",
      "\t\t\t\t110\n",
      "\t\t\t\t</span>, <span class=\"tah p11\">7,000</span>, <span class=\"tah p11\">7,090</span>, <span class=\"tah p11\">6,940</span>, <span class=\"tah p11\">29,932</span>, <span class=\"tah p10 gray03\">2021.02.08</span>, <span class=\"tah p11\">7,070</span>, <span class=\"tah p11 nv01\">\n",
      "\t\t\t\t100\n",
      "\t\t\t\t</span>, <span class=\"tah p11\">7,170</span>, <span class=\"tah p11\">7,180</span>, <span class=\"tah p11\">7,030</span>, <span class=\"tah p11\">20,689</span>, <span class=\"tah p10 gray03\">2021.02.05</span>, <span class=\"tah p11\">7,170</span>, <span class=\"tah p11 red02\">\n",
      "\t\t\t\t70\n",
      "\t\t\t\t</span>, <span class=\"tah p11\">7,110</span>, <span class=\"tah p11\">7,210</span>, <span class=\"tah p11\">7,100</span>, <span class=\"tah p11\">19,621</span>]\n"
     ]
    }
   ],
   "source": [
    "from bs4 import BeautifulSoup\n",
    "import requests\n",
    "import urllib\n",
    "\n",
    "\n",
    "headers = {'User-Agent': 'Mozilla/5.0'}\n",
    "\n",
    "span_list=[]\n",
    "for i in range(1,10):\n",
    "    response = requests.get( \"https://finance.naver.com/item/sise_day.nhn?code=004840&page={0}\".format(i), headers=headers)\n",
    "\n",
    "    soup=BeautifulSoup(response.text, \"html.parser\")\n",
    "    stock_list=soup.select(\"span\")\n",
    "    \n",
    "    span_list.extend(stock_list[1:])\n",
    "\n",
    "\n",
    "\n",
    "\n",
    "print(span_list)"
   ]
  },
  {
   "cell_type": "code",
   "execution_count": 125,
   "metadata": {},
   "outputs": [],
   "source": [
    "import numpy as np"
   ]
  },
  {
   "cell_type": "code",
   "execution_count": 148,
   "metadata": {},
   "outputs": [
    {
     "data": {
      "text/html": [
       "<div>\n",
       "<style scoped>\n",
       "    .dataframe tbody tr th:only-of-type {\n",
       "        vertical-align: middle;\n",
       "    }\n",
       "\n",
       "    .dataframe tbody tr th {\n",
       "        vertical-align: top;\n",
       "    }\n",
       "\n",
       "    .dataframe thead th {\n",
       "        text-align: right;\n",
       "    }\n",
       "</style>\n",
       "<table border=\"1\" class=\"dataframe\">\n",
       "  <thead>\n",
       "    <tr style=\"text-align: right;\">\n",
       "      <th></th>\n",
       "      <th>0</th>\n",
       "    </tr>\n",
       "  </thead>\n",
       "  <tbody>\n",
       "    <tr>\n",
       "      <th>0</th>\n",
       "      <td>2021.06.17</td>\n",
       "    </tr>\n",
       "    <tr>\n",
       "      <th>1</th>\n",
       "      <td>8,040</td>\n",
       "    </tr>\n",
       "    <tr>\n",
       "      <th>2</th>\n",
       "      <td>\\n\\t\\t\\t\\t50\\n\\t\\t\\t\\t</td>\n",
       "    </tr>\n",
       "    <tr>\n",
       "      <th>3</th>\n",
       "      <td>8,030</td>\n",
       "    </tr>\n",
       "    <tr>\n",
       "      <th>4</th>\n",
       "      <td>8,130</td>\n",
       "    </tr>\n",
       "    <tr>\n",
       "      <th>...</th>\n",
       "      <td>...</td>\n",
       "    </tr>\n",
       "    <tr>\n",
       "      <th>625</th>\n",
       "      <td>\\n\\t\\t\\t\\t70\\n\\t\\t\\t\\t</td>\n",
       "    </tr>\n",
       "    <tr>\n",
       "      <th>626</th>\n",
       "      <td>7,110</td>\n",
       "    </tr>\n",
       "    <tr>\n",
       "      <th>627</th>\n",
       "      <td>7,210</td>\n",
       "    </tr>\n",
       "    <tr>\n",
       "      <th>628</th>\n",
       "      <td>7,100</td>\n",
       "    </tr>\n",
       "    <tr>\n",
       "      <th>629</th>\n",
       "      <td>19,621</td>\n",
       "    </tr>\n",
       "  </tbody>\n",
       "</table>\n",
       "<p>630 rows × 1 columns</p>\n",
       "</div>"
      ],
      "text/plain": [
       "                          0\n",
       "0                2021.06.17\n",
       "1                     8,040\n",
       "2    \\n\\t\\t\\t\\t50\\n\\t\\t\\t\\t\n",
       "3                     8,030\n",
       "4                     8,130\n",
       "..                      ...\n",
       "625  \\n\\t\\t\\t\\t70\\n\\t\\t\\t\\t\n",
       "626                   7,110\n",
       "627                   7,210\n",
       "628                   7,100\n",
       "629                  19,621\n",
       "\n",
       "[630 rows x 1 columns]"
      ]
     },
     "execution_count": 148,
     "metadata": {},
     "output_type": "execute_result"
    }
   ],
   "source": [
    "# pd.DataFrame(span_list,columns=[\"날짜\",\"종가\",\"전일비\",\"시가\",\"고가\",\"저가\",\"거래량\"])\n",
    "pd.DataFrame(span_list)\n",
    "# sp=np.array(span_list)\n",
    "# len(sp)\n",
    "\n",
    "# sp=sp.reshape(,-1)\n",
    "# sp"
   ]
  },
  {
   "cell_type": "code",
   "execution_count": null,
   "metadata": {},
   "outputs": [],
   "source": []
  }
 ],
 "metadata": {
  "kernelspec": {
   "display_name": "Python 3",
   "language": "python",
   "name": "python3"
  },
  "language_info": {
   "codemirror_mode": {
    "name": "ipython",
    "version": 3
   },
   "file_extension": ".py",
   "mimetype": "text/x-python",
   "name": "python",
   "nbconvert_exporter": "python",
   "pygments_lexer": "ipython3",
   "version": "3.8.10"
  },
  "toc": {
   "base_numbering": 1,
   "nav_menu": {},
   "number_sections": true,
   "sideBar": true,
   "skip_h1_title": false,
   "title_cell": "Table of Contents",
   "title_sidebar": "Contents",
   "toc_cell": false,
   "toc_position": {},
   "toc_section_display": true,
   "toc_window_display": false
  },
  "varInspector": {
   "cols": {
    "lenName": 16,
    "lenType": 16,
    "lenVar": 40
   },
   "kernels_config": {
    "python": {
     "delete_cmd_postfix": "",
     "delete_cmd_prefix": "del ",
     "library": "var_list.py",
     "varRefreshCmd": "print(var_dic_list())"
    },
    "r": {
     "delete_cmd_postfix": ") ",
     "delete_cmd_prefix": "rm(",
     "library": "var_list.r",
     "varRefreshCmd": "cat(var_dic_list()) "
    }
   },
   "types_to_exclude": [
    "module",
    "function",
    "builtin_function_or_method",
    "instance",
    "_Feature"
   ],
   "window_display": false
  }
 },
 "nbformat": 4,
 "nbformat_minor": 4
}
