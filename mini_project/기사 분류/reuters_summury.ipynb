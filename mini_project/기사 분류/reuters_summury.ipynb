{
 "cells": [
  {
   "cell_type": "code",
   "execution_count": 30,
   "id": "3cf8c92f",
   "metadata": {},
   "outputs": [
    {
     "data": {
      "text/plain": [
       "'2.5.0'"
      ]
     },
     "execution_count": 30,
     "metadata": {},
     "output_type": "execute_result"
    }
   ],
   "source": [
    "from tensorflow import keras\n",
    "import pandas as pd\n",
    "import seaborn as sns\n",
    "\n",
    "keras.__version__"
   ]
  },
  {
   "cell_type": "markdown",
   "id": "90424291",
   "metadata": {},
   "source": [
    "## reuters 데이터셋 로드\n",
    "    \n",
    "    reuters.load_data(num_words=10000)\n",
    "\n",
    "가장 자주 등장하는 단어 만개로 제한"
   ]
  },
  {
   "cell_type": "code",
   "execution_count": 2,
   "id": "28d148e5",
   "metadata": {},
   "outputs": [
    {
     "name": "stderr",
     "output_type": "stream",
     "text": [
      "/usr/local/anaconda3/envs/ml/lib/python3.8/site-packages/tensorflow/python/keras/datasets/reuters.py:143: VisibleDeprecationWarning: Creating an ndarray from ragged nested sequences (which is a list-or-tuple of lists-or-tuples-or ndarrays with different lengths or shapes) is deprecated. If you meant to do this, you must specify 'dtype=object' when creating the ndarray\n",
      "  x_train, y_train = np.array(xs[:idx]), np.array(labels[:idx])\n",
      "/usr/local/anaconda3/envs/ml/lib/python3.8/site-packages/tensorflow/python/keras/datasets/reuters.py:144: VisibleDeprecationWarning: Creating an ndarray from ragged nested sequences (which is a list-or-tuple of lists-or-tuples-or ndarrays with different lengths or shapes) is deprecated. If you meant to do this, you must specify 'dtype=object' when creating the ndarray\n",
      "  x_test, y_test = np.array(xs[idx:]), np.array(labels[idx:])\n"
     ]
    }
   ],
   "source": [
    "from tensorflow.keras.datasets import reuters\n",
    "\n",
    "(train_data, train_labels), (test_data, test_labels) = reuters.load_data(num_words=10000)"
   ]
  },
  {
   "cell_type": "markdown",
   "id": "963bf492",
   "metadata": {},
   "source": [
    "## train data, test data 확인"
   ]
  },
  {
   "cell_type": "code",
   "execution_count": 6,
   "id": "5cbd0365",
   "metadata": {},
   "outputs": [
    {
     "name": "stdout",
     "output_type": "stream",
     "text": [
      "8982 2246\n"
     ]
    }
   ],
   "source": [
    "print(len(train_data),len(test_data))"
   ]
  },
  {
   "cell_type": "code",
   "execution_count": 7,
   "id": "4915c8a7",
   "metadata": {},
   "outputs": [
    {
     "data": {
      "text/html": [
       "<div>\n",
       "<style scoped>\n",
       "    .dataframe tbody tr th:only-of-type {\n",
       "        vertical-align: middle;\n",
       "    }\n",
       "\n",
       "    .dataframe tbody tr th {\n",
       "        vertical-align: top;\n",
       "    }\n",
       "\n",
       "    .dataframe thead th {\n",
       "        text-align: right;\n",
       "    }\n",
       "</style>\n",
       "<table border=\"1\" class=\"dataframe\">\n",
       "  <thead>\n",
       "    <tr style=\"text-align: right;\">\n",
       "      <th></th>\n",
       "      <th>train_data</th>\n",
       "      <th>train_labels</th>\n",
       "    </tr>\n",
       "  </thead>\n",
       "  <tbody>\n",
       "    <tr>\n",
       "      <th>0</th>\n",
       "      <td>[1, 2, 2, 8, 43, 10, 447, 5, 25, 207, 270, 5, ...</td>\n",
       "      <td>3</td>\n",
       "    </tr>\n",
       "    <tr>\n",
       "      <th>1</th>\n",
       "      <td>[1, 3267, 699, 3434, 2295, 56, 2, 7511, 9, 56,...</td>\n",
       "      <td>4</td>\n",
       "    </tr>\n",
       "    <tr>\n",
       "      <th>2</th>\n",
       "      <td>[1, 53, 12, 284, 15, 14, 272, 26, 53, 959, 32,...</td>\n",
       "      <td>3</td>\n",
       "    </tr>\n",
       "    <tr>\n",
       "      <th>3</th>\n",
       "      <td>[1, 4, 686, 867, 558, 4, 37, 38, 309, 2276, 46...</td>\n",
       "      <td>4</td>\n",
       "    </tr>\n",
       "    <tr>\n",
       "      <th>4</th>\n",
       "      <td>[1, 8295, 111, 8, 25, 166, 40, 638, 10, 436, 2...</td>\n",
       "      <td>4</td>\n",
       "    </tr>\n",
       "    <tr>\n",
       "      <th>...</th>\n",
       "      <td>...</td>\n",
       "      <td>...</td>\n",
       "    </tr>\n",
       "    <tr>\n",
       "      <th>8977</th>\n",
       "      <td>[1, 313, 262, 2529, 1426, 8, 130, 40, 129, 363...</td>\n",
       "      <td>19</td>\n",
       "    </tr>\n",
       "    <tr>\n",
       "      <th>8978</th>\n",
       "      <td>[1, 4, 96, 5, 340, 3976, 23, 328, 6, 154, 7, 4...</td>\n",
       "      <td>19</td>\n",
       "    </tr>\n",
       "    <tr>\n",
       "      <th>8979</th>\n",
       "      <td>[1, 141, 3890, 387, 81, 8, 16, 1629, 10, 340, ...</td>\n",
       "      <td>25</td>\n",
       "    </tr>\n",
       "    <tr>\n",
       "      <th>8980</th>\n",
       "      <td>[1, 53, 46, 957, 26, 14, 74, 132, 26, 39, 46, ...</td>\n",
       "      <td>3</td>\n",
       "    </tr>\n",
       "    <tr>\n",
       "      <th>8981</th>\n",
       "      <td>[1, 227, 2406, 91, 2, 125, 2855, 21, 4, 3976, ...</td>\n",
       "      <td>25</td>\n",
       "    </tr>\n",
       "  </tbody>\n",
       "</table>\n",
       "<p>8982 rows × 2 columns</p>\n",
       "</div>"
      ],
      "text/plain": [
       "                                             train_data  train_labels\n",
       "0     [1, 2, 2, 8, 43, 10, 447, 5, 25, 207, 270, 5, ...             3\n",
       "1     [1, 3267, 699, 3434, 2295, 56, 2, 7511, 9, 56,...             4\n",
       "2     [1, 53, 12, 284, 15, 14, 272, 26, 53, 959, 32,...             3\n",
       "3     [1, 4, 686, 867, 558, 4, 37, 38, 309, 2276, 46...             4\n",
       "4     [1, 8295, 111, 8, 25, 166, 40, 638, 10, 436, 2...             4\n",
       "...                                                 ...           ...\n",
       "8977  [1, 313, 262, 2529, 1426, 8, 130, 40, 129, 363...            19\n",
       "8978  [1, 4, 96, 5, 340, 3976, 23, 328, 6, 154, 7, 4...            19\n",
       "8979  [1, 141, 3890, 387, 81, 8, 16, 1629, 10, 340, ...            25\n",
       "8980  [1, 53, 46, 957, 26, 14, 74, 132, 26, 39, 46, ...             3\n",
       "8981  [1, 227, 2406, 91, 2, 125, 2855, 21, 4, 3976, ...            25\n",
       "\n",
       "[8982 rows x 2 columns]"
      ]
     },
     "execution_count": 7,
     "metadata": {},
     "output_type": "execute_result"
    }
   ],
   "source": [
    "train_data_df = pd.DataFrame(train_data)\n",
    "train_labels_df = pd.DataFrame(train_labels)\n",
    "\n",
    "reuters_df = pd.DataFrame(train_data_df)\n",
    "reuters_df.columns=['train_data']\n",
    "reuters_df['train_labels'] = train_labels_df\n",
    "reuters_df"
   ]
  },
  {
   "cell_type": "code",
   "execution_count": 28,
   "id": "68aead4a",
   "metadata": {},
   "outputs": [
    {
     "name": "stdout",
     "output_type": "stream",
     "text": [
      "<class 'pandas.core.frame.DataFrame'>\n",
      "RangeIndex: 8982 entries, 0 to 8981\n",
      "Data columns (total 2 columns):\n",
      " #   Column        Non-Null Count  Dtype \n",
      "---  ------        --------------  ----- \n",
      " 0   train_data    8982 non-null   object\n",
      " 1   train_labels  8982 non-null   int64 \n",
      "dtypes: int64(1), object(1)\n",
      "memory usage: 140.5+ KB\n"
     ]
    }
   ],
   "source": [
    "reuters_df.info()"
   ]
  },
  {
   "cell_type": "markdown",
   "id": "27dca85a",
   "metadata": {},
   "source": []
  },
  {
   "cell_type": "code",
   "execution_count": null,
   "id": "a89a6f53",
   "metadata": {},
   "outputs": [],
   "source": []
  },
  {
   "cell_type": "code",
   "execution_count": 9,
   "id": "d0f9b096",
   "metadata": {},
   "outputs": [
    {
     "data": {
      "text/plain": [
       "'boone'"
      ]
     },
     "execution_count": 9,
     "metadata": {},
     "output_type": "execute_result"
    }
   ],
   "source": [
    "# word_index는 단어와 정수 인덱스를 매핑한 딕셔너리입니다\n",
    "word_index = reuters.get_word_index()\n",
    "# 정수 인덱스와 단어를 매핑하도록 뒤집습니다\n",
    "reverse_word_index = dict([(value, key) for (key, value) in word_index.items()])\n",
    "# 리뷰를 디코딩합니다. \n",
    "# 0, 1, 2는 '패딩', '문서 시작', '사전에 없음'을 위한 인덱스이므로 3을 뺍니다\n",
    "decoded_review = ' '.join([reverse_word_index.get(i - 3, '?') for i in train_data[0]])\n",
    "\n",
    "test = reverse_word_index.get(9999 - 3, '?')\n",
    "test"
   ]
  },
  {
   "cell_type": "code",
   "execution_count": 10,
   "id": "1cb98fc4",
   "metadata": {},
   "outputs": [],
   "source": [
    "## word dic 확인\n",
    "#word_index"
   ]
  },
  {
   "cell_type": "code",
   "execution_count": 12,
   "id": "ef239837",
   "metadata": {},
   "outputs": [],
   "source": [
    "# 0행기사 디코드\n",
    "#decoded_review"
   ]
  },
  {
   "cell_type": "markdown",
   "id": "4724f0b5",
   "metadata": {},
   "source": [
    "## 원핫 인코딩\n",
    "- 영화 리뷰의 경우 0 과 1의 단일 분류였지만 reuters 의 경우 46가지의 multiclass 이므로 원 핫 인코딩을 진행."
   ]
  },
  {
   "cell_type": "code",
   "execution_count": 13,
   "id": "2868a4ab",
   "metadata": {},
   "outputs": [],
   "source": [
    "import numpy as np\n",
    "\n",
    "# 레이블 변환을 위한 케라스 내장함수\n",
    "# from keras.utils.np_utils import to_categorical\n",
    "\n",
    "def vectorize_sequences(sequences, dimension=10000):\n",
    "    # 크기가 (len(sequences), dimension))이고 모든 원소가 0인 행렬을 만듭니다\n",
    "    results = np.zeros((len(sequences), dimension))\n",
    "    for i, sequence in enumerate(sequences):\n",
    "\n",
    "        results[i, sequence] = 1.  # results[i]에서 특정 인덱스의 위치를 1로 만듭니다\n",
    "  \n",
    "    return results\n",
    "\n",
    "\n",
    "x_train = vectorize_sequences(train_data)\n",
    "x_test = vectorize_sequences(test_data)\n",
    "\n",
    "\n",
    "def one_hot_enc(labels, dimension=46):\n",
    "    results = np.zeros((len(labels), dimension))\n",
    "    for i, label in enumerate(labels):\n",
    "        results[i, label] = 1.\n",
    "    return results\n",
    "\n",
    "\n",
    "one_hot_train_labels = one_hot_enc(train_labels)\n",
    "one_hot_test_labels = one_hot_enc(test_labels)"
   ]
  },
  {
   "cell_type": "markdown",
   "id": "acf68322",
   "metadata": {},
   "source": [
    "## 신경망 구성하기\n",
    "\n",
    "- 마지막 Dense 층의 크기를 46 으로 구성\n",
    "- 마지막 층 softmax 활성화 함수 사용\n",
    "- 손실함수는 categorical_crossentropy 사용.\n",
    "- 두 확률 분포 사이의 거리를 최소화 하여 진짜 레이블에 가까운 출력을 내도록 훈련"
   ]
  },
  {
   "cell_type": "code",
   "execution_count": 17,
   "id": "8429e450",
   "metadata": {},
   "outputs": [],
   "source": [
    "from tensorflow.keras import models\n",
    "from tensorflow.keras import layers\n",
    "\n",
    "model = models.Sequential()\n",
    "model.add(layers.Dense(64, activation='relu', input_shape=(10000,)))\n",
    "model.add(layers.Dense(64, activation='relu'))\n",
    "model.add(layers.Dense(46, activation='softmax'))\n",
    "model.compile(optimizer='rmsprop',\n",
    "              loss='categorical_crossentropy',\n",
    "              metrics=['accuracy'])\n",
    "# 레이블을 정수로 인코딩 할 경우 loss = 'sparse_categorical_crossentropy'를 사용"
   ]
  },
  {
   "cell_type": "markdown",
   "id": "03ec9098",
   "metadata": {},
   "source": [
    "## 훈련 검증\n",
    "- 원본 데이터에서 1000개를 떼어 검증 set 으로 사용"
   ]
  },
  {
   "cell_type": "code",
   "execution_count": 18,
   "id": "4ec6b718",
   "metadata": {},
   "outputs": [],
   "source": [
    "x_val = x_train[:1000].astype(float)\n",
    "partial_x_train = x_train[1000:].astype(float)\n",
    "\n",
    "y_val = one_hot_train_labels[:1000]\n",
    "partial_y_train = one_hot_train_labels[1000:]"
   ]
  },
  {
   "cell_type": "markdown",
   "id": "d5206923",
   "metadata": {},
   "source": [
    "## 훈련\n",
    "- epoch = 20 으로 훈련"
   ]
  },
  {
   "cell_type": "code",
   "execution_count": 19,
   "id": "d9ded93c",
   "metadata": {},
   "outputs": [
    {
     "name": "stdout",
     "output_type": "stream",
     "text": [
      "Epoch 1/20\n",
      "16/16 [==============================] - 1s 27ms/step - loss: 2.7029 - accuracy: 0.5172 - val_loss: 1.7603 - val_accuracy: 0.6380\n",
      "Epoch 2/20\n",
      "16/16 [==============================] - 0s 16ms/step - loss: 1.4531 - accuracy: 0.7031 - val_loss: 1.3059 - val_accuracy: 0.7110\n",
      "Epoch 3/20\n",
      "16/16 [==============================] - 0s 16ms/step - loss: 1.0682 - accuracy: 0.7701 - val_loss: 1.1334 - val_accuracy: 0.7500\n",
      "Epoch 4/20\n",
      "16/16 [==============================] - 0s 16ms/step - loss: 0.8354 - accuracy: 0.8251 - val_loss: 1.0173 - val_accuracy: 0.7890\n",
      "Epoch 5/20\n",
      "16/16 [==============================] - 0s 16ms/step - loss: 0.6618 - accuracy: 0.8633 - val_loss: 0.9715 - val_accuracy: 0.7960\n",
      "Epoch 6/20\n",
      "16/16 [==============================] - 0s 17ms/step - loss: 0.5299 - accuracy: 0.8905 - val_loss: 0.9418 - val_accuracy: 0.7990\n",
      "Epoch 7/20\n",
      "16/16 [==============================] - 0s 16ms/step - loss: 0.4254 - accuracy: 0.9133 - val_loss: 0.9308 - val_accuracy: 0.7950\n",
      "Epoch 8/20\n",
      "16/16 [==============================] - 0s 16ms/step - loss: 0.3477 - accuracy: 0.9305 - val_loss: 0.9219 - val_accuracy: 0.8070\n",
      "Epoch 9/20\n",
      "16/16 [==============================] - 0s 16ms/step - loss: 0.2859 - accuracy: 0.9406 - val_loss: 0.8942 - val_accuracy: 0.8170\n",
      "Epoch 10/20\n",
      "16/16 [==============================] - 0s 16ms/step - loss: 0.2384 - accuracy: 0.9442 - val_loss: 0.9469 - val_accuracy: 0.8050\n",
      "Epoch 11/20\n",
      "16/16 [==============================] - 0s 17ms/step - loss: 0.2089 - accuracy: 0.9498 - val_loss: 0.9539 - val_accuracy: 0.8120\n",
      "Epoch 12/20\n",
      "16/16 [==============================] - 0s 17ms/step - loss: 0.1836 - accuracy: 0.9529 - val_loss: 0.9986 - val_accuracy: 0.7960\n",
      "Epoch 13/20\n",
      "16/16 [==============================] - 0s 16ms/step - loss: 0.1668 - accuracy: 0.9511 - val_loss: 0.9835 - val_accuracy: 0.8110\n",
      "Epoch 14/20\n",
      "16/16 [==============================] - 0s 16ms/step - loss: 0.1510 - accuracy: 0.9569 - val_loss: 0.9795 - val_accuracy: 0.8100\n",
      "Epoch 15/20\n",
      "16/16 [==============================] - 0s 16ms/step - loss: 0.1389 - accuracy: 0.9569 - val_loss: 1.0230 - val_accuracy: 0.8010\n",
      "Epoch 16/20\n",
      "16/16 [==============================] - 0s 16ms/step - loss: 0.1346 - accuracy: 0.9558 - val_loss: 1.0166 - val_accuracy: 0.8070\n",
      "Epoch 17/20\n",
      "16/16 [==============================] - 0s 16ms/step - loss: 0.1244 - accuracy: 0.9585 - val_loss: 1.0571 - val_accuracy: 0.8000\n",
      "Epoch 18/20\n",
      "16/16 [==============================] - 0s 17ms/step - loss: 0.1233 - accuracy: 0.9563 - val_loss: 1.0401 - val_accuracy: 0.8060\n",
      "Epoch 19/20\n",
      "16/16 [==============================] - 0s 17ms/step - loss: 0.1153 - accuracy: 0.9579 - val_loss: 1.0783 - val_accuracy: 0.8000\n",
      "Epoch 20/20\n",
      "16/16 [==============================] - 0s 17ms/step - loss: 0.1144 - accuracy: 0.9570 - val_loss: 1.0596 - val_accuracy: 0.8060\n"
     ]
    }
   ],
   "source": [
    "history = model.fit(partial_x_train,\n",
    "                    partial_y_train,\n",
    "                    epochs=20,\n",
    "                    batch_size=512,\n",
    "                    validation_data=(x_val, y_val))"
   ]
  },
  {
   "cell_type": "markdown",
   "id": "56523453",
   "metadata": {},
   "source": [
    "## 손실곡선"
   ]
  },
  {
   "cell_type": "code",
   "execution_count": 21,
   "id": "c394f4c9",
   "metadata": {},
   "outputs": [
    {
     "data": {
      "image/png": "[encoded data removed]",
      "text/plain": [
       "<Figure size 432x288 with 1 Axes>"
      ]
     },
     "metadata": {
      "needs_background": "light"
     },
     "output_type": "display_data"
    }
   ],
   "source": [
    "import matplotlib.pyplot as plt\n",
    "\n",
    "loss = history.history['loss']\n",
    "val_loss = history.history['val_loss']\n",
    "\n",
    "epochs = range(1, len(loss) + 1)\n",
    "\n",
    "plt.plot(epochs, loss, 'bo', label='Training loss')\n",
    "plt.plot(epochs, val_loss, 'b', label='Validation loss')\n",
    "plt.title('Training and validation loss')\n",
    "plt.xlabel('Epochs')\n",
    "plt.ylabel('Loss')\n",
    "plt.legend()\n",
    "\n",
    "plt.show()"
   ]
  },
  {
   "cell_type": "markdown",
   "id": "54646010",
   "metadata": {},
   "source": [
    "## 정확도곡선"
   ]
  },
  {
   "cell_type": "code",
   "execution_count": 24,
   "id": "57e6a1eb",
   "metadata": {},
   "outputs": [
    {
     "data": {
      "image/png": "[encoded data removed]",
      "text/plain": [
       "<Figure size 432x288 with 1 Axes>"
      ]
     },
     "metadata": {
      "needs_background": "light"
     },
     "output_type": "display_data"
    }
   ],
   "source": [
    "plt.clf()   # 초기화\n",
    "acc = history.history['accuracy']\n",
    "val_acc = history.history['val_accuracy']\n",
    "\n",
    "plt.plot(epochs, acc, 'bo', label='Training acc')\n",
    "plt.plot(epochs, val_acc, 'b', label='Validation acc')\n",
    "plt.title('Training and validation accuracy')\n",
    "plt.xlabel('Epochs')\n",
    "plt.ylabel('Accuracy')\n",
    "plt.legend()\n",
    "\n",
    "plt.show()"
   ]
  },
  {
   "cell_type": "markdown",
   "id": "31d25038",
   "metadata": {},
   "source": [
    "## 과적합을 막기위해 epochs 를 조정하여 훈련"
   ]
  },
  {
   "cell_type": "code",
   "execution_count": 25,
   "id": "a37a2360",
   "metadata": {},
   "outputs": [
    {
     "name": "stdout",
     "output_type": "stream",
     "text": [
      "Epoch 1/9\n",
      "16/16 [==============================] - 1s 28ms/step - loss: 2.7106 - accuracy: 0.4737 - val_loss: 1.7784 - val_accuracy: 0.6360\n",
      "Epoch 2/9\n",
      "16/16 [==============================] - 0s 16ms/step - loss: 1.4481 - accuracy: 0.7010 - val_loss: 1.2996 - val_accuracy: 0.7250\n",
      "Epoch 3/9\n",
      "16/16 [==============================] - 0s 18ms/step - loss: 1.0549 - accuracy: 0.7751 - val_loss: 1.1287 - val_accuracy: 0.7510\n",
      "Epoch 4/9\n",
      "16/16 [==============================] - 0s 16ms/step - loss: 0.8289 - accuracy: 0.8252 - val_loss: 1.0377 - val_accuracy: 0.7890\n",
      "Epoch 5/9\n",
      "16/16 [==============================] - 0s 19ms/step - loss: 0.6610 - accuracy: 0.8633 - val_loss: 0.9679 - val_accuracy: 0.8030\n",
      "Epoch 6/9\n",
      "16/16 [==============================] - 0s 19ms/step - loss: 0.5297 - accuracy: 0.8895 - val_loss: 0.9318 - val_accuracy: 0.8070\n",
      "Epoch 7/9\n",
      "16/16 [==============================] - 0s 18ms/step - loss: 0.4289 - accuracy: 0.9113 - val_loss: 0.9146 - val_accuracy: 0.8140\n",
      "Epoch 8/9\n",
      "16/16 [==============================] - 0s 17ms/step - loss: 0.3504 - accuracy: 0.9261 - val_loss: 0.9193 - val_accuracy: 0.8100\n",
      "Epoch 9/9\n",
      "16/16 [==============================] - 0s 17ms/step - loss: 0.2883 - accuracy: 0.9372 - val_loss: 0.9026 - val_accuracy: 0.8170\n",
      "71/71 [==============================] - 0s 1ms/step - loss: 0.9850 - accuracy: 0.7863\n"
     ]
    }
   ],
   "source": [
    "model = models.Sequential()\n",
    "model.add(layers.Dense(64, activation='relu', input_shape=(10000,)))\n",
    "model.add(layers.Dense(64, activation='relu'))\n",
    "model.add(layers.Dense(46, activation='softmax'))\n",
    "\n",
    "model.compile(optimizer='rmsprop',\n",
    "              loss='categorical_crossentropy',\n",
    "              metrics=['accuracy'])\n",
    "model.fit(partial_x_train,\n",
    "          partial_y_train,\n",
    "          epochs=9,\n",
    "          batch_size=512,\n",
    "          validation_data=(x_val, y_val))\n",
    "results = model.evaluate(x_test, one_hot_test_labels)"
   ]
  },
  {
   "cell_type": "code",
   "execution_count": 35,
   "id": "dfdcd8e1",
   "metadata": {},
   "outputs": [
    {
     "data": {
      "text/plain": [
       "[0.9850311279296875, 0.7862867116928101]"
      ]
     },
     "execution_count": 35,
     "metadata": {},
     "output_type": "execute_result"
    }
   ],
   "source": [
    "results"
   ]
  },
  {
   "cell_type": "markdown",
   "id": "a36bdc79",
   "metadata": {},
   "source": [
    "## 46가지의 토픽 (label) 분포 확인"
   ]
  },
  {
   "cell_type": "code",
   "execution_count": 36,
   "id": "53e0dd94",
   "metadata": {},
   "outputs": [
    {
     "name": "stderr",
     "output_type": "stream",
     "text": [
      "/usr/local/anaconda3/envs/ml/lib/python3.8/site-packages/seaborn/_decorators.py:36: FutureWarning: Pass the following variable as a keyword arg: x. From version 0.12, the only valid positional argument will be `data`, and passing other arguments without an explicit keyword will result in an error or misinterpretation.\n",
      "  warnings.warn(\n"
     ]
    },
    {
     "data": {
      "text/plain": [
       "<AxesSubplot:ylabel='count'>"
      ]
     },
     "execution_count": 36,
     "metadata": {},
     "output_type": "execute_result"
    },
    {
     "data": {
      "image/png": "[encoded data removed]",
      "text/plain": [
       "<Figure size 864x360 with 1 Axes>"
      ]
     },
     "metadata": {
      "needs_background": "light"
     },
     "output_type": "display_data"
    }
   ],
   "source": [
    "fig, axe = plt.subplots(ncols=1)\n",
    "fig.set_size_inches(12,5)\n",
    "sns.countplot(train_labels)"
   ]
  },
  {
   "cell_type": "markdown",
   "id": "f5e8db30",
   "metadata": {},
   "source": [
    "## 정리\n",
    "- 46개의 토픽으로 분류하는 multiclass classification 이므로 softmax 활성화 함수를 사용.\n",
    "- 46개의 multiclass 이므로 label 원핫 인코딩 진행.\n",
    "- loss 함수를 categorical_crossentropy 를 사용.\n",
    "- label 을 원 핫 인코딩을 하지 않고 정수형일 경우 loss 함수를 sparse_categorical_crossentropy 를 사용.\n",
    "- label 변환을 위한 케라스 내장함수 from keras.utils.np_utils import to_categorical 을 사용가능.\n",
    "\n"
   ]
  },
  {
   "cell_type": "markdown",
   "id": "375c1d7a",
   "metadata": {},
   "source": [
    "## 추가내용\n",
    "### batch_size = 30, epochs = 3 으로 조정"
   ]
  },
  {
   "cell_type": "code",
   "execution_count": 39,
   "id": "5c79fdb4",
   "metadata": {},
   "outputs": [
    {
     "name": "stdout",
     "output_type": "stream",
     "text": [
      "Epoch 1/3\n",
      "267/267 [==============================] - 2s 4ms/step - loss: 1.4259 - accuracy: 0.6916 - val_loss: 1.0345 - val_accuracy: 0.7880\n",
      "Epoch 2/3\n",
      "267/267 [==============================] - 1s 4ms/step - loss: 0.7245 - accuracy: 0.8400 - val_loss: 0.8783 - val_accuracy: 0.8200\n",
      "Epoch 3/3\n",
      "267/267 [==============================] - 1s 4ms/step - loss: 0.4563 - accuracy: 0.9007 - val_loss: 0.8847 - val_accuracy: 0.8180\n",
      "71/71 [==============================] - 0s 1ms/step - loss: 0.9686 - accuracy: 0.7930\n"
     ]
    }
   ],
   "source": [
    "model = models.Sequential()\n",
    "model.add(layers.Dense(64, activation='relu', input_shape=(10000,)))\n",
    "model.add(layers.Dense(64, activation='relu'))\n",
    "model.add(layers.Dense(46, activation='softmax'))\n",
    "\n",
    "model.compile(optimizer='rmsprop',\n",
    "              loss='categorical_crossentropy',\n",
    "              metrics=['accuracy'])\n",
    "model.fit(partial_x_train,\n",
    "          partial_y_train,\n",
    "          epochs=3,\n",
    "          batch_size=30,\n",
    "          validation_data=(x_val, y_val))\n",
    "results = model.evaluate(x_test, one_hot_test_labels)"
   ]
  },
  {
   "cell_type": "code",
   "execution_count": 40,
   "id": "6e6301ea",
   "metadata": {},
   "outputs": [
    {
     "data": {
      "text/plain": [
       "[0.9685558676719666, 0.792965292930603]"
      ]
     },
     "execution_count": 40,
     "metadata": {},
     "output_type": "execute_result"
    }
   ],
   "source": [
    "results"
   ]
  },
  {
   "cell_type": "code",
   "execution_count": null,
   "id": "0378685a",
   "metadata": {},
   "outputs": [],
   "source": []
  }
 ],
 "metadata": {
  "kernelspec": {
   "display_name": "Python 3",
   "language": "python",
   "name": "python3"
  },
  "language_info": {
   "codemirror_mode": {
    "name": "ipython",
    "version": 3
   },
   "file_extension": ".py",
   "mimetype": "text/x-python",
   "name": "python",
   "nbconvert_exporter": "python",
   "pygments_lexer": "ipython3",
   "version": "3.8.10"
  }
 },
 "nbformat": 4,
 "nbformat_minor": 5
}
