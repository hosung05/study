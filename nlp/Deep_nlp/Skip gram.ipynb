{
 "cells": [
  {
   "cell_type": "code",
   "execution_count": 18,
   "id": "12662d3e",
   "metadata": {},
   "outputs": [],
   "source": [
    "import tensorflow as tf\n",
    "import numpy as np"
   ]
  },
  {
   "cell_type": "code",
   "execution_count": 19,
   "id": "8f113cc2",
   "metadata": {},
   "outputs": [],
   "source": [
    "corpus_raw = \"He is the king . The king is royal . She is the royal queen\""
   ]
  },
  {
   "cell_type": "code",
   "execution_count": 20,
   "id": "64b5f0cb",
   "metadata": {},
   "outputs": [
    {
     "data": {
      "text/plain": [
       "[['He', 'is', 'the', 'king'],\n",
       " ['The', 'king', 'is', 'royal'],\n",
       " ['She', 'is', 'the', 'royal', 'queen']]"
      ]
     },
     "execution_count": 20,
     "metadata": {},
     "output_type": "execute_result"
    }
   ],
   "source": [
    "raw_sentence = corpus_raw.split(\".\")\n",
    "sentences = []\n",
    "for sentence in raw_sentence:\n",
    "    sentences.append(sentence.strip().split())\n",
    "    \n",
    "sentences"
   ]
  },
  {
   "cell_type": "code",
   "execution_count": 21,
   "id": "8c68384a",
   "metadata": {},
   "outputs": [
    {
     "data": {
      "text/plain": [
       "[['He', 'is'],\n",
       " ['He', 'the'],\n",
       " ['is', 'He'],\n",
       " ['is', 'the'],\n",
       " ['is', 'king'],\n",
       " ['the', 'He'],\n",
       " ['the', 'is'],\n",
       " ['the', 'king'],\n",
       " ['king', 'is'],\n",
       " ['king', 'the'],\n",
       " ['The', 'king'],\n",
       " ['The', 'is'],\n",
       " ['king', 'The'],\n",
       " ['king', 'is'],\n",
       " ['king', 'royal'],\n",
       " ['is', 'The'],\n",
       " ['is', 'king'],\n",
       " ['is', 'royal'],\n",
       " ['royal', 'king'],\n",
       " ['royal', 'is'],\n",
       " ['She', 'is'],\n",
       " ['She', 'the'],\n",
       " ['is', 'She'],\n",
       " ['is', 'the'],\n",
       " ['is', 'royal'],\n",
       " ['the', 'She'],\n",
       " ['the', 'is'],\n",
       " ['the', 'royal'],\n",
       " ['the', 'queen'],\n",
       " ['royal', 'is'],\n",
       " ['royal', 'the'],\n",
       " ['royal', 'queen'],\n",
       " ['queen', 'the'],\n",
       " ['queen', 'royal']]"
      ]
     },
     "execution_count": 21,
     "metadata": {},
     "output_type": "execute_result"
    }
   ],
   "source": [
    "data = []\n",
    "WINDOW_SIZE = 2\n",
    "\n",
    "for sentence in sentences:\n",
    "    for word_index, word in enumerate(sentence):\n",
    "        start_index = max(word_index - WINDOW_SIZE, 0)\n",
    "        end_index = min(word_index + WINDOW_SIZE + 1, len(sentence))\n",
    "        \n",
    "        for nb_word in sentence[start_index : word_index]:\n",
    "            data.append([word, nb_word])\n",
    "            \n",
    "        for nb_word in sentence[word_index+1 : end_index]:\n",
    "            data.append([word, nb_word])\n",
    "            \n",
    "data"
   ]
  },
  {
   "cell_type": "code",
   "execution_count": 22,
   "id": "3d5e89c8",
   "metadata": {},
   "outputs": [
    {
     "name": "stdout",
     "output_type": "stream",
     "text": [
      "{'the': 0, 'She': 1, 'royal': 2, 'is': 3, 'queen': 4, 'The': 5, 'king': 6, 'He': 7}\n",
      "{0: 'the', 1: 'She', 2: 'royal', 3: 'is', 4: 'queen', 5: 'The', 6: 'king', 7: 'He'}\n"
     ]
    }
   ],
   "source": [
    "words = []\n",
    "for word in corpus_raw.split():\n",
    "    if word != '.':\n",
    "        words.append(word)\n",
    "words = set(words)\n",
    "\n",
    "word2int = {}\n",
    "int2word = {}\n",
    "vocab_size = len(words)\n",
    "\n",
    "for i, word in enumerate(words):\n",
    "    word2int[word] = i\n",
    "    int2word[i] = word\n",
    "    \n",
    "print(word2int)\n",
    "print(int2word)"
   ]
  },
  {
   "cell_type": "code",
   "execution_count": 23,
   "id": "12aa1d9e",
   "metadata": {},
   "outputs": [],
   "source": [
    "def to_one_hot(word_index, vocab_size):\n",
    "    temp = np.zeros(vocab_size)\n",
    "    temp[word_index] = 1\n",
    "    return temp"
   ]
  },
  {
   "cell_type": "code",
   "execution_count": 26,
   "id": "326bb5bc",
   "metadata": {},
   "outputs": [],
   "source": [
    "x_train = []\n",
    "y_train = []\n",
    "for word in data:\n",
    "    x_train.append(to_one_hot(word2int[word[0]], vocab_size))\n",
    "    y_train.append(to_one_hot(word2int[word[1]], vocab_size))"
   ]
  },
  {
   "cell_type": "code",
   "execution_count": 27,
   "id": "de0d2760",
   "metadata": {},
   "outputs": [
    {
     "data": {
      "text/plain": [
       "[array([0., 0., 0., 0., 0., 0., 0., 1.]),\n",
       " array([0., 0., 0., 0., 0., 0., 0., 1.]),\n",
       " array([0., 0., 0., 1., 0., 0., 0., 0.])]"
      ]
     },
     "execution_count": 27,
     "metadata": {},
     "output_type": "execute_result"
    }
   ],
   "source": [
    "x_train[:3]"
   ]
  },
  {
   "cell_type": "code",
   "execution_count": 28,
   "id": "a1a8220b",
   "metadata": {},
   "outputs": [
    {
     "data": {
      "text/plain": [
       "[array([0., 0., 0., 1., 0., 0., 0., 0.]),\n",
       " array([1., 0., 0., 0., 0., 0., 0., 0.]),\n",
       " array([0., 0., 0., 0., 0., 0., 0., 1.])]"
      ]
     },
     "execution_count": 28,
     "metadata": {},
     "output_type": "execute_result"
    }
   ],
   "source": [
    "y_train[:3]"
   ]
  },
  {
   "cell_type": "code",
   "execution_count": 29,
   "id": "ff2a6d89",
   "metadata": {},
   "outputs": [
    {
     "data": {
      "text/plain": [
       "array([[0., 0., 0., 0., 0., 0., 0., 1.],\n",
       "       [0., 0., 0., 0., 0., 0., 0., 1.],\n",
       "       [0., 0., 0., 1., 0., 0., 0., 0.],\n",
       "       [0., 0., 0., 1., 0., 0., 0., 0.],\n",
       "       [0., 0., 0., 1., 0., 0., 0., 0.],\n",
       "       [1., 0., 0., 0., 0., 0., 0., 0.],\n",
       "       [1., 0., 0., 0., 0., 0., 0., 0.],\n",
       "       [1., 0., 0., 0., 0., 0., 0., 0.],\n",
       "       [0., 0., 0., 0., 0., 0., 1., 0.],\n",
       "       [0., 0., 0., 0., 0., 0., 1., 0.],\n",
       "       [0., 0., 0., 0., 0., 1., 0., 0.],\n",
       "       [0., 0., 0., 0., 0., 1., 0., 0.],\n",
       "       [0., 0., 0., 0., 0., 0., 1., 0.],\n",
       "       [0., 0., 0., 0., 0., 0., 1., 0.],\n",
       "       [0., 0., 0., 0., 0., 0., 1., 0.],\n",
       "       [0., 0., 0., 1., 0., 0., 0., 0.],\n",
       "       [0., 0., 0., 1., 0., 0., 0., 0.],\n",
       "       [0., 0., 0., 1., 0., 0., 0., 0.],\n",
       "       [0., 0., 1., 0., 0., 0., 0., 0.],\n",
       "       [0., 0., 1., 0., 0., 0., 0., 0.],\n",
       "       [0., 1., 0., 0., 0., 0., 0., 0.],\n",
       "       [0., 1., 0., 0., 0., 0., 0., 0.],\n",
       "       [0., 0., 0., 1., 0., 0., 0., 0.],\n",
       "       [0., 0., 0., 1., 0., 0., 0., 0.],\n",
       "       [0., 0., 0., 1., 0., 0., 0., 0.],\n",
       "       [1., 0., 0., 0., 0., 0., 0., 0.],\n",
       "       [1., 0., 0., 0., 0., 0., 0., 0.],\n",
       "       [1., 0., 0., 0., 0., 0., 0., 0.],\n",
       "       [1., 0., 0., 0., 0., 0., 0., 0.],\n",
       "       [0., 0., 1., 0., 0., 0., 0., 0.],\n",
       "       [0., 0., 1., 0., 0., 0., 0., 0.],\n",
       "       [0., 0., 1., 0., 0., 0., 0., 0.],\n",
       "       [0., 0., 0., 0., 1., 0., 0., 0.],\n",
       "       [0., 0., 0., 0., 1., 0., 0., 0.]], dtype=float32)"
      ]
     },
     "execution_count": 29,
     "metadata": {},
     "output_type": "execute_result"
    }
   ],
   "source": [
    "x_train = np.asarray(x_train, dtype=np.float32)\n",
    "y_train = np.asarray(y_train, dtype=np.float32)\n",
    "\n",
    "x_train"
   ]
  },
  {
   "cell_type": "code",
   "execution_count": 30,
   "id": "e7fbbe95",
   "metadata": {},
   "outputs": [],
   "source": [
    "class Word2Vec:\n",
    "    def __init__(self, vocab_size=10, embedding_dim=5, optimizer='sgd', epochs=1000, learning_rate=0.01):\n",
    "        self.vocab_size = vocab_size\n",
    "        self.embedding_dim = embedding_dim\n",
    "        if optimizer == 'adam':\n",
    "            self.optimizer = tf.optimizers.Adam(learning_rate=learning_rate)\n",
    "        else:\n",
    "            self.optimizer = tf.optimizers.SGD(learning_rate=learning_rate)\n",
    "        self.epochs = epochs\n",
    "\n",
    "        self.W1 = tf.Variable(tf.random.normal([self.vocab_size, self.embedding_dim]))\n",
    "        self.b1 = tf.Variable(tf.random.normal([self.embedding_dim]))\n",
    "\n",
    "        self.W2 = tf.Variable(tf.random.normal([self.embedding_dim, self.vocab_size]))\n",
    "        self.b2 = tf.Variable(tf.random.normal([self.vocab_size]))\n",
    "\n",
    "    def vectorized(self, word_index):\n",
    "        return (self.W1 + self.b1)[word_index]\n",
    "\n",
    "\n",
    "    def train(self, x_train, y_train):\n",
    "        for i in range(self.epochs):\n",
    "            with tf.GradientTape() as tape:\n",
    "                hidden_layer = tf.add(tf.matmul(x_train, self.W1), self.b1)\n",
    "                output_layer = tf.add(tf.matmul(hidden_layer, self.W2), self.b2)\n",
    "\n",
    "                pred = tf.nn.softmax(output_layer)\n",
    "                loss = tf.reduce_mean(-tf.math.reduce_sum(y_train*tf.math.log(pred), axis=[1]))\n",
    "\n",
    "                grads = tape.gradient(loss, [self.W1, self.b1, self.W2, self.b2])\n",
    "                self.optimizer.apply_gradients(zip(grads, [self.W1, self.b1, self.W2, self.b2]))\n",
    "\n",
    "            if i % 1000 == 0:\n",
    "                print(loss)"
   ]
  },
  {
   "cell_type": "code",
   "execution_count": 31,
   "id": "1e4b31c4",
   "metadata": {},
   "outputs": [
    {
     "name": "stdout",
     "output_type": "stream",
     "text": [
      "tf.Tensor(6.1898546, shape=(), dtype=float32)\n",
      "tf.Tensor(1.3889955, shape=(), dtype=float32)\n",
      "tf.Tensor(1.3795668, shape=(), dtype=float32)\n",
      "tf.Tensor(1.3772283, shape=(), dtype=float32)\n",
      "tf.Tensor(1.3762264, shape=(), dtype=float32)\n",
      "tf.Tensor(1.3756828, shape=(), dtype=float32)\n",
      "tf.Tensor(1.3753462, shape=(), dtype=float32)\n",
      "tf.Tensor(1.375119, shape=(), dtype=float32)\n",
      "tf.Tensor(1.3749561, shape=(), dtype=float32)\n",
      "tf.Tensor(1.3748343, shape=(), dtype=float32)\n"
     ]
    }
   ],
   "source": [
    "w2v = Word2Vec(vocab_size=vocab_size, embedding_dim=5, optimizer='SGD', epochs=10000, learning_rate=0.1)\n",
    "w2v.train(x_train, y_train)"
   ]
  },
  {
   "cell_type": "code",
   "execution_count": 32,
   "id": "f33157c8",
   "metadata": {},
   "outputs": [
    {
     "data": {
      "text/plain": [
       "array([-2.6513228 , -2.119599  , -1.4017407 ,  1.6131532 , -0.99202585],\n",
       "      dtype=float32)"
      ]
     },
     "execution_count": 32,
     "metadata": {},
     "output_type": "execute_result"
    }
   ],
   "source": [
    "w2v.vectorized(word2int['queen']).numpy()"
   ]
  },
  {
   "cell_type": "code",
   "execution_count": 33,
   "id": "1bd689bd",
   "metadata": {},
   "outputs": [
    {
     "data": {
      "text/plain": [
       "array([-0.04989499, -1.8294151 , -1.1168658 ,  1.8642952 ,  2.4349895 ],\n",
       "      dtype=float32)"
      ]
     },
     "execution_count": 33,
     "metadata": {},
     "output_type": "execute_result"
    }
   ],
   "source": [
    "w2v.vectorized(word2int['king']).numpy()"
   ]
  },
  {
   "cell_type": "code",
   "execution_count": 34,
   "id": "8a0afcbe",
   "metadata": {},
   "outputs": [
    {
     "data": {
      "text/plain": [
       "TensorShape([8, 5])"
      ]
     },
     "execution_count": 34,
     "metadata": {},
     "output_type": "execute_result"
    }
   ],
   "source": [
    "vector = w2v.W1 + w2v.b1\n",
    "vector.shape"
   ]
  },
  {
   "cell_type": "code",
   "execution_count": 35,
   "id": "cfde28ca",
   "metadata": {},
   "outputs": [],
   "source": [
    "\n",
    "from sklearn.manifold import TSNE\n",
    "from sklearn import preprocessing\n",
    "\n",
    "model = TSNE(n_components=2, random_state=42)\n",
    "np.set_printoptions(suppress=True)\n",
    "vectors = model.fit_transform(vector)\n",
    "\n",
    "normalizer = preprocessing.Normalizer()\n",
    "vectors = normalizer.fit_transform(vectors,'l2')"
   ]
  },
  {
   "cell_type": "code",
   "execution_count": 36,
   "id": "2ff24a52",
   "metadata": {},
   "outputs": [
    {
     "name": "stdout",
     "output_type": "stream",
     "text": [
      "He [0.45033774 0.89285827]\n",
      "is [-0.24413551  0.9697411 ]\n"
     ]
    },
    {
     "data": {
      "image/png": "[encoded data removed]",
      "text/plain": [
       "<Figure size 432x288 with 1 Axes>"
      ]
     },
     "metadata": {
      "needs_background": "light"
     },
     "output_type": "display_data"
    }
   ],
   "source": [
    "import matplotlib.pyplot as plt\n",
    "\n",
    "fig, ax = plt.subplots()\n",
    "ax.set_xlim(left=-1, right=1)\n",
    "ax.set_ylim(bottom =-1, top=1)\n",
    "for word in words:\n",
    "    print(word, vectors[word2int[word]])\n",
    "    ax.annotate(word, (vectors[word2int[word]][0], vectors[word2int[word]][1]))\n",
    "\n",
    "plt.show()"
   ]
  },
  {
   "cell_type": "code",
   "execution_count": 37,
   "id": "59d33f44",
   "metadata": {},
   "outputs": [],
   "source": [
    "import pandas as pd"
   ]
  },
  {
   "cell_type": "code",
   "execution_count": null,
   "id": "7ee111d6",
   "metadata": {},
   "outputs": [],
   "source": []
  }
 ],
 "metadata": {
  "kernelspec": {
   "display_name": "Python 3",
   "language": "python",
   "name": "python3"
  },
  "language_info": {
   "codemirror_mode": {
    "name": "ipython",
    "version": 3
   },
   "file_extension": ".py",
   "mimetype": "text/x-python",
   "name": "python",
   "nbconvert_exporter": "python",
   "pygments_lexer": "ipython3",
   "version": "3.8.10"
  },
  "toc": {
   "base_numbering": 1,
   "nav_menu": {},
   "number_sections": true,
   "sideBar": true,
   "skip_h1_title": false,
   "title_cell": "Table of Contents",
   "title_sidebar": "Contents",
   "toc_cell": false,
   "toc_position": {},
   "toc_section_display": true,
   "toc_window_display": false
  },
  "varInspector": {
   "cols": {
    "lenName": 16,
    "lenType": 16,
    "lenVar": 40
   },
   "kernels_config": {
    "python": {
     "delete_cmd_postfix": "",
     "delete_cmd_prefix": "del ",
     "library": "var_list.py",
     "varRefreshCmd": "print(var_dic_list())"
    },
    "r": {
     "delete_cmd_postfix": ") ",
     "delete_cmd_prefix": "rm(",
     "library": "var_list.r",
     "varRefreshCmd": "cat(var_dic_list()) "
    }
   },
   "types_to_exclude": [
    "module",
    "function",
    "builtin_function_or_method",
    "instance",
    "_Feature"
   ],
   "window_display": false
  }
 },
 "nbformat": 4,
 "nbformat_minor": 5
}
