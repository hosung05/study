{
 "metadata": {
  "language_info": {
   "codemirror_mode": {
    "name": "ipython",
    "version": 3
   },
   "file_extension": ".py",
   "mimetype": "text/x-python",
   "name": "python",
   "nbconvert_exporter": "python",
   "pygments_lexer": "ipython3",
   "version": "3.8.10"
  },
  "orig_nbformat": 4,
  "kernelspec": {
   "name": "python3",
   "display_name": "Python 3.8.10 64-bit ('nlp': conda)"
  },
  "interpreter": {
   "hash": "73d4940103e11300043f00ad330523cc1a06dd889af7ec99652e23643049fdd9"
  }
 },
 "nbformat": 4,
 "nbformat_minor": 2,
 "cells": [
  {
   "source": [
    "# 실기문제 1"
   ],
   "cell_type": "markdown",
   "metadata": {}
  },
  {
   "cell_type": "code",
   "execution_count": 20,
   "metadata": {},
   "outputs": [],
   "source": [
    "docs = ['우리반은 마라탕을 좋아해',\n",
    "'우리반은 마라탕을 더 이상 먹지않을거야 그래도 마라탕을 좋아해']"
   ]
  },
  {
   "cell_type": "code",
   "execution_count": 24,
   "metadata": {},
   "outputs": [
    {
     "output_type": "execute_result",
     "data": {
      "text/plain": [
       "[['우리반은', '마라탕을', '좋아해'],\n",
       " ['우리반은', '마라탕을', '더', '이상', '먹지않을거야', '그래도', '마라탕을', '좋아해']]"
      ]
     },
     "metadata": {},
     "execution_count": 24
    }
   ],
   "source": [
    "doc_ls = [doc.split() for doc in docs]\n",
    "doc_ls"
   ]
  },
  {
   "cell_type": "code",
   "execution_count": 25,
   "metadata": {},
   "outputs": [
    {
     "output_type": "execute_result",
     "data": {
      "text/plain": [
       "defaultdict(<function __main__.<lambda>()>,\n",
       "            {'우리반은': 0,\n",
       "             '마라탕을': 1,\n",
       "             '좋아해': 2,\n",
       "             '더': 3,\n",
       "             '이상': 4,\n",
       "             '먹지않을거야': 5,\n",
       "             '그래도': 6})"
      ]
     },
     "metadata": {},
     "execution_count": 25
    }
   ],
   "source": [
    "from collections import defaultdict\n",
    "\n",
    "word2id = defaultdict(lambda : len(word2id))\n",
    "[word2id[token] for doc in doc_ls for token in doc]\n",
    "word2id\n"
   ]
  },
  {
   "cell_type": "code",
   "execution_count": 26,
   "metadata": {},
   "outputs": [
    {
     "output_type": "execute_result",
     "data": {
      "text/plain": [
       "array([[1, 1],\n",
       "       [1, 2],\n",
       "       [1, 1],\n",
       "       [0, 1],\n",
       "       [0, 1],\n",
       "       [0, 1],\n",
       "       [0, 1]])"
      ]
     },
     "metadata": {},
     "execution_count": 26
    }
   ],
   "source": [
    "import numpy as np \n",
    "\n",
    "TDM = np.zeros((len(word2id), len(doc_ls)), dtype=int)\n",
    "for i, doc in enumerate(doc_ls):\n",
    "  for token in doc:\n",
    "    TDM[word2id[token], i] += 1\n",
    "TDM"
   ]
  },
  {
   "cell_type": "code",
   "execution_count": 27,
   "metadata": {},
   "outputs": [
    {
     "output_type": "execute_result",
     "data": {
      "text/plain": [
       "        문서0  문서1\n",
       "단어              \n",
       "우리반은      1    1\n",
       "마라탕을      1    2\n",
       "좋아해       1    1\n",
       "더         0    1\n",
       "이상        0    1\n",
       "먹지않을거야    0    1\n",
       "그래도       0    1"
      ],
      "text/html": "<div>\n<style scoped>\n    .dataframe tbody tr th:only-of-type {\n        vertical-align: middle;\n    }\n\n    .dataframe tbody tr th {\n        vertical-align: top;\n    }\n\n    .dataframe thead th {\n        text-align: right;\n    }\n</style>\n<table border=\"1\" class=\"dataframe\">\n  <thead>\n    <tr style=\"text-align: right;\">\n      <th></th>\n      <th>문서0</th>\n      <th>문서1</th>\n    </tr>\n    <tr>\n      <th>단어</th>\n      <th></th>\n      <th></th>\n    </tr>\n  </thead>\n  <tbody>\n    <tr>\n      <th>우리반은</th>\n      <td>1</td>\n      <td>1</td>\n    </tr>\n    <tr>\n      <th>마라탕을</th>\n      <td>1</td>\n      <td>2</td>\n    </tr>\n    <tr>\n      <th>좋아해</th>\n      <td>1</td>\n      <td>1</td>\n    </tr>\n    <tr>\n      <th>더</th>\n      <td>0</td>\n      <td>1</td>\n    </tr>\n    <tr>\n      <th>이상</th>\n      <td>0</td>\n      <td>1</td>\n    </tr>\n    <tr>\n      <th>먹지않을거야</th>\n      <td>0</td>\n      <td>1</td>\n    </tr>\n    <tr>\n      <th>그래도</th>\n      <td>0</td>\n      <td>1</td>\n    </tr>\n  </tbody>\n</table>\n</div>"
     },
     "metadata": {},
     "execution_count": 27
    }
   ],
   "source": [
    "import pandas as pd\n",
    "\n",
    "doc_name = ['문서{}'.format(i) for i in range(len(doc_ls))]\n",
    "sorted_vocab = sorted((value, key) for key, value in word2id.items())\n",
    "vocab = [v[1] for v in sorted_vocab]\n",
    "df_TDM = pd.DataFrame(TDM, columns=doc_name)\n",
    "df_TDM['단어'] = vocab\n",
    "df_TDM.set_index('단어')"
   ]
  },
  {
   "source": [
    "# 실기문제2"
   ],
   "cell_type": "markdown",
   "metadata": {}
  },
  {
   "source": [
    "## DTM 생성"
   ],
   "cell_type": "markdown",
   "metadata": {}
  },
  {
   "cell_type": "code",
   "execution_count": 29,
   "metadata": {},
   "outputs": [
    {
     "output_type": "execute_result",
     "data": {
      "text/plain": [
       "array([[1, 1, 1, 0, 0, 0, 0],\n",
       "       [1, 2, 1, 1, 1, 1, 1]])"
      ]
     },
     "metadata": {},
     "execution_count": 29
    }
   ],
   "source": [
    "import numpy as np \n",
    "\n",
    "DTM = np.zeros((len(doc_ls), len(word2id)), dtype=int)\n",
    "for i, doc in enumerate(doc_ls):\n",
    "  for token in doc:\n",
    "    DTM[i, word2id[token]] += 1\n",
    "DTM"
   ]
  },
  {
   "source": [
    "## TF 계산"
   ],
   "cell_type": "markdown",
   "metadata": {}
  },
  {
   "cell_type": "code",
   "execution_count": 31,
   "metadata": {},
   "outputs": [
    {
     "output_type": "execute_result",
     "data": {
      "text/plain": [
       "array([[0.33333333, 0.33333333, 0.33333333, 0.        , 0.        ,\n",
       "        0.        , 0.        ],\n",
       "       [0.125     , 0.25      , 0.125     , 0.125     , 0.125     ,\n",
       "        0.125     , 0.125     ]])"
      ]
     },
     "metadata": {},
     "execution_count": 31
    }
   ],
   "source": [
    "def computeTF(DTM):\n",
    "  doc_len = len(DTM)\n",
    "  word_len = len(DTM[0])\n",
    "  tf = np.zeros((doc_len, word_len))\n",
    "  for doc_idx in range(doc_len):\n",
    "    for word_idx in range(word_len):\n",
    "      tf[doc_idx, word_idx] = DTM[doc_idx, word_idx]/DTM[doc_idx].sum()\n",
    "\n",
    "  return tf\n",
    "\n",
    "computeTF(DTM)"
   ]
  },
  {
   "source": [
    "## IDF 계산"
   ],
   "cell_type": "markdown",
   "metadata": {}
  },
  {
   "cell_type": "code",
   "execution_count": 37,
   "metadata": {},
   "outputs": [
    {
     "output_type": "execute_result",
     "data": {
      "text/plain": [
       "array([-0.     , -0.     , -0.     ,  0.30103,  0.30103,  0.30103,\n",
       "        0.30103])"
      ]
     },
     "metadata": {},
     "execution_count": 37
    }
   ],
   "source": [
    "import math\n",
    "\n",
    "def computeIDF(DTM):\n",
    "  doc_len = len(DTM)\n",
    "  word_len = len(DTM[0])\n",
    "  idf = np.zeros(word_len)\n",
    "  for i in range(word_len):\n",
    "    idf[i] = -math.log10(np.count_nonzero(DTM[:, i])/doc_len)\n",
    "\n",
    "  return idf\n",
    "      \n",
    "computeIDF(DTM)    "
   ]
  },
  {
   "source": [
    "TF-IDF 계산"
   ],
   "cell_type": "markdown",
   "metadata": {}
  },
  {
   "cell_type": "code",
   "execution_count": 34,
   "metadata": {},
   "outputs": [
    {
     "output_type": "execute_result",
     "data": {
      "text/plain": [
       "array([[-0.        , -0.        , -0.        ,  0.        ,  0.        ,\n",
       "         0.        ,  0.        ],\n",
       "       [-0.        , -0.        , -0.        ,  0.03762875,  0.03762875,\n",
       "         0.03762875,  0.03762875]])"
      ]
     },
     "metadata": {},
     "execution_count": 34
    }
   ],
   "source": [
    "def computeTFIDF(DTM):\n",
    "  tf = computeTF(DTM)\n",
    "  idf = computeIDF(DTM)\n",
    "\n",
    "  # tfidf = tf*idf #broadcasting\n",
    "\n",
    "  tfidf = np.zeros(tf.shape)\n",
    "  for doc_idx in range(tf.shape[0]):\n",
    "    for word_idx in range(tf.shape[1]):\n",
    "      tfidf[doc_idx, word_idx] = tf[doc_idx, word_idx] * idf[word_idx]\n",
    "\n",
    "  return tfidf\n",
    "\n",
    "  \n",
    "computeTFIDF(DTM)"
   ]
  },
  {
   "cell_type": "code",
   "execution_count": 35,
   "metadata": {},
   "outputs": [
    {
     "output_type": "execute_result",
     "data": {
      "text/plain": [
       "   우리반은  마라탕을  좋아해         더        이상    먹지않을거야       그래도\n",
       "0  -0.0  -0.0 -0.0  0.000000  0.000000  0.000000  0.000000\n",
       "1  -0.0  -0.0 -0.0  0.037629  0.037629  0.037629  0.037629"
      ],
      "text/html": "<div>\n<style scoped>\n    .dataframe tbody tr th:only-of-type {\n        vertical-align: middle;\n    }\n\n    .dataframe tbody tr th {\n        vertical-align: top;\n    }\n\n    .dataframe thead th {\n        text-align: right;\n    }\n</style>\n<table border=\"1\" class=\"dataframe\">\n  <thead>\n    <tr style=\"text-align: right;\">\n      <th></th>\n      <th>우리반은</th>\n      <th>마라탕을</th>\n      <th>좋아해</th>\n      <th>더</th>\n      <th>이상</th>\n      <th>먹지않을거야</th>\n      <th>그래도</th>\n    </tr>\n  </thead>\n  <tbody>\n    <tr>\n      <th>0</th>\n      <td>-0.0</td>\n      <td>-0.0</td>\n      <td>-0.0</td>\n      <td>0.000000</td>\n      <td>0.000000</td>\n      <td>0.000000</td>\n      <td>0.000000</td>\n    </tr>\n    <tr>\n      <th>1</th>\n      <td>-0.0</td>\n      <td>-0.0</td>\n      <td>-0.0</td>\n      <td>0.037629</td>\n      <td>0.037629</td>\n      <td>0.037629</td>\n      <td>0.037629</td>\n    </tr>\n  </tbody>\n</table>\n</div>"
     },
     "metadata": {},
     "execution_count": 35
    }
   ],
   "source": [
    "import pandas as pd\n",
    "\n",
    "sorted_vocab = sorted((value, key) for key, value in word2id.items())\n",
    "vocab = [v[1] for v in sorted_vocab]\n",
    "tfdif = computeTFIDF(DTM)\n",
    "pd.DataFrame(tfdif, columns=vocab)"
   ]
  },
  {
   "source": [
    "## 실기문제3 - 자카드유사도"
   ],
   "cell_type": "markdown",
   "metadata": {}
  },
  {
   "cell_type": "code",
   "execution_count": 41,
   "metadata": {},
   "outputs": [
    {
     "output_type": "execute_result",
     "data": {
      "text/plain": [
       "0.4166666666666667"
      ]
     },
     "metadata": {},
     "execution_count": 41
    }
   ],
   "source": [
    "from konlpy.tag import Mecab\n",
    "mecab = Mecab()\n",
    "\n",
    "# 문장간 유사도 측정 (자카드 유사도 사용)\n",
    "def sentence_similarity(sentence1, sentence2):\n",
    "  sentence1 = [token[0] for token in mecab.pos(sentence1) if token[1][0] in ['N', 'V']] \n",
    "  sentence2 = [token[0] for token in mecab.pos(sentence2) if token[1][0] in ['N', 'V']]\n",
    "\n",
    "  union = set(sentence1).union(set(sentence2))\n",
    "  intersection = set(sentence1).intersection(set(sentence2))\n",
    "\n",
    "  return len(intersection)/len(union)\n",
    "  \n",
    "\n",
    "sentence_similarity(docs[0],docs[1])"
   ]
  },
  {
   "source": [
    "## 실기문제 4"
   ],
   "cell_type": "markdown",
   "metadata": {}
  },
  {
   "source": [
    "math.log()\n",
    "\n",
    "math.log()\n",
    "\n",
    "\n",
    "math.log()\n",
    "\n",
    "math.log()\n",
    "\n",
    "\n",
    "math.exp()\n",
    "\n",
    "math.exp()"
   ],
   "cell_type": "markdown",
   "metadata": {}
  },
  {
   "cell_type": "code",
   "execution_count": null,
   "metadata": {},
   "outputs": [],
   "source": []
  }
 ]
}