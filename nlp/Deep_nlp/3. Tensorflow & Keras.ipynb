{
 "cells": [
  {
   "cell_type": "code",
   "execution_count": 14,
   "metadata": {
    "executionInfo": {
     "elapsed": 1683,
     "status": "ok",
     "timestamp": 1626668090297,
     "user": {
      "displayName": "홍경수",
      "photoUrl": "",
      "userId": "10514684854108920109"
     },
     "user_tz": -540
    },
    "id": "i1gz__wUUVY3"
   },
   "outputs": [],
   "source": [
    "import tensorflow as tf\n",
    "import numpy as np\n",
    "import matplotlib.pyplot as plt"
   ]
  },
  {
   "cell_type": "code",
   "execution_count": 15,
   "metadata": {
    "colab": {
     "base_uri": "https://localhost:8080/"
    },
    "executionInfo": {
     "elapsed": 259,
     "status": "ok",
     "timestamp": 1626668589420,
     "user": {
      "displayName": "홍경수",
      "photoUrl": "",
      "userId": "10514684854108920109"
     },
     "user_tz": -540
    },
    "id": "0zf2dr4GNdN0",
    "outputId": "2e9f40c3-e42e-46d5-adbd-51655f990fc0"
   },
   "outputs": [
    {
     "name": "stdout",
     "output_type": "stream",
     "text": [
      "tf.Tensor(2.0, shape=(), dtype=float32)\n",
      "<tf.Variable 'Variable:0' shape=() dtype=float32, numpy=10.0>\n"
     ]
    },
    {
     "data": {
      "text/plain": [
       "<tf.Tensor: shape=(), dtype=float32, numpy=12.0>"
      ]
     },
     "execution_count": 15,
     "metadata": {},
     "output_type": "execute_result"
    }
   ],
   "source": [
    "a = tf.constant(2.0)\n",
    "y = tf.constant(8.0)\n",
    "x = tf.Variable(10.0)\n",
    "\n",
    "print(a)\n",
    "print(x)\n",
    "\n",
    "\n",
    "\n",
    "loss = tf.math.abs(a*x - y)\n",
    "loss"
   ]
  },
  {
   "cell_type": "code",
   "execution_count": null,
   "metadata": {
    "executionInfo": {
     "elapsed": 252,
     "status": "ok",
     "timestamp": 1626670058120,
     "user": {
      "displayName": "홍경수",
      "photoUrl": "",
      "userId": "10514684854108920109"
     },
     "user_tz": -540
    },
    "id": "nBUzyZSjFm3s"
   },
   "outputs": [],
   "source": [
    "\n"
   ]
  },
  {
   "cell_type": "code",
   "execution_count": 16,
   "metadata": {
    "colab": {
     "base_uri": "https://localhost:8080/"
    },
    "executionInfo": {
     "elapsed": 530,
     "status": "ok",
     "timestamp": 1626668272516,
     "user": {
      "displayName": "홍경수",
      "photoUrl": "",
      "userId": "10514684854108920109"
     },
     "user_tz": -540
    },
    "id": "wnSG8Yr2-_Kl",
    "outputId": "3c5e7487-fe2c-4835-a9de-747d3462fa72"
   },
   "outputs": [
    {
     "data": {
      "text/plain": [
       "12.0"
      ]
     },
     "execution_count": 16,
     "metadata": {},
     "output_type": "execute_result"
    }
   ],
   "source": [
    "loss.numpy()"
   ]
  },
  {
   "cell_type": "code",
   "execution_count": 17,
   "metadata": {
    "colab": {
     "base_uri": "https://localhost:8080/"
    },
    "executionInfo": {
     "elapsed": 246,
     "status": "ok",
     "timestamp": 1626668592615,
     "user": {
      "displayName": "홍경수",
      "photoUrl": "",
      "userId": "10514684854108920109"
     },
     "user_tz": -540
    },
    "id": "dbb03OrpO8gB",
    "outputId": "73348fe3-ff80-440d-def0-dbfce35401eb"
   },
   "outputs": [
    {
     "name": "stdout",
     "output_type": "stream",
     "text": [
      "x = 10.0, dx = 2.0\n",
      "x = 8.0, dx = 2.0\n",
      "x = 6.0, dx = 2.0\n",
      "x = 4.0, dx = 0.0\n"
     ]
    }
   ],
   "source": [
    "def train_func():\n",
    "    with tf.GradientTape() as tape:\n",
    "        loss = tf.math.abs(a*x - y)\n",
    "\n",
    "    dx = tape.gradient(loss, x)\n",
    "    print('x = {}, dx = {}'.format(x.numpy(), dx))\n",
    "\n",
    "    x.assign(x - dx) # x = x - dx\n",
    "# Run train_func() UDF repeately\n",
    "for i in range(4):\n",
    "    train_func()"
   ]
  },
  {
   "cell_type": "markdown",
   "metadata": {
    "id": "u8TvQSQhUVY5"
   },
   "source": [
    "GradientTape : https://www.tensorflow.org/guide/autodiff?hl=ko"
   ]
  },
  {
   "cell_type": "code",
   "execution_count": 18,
   "metadata": {
    "colab": {
     "base_uri": "https://localhost:8080/"
    },
    "executionInfo": {
     "elapsed": 18267,
     "status": "ok",
     "timestamp": 1626669772784,
     "user": {
      "displayName": "홍경수",
      "photoUrl": "",
      "userId": "10514684854108920109"
     },
     "user_tz": -540
    },
    "id": "mB1gvjfwUVY6",
    "outputId": "bac5ed60-d4f1-4559-c86d-f07f59e2ddbd"
   },
   "outputs": [
    {
     "name": "stdout",
     "output_type": "stream",
     "text": [
      "epoch = 0, loss = 15.339600563049316\n",
      "epoch = 500, loss = 3.654714584350586\n",
      "epoch = 1000, loss = 2.3881609439849854\n",
      "epoch = 1500, loss = 2.092434883117676\n",
      "epoch = 2000, loss = 1.8692306280136108\n",
      "epoch = 2500, loss = 1.6479506492614746\n",
      "epoch = 3000, loss = 1.426693320274353\n",
      "epoch = 3500, loss = 1.2054353952407837\n",
      "epoch = 4000, loss = 0.9841771721839905\n",
      "epoch = 4500, loss = 0.7629193067550659\n",
      "epoch = 5000, loss = 0.5416615009307861\n",
      "epoch = 5500, loss = 0.3204036056995392\n",
      "epoch = 6000, loss = 0.09914541989564896\n",
      "epoch = 6500, loss = 0.06283137202262878\n",
      "epoch = 7000, loss = 0.06284035742282867\n",
      "epoch = 7500, loss = 0.06293746829032898\n",
      "epoch = 8000, loss = 0.06293746829032898\n",
      "epoch = 8500, loss = 0.06293746829032898\n",
      "epoch = 9000, loss = 0.06293746829032898\n",
      "epoch = 9500, loss = 0.06293746829032898\n",
      "CPU times: user 12.9 s, sys: 103 ms, total: 13 s\n",
      "Wall time: 13 s\n"
     ]
    }
   ],
   "source": [
    "%%time\n",
    "# 데이터 집합 생성\n",
    "x = np.array(np.arange(-5, 5, 0.1))\n",
    "y = 2*x*x + 3*x + 5\n",
    "# 계수 설정 : 초기값\n",
    "lr = 0.001\n",
    "\n",
    "w1 = tf.Variable(1.0)\n",
    "w2 = tf.Variable(1.0)\n",
    "b = tf.Variable(1.0)\n",
    "\n",
    "# 학습\n",
    "histLoss = []\n",
    "for epoch in range(10000):\n",
    "    with tf.GradientTape() as tape:\n",
    "        loss = tf.sqrt(tf.reduce_mean(tf.square(w1*x*x + w2*x + b - y)))\n",
    "\n",
    "    dw1, dw2, db = tape.gradient(loss, [w1, w2, b])\n",
    "\n",
    "    w1.assign_sub(lr*dw1) # w1 = w1 - lr * dw1 => w1 -= lr*dw1\n",
    "    #w1.assign(w1 - lr*dw1)\n",
    "    w2.assign_sub(lr*dw2)\n",
    "    b.assign_sub(lr*db)\n",
    "\n",
    "\n",
    "    histLoss.append(loss)\n",
    "    if epoch % 500 == 0:\n",
    "        print(\"epoch = {}, loss = {}\".format(epoch, loss))\n"
   ]
  },
  {
   "cell_type": "code",
   "execution_count": 19,
   "metadata": {
    "colab": {
     "base_uri": "https://localhost:8080/",
     "height": 401
    },
    "executionInfo": {
     "elapsed": 272,
     "status": "ok",
     "timestamp": 1626669843242,
     "user": {
      "displayName": "홍경수",
      "photoUrl": "",
      "userId": "10514684854108920109"
     },
     "user_tz": -540
    },
    "id": "rjc5HyG8UVY7",
    "outputId": "1ce7fd94-d658-453f-c8f6-570f54123af8"
   },
   "outputs": [
    {
     "name": "stdout",
     "output_type": "stream",
     "text": [
      "\n",
      "추정 결과 :\n",
      "w1 = 2.01\n",
      "w2 = 3.00\n",
      "b = 5.00\n",
      "final loss = 0.0627\n"
     ]
    },
    {
     "data": {
      "image/png": "[encoded data removed]",
      "text/plain": [
       "<Figure size 432x288 with 1 Axes>"
      ]
     },
     "metadata": {
      "needs_background": "light"
     },
     "output_type": "display_data"
    }
   ],
   "source": [
    "print(\"\\n추정 결과 :\")\n",
    "print(\"w1 = %.2f\" % w1.numpy())\n",
    "print(\"w2 = %.2f\" % w2.numpy())\n",
    "print(\"b = %.2f\" % b.numpy())\n",
    "print(\"final loss = %.4f\" % loss.numpy())\n",
    "\n",
    "plt.plot(histLoss, color='red', linewidth=1)\n",
    "plt.title(\"Loss function\")\n",
    "plt.xlabel(\"epoch\")\n",
    "plt.ylabel(\"loss\")\n",
    "plt.show()"
   ]
  },
  {
   "cell_type": "markdown",
   "metadata": {
    "id": "asYJwpHIUVY8"
   },
   "source": [
    "# SGD + Momentum"
   ]
  },
  {
   "cell_type": "code",
   "execution_count": 20,
   "metadata": {
    "executionInfo": {
     "elapsed": 253,
     "status": "ok",
     "timestamp": 1626672158841,
     "user": {
      "displayName": "홍경수",
      "photoUrl": "",
      "userId": "10514684854108920109"
     },
     "user_tz": -540
    },
    "id": "rjLVq8fRUVY8"
   },
   "outputs": [],
   "source": [
    "import tensorflow as tf\n",
    "from tensorflow.keras import optimizers\n",
    "import numpy as np\n",
    "import matplotlib.pyplot as plt"
   ]
  },
  {
   "cell_type": "code",
   "execution_count": 21,
   "metadata": {
    "colab": {
     "base_uri": "https://localhost:8080/"
    },
    "executionInfo": {
     "elapsed": 25779,
     "status": "ok",
     "timestamp": 1626672722472,
     "user": {
      "displayName": "홍경수",
      "photoUrl": "",
      "userId": "10514684854108920109"
     },
     "user_tz": -540
    },
    "id": "OBGgt37YUVY9",
    "outputId": "e96ec02e-0c95-4166-9c89-e89df8cb09f1"
   },
   "outputs": [
    {
     "name": "stdout",
     "output_type": "stream",
     "text": [
      "epoch = 0, loss = 15.3396\n",
      "epoch = 500, loss = 2.0233\n",
      "epoch = 1000, loss = 1.2854\n",
      "epoch = 1500, loss = 0.5479\n",
      "epoch = 2000, loss = 0.0376\n",
      "epoch = 2500, loss = 0.0376\n",
      "epoch = 3000, loss = 0.0376\n",
      "epoch = 3500, loss = 0.0376\n",
      "epoch = 4000, loss = 0.0376\n",
      "epoch = 4500, loss = 0.0376\n",
      "epoch = 5000, loss = 0.0376\n",
      "epoch = 5500, loss = 0.0376\n",
      "epoch = 6000, loss = 0.0376\n",
      "epoch = 6500, loss = 0.0376\n",
      "epoch = 7000, loss = 0.0376\n",
      "epoch = 7500, loss = 0.0376\n",
      "epoch = 8000, loss = 0.0376\n",
      "epoch = 8500, loss = 0.0376\n",
      "epoch = 9000, loss = 0.0376\n",
      "epoch = 9500, loss = 0.0376\n",
      "CPU times: user 16.7 s, sys: 115 ms, total: 16.8 s\n",
      "Wall time: 16.8 s\n"
     ]
    }
   ],
   "source": [
    "%%time\n",
    "# y = 2x^2 + 3x + 5 일 때 x, y 집합을 생성한다\n",
    "x = np.array(np.arange(-5, 5, 0.1))\n",
    "y = 2 * x * x + 3 * x + 5\n",
    "\n",
    "# 그래프를 생성한다.   \n",
    "w1 = tf.Variable(1.0)\n",
    "w2 = tf.Variable(1.0)\n",
    "b = tf.Variable(1.0)\n",
    "var_list = [w1, w2, b]  # variable list\n",
    "\n",
    "# SGD optimizers 기능을 사용하고, Momentum 방법을 사용한다.\n",
    "opt = optimizers.SGD(learning_rate=0.001, momentum=0.7, nesterov=False)\n",
    "\n",
    "histLoss = []\n",
    "for epoch in range(10000):\n",
    "    with tf.GradientTape() as tape:\n",
    "        loss = tf.sqrt(tf.reduce_mean(tf.square(w1*x*x + w2*x + b - y)))\n",
    "\n",
    "    grads = tape.gradient(loss, var_list)\n",
    "    opt.apply_gradients(zip(grads, var_list))\n",
    "\n",
    "    if epoch % 500 == 0:\n",
    "        histLoss.append(loss.numpy())\n",
    "        print(\"epoch = {}, loss = {:.4f}\".format(epoch, loss))\n",
    "\n"
   ]
  },
  {
   "cell_type": "markdown",
   "metadata": {
    "id": "csP6kl58UVY-"
   },
   "source": [
    "## ↳ 전체 걸리는 시간이 더 걸리더라도 수렴하는 속도가 빠르다"
   ]
  },
  {
   "cell_type": "code",
   "execution_count": 22,
   "metadata": {
    "colab": {
     "base_uri": "https://localhost:8080/",
     "height": 401
    },
    "executionInfo": {
     "elapsed": 372,
     "status": "ok",
     "timestamp": 1626672769804,
     "user": {
      "displayName": "홍경수",
      "photoUrl": "",
      "userId": "10514684854108920109"
     },
     "user_tz": -540
    },
    "id": "i4Mjp_p-UVY-",
    "outputId": "5f5b4525-b199-45a4-94e7-b61e8aa58a3b"
   },
   "outputs": [
    {
     "name": "stdout",
     "output_type": "stream",
     "text": [
      "\n",
      "추정 결과 :\n",
      "w1 = 2.00\n",
      "w2 = 3.00\n",
      "b = 5.00\n",
      "final loss = 0.0363\n"
     ]
    },
    {
     "data": {
      "image/png": "[encoded data removed]",
      "text/plain": [
       "<Figure size 432x288 with 1 Axes>"
      ]
     },
     "metadata": {
      "needs_background": "light"
     },
     "output_type": "display_data"
    }
   ],
   "source": [
    "print(\"\\n추정 결과 :\")\n",
    "print(\"w1 = %.2f\" % w1.numpy())\n",
    "print(\"w2 = %.2f\" % w2.numpy())\n",
    "print(\"b = %.2f\" % b.numpy())\n",
    "print(\"final loss = %.4f\" % loss.numpy())\n",
    "\n",
    "plt.plot(histLoss, color='red', linewidth=1)\n",
    "plt.title(\"Loss function\")\n",
    "plt.xlabel(\"epoch\")\n",
    "plt.ylabel(\"loss\")\n",
    "plt.show()"
   ]
  },
  {
   "cell_type": "markdown",
   "metadata": {
    "id": "-x_PdAzRUVY_"
   },
   "source": [
    "# Adam + minimize()"
   ]
  },
  {
   "cell_type": "code",
   "execution_count": 23,
   "metadata": {
    "id": "4oTrs_shUVY_"
   },
   "outputs": [],
   "source": [
    "import tensorflow as tf\n",
    "from tensorflow.keras import optimizers\n",
    "import numpy as np\n",
    "import matplotlib.pyplot as plt\n",
    "\n",
    "# y = 2x^2 + 3x + 5 일 때 x, y 집합을 생성한다\n",
    "x = np.array(np.arange(-5, 5, 0.1))\n",
    "y = 2 * x * x + 3 * x + 5\n",
    "\n",
    "# 그래프를 생성한다.   \n",
    "w1 = tf.Variable(1.0)\n",
    "w2 = tf.Variable(1.0)\n",
    "b = tf.Variable(1.0)"
   ]
  },
  {
   "cell_type": "code",
   "execution_count": 24,
   "metadata": {
    "colab": {
     "base_uri": "https://localhost:8080/"
    },
    "id": "U2LhwOCwUVY_",
    "outputId": "220d1d75-299e-4d4f-8d72-11acaae48f35"
   },
   "outputs": [
    {
     "name": "stdout",
     "output_type": "stream",
     "text": [
      "epoch : 0, loss = 15.220072746276855\n",
      "epoch : 500, loss = 0.010631668381392956\n",
      "epoch : 1000, loss = 0.0074294814839959145\n",
      "epoch : 1500, loss = 0.006808997597545385\n",
      "epoch : 2000, loss = 0.006540192291140556\n",
      "epoch : 2500, loss = 0.0064633674919605255\n",
      "epoch : 3000, loss = 0.006436008960008621\n",
      "epoch : 3500, loss = 0.006399292964488268\n",
      "epoch : 4000, loss = 0.006382778752595186\n",
      "epoch : 4500, loss = 0.006392806302756071\n",
      "epoch : 5000, loss = 0.006400494836270809\n",
      "epoch : 5500, loss = 0.0064014047384262085\n",
      "epoch : 6000, loss = 0.006395809818059206\n",
      "epoch : 6500, loss = 0.006383949890732765\n",
      "epoch : 7000, loss = 0.006384304724633694\n",
      "epoch : 7500, loss = 0.00638403557240963\n",
      "epoch : 8000, loss = 0.006378864403814077\n",
      "epoch : 8500, loss = 0.006378872320055962\n",
      "epoch : 9000, loss = 0.006378864403814077\n",
      "epoch : 9500, loss = 0.006375405006110668\n"
     ]
    }
   ],
   "source": [
    "def loss():\n",
    "    return tf.sqrt(tf.reduce_mean(tf.square(w1*x*x + w2*x + b - y)))\n",
    "\n",
    "opt = optimizers.Adam(learning_rate=0.01)\n",
    "\n",
    "histLoss = []\n",
    "for epoch in range(10000):\n",
    "    opt.minimize(loss, var_list=[w1, w2, b])\n",
    "\n",
    "    histLoss.append(loss())\n",
    "    if epoch % 500 == 0:\n",
    "        print(\"epoch : {}, loss = {}\".format(epoch, histLoss[-1]))"
   ]
  },
  {
   "cell_type": "code",
   "execution_count": 25,
   "metadata": {
    "colab": {
     "base_uri": "https://localhost:8080/",
     "height": 385
    },
    "executionInfo": {
     "elapsed": 6,
     "status": "ok",
     "timestamp": 1626304877677,
     "user": {
      "displayName": "홍경수",
      "photoUrl": "",
      "userId": "10514684854108920109"
     },
     "user_tz": -540
    },
    "id": "34H6xeEYUVY_",
    "outputId": "95421470-d165-4dfb-da5c-8f352fb8fe12"
   },
   "outputs": [
    {
     "name": "stdout",
     "output_type": "stream",
     "text": [
      "\n",
      "추정 결과 :\n",
      "w1 = 2.00\n",
      "w2 = 3.00\n",
      "b = 5.00\n"
     ]
    },
    {
     "data": {
      "image/png": "[encoded data removed]",
      "text/plain": [
       "<Figure size 432x288 with 1 Axes>"
      ]
     },
     "metadata": {
      "needs_background": "light"
     },
     "output_type": "display_data"
    }
   ],
   "source": [
    "print(\"\\n추정 결과 :\")\n",
    "print(\"w1 = %.2f\" % w1.numpy())\n",
    "print(\"w2 = %.2f\" % w2.numpy())\n",
    "print(\"b = %.2f\" % b.numpy())\n",
    "\n",
    "plt.plot(histLoss, color='red', linewidth=1)\n",
    "plt.title(\"Loss function\")\n",
    "plt.xlabel(\"epoch\")\n",
    "plt.ylabel(\"loss\")\n",
    "plt.show()"
   ]
  },
  {
   "cell_type": "markdown",
   "metadata": {
    "id": "7u9hJ8NVUVZA"
   },
   "source": [
    "# Keras \n",
    "## Sequential model"
   ]
  },
  {
   "cell_type": "code",
   "execution_count": 51,
   "metadata": {
    "colab": {
     "base_uri": "https://localhost:8080/",
     "height": 1000
    },
    "executionInfo": {
     "elapsed": 11409,
     "status": "ok",
     "timestamp": 1626304889082,
     "user": {
      "displayName": "홍경수",
      "photoUrl": "",
      "userId": "10514684854108920109"
     },
     "user_tz": -540
    },
    "id": "HuujzaL6UVZA",
    "outputId": "2ccde560-25ad-4421-d925-989861000195"
   },
   "outputs": [
    {
     "name": "stdout",
     "output_type": "stream",
     "text": [
      "<tensorflow.python.keras.engine.sequential.Sequential object at 0x7fad19065460>\n",
      "\n",
      "\n",
      "\n",
      "Train on 100 samples\n",
      "Epoch 1/300\n",
      "100/100 [==============================] - 0s 60us/sample - loss: 79.6707\n",
      "Epoch 2/300\n",
      "100/100 [==============================] - 0s 65us/sample - loss: 23.5308\n",
      "Epoch 3/300\n",
      "100/100 [==============================] - 0s 62us/sample - loss: 11.8399\n",
      "Epoch 4/300\n",
      "100/100 [==============================] - 0s 62us/sample - loss: 7.6242\n",
      "Epoch 5/300\n",
      "100/100 [==============================] - 0s 65us/sample - loss: 5.2684\n",
      "Epoch 6/300\n",
      "100/100 [==============================] - 0s 61us/sample - loss: 3.7434\n",
      "Epoch 7/300\n",
      "100/100 [==============================] - 0s 66us/sample - loss: 2.8033\n",
      "Epoch 8/300\n",
      "100/100 [==============================] - 0s 79us/sample - loss: 2.1693\n",
      "Epoch 9/300\n",
      "100/100 [==============================] - 0s 61us/sample - loss: 1.3450\n",
      "Epoch 10/300\n",
      "100/100 [==============================] - 0s 63us/sample - loss: 0.8960\n",
      "Epoch 11/300\n",
      "100/100 [==============================] - 0s 68us/sample - loss: 0.6317\n",
      "Epoch 12/300\n",
      "100/100 [==============================] - 0s 61us/sample - loss: 0.2454\n",
      "Epoch 13/300\n",
      "100/100 [==============================] - 0s 83us/sample - loss: 0.1414\n",
      "Epoch 14/300\n",
      "100/100 [==============================] - 0s 113us/sample - loss: 0.1296\n",
      "Epoch 15/300\n",
      "100/100 [==============================] - 0s 84us/sample - loss: 0.0080\n",
      "Epoch 16/300\n",
      "100/100 [==============================] - 0s 66us/sample - loss: 0.1897\n",
      "Epoch 17/300\n",
      "100/100 [==============================] - 0s 61us/sample - loss: 0.1243\n",
      "Epoch 18/300\n",
      "100/100 [==============================] - 0s 69us/sample - loss: 0.0013\n",
      "Epoch 19/300\n",
      "100/100 [==============================] - 0s 61us/sample - loss: 0.1900\n",
      "Epoch 20/300\n",
      "100/100 [==============================] - 0s 67us/sample - loss: 0.0509\n",
      "Epoch 21/300\n",
      "100/100 [==============================] - 0s 70us/sample - loss: 6.9770e-04\n",
      "Epoch 22/300\n",
      "100/100 [==============================] - 0s 61us/sample - loss: 0.1364\n",
      "Epoch 23/300\n",
      "100/100 [==============================] - 0s 64us/sample - loss: 0.0158\n",
      "Epoch 24/300\n",
      "100/100 [==============================] - 0s 71us/sample - loss: 0.2001\n",
      "Epoch 25/300\n",
      "100/100 [==============================] - 0s 55us/sample - loss: 8.7702e-04\n",
      "Epoch 26/300\n",
      "100/100 [==============================] - 0s 68us/sample - loss: 0.1252\n",
      "Epoch 27/300\n",
      "100/100 [==============================] - 0s 67us/sample - loss: 0.1630\n",
      "Epoch 28/300\n",
      "100/100 [==============================] - 0s 67us/sample - loss: 0.0071\n",
      "Epoch 29/300\n",
      "100/100 [==============================] - 0s 63us/sample - loss: 0.1362\n",
      "Epoch 30/300\n",
      "100/100 [==============================] - 0s 56us/sample - loss: 0.0400\n",
      "Epoch 31/300\n",
      "100/100 [==============================] - 0s 59us/sample - loss: 0.1687\n",
      "Epoch 32/300\n",
      "100/100 [==============================] - 0s 64us/sample - loss: 1.9868e-04\n",
      "Epoch 33/300\n",
      "100/100 [==============================] - 0s 59us/sample - loss: 0.2316\n",
      "Epoch 34/300\n",
      "100/100 [==============================] - 0s 65us/sample - loss: 0.0055\n",
      "Epoch 35/300\n",
      "100/100 [==============================] - 0s 57us/sample - loss: 0.1009\n",
      "Epoch 36/300\n",
      "100/100 [==============================] - 0s 64us/sample - loss: 0.0775\n",
      "Epoch 37/300\n",
      "100/100 [==============================] - 0s 68us/sample - loss: 0.0716\n",
      "Epoch 38/300\n",
      "100/100 [==============================] - 0s 59us/sample - loss: 0.1646\n",
      "Epoch 39/300\n",
      "100/100 [==============================] - 0s 68us/sample - loss: 0.0021\n",
      "Epoch 40/300\n",
      "100/100 [==============================] - 0s 62us/sample - loss: 0.1168\n",
      "Epoch 41/300\n",
      "100/100 [==============================] - 0s 57us/sample - loss: 0.1157\n",
      "Epoch 42/300\n",
      "100/100 [==============================] - 0s 64us/sample - loss: 0.0582\n",
      "Epoch 43/300\n",
      "100/100 [==============================] - 0s 63us/sample - loss: 0.0446\n",
      "Epoch 44/300\n",
      "100/100 [==============================] - 0s 66us/sample - loss: 0.0943\n",
      "Epoch 45/300\n",
      "100/100 [==============================] - 0s 62us/sample - loss: 0.1857\n",
      "Epoch 46/300\n",
      "100/100 [==============================] - 0s 57us/sample - loss: 4.7266e-05\n",
      "Epoch 47/300\n",
      "100/100 [==============================] - 0s 85us/sample - loss: 0.1942\n",
      "Epoch 48/300\n",
      "100/100 [==============================] - 0s 61us/sample - loss: 1.5335e-04\n",
      "Epoch 49/300\n",
      "100/100 [==============================] - 0s 59us/sample - loss: 0.0017\n",
      "Epoch 50/300\n",
      "100/100 [==============================] - 0s 60us/sample - loss: 0.1437\n",
      "Epoch 51/300\n",
      "100/100 [==============================] - 0s 58us/sample - loss: 0.1964\n",
      "Epoch 52/300\n",
      "100/100 [==============================] - 0s 60us/sample - loss: 0.0307\n",
      "Epoch 53/300\n",
      "100/100 [==============================] - 0s 66us/sample - loss: 0.0969\n",
      "Epoch 54/300\n",
      "100/100 [==============================] - 0s 62us/sample - loss: 0.0033\n",
      "Epoch 55/300\n",
      "100/100 [==============================] - 0s 63us/sample - loss: 0.2088\n",
      "Epoch 56/300\n",
      "100/100 [==============================] - 0s 56us/sample - loss: 3.3861e-04\n",
      "Epoch 57/300\n",
      "100/100 [==============================] - 0s 61us/sample - loss: 0.1653\n",
      "Epoch 58/300\n",
      "100/100 [==============================] - 0s 69us/sample - loss: 0.0142\n",
      "Epoch 59/300\n",
      "100/100 [==============================] - 0s 61us/sample - loss: 0.0594\n",
      "Epoch 60/300\n",
      "100/100 [==============================] - 0s 57us/sample - loss: 0.1659\n",
      "Epoch 61/300\n",
      "100/100 [==============================] - 0s 75us/sample - loss: 0.0012\n",
      "Epoch 62/300\n",
      "100/100 [==============================] - 0s 65us/sample - loss: 0.2590\n",
      "Epoch 63/300\n",
      "100/100 [==============================] - 0s 59us/sample - loss: 7.1400e-04\n",
      "Epoch 64/300\n",
      "100/100 [==============================] - 0s 61us/sample - loss: 2.5620e-04\n",
      "Epoch 65/300\n",
      "100/100 [==============================] - 0s 68us/sample - loss: 0.3252\n",
      "Epoch 66/300\n",
      "100/100 [==============================] - 0s 56us/sample - loss: 0.0018\n",
      "Epoch 67/300\n",
      "100/100 [==============================] - 0s 58us/sample - loss: 1.2930e-04\n",
      "Epoch 68/300\n",
      "100/100 [==============================] - 0s 56us/sample - loss: 0.2794\n",
      "Epoch 69/300\n",
      "100/100 [==============================] - 0s 58us/sample - loss: 1.9965e-04\n",
      "Epoch 70/300\n",
      "100/100 [==============================] - 0s 55us/sample - loss: 6.3666e-04\n",
      "Epoch 71/300\n",
      "100/100 [==============================] - 0s 59us/sample - loss: 0.2620\n",
      "Epoch 72/300\n",
      "100/100 [==============================] - 0s 63us/sample - loss: 0.0040\n",
      "Epoch 73/300\n",
      "100/100 [==============================] - 0s 61us/sample - loss: 0.1475\n",
      "Epoch 74/300\n",
      "100/100 [==============================] - 0s 48us/sample - loss: 0.0820\n",
      "Epoch 75/300\n",
      "100/100 [==============================] - 0s 54us/sample - loss: 0.0023\n",
      "Epoch 76/300\n",
      "100/100 [==============================] - 0s 62us/sample - loss: 0.1627\n",
      "Epoch 77/300\n",
      "100/100 [==============================] - 0s 47us/sample - loss: 0.0857\n",
      "Epoch 78/300\n",
      "100/100 [==============================] - 0s 52us/sample - loss: 0.0107\n",
      "Epoch 79/300\n",
      "100/100 [==============================] - 0s 45us/sample - loss: 0.2364\n",
      "Epoch 80/300\n",
      "100/100 [==============================] - 0s 48us/sample - loss: 2.3332e-04\n",
      "Epoch 81/300\n",
      "100/100 [==============================] - 0s 42us/sample - loss: 0.0263\n",
      "Epoch 82/300\n",
      "100/100 [==============================] - 0s 60us/sample - loss: 0.3099\n",
      "Epoch 83/300\n",
      "100/100 [==============================] - 0s 51us/sample - loss: 2.8483e-04\n",
      "Epoch 84/300\n",
      "100/100 [==============================] - 0s 44us/sample - loss: 0.0058\n",
      "Epoch 85/300\n",
      "100/100 [==============================] - 0s 53us/sample - loss: 0.1430\n",
      "Epoch 86/300\n",
      "100/100 [==============================] - 0s 48us/sample - loss: 0.0327\n",
      "Epoch 87/300\n",
      "100/100 [==============================] - 0s 47us/sample - loss: 0.1285\n",
      "Epoch 88/300\n",
      "100/100 [==============================] - 0s 62us/sample - loss: 0.0515\n",
      "Epoch 89/300\n",
      "100/100 [==============================] - 0s 51us/sample - loss: 0.1430\n",
      "Epoch 90/300\n",
      "100/100 [==============================] - 0s 65us/sample - loss: 0.0105\n",
      "Epoch 91/300\n",
      "100/100 [==============================] - 0s 47us/sample - loss: 0.2101\n",
      "Epoch 92/300\n",
      "100/100 [==============================] - 0s 52us/sample - loss: 1.9891e-04\n",
      "Epoch 93/300\n",
      "100/100 [==============================] - 0s 49us/sample - loss: 0.2031\n",
      "Epoch 94/300\n"
     ]
    },
    {
     "name": "stdout",
     "output_type": "stream",
     "text": [
      "100/100 [==============================] - 0s 50us/sample - loss: 0.0023\n",
      "Epoch 95/300\n",
      "100/100 [==============================] - 0s 55us/sample - loss: 0.1335\n",
      "Epoch 96/300\n",
      "100/100 [==============================] - 0s 48us/sample - loss: 0.2004\n",
      "Epoch 97/300\n",
      "100/100 [==============================] - 0s 44us/sample - loss: 8.5005e-06\n",
      "Epoch 98/300\n",
      "100/100 [==============================] - 0s 50us/sample - loss: 0.1362\n",
      "Epoch 99/300\n",
      "100/100 [==============================] - 0s 51us/sample - loss: 8.7850e-05\n",
      "Epoch 100/300\n",
      "100/100 [==============================] - 0s 44us/sample - loss: 0.2552\n",
      "Epoch 101/300\n",
      "100/100 [==============================] - 0s 47us/sample - loss: 0.0046\n",
      "Epoch 102/300\n",
      "100/100 [==============================] - 0s 46us/sample - loss: 0.0206\n",
      "Epoch 103/300\n",
      "100/100 [==============================] - 0s 54us/sample - loss: 0.1645\n",
      "Epoch 104/300\n",
      "100/100 [==============================] - 0s 43us/sample - loss: 0.0195\n",
      "Epoch 105/300\n",
      "100/100 [==============================] - 0s 57us/sample - loss: 0.1487\n",
      "Epoch 106/300\n",
      "100/100 [==============================] - 0s 52us/sample - loss: 0.0039\n",
      "Epoch 107/300\n",
      "100/100 [==============================] - 0s 57us/sample - loss: 0.1601\n",
      "Epoch 108/300\n",
      "100/100 [==============================] - 0s 47us/sample - loss: 0.0137\n",
      "Epoch 109/300\n",
      "100/100 [==============================] - 0s 55us/sample - loss: 0.1376\n",
      "Epoch 110/300\n",
      "100/100 [==============================] - 0s 54us/sample - loss: 0.0334\n",
      "Epoch 111/300\n",
      "100/100 [==============================] - 0s 69us/sample - loss: 0.1930\n",
      "Epoch 112/300\n",
      "100/100 [==============================] - 0s 74us/sample - loss: 5.0559e-04\n",
      "Epoch 113/300\n",
      "100/100 [==============================] - 0s 59us/sample - loss: 0.2049\n",
      "Epoch 114/300\n",
      "100/100 [==============================] - 0s 58us/sample - loss: 0.0012\n",
      "Epoch 115/300\n",
      "100/100 [==============================] - 0s 54us/sample - loss: 0.1592\n",
      "Epoch 116/300\n",
      "100/100 [==============================] - 0s 65us/sample - loss: 0.0164\n",
      "Epoch 117/300\n",
      "100/100 [==============================] - 0s 60us/sample - loss: 0.2021\n",
      "Epoch 118/300\n",
      "100/100 [==============================] - 0s 61us/sample - loss: 3.8766e-06\n",
      "Epoch 119/300\n",
      "100/100 [==============================] - 0s 65us/sample - loss: 0.0148\n",
      "Epoch 120/300\n",
      "100/100 [==============================] - 0s 66us/sample - loss: 0.1812\n",
      "Epoch 121/300\n",
      "100/100 [==============================] - 0s 61us/sample - loss: 0.0018\n",
      "Epoch 122/300\n",
      "100/100 [==============================] - 0s 61us/sample - loss: 0.2891\n",
      "Epoch 123/300\n",
      "100/100 [==============================] - 0s 57us/sample - loss: 7.3978e-05\n",
      "Epoch 124/300\n",
      "100/100 [==============================] - 0s 66us/sample - loss: 0.0045\n",
      "Epoch 125/300\n",
      "100/100 [==============================] - 0s 65us/sample - loss: 0.1851\n",
      "Epoch 126/300\n",
      "100/100 [==============================] - 0s 59us/sample - loss: 0.0013\n",
      "Epoch 127/300\n",
      "100/100 [==============================] - 0s 69us/sample - loss: 0.1774\n",
      "Epoch 128/300\n",
      "100/100 [==============================] - 0s 56us/sample - loss: 0.0681\n",
      "Epoch 129/300\n",
      "100/100 [==============================] - 0s 62us/sample - loss: 0.1238\n",
      "Epoch 130/300\n",
      "100/100 [==============================] - 0s 62us/sample - loss: 0.0054\n",
      "Epoch 131/300\n",
      "100/100 [==============================] - 0s 60us/sample - loss: 0.1550\n",
      "Epoch 132/300\n",
      "100/100 [==============================] - 0s 51us/sample - loss: 0.0429\n",
      "Epoch 133/300\n",
      "100/100 [==============================] - 0s 63us/sample - loss: 0.2481\n",
      "Epoch 134/300\n",
      "100/100 [==============================] - 0s 57us/sample - loss: 1.5324e-06\n",
      "Epoch 135/300\n",
      "100/100 [==============================] - 0s 56us/sample - loss: 3.1920e-04\n",
      "Epoch 136/300\n",
      "100/100 [==============================] - 0s 60us/sample - loss: 0.2245\n",
      "Epoch 137/300\n",
      "100/100 [==============================] - 0s 61us/sample - loss: 0.0085\n",
      "Epoch 138/300\n",
      "100/100 [==============================] - 0s 57us/sample - loss: 0.1415\n",
      "Epoch 139/300\n",
      "100/100 [==============================] - 0s 59us/sample - loss: 0.0085\n",
      "Epoch 140/300\n",
      "100/100 [==============================] - 0s 55us/sample - loss: 0.1809\n",
      "Epoch 141/300\n",
      "100/100 [==============================] - 0s 59us/sample - loss: 0.0240\n",
      "Epoch 142/300\n",
      "100/100 [==============================] - 0s 56us/sample - loss: 0.1679\n",
      "Epoch 143/300\n",
      "100/100 [==============================] - 0s 64us/sample - loss: 0.0020\n",
      "Epoch 144/300\n",
      "100/100 [==============================] - 0s 52us/sample - loss: 0.1094\n",
      "Epoch 145/300\n",
      "100/100 [==============================] - 0s 66us/sample - loss: 0.1440\n",
      "Epoch 146/300\n",
      "100/100 [==============================] - 0s 67us/sample - loss: 0.0129\n",
      "Epoch 147/300\n",
      "100/100 [==============================] - 0s 59us/sample - loss: 0.0877\n",
      "Epoch 148/300\n",
      "100/100 [==============================] - 0s 61us/sample - loss: 0.0699\n",
      "Epoch 149/300\n",
      "100/100 [==============================] - 0s 58us/sample - loss: 0.1590\n",
      "Epoch 150/300\n",
      "100/100 [==============================] - 0s 53us/sample - loss: 0.0249\n",
      "Epoch 151/300\n",
      "100/100 [==============================] - 0s 59us/sample - loss: 0.1465\n",
      "Epoch 152/300\n",
      "100/100 [==============================] - 0s 62us/sample - loss: 0.0228\n",
      "Epoch 153/300\n",
      "100/100 [==============================] - 0s 60us/sample - loss: 0.1537\n",
      "Epoch 154/300\n",
      "100/100 [==============================] - 0s 55us/sample - loss: 0.0405\n",
      "Epoch 155/300\n",
      "100/100 [==============================] - 0s 53us/sample - loss: 0.1758\n",
      "Epoch 156/300\n",
      "100/100 [==============================] - 0s 53us/sample - loss: 0.0049\n",
      "Epoch 157/300\n",
      "100/100 [==============================] - 0s 58us/sample - loss: 0.2040\n",
      "Epoch 158/300\n",
      "100/100 [==============================] - 0s 46us/sample - loss: 0.0016\n",
      "Epoch 159/300\n",
      "100/100 [==============================] - 0s 54us/sample - loss: 0.2086\n",
      "Epoch 160/300\n",
      "100/100 [==============================] - 0s 48us/sample - loss: 0.0381\n",
      "Epoch 161/300\n",
      "100/100 [==============================] - 0s 49us/sample - loss: 1.5583e-04\n",
      "Epoch 162/300\n",
      "100/100 [==============================] - 0s 49us/sample - loss: 0.1483\n",
      "Epoch 163/300\n",
      "100/100 [==============================] - 0s 51us/sample - loss: 0.1384\n",
      "Epoch 164/300\n",
      "100/100 [==============================] - 0s 46us/sample - loss: 0.0849\n",
      "Epoch 165/300\n",
      "100/100 [==============================] - 0s 41us/sample - loss: 0.0012\n",
      "Epoch 166/300\n",
      "100/100 [==============================] - 0s 50us/sample - loss: 0.1424\n",
      "Epoch 167/300\n",
      "100/100 [==============================] - 0s 52us/sample - loss: 0.1471\n",
      "Epoch 168/300\n",
      "100/100 [==============================] - 0s 54us/sample - loss: 0.0022\n",
      "Epoch 169/300\n",
      "100/100 [==============================] - 0s 50us/sample - loss: 0.0323\n",
      "Epoch 170/300\n",
      "100/100 [==============================] - 0s 50us/sample - loss: 0.2132\n",
      "Epoch 171/300\n",
      "100/100 [==============================] - 0s 49us/sample - loss: 2.2672e-05\n",
      "Epoch 172/300\n",
      "100/100 [==============================] - 0s 50us/sample - loss: 1.9183e-05\n",
      "Epoch 173/300\n",
      "100/100 [==============================] - 0s 45us/sample - loss: 0.2703\n",
      "Epoch 174/300\n",
      "100/100 [==============================] - 0s 53us/sample - loss: 0.0355\n",
      "Epoch 175/300\n",
      "100/100 [==============================] - 0s 50us/sample - loss: 0.0063\n",
      "Epoch 176/300\n",
      "100/100 [==============================] - 0s 43us/sample - loss: 0.1712\n",
      "Epoch 177/300\n",
      "100/100 [==============================] - 0s 47us/sample - loss: 0.0044\n",
      "Epoch 178/300\n",
      "100/100 [==============================] - 0s 40us/sample - loss: 0.2077\n",
      "Epoch 179/300\n",
      "100/100 [==============================] - 0s 47us/sample - loss: 0.0011\n",
      "Epoch 180/300\n",
      "100/100 [==============================] - 0s 47us/sample - loss: 0.0727\n",
      "Epoch 181/300\n",
      "100/100 [==============================] - 0s 49us/sample - loss: 0.1880\n",
      "Epoch 182/300\n",
      "100/100 [==============================] - 0s 45us/sample - loss: 4.7062e-05\n",
      "Epoch 183/300\n",
      "100/100 [==============================] - 0s 51us/sample - loss: 0.1972\n",
      "Epoch 184/300\n",
      "100/100 [==============================] - 0s 52us/sample - loss: 5.6713e-04\n",
      "Epoch 185/300\n",
      "100/100 [==============================] - 0s 47us/sample - loss: 0.1070\n",
      "Epoch 186/300\n",
      "100/100 [==============================] - 0s 50us/sample - loss: 0.1989\n",
      "Epoch 187/300\n"
     ]
    },
    {
     "name": "stdout",
     "output_type": "stream",
     "text": [
      "100/100 [==============================] - 0s 56us/sample - loss: 1.9420e-05\n",
      "Epoch 188/300\n",
      "100/100 [==============================] - 0s 54us/sample - loss: 5.0309e-04\n",
      "Epoch 189/300\n",
      "100/100 [==============================] - 0s 41us/sample - loss: 0.2748\n",
      "Epoch 190/300\n",
      "100/100 [==============================] - 0s 52us/sample - loss: 1.3020e-04\n",
      "Epoch 191/300\n",
      "100/100 [==============================] - 0s 45us/sample - loss: 9.9882e-04\n",
      "Epoch 192/300\n",
      "100/100 [==============================] - 0s 48us/sample - loss: 0.1313\n",
      "Epoch 193/300\n",
      "100/100 [==============================] - 0s 44us/sample - loss: 0.3097\n",
      "Epoch 194/300\n",
      "100/100 [==============================] - 0s 55us/sample - loss: 5.1772e-04\n",
      "Epoch 195/300\n",
      "100/100 [==============================] - 0s 52us/sample - loss: 0.0038\n",
      "Epoch 196/300\n",
      "100/100 [==============================] - 0s 44us/sample - loss: 0.1532\n",
      "Epoch 197/300\n",
      "100/100 [==============================] - 0s 54us/sample - loss: 0.0669\n",
      "Epoch 198/300\n",
      "100/100 [==============================] - 0s 43us/sample - loss: 0.1954\n",
      "Epoch 199/300\n",
      "100/100 [==============================] - 0s 55us/sample - loss: 0.0114\n",
      "Epoch 200/300\n",
      "100/100 [==============================] - 0s 71us/sample - loss: 0.0303\n",
      "Epoch 201/300\n",
      "100/100 [==============================] - 0s 62us/sample - loss: 0.1457\n",
      "Epoch 202/300\n",
      "100/100 [==============================] - 0s 61us/sample - loss: 0.1127\n",
      "Epoch 203/300\n",
      "100/100 [==============================] - 0s 63us/sample - loss: 0.0583\n",
      "Epoch 204/300\n",
      "100/100 [==============================] - 0s 67us/sample - loss: 0.1825\n",
      "Epoch 205/300\n",
      "100/100 [==============================] - 0s 54us/sample - loss: 0.0210\n",
      "Epoch 206/300\n",
      "100/100 [==============================] - 0s 57us/sample - loss: 0.1501\n",
      "Epoch 207/300\n",
      "100/100 [==============================] - 0s 55us/sample - loss: 3.2712e-04\n",
      "Epoch 208/300\n",
      "100/100 [==============================] - 0s 62us/sample - loss: 0.2256\n",
      "Epoch 209/300\n",
      "100/100 [==============================] - 0s 62us/sample - loss: 0.0748\n",
      "Epoch 210/300\n",
      "100/100 [==============================] - 0s 61us/sample - loss: 4.6078e-04\n",
      "Epoch 211/300\n",
      "100/100 [==============================] - 0s 59us/sample - loss: 0.1698\n",
      "Epoch 212/300\n",
      "100/100 [==============================] - 0s 62us/sample - loss: 0.0687\n",
      "Epoch 213/300\n",
      "100/100 [==============================] - 0s 52us/sample - loss: 0.0121\n",
      "Epoch 214/300\n",
      "100/100 [==============================] - 0s 57us/sample - loss: 0.1276\n",
      "Epoch 215/300\n",
      "100/100 [==============================] - 0s 58us/sample - loss: 0.0455\n",
      "Epoch 216/300\n",
      "100/100 [==============================] - 0s 68us/sample - loss: 0.2615\n",
      "Epoch 217/300\n",
      "100/100 [==============================] - 0s 59us/sample - loss: 0.0065\n",
      "Epoch 218/300\n",
      "100/100 [==============================] - 0s 62us/sample - loss: 2.4111e-05\n",
      "Epoch 219/300\n",
      "100/100 [==============================] - 0s 58us/sample - loss: 0.1852\n",
      "Epoch 220/300\n",
      "100/100 [==============================] - 0s 62us/sample - loss: 0.0181\n",
      "Epoch 221/300\n",
      "100/100 [==============================] - 0s 64us/sample - loss: 0.0895\n",
      "Epoch 222/300\n",
      "100/100 [==============================] - 0s 63us/sample - loss: 0.1566\n",
      "Epoch 223/300\n",
      "100/100 [==============================] - 0s 62us/sample - loss: 1.9622e-04\n",
      "Epoch 224/300\n",
      "100/100 [==============================] - 0s 65us/sample - loss: 0.1489\n",
      "Epoch 225/300\n",
      "100/100 [==============================] - 0s 66us/sample - loss: 0.1340\n",
      "Epoch 226/300\n",
      "100/100 [==============================] - 0s 61us/sample - loss: 5.1445e-04\n",
      "Epoch 227/300\n",
      "100/100 [==============================] - 0s 56us/sample - loss: 0.1217\n",
      "Epoch 228/300\n",
      "100/100 [==============================] - 0s 58us/sample - loss: 0.1690\n",
      "Epoch 229/300\n",
      "100/100 [==============================] - 0s 57us/sample - loss: 5.0140e-04\n",
      "Epoch 230/300\n",
      "100/100 [==============================] - 0s 58us/sample - loss: 0.0272\n",
      "Epoch 231/300\n",
      "100/100 [==============================] - 0s 54us/sample - loss: 0.1789\n",
      "Epoch 232/300\n",
      "100/100 [==============================] - 0s 54us/sample - loss: 0.0505\n",
      "Epoch 233/300\n",
      "100/100 [==============================] - 0s 58us/sample - loss: 0.1107\n",
      "Epoch 234/300\n",
      "100/100 [==============================] - 0s 61us/sample - loss: 0.1649\n",
      "Epoch 235/300\n",
      "100/100 [==============================] - 0s 62us/sample - loss: 3.3591e-04\n",
      "Epoch 236/300\n",
      "100/100 [==============================] - 0s 58us/sample - loss: 0.1347\n",
      "Epoch 237/300\n",
      "100/100 [==============================] - 0s 56us/sample - loss: 0.0943\n",
      "Epoch 238/300\n",
      "100/100 [==============================] - 0s 75us/sample - loss: 0.0025\n",
      "Epoch 239/300\n",
      "100/100 [==============================] - 0s 62us/sample - loss: 0.2123\n",
      "Epoch 240/300\n",
      "100/100 [==============================] - 0s 58us/sample - loss: 5.7774e-04\n",
      "Epoch 241/300\n",
      "100/100 [==============================] - 0s 61us/sample - loss: 0.1832\n",
      "Epoch 242/300\n",
      "100/100 [==============================] - 0s 56us/sample - loss: 0.0026\n",
      "Epoch 243/300\n",
      "100/100 [==============================] - 0s 51us/sample - loss: 0.1298\n",
      "Epoch 244/300\n",
      "100/100 [==============================] - 0s 68us/sample - loss: 0.0717\n",
      "Epoch 245/300\n",
      "100/100 [==============================] - 0s 60us/sample - loss: 0.1996\n",
      "Epoch 246/300\n",
      "100/100 [==============================] - 0s 53us/sample - loss: 0.0011\n",
      "Epoch 247/300\n",
      "100/100 [==============================] - 0s 63us/sample - loss: 0.0677\n",
      "Epoch 248/300\n",
      "100/100 [==============================] - 0s 55us/sample - loss: 0.2098\n",
      "Epoch 249/300\n",
      "100/100 [==============================] - 0s 63us/sample - loss: 2.5521e-04\n",
      "Epoch 250/300\n",
      "100/100 [==============================] - 0s 63us/sample - loss: 0.1308\n",
      "Epoch 251/300\n",
      "100/100 [==============================] - 0s 58us/sample - loss: 0.0829\n",
      "Epoch 252/300\n",
      "100/100 [==============================] - 0s 58us/sample - loss: 9.2726e-04\n",
      "Epoch 253/300\n",
      "100/100 [==============================] - 0s 59us/sample - loss: 0.1931\n",
      "Epoch 254/300\n",
      "100/100 [==============================] - 0s 56us/sample - loss: 0.0323\n",
      "Epoch 255/300\n",
      "100/100 [==============================] - 0s 64us/sample - loss: 0.1188\n",
      "Epoch 256/300\n",
      "100/100 [==============================] - 0s 62us/sample - loss: 0.0821\n",
      "Epoch 257/300\n",
      "100/100 [==============================] - 0s 59us/sample - loss: 0.0245\n",
      "Epoch 258/300\n",
      "100/100 [==============================] - 0s 60us/sample - loss: 0.0932\n",
      "Epoch 259/300\n",
      "100/100 [==============================] - 0s 53us/sample - loss: 0.0856\n",
      "Epoch 260/300\n",
      "100/100 [==============================] - 0s 61us/sample - loss: 0.1783\n",
      "Epoch 261/300\n",
      "100/100 [==============================] - 0s 67us/sample - loss: 5.7631e-04\n",
      "Epoch 262/300\n",
      "100/100 [==============================] - 0s 58us/sample - loss: 0.2268\n",
      "Epoch 263/300\n",
      "100/100 [==============================] - 0s 60us/sample - loss: 3.7146e-04\n",
      "Epoch 264/300\n",
      "100/100 [==============================] - 0s 58us/sample - loss: 0.0679\n",
      "Epoch 265/300\n",
      "100/100 [==============================] - 0s 60us/sample - loss: 0.2490\n",
      "Epoch 266/300\n",
      "100/100 [==============================] - 0s 54us/sample - loss: 7.8477e-04\n",
      "Epoch 267/300\n",
      "100/100 [==============================] - 0s 63us/sample - loss: 0.1126\n",
      "Epoch 268/300\n",
      "100/100 [==============================] - 0s 58us/sample - loss: 0.1045\n",
      "Epoch 269/300\n",
      "100/100 [==============================] - 0s 65us/sample - loss: 0.0393\n",
      "Epoch 270/300\n",
      "100/100 [==============================] - 0s 60us/sample - loss: 0.2507\n",
      "Epoch 271/300\n",
      "100/100 [==============================] - 0s 76us/sample - loss: 5.7938e-05\n",
      "Epoch 272/300\n",
      "100/100 [==============================] - 0s 56us/sample - loss: 0.1355\n",
      "Epoch 273/300\n",
      "100/100 [==============================] - 0s 59us/sample - loss: 0.0559\n",
      "Epoch 274/300\n",
      "100/100 [==============================] - 0s 51us/sample - loss: 0.1110\n",
      "Epoch 275/300\n",
      "100/100 [==============================] - 0s 54us/sample - loss: 0.1315\n",
      "Epoch 276/300\n",
      "100/100 [==============================] - 0s 62us/sample - loss: 0.1208\n",
      "Epoch 277/300\n",
      "100/100 [==============================] - 0s 52us/sample - loss: 0.0333\n",
      "Epoch 278/300\n",
      "100/100 [==============================] - 0s 52us/sample - loss: 0.1408\n",
      "Epoch 279/300\n",
      "100/100 [==============================] - 0s 45us/sample - loss: 0.0040\n",
      "Epoch 280/300\n"
     ]
    },
    {
     "name": "stdout",
     "output_type": "stream",
     "text": [
      "100/100 [==============================] - 0s 50us/sample - loss: 0.1383\n",
      "Epoch 281/300\n",
      "100/100 [==============================] - 0s 45us/sample - loss: 0.1258\n",
      "Epoch 282/300\n",
      "100/100 [==============================] - 0s 49us/sample - loss: 0.0627\n",
      "Epoch 283/300\n",
      "100/100 [==============================] - 0s 54us/sample - loss: 0.0010\n",
      "Epoch 284/300\n",
      "100/100 [==============================] - 0s 46us/sample - loss: 0.1527\n",
      "Epoch 285/300\n",
      "100/100 [==============================] - 0s 45us/sample - loss: 0.0185\n",
      "Epoch 286/300\n",
      "100/100 [==============================] - 0s 59us/sample - loss: 0.2426\n",
      "Epoch 287/300\n",
      "100/100 [==============================] - 0s 46us/sample - loss: 2.8680e-04\n",
      "Epoch 288/300\n",
      "100/100 [==============================] - 0s 43us/sample - loss: 8.5188e-06\n",
      "Epoch 289/300\n",
      "100/100 [==============================] - 0s 53us/sample - loss: 0.2615\n",
      "Epoch 290/300\n",
      "100/100 [==============================] - 0s 61us/sample - loss: 6.7678e-05\n",
      "Epoch 291/300\n",
      "100/100 [==============================] - 0s 61us/sample - loss: 5.2660e-04\n",
      "Epoch 292/300\n",
      "100/100 [==============================] - 0s 62us/sample - loss: 0.2537\n",
      "Epoch 293/300\n",
      "100/100 [==============================] - 0s 60us/sample - loss: 0.0113\n",
      "Epoch 294/300\n",
      "100/100 [==============================] - 0s 61us/sample - loss: 0.0882\n",
      "Epoch 295/300\n",
      "100/100 [==============================] - 0s 61us/sample - loss: 0.1135\n",
      "Epoch 296/300\n",
      "100/100 [==============================] - 0s 61us/sample - loss: 3.3038e-04\n",
      "Epoch 297/300\n",
      "100/100 [==============================] - 0s 65us/sample - loss: 0.2222\n",
      "Epoch 298/300\n",
      "100/100 [==============================] - 0s 59us/sample - loss: 0.0019\n",
      "Epoch 299/300\n",
      "100/100 [==============================] - 0s 65us/sample - loss: 0.1956\n",
      "Epoch 300/300\n",
      "100/100 [==============================] - 0s 62us/sample - loss: 0.0025\n",
      "\n",
      "추정 결과 :\n",
      "w1 = 2.00\n",
      "w2 = 3.00\n",
      "b = 4.99\n"
     ]
    },
    {
     "data": {
      "image/png": "[encoded data removed]",
      "text/plain": [
       "<Figure size 432x288 with 1 Axes>"
      ]
     },
     "metadata": {
      "needs_background": "light"
     },
     "output_type": "display_data"
    }
   ],
   "source": [
    "from tensorflow.keras.layers import Dense\n",
    "from tensorflow.keras.models import Sequential\n",
    "from tensorflow.keras import optimizers\n",
    "import numpy as np\n",
    "import matplotlib.pyplot as plt\n",
    "\n",
    "# y = 2x^2 + 3x + 5 일 때 x, y 집합을 생성한다\n",
    "x = np.array(np.arange(-5, 5, 0.1))\n",
    "y = 2 * x * x + 3 * x + 5\n",
    "dataX = np.stack([x*x, x]).T\n",
    "\n",
    "# 그래프를 생성한다.\n",
    "model = Sequential()\n",
    "model.add(Dense(1, input_dim = 2))\n",
    "model.compile(loss='mse', optimizer=optimizers.RMSprop(lr=0.05))\n",
    "print(model)\n",
    "print(\"\\n\\n\")\n",
    "h = model.fit(dataX, y, batch_size=10, epochs=300)\n",
    "# 학습 결과를 확인한다.\n",
    "parameters = model.layers[0].get_weights()\n",
    "print(\"\\n추정 결과 :\")\n",
    "print(\"w1 = %.2f\" % parameters[0][0][0])\n",
    "print(\"w2 = %.2f\" % parameters[0][1][0])\n",
    "print(\"b = %.2f\" % parameters[1][0])\n",
    "\n",
    "plt.plot(h.history['loss'], color='red', linewidth=1)\n",
    "plt.title(\"Loss function\")\n",
    "plt.xlabel(\"epoch\")\n",
    "plt.ylabel(\"loss\")\n",
    "plt.show()"
   ]
  },
  {
   "cell_type": "markdown",
   "metadata": {
    "id": "JRSj_kYqUVZB"
   },
   "source": [
    "## Functional API"
   ]
  },
  {
   "cell_type": "code",
   "execution_count": 30,
   "metadata": {
    "colab": {
     "base_uri": "https://localhost:8080/",
     "height": 1000
    },
    "executionInfo": {
     "elapsed": 7294,
     "status": "ok",
     "timestamp": 1626304896353,
     "user": {
      "displayName": "홍경수",
      "photoUrl": "",
      "userId": "10514684854108920109"
     },
     "user_tz": -540
    },
    "id": "GreHY69KUVZB",
    "outputId": "22587bbb-cfa2-4f39-97e8-c5d468cbdab5"
   },
   "outputs": [
    {
     "ename": "IndexError",
     "evalue": "list index out of range",
     "output_type": "error",
     "traceback": [
      "\u001b[0;31m---------------------------------------------------------------------------\u001b[0m",
      "\u001b[0;31mIndexError\u001b[0m                                Traceback (most recent call last)",
      "\u001b[0;32m<ipython-input-30-2ba4bc7a9962>\u001b[0m in \u001b[0;36m<module>\u001b[0;34m\u001b[0m\n\u001b[1;32m     16\u001b[0m \u001b[0;34m\u001b[0m\u001b[0m\n\u001b[1;32m     17\u001b[0m \u001b[0;31m# 학습 결과를 확인한다.\u001b[0m\u001b[0;34m\u001b[0m\u001b[0;34m\u001b[0m\u001b[0;34m\u001b[0m\u001b[0m\n\u001b[0;32m---> 18\u001b[0;31m \u001b[0mparameters\u001b[0m \u001b[0;34m=\u001b[0m \u001b[0mmodel\u001b[0m\u001b[0;34m.\u001b[0m\u001b[0mlayers\u001b[0m\u001b[0;34m[\u001b[0m\u001b[0;36m1\u001b[0m\u001b[0;34m]\u001b[0m\u001b[0;34m.\u001b[0m\u001b[0mget_weights\u001b[0m\u001b[0;34m(\u001b[0m\u001b[0;34m)\u001b[0m\u001b[0;34m\u001b[0m\u001b[0;34m\u001b[0m\u001b[0m\n\u001b[0m\u001b[1;32m     19\u001b[0m \u001b[0mprint\u001b[0m\u001b[0;34m(\u001b[0m\u001b[0;34m\"\\n추정 결과 :\"\u001b[0m\u001b[0;34m)\u001b[0m\u001b[0;34m\u001b[0m\u001b[0;34m\u001b[0m\u001b[0m\n\u001b[1;32m     20\u001b[0m \u001b[0mprint\u001b[0m\u001b[0;34m(\u001b[0m\u001b[0;34m\"w1 = %.2f\"\u001b[0m \u001b[0;34m%\u001b[0m \u001b[0mparameters\u001b[0m\u001b[0;34m[\u001b[0m\u001b[0;36m0\u001b[0m\u001b[0;34m]\u001b[0m\u001b[0;34m[\u001b[0m\u001b[0;36m0\u001b[0m\u001b[0;34m]\u001b[0m\u001b[0;34m[\u001b[0m\u001b[0;36m0\u001b[0m\u001b[0;34m]\u001b[0m\u001b[0;34m)\u001b[0m\u001b[0;34m\u001b[0m\u001b[0;34m\u001b[0m\u001b[0m\n",
      "\u001b[0;31mIndexError\u001b[0m: list index out of range"
     ]
    }
   ],
   "source": [
    "from tensorflow.keras.layers import Input, Dense\n",
    "from tensorflow.keras.models import Model\n",
    "from tensorflow.keras import optimizers\n",
    "import numpy as np\n",
    "import matplotlib.pyplot as plt\n",
    "\n",
    "# y = 2x^2 + 3x + 5 일 때 x, y 집합을 생성한다\n",
    "x = np.array(np.arange(-5, 5, 0.1))\n",
    "y = 2 * x * x + 3 * x + 5\n",
    "dataX = np.stack([x*x, x]).T\n",
    "\n",
    "# 그래프를 생성한다.   \n",
    "xInput = Input(batch_shape=(None))\n",
    "model.add(Dense(1, input_dim = 2))\n",
    "model.compile(loss='rmse', optimizer = optimizers.Adam(lr=0.05))\n",
    "\n",
    "# 학습 결과를 확인한다.\n",
    "parameters = model.layers[1].get_weights()\n",
    "print(\"\\n추정 결과 :\")\n",
    "print(\"w1 = %.2f\" % parameters[0][0][0])\n",
    "print(\"w2 = %.2f\" % parameters[0][1][0])\n",
    "print(\"b = %.2f\" % parameters[1][0])\n",
    "\n",
    "plt.plot(h.history['loss'], color='red', linewidth=1)\n",
    "plt.title(\"Loss function\")\n",
    "plt.xlabel(\"epoch\")\n",
    "plt.ylabel(\"loss\")\n",
    "plt.show()"
   ]
  },
  {
   "cell_type": "markdown",
   "metadata": {
    "id": "u5TMzq2QUVZB"
   },
   "source": [
    "# tensorflow 1.4로 iris 분류"
   ]
  },
  {
   "cell_type": "code",
   "execution_count": 31,
   "metadata": {
    "colab": {
     "base_uri": "https://localhost:8080/"
    },
    "executionInfo": {
     "elapsed": 8,
     "status": "ok",
     "timestamp": 1626304896354,
     "user": {
      "displayName": "홍경수",
      "photoUrl": "",
      "userId": "10514684854108920109"
     },
     "user_tz": -540
    },
    "id": "Zc5vfrCgUVZB",
    "outputId": "98b3913c-396a-4642-c107-8163f4927a9b"
   },
   "outputs": [
    {
     "name": "stdout",
     "output_type": "stream",
     "text": [
      "WARNING:tensorflow:From /Users/hosung/opt/anaconda3/lib/python3.8/site-packages/tensorflow/python/compat/v2_compat.py:96: disable_resource_variables (from tensorflow.python.ops.variable_scope) is deprecated and will be removed in a future version.\n",
      "Instructions for updating:\n",
      "non-resource variables are not supported in the long term\n"
     ]
    }
   ],
   "source": [
    "import tensorflow.compat.v1 as tf\n",
    "tf.disable_v2_behavior()"
   ]
  },
  {
   "cell_type": "code",
   "execution_count": 32,
   "metadata": {
    "id": "xFB4RXdIUVZC"
   },
   "outputs": [],
   "source": [
    "import numpy as np\n",
    "import pandas as pd\n",
    "from sklearn import datasets"
   ]
  },
  {
   "cell_type": "code",
   "execution_count": 33,
   "metadata": {
    "id": "59u6ehyDUVZC"
   },
   "outputs": [],
   "source": [
    "iris = datasets.load_iris()\n",
    "iris_X = iris.data\n",
    "iris_y = pd.get_dummies(iris.target).to_numpy()"
   ]
  },
  {
   "cell_type": "code",
   "execution_count": 34,
   "metadata": {
    "id": "QNaVEl9pUVZC"
   },
   "outputs": [],
   "source": [
    "from sklearn.model_selection import train_test_split\n",
    "train_X, test_X, train_y, test_y = train_test_split(iris_X, iris_y, \n",
    "                                                    test_size=0.3,\n",
    "                                                    random_state=1)"
   ]
  },
  {
   "cell_type": "code",
   "execution_count": 35,
   "metadata": {
    "id": "XYRgUGfPUVZC"
   },
   "outputs": [],
   "source": [
    "# X와 y를 저장할 변수 선언\n",
    "x = tf.placeholder(tf.float32, [None, 4]) # 변수 수가 4개\n",
    "y = tf.placeholder(tf.float32, [None, 3]) # 분류 클래스 수가 3개"
   ]
  },
  {
   "cell_type": "code",
   "execution_count": 36,
   "metadata": {
    "id": "8vhbTCe9UVZC"
   },
   "outputs": [],
   "source": [
    "# Weight와 bias를 저장할 변수 선언\n",
    "W = tf.Variable(tf.zeros([4, 3]))\n",
    "b = tf.Variable(tf.zeros([3]))"
   ]
  },
  {
   "cell_type": "code",
   "execution_count": 37,
   "metadata": {
    "id": "e55w6XmWUVZD"
   },
   "outputs": [],
   "source": [
    "# 출력을 정의\n",
    "h = tf.nn.softmax(tf.matmul(x, W) + b)"
   ]
  },
  {
   "cell_type": "code",
   "execution_count": 38,
   "metadata": {
    "id": "Cw_6BUXwUVZD"
   },
   "outputs": [],
   "source": [
    "# 손실함수 정의\n",
    "cross_entropy = -tf.reduce_sum(y*tf.log(h), reduction_indices=[1])\n",
    "loss = tf.reduce_mean(cross_entropy)"
   ]
  },
  {
   "cell_type": "code",
   "execution_count": 39,
   "metadata": {
    "id": "f0woAbdmUVZD"
   },
   "outputs": [],
   "source": [
    "# 학습(훈련) 정의(옵티마이저, 학습률)\n",
    "train = tf.train.GradientDescentOptimizer(0.001).minimize(loss)"
   ]
  },
  {
   "cell_type": "code",
   "execution_count": 40,
   "metadata": {
    "id": "I2vcWLkQUVZD"
   },
   "outputs": [],
   "source": [
    "init = tf.global_variables_initializer()"
   ]
  },
  {
   "cell_type": "code",
   "execution_count": 41,
   "metadata": {
    "id": "BDS7YO-vUVZD"
   },
   "outputs": [],
   "source": [
    "sess = tf.Session()\n",
    "sess.run(init)"
   ]
  },
  {
   "cell_type": "code",
   "execution_count": 42,
   "metadata": {
    "colab": {
     "base_uri": "https://localhost:8080/"
    },
    "executionInfo": {
     "elapsed": 53441,
     "status": "ok",
     "timestamp": 1626304950769,
     "user": {
      "displayName": "홍경수",
      "photoUrl": "",
      "userId": "10514684854108920109"
     },
     "user_tz": -540
    },
    "id": "6j4c7RWYUVZD",
    "outputId": "3e8e3e43-e63e-4a46-cf24-52f5e6f59ba7"
   },
   "outputs": [
    {
     "name": "stdout",
     "output_type": "stream",
     "text": [
      "0 1.0986123\n",
      "10000 0.34161022\n",
      "20000 0.25733852\n",
      "30000 0.2140632\n",
      "40000 0.18752664\n",
      "50000 0.16956554\n",
      "60000 0.15657532\n",
      "70000 0.146726\n",
      "80000 0.13898851\n",
      "90000 0.1327386\n"
     ]
    }
   ],
   "source": [
    "for i in range(100000):\n",
    "    _, loss_value = sess.run([train, loss], feed_dict={x:train_X, y:train_y})\n",
    "    if i%10000 == 0:\n",
    "        print(i, loss_value)"
   ]
  },
  {
   "cell_type": "code",
   "execution_count": 43,
   "metadata": {
    "id": "_1Lkewd6UVZD"
   },
   "outputs": [],
   "source": [
    "correct_prediction = tf.equal(tf.argmax(h, 1), tf.argmax(y, 1))"
   ]
  },
  {
   "cell_type": "code",
   "execution_count": 44,
   "metadata": {
    "id": "hBb9CH2aUVZD"
   },
   "outputs": [],
   "source": [
    "accuracy = tf.reduce_mean(tf.cast(correct_prediction, tf.float32))"
   ]
  },
  {
   "cell_type": "code",
   "execution_count": 45,
   "metadata": {
    "colab": {
     "base_uri": "https://localhost:8080/"
    },
    "executionInfo": {
     "elapsed": 9,
     "status": "ok",
     "timestamp": 1626304950770,
     "user": {
      "displayName": "홍경수",
      "photoUrl": "",
      "userId": "10514684854108920109"
     },
     "user_tz": -540
    },
    "id": "9RygeGo_UVZD",
    "outputId": "f6804ad6-7ccc-457e-f543-e1d8ad37ed3e"
   },
   "outputs": [
    {
     "name": "stdout",
     "output_type": "stream",
     "text": [
      "0.9777778\n"
     ]
    }
   ],
   "source": [
    "print(sess.run(accuracy, feed_dict={x:test_X, y:test_y}))"
   ]
  },
  {
   "cell_type": "markdown",
   "metadata": {
    "id": "1Cxn9jTFUVZE"
   },
   "source": [
    "# Keras "
   ]
  },
  {
   "cell_type": "code",
   "execution_count": 46,
   "metadata": {
    "id": "yY-aZE_6UVZE"
   },
   "outputs": [],
   "source": [
    "import tensorflow as tf"
   ]
  },
  {
   "cell_type": "code",
   "execution_count": 47,
   "metadata": {
    "id": "2qXo5Vi0UVZE"
   },
   "outputs": [],
   "source": [
    "# example of a model defined with the sequential api\n",
    "from tensorflow.keras import Sequential\n",
    "from tensorflow.keras.layers import Dense\n",
    "from tensorflow.keras import optimizers"
   ]
  },
  {
   "cell_type": "code",
   "execution_count": null,
   "metadata": {
    "id": "lM8_Vcg8UVZE"
   },
   "outputs": [],
   "source": []
  },
  {
   "cell_type": "code",
   "execution_count": 48,
   "metadata": {
    "colab": {
     "base_uri": "https://localhost:8080/"
    },
    "executionInfo": {
     "elapsed": 1263,
     "status": "ok",
     "timestamp": 1626305040074,
     "user": {
      "displayName": "홍경수",
      "photoUrl": "",
      "userId": "10514684854108920109"
     },
     "user_tz": -540
    },
    "id": "Ln6qUZg3UVZE",
    "outputId": "8ddd227e-a47c-465f-df71-26fb09fd7447"
   },
   "outputs": [
    {
     "name": "stdout",
     "output_type": "stream",
     "text": [
      "CPU times: user 2 µs, sys: 2 µs, total: 4 µs\n",
      "Wall time: 5.96 µs\n"
     ]
    }
   ],
   "source": [
    "%time\n"
   ]
  },
  {
   "cell_type": "code",
   "execution_count": 49,
   "metadata": {
    "colab": {
     "base_uri": "https://localhost:8080/"
    },
    "executionInfo": {
     "elapsed": 1286,
     "status": "ok",
     "timestamp": 1626305114683,
     "user": {
      "displayName": "홍경수",
      "photoUrl": "",
      "userId": "10514684854108920109"
     },
     "user_tz": -540
    },
    "id": "_T4edekXUVZE",
    "outputId": "58eb44cc-c581-4fae-efaa-482dc6d577d9"
   },
   "outputs": [
    {
     "name": "stdout",
     "output_type": "stream",
     "text": [
      "CPU times: user 2 µs, sys: 2 µs, total: 4 µs\n",
      "Wall time: 6.91 µs\n"
     ]
    }
   ],
   "source": [
    "\n",
    "%time\n"
   ]
  },
  {
   "cell_type": "markdown",
   "metadata": {
    "id": "MgavoEvmUVZE"
   },
   "source": [
    "# Functional API"
   ]
  },
  {
   "cell_type": "code",
   "execution_count": 50,
   "metadata": {
    "id": "e4bzvxLVUVZE"
   },
   "outputs": [
    {
     "ename": "NameError",
     "evalue": "name 'n_features' is not defined",
     "output_type": "error",
     "traceback": [
      "\u001b[0;31m---------------------------------------------------------------------------\u001b[0m",
      "\u001b[0;31mNameError\u001b[0m                                 Traceback (most recent call last)",
      "\u001b[0;32m<ipython-input-50-6a6afff978a7>\u001b[0m in \u001b[0;36m<module>\u001b[0;34m\u001b[0m\n\u001b[0;32m----> 1\u001b[0;31m \u001b[0mi\u001b[0m     \u001b[0;34m=\u001b[0m \u001b[0mInput\u001b[0m\u001b[0;34m(\u001b[0m\u001b[0mshape\u001b[0m\u001b[0;34m=\u001b[0m\u001b[0;34m(\u001b[0m\u001b[0mn_features\u001b[0m\u001b[0;34m,\u001b[0m\u001b[0;34m)\u001b[0m\u001b[0;34m)\u001b[0m \u001b[0;31m# 입력레이어\u001b[0m\u001b[0;34m\u001b[0m\u001b[0;34m\u001b[0m\u001b[0m\n\u001b[0m\u001b[1;32m      2\u001b[0m \u001b[0mn\u001b[0m     \u001b[0;34m=\u001b[0m \u001b[0mDense\u001b[0m\u001b[0;34m(\u001b[0m\u001b[0;36m10\u001b[0m\u001b[0;34m)\u001b[0m\u001b[0;34m(\u001b[0m\u001b[0mi\u001b[0m\u001b[0;34m)\u001b[0m\u001b[0;34m\u001b[0m\u001b[0;34m\u001b[0m\u001b[0m\n\u001b[1;32m      3\u001b[0m \u001b[0mn\u001b[0m     \u001b[0;34m=\u001b[0m \u001b[0mDense\u001b[0m\u001b[0;34m(\u001b[0m\u001b[0;36m8\u001b[0m\u001b[0;34m)\u001b[0m\u001b[0;34m(\u001b[0m\u001b[0mn\u001b[0m\u001b[0;34m)\u001b[0m\u001b[0;34m\u001b[0m\u001b[0;34m\u001b[0m\u001b[0m\n\u001b[1;32m      4\u001b[0m \u001b[0mo\u001b[0m     \u001b[0;34m=\u001b[0m \u001b[0mDense\u001b[0m\u001b[0;34m(\u001b[0m\u001b[0;36m3\u001b[0m\u001b[0;34m,\u001b[0m \u001b[0mactivation\u001b[0m\u001b[0;34m=\u001b[0m\u001b[0;34m'softmax'\u001b[0m\u001b[0;34m)\u001b[0m\u001b[0;34m(\u001b[0m\u001b[0mn\u001b[0m\u001b[0;34m)\u001b[0m \u001b[0;31m# 출력레이어\u001b[0m\u001b[0;34m\u001b[0m\u001b[0;34m\u001b[0m\u001b[0m\n\u001b[1;32m      5\u001b[0m \u001b[0mmodel\u001b[0m \u001b[0;34m=\u001b[0m \u001b[0mModel\u001b[0m\u001b[0;34m(\u001b[0m\u001b[0minputs\u001b[0m\u001b[0;34m=\u001b[0m\u001b[0mi\u001b[0m\u001b[0;34m,\u001b[0m \u001b[0moutputs\u001b[0m\u001b[0;34m=\u001b[0m\u001b[0mo\u001b[0m\u001b[0;34m)\u001b[0m \u001b[0;31m# 모델을 만든다\u001b[0m\u001b[0;34m\u001b[0m\u001b[0;34m\u001b[0m\u001b[0m\n",
      "\u001b[0;31mNameError\u001b[0m: name 'n_features' is not defined"
     ]
    }
   ],
   "source": [
    "i     = Input(shape=(n_features,)) # 입력레이어\n",
    "n     = Dense(10)(i)\n",
    "n     = Dense(8)(n)\n",
    "o     = Dense(3, activation='softmax')(n) # 출력레이어\n",
    "model = Model(inputs=i, outputs=o) # 모델을 만든다"
   ]
  },
  {
   "cell_type": "code",
   "execution_count": null,
   "metadata": {
    "colab": {
     "base_uri": "https://localhost:8080/"
    },
    "executionInfo": {
     "elapsed": 1432,
     "status": "ok",
     "timestamp": 1626305121456,
     "user": {
      "displayName": "홍경수",
      "photoUrl": "",
      "userId": "10514684854108920109"
     },
     "user_tz": -540
    },
    "id": "OmqFs2PIUVZF",
    "outputId": "f144b072-cead-4ba0-8cf1-0dc4747e67d6"
   },
   "outputs": [],
   "source": [
    "%time\n"
   ]
  },
  {
   "cell_type": "code",
   "execution_count": null,
   "metadata": {
    "id": "D0PmC2C5UVZF"
   },
   "outputs": [],
   "source": []
  },
  {
   "cell_type": "code",
   "execution_count": null,
   "metadata": {},
   "outputs": [],
   "source": []
  }
 ],
 "metadata": {
  "colab": {
   "collapsed_sections": [],
   "name": "3. Tensorflow & Keras.ipynb",
   "provenance": []
  },
  "kernelspec": {
   "display_name": "Python 3",
   "language": "python",
   "name": "python3"
  },
  "language_info": {
   "codemirror_mode": {
    "name": "ipython",
    "version": 3
   },
   "file_extension": ".py",
   "mimetype": "text/x-python",
   "name": "python",
   "nbconvert_exporter": "python",
   "pygments_lexer": "ipython3",
   "version": "3.8.10"
  },
  "toc": {
   "base_numbering": 1,
   "nav_menu": {},
   "number_sections": true,
   "sideBar": true,
   "skip_h1_title": false,
   "title_cell": "Table of Contents",
   "title_sidebar": "Contents",
   "toc_cell": false,
   "toc_position": {},
   "toc_section_display": true,
   "toc_window_display": false
  },
  "varInspector": {
   "cols": {
    "lenName": 16,
    "lenType": 16,
    "lenVar": 40
   },
   "kernels_config": {
    "python": {
     "delete_cmd_postfix": "",
     "delete_cmd_prefix": "del ",
     "library": "var_list.py",
     "varRefreshCmd": "print(var_dic_list())"
    },
    "r": {
     "delete_cmd_postfix": ") ",
     "delete_cmd_prefix": "rm(",
     "library": "var_list.r",
     "varRefreshCmd": "cat(var_dic_list()) "
    }
   },
   "types_to_exclude": [
    "module",
    "function",
    "builtin_function_or_method",
    "instance",
    "_Feature"
   ],
   "window_display": false
  }
 },
 "nbformat": 4,
 "nbformat_minor": 1
}
