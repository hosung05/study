{
 "cells": [
  {
   "cell_type": "markdown",
   "id": "77d2797d",
   "metadata": {},
   "source": [
    "# 나이브 베이즈 분류"
   ]
  },
  {
   "cell_type": "markdown",
   "id": "3fc8350e",
   "metadata": {},
   "source": [
    "## naive Bayes Classifier"
   ]
  },
  {
   "cell_type": "code",
   "execution_count": 2,
   "id": "ae130258",
   "metadata": {},
   "outputs": [],
   "source": [
    "training_set = [['me free lottery', 1],\n",
    " ['free get free you', 1],\n",
    " ['you free scholarship', 0],\n",
    " ['free to contact me', 0],\n",
    " ['you won award', 0],\n",
    " ['you ticket lottery', 1]]"
   ]
  },
  {
   "cell_type": "markdown",
   "id": "e61dc768",
   "metadata": {},
   "source": [
    "### 토큰 빈도수 및 문서별 토큰수 계산 (확률 계산을 위한 준비)"
   ]
  },
  {
   "cell_type": "markdown",
   "id": "d18f08b2",
   "metadata": {},
   "source": [
    "![대체 텍스트](https://wikimedia.org/api/rest_v1/media/math/render/svg/98f086c560aa2f66650060277dda4f90e54e30c0)"
   ]
  },
  {
   "cell_type": "code",
   "execution_count": 3,
   "id": "cc573704",
   "metadata": {},
   "outputs": [
    {
     "data": {
      "text/plain": [
       "defaultdict(<function __main__.<lambda>()>,\n",
       "            {'me': [1, 1],\n",
       "             'free': [2, 3],\n",
       "             'lottery': [0, 2],\n",
       "             'get': [0, 1],\n",
       "             'you': [2, 2],\n",
       "             'scholarship': [1, 0],\n",
       "             'to': [1, 0],\n",
       "             'contact': [1, 0],\n",
       "             'won': [1, 0],\n",
       "             'award': [1, 0],\n",
       "             'ticket': [0, 1]})"
      ]
     },
     "execution_count": 3,
     "metadata": {},
     "output_type": "execute_result"
    }
   ],
   "source": [
    "from collections import defaultdict\n",
    "\n",
    "# 범주에 속하는 토큰수 세기 1(스팸), 0(정상))\n",
    "doccnt0 = 0\n",
    "doccnt1 = 0\n",
    "\n",
    "# 토큰별로 문서내 빈도수 카운팅\n",
    "wordfreq = defaultdict(lambda : [0, 0])\n",
    "\n",
    "for doc, label in training_set:\n",
    "\n",
    "    words = doc.split()\n",
    "    for word in words:\n",
    "        wordfreq[word][label] += 1\n",
    "\n",
    "for key, (cnt0, cnt1) in wordfreq.items():\n",
    "    doccnt0 += cnt0\n",
    "    doccnt1 += cnt1\n",
    "    \n",
    "wordfreq"
   ]
  },
  {
   "cell_type": "code",
   "execution_count": 4,
   "id": "c9b3a59a",
   "metadata": {},
   "outputs": [
    {
     "data": {
      "text/plain": [
       "10"
      ]
     },
     "execution_count": 4,
     "metadata": {},
     "output_type": "execute_result"
    }
   ],
   "source": [
    "doccnt0"
   ]
  },
  {
   "cell_type": "code",
   "execution_count": 5,
   "id": "f24ec364",
   "metadata": {},
   "outputs": [
    {
     "data": {
      "text/plain": [
       "10"
      ]
     },
     "execution_count": 5,
     "metadata": {},
     "output_type": "execute_result"
    }
   ],
   "source": [
    "doccnt1"
   ]
  },
  {
   "cell_type": "markdown",
   "id": "e0aebd3b",
   "metadata": {},
   "source": [
    "### Training : 토큰별 조건부 확률 계산"
   ]
  },
  {
   "cell_type": "code",
   "execution_count": 6,
   "id": "c241b747",
   "metadata": {},
   "outputs": [
    {
     "data": {
      "text/plain": [
       "defaultdict(<function __main__.<lambda>()>,\n",
       "            {'me': [0.13636363636363635, 0.13636363636363635],\n",
       "             'free': [0.22727272727272727, 0.3181818181818182],\n",
       "             'lottery': [0.045454545454545456, 0.22727272727272727],\n",
       "             'get': [0.045454545454545456, 0.13636363636363635],\n",
       "             'you': [0.22727272727272727, 0.22727272727272727],\n",
       "             'scholarship': [0.13636363636363635, 0.045454545454545456],\n",
       "             'to': [0.13636363636363635, 0.045454545454545456],\n",
       "             'contact': [0.13636363636363635, 0.045454545454545456],\n",
       "             'won': [0.13636363636363635, 0.045454545454545456],\n",
       "             'award': [0.13636363636363635, 0.045454545454545456],\n",
       "             'ticket': [0.045454545454545456, 0.13636363636363635]})"
      ]
     },
     "execution_count": 6,
     "metadata": {},
     "output_type": "execute_result"
    }
   ],
   "source": [
    "k = 0.5\n",
    "\n",
    "wordprobs = defaultdict(lambda : [0, 0])\n",
    "for key, (cnt0, cnt1) in wordfreq.items():\n",
    "    wordprobs[key][0] = (k + cnt0)/(k*2 + doccnt0)\n",
    "    wordprobs[key][1] = (k + cnt1)/(k*2 + doccnt1)\n",
    "\n",
    "wordprobs"
   ]
  },
  {
   "cell_type": "markdown",
   "id": "d493fc53",
   "metadata": {},
   "source": [
    "### Classify : 신규 텍스트가 주어졌을 때 확률 계산"
   ]
  },
  {
   "cell_type": "code",
   "execution_count": 7,
   "id": "663aea20",
   "metadata": {},
   "outputs": [
    {
     "name": "stdout",
     "output_type": "stream",
     "text": [
      "free lottery\n",
      "정상확률 : 12.50%\n",
      "스팸확률 : 87.50%\n"
     ]
    }
   ],
   "source": [
    "import math\n",
    "\n",
    "doc = \"free lottery\"\n",
    "tokens = doc.split()\n",
    "\n",
    "# 초기값은 모두 0으로 처리\n",
    "log_prob1 = log_prob0 = 0.0\n",
    "\n",
    "# 모든 단어에 대해 반복\n",
    "for word, (prob0, prob1) in wordprobs.items():\n",
    "    if word in tokens:\n",
    "        log_prob0 += math.log(prob0)\n",
    "        log_prob1 += math.log(prob1)\n",
    "\n",
    "log_prob0 += math.log(doccnt0/(doccnt0 + doccnt1))\n",
    "log_prob1 += math.log(doccnt1/(doccnt0 + doccnt1))\n",
    "\n",
    "prob0 = math.exp(log_prob0)\n",
    "prob1 = math.exp(log_prob1)\n",
    "\n",
    "\n",
    "print(doc)\n",
    "print(\"정상확률 : {:.2f}%\".format(prob0 / (prob0 + prob1)*100))\n",
    "print(\"스팸확률 : {:.2f}%\".format(prob1 / (prob0 + prob1)*100))"
   ]
  },
  {
   "cell_type": "code",
   "execution_count": 8,
   "id": "11f0f66d",
   "metadata": {},
   "outputs": [
    {
     "data": {
      "text/plain": [
       "-5.265794174842476"
      ]
     },
     "execution_count": 8,
     "metadata": {},
     "output_type": "execute_result"
    }
   ],
   "source": [
    "log_prob0"
   ]
  },
  {
   "cell_type": "code",
   "execution_count": 9,
   "id": "c8ff7015",
   "metadata": {},
   "outputs": [
    {
     "data": {
      "text/plain": [
       "0.00516528925619835"
      ]
     },
     "execution_count": 9,
     "metadata": {},
     "output_type": "execute_result"
    }
   ],
   "source": [
    "prob0"
   ]
  },
  {
   "cell_type": "code",
   "execution_count": 10,
   "id": "cd2f26b5",
   "metadata": {},
   "outputs": [
    {
     "data": {
      "text/plain": [
       "0.03615702479338842"
      ]
     },
     "execution_count": 10,
     "metadata": {},
     "output_type": "execute_result"
    }
   ],
   "source": [
    "prob1"
   ]
  },
  {
   "cell_type": "markdown",
   "id": "f9404007",
   "metadata": {},
   "source": [
    "## sklearn 활용(영문 뉴스 분류)"
   ]
  },
  {
   "cell_type": "code",
   "execution_count": 11,
   "id": "d66d2b1f",
   "metadata": {},
   "outputs": [
    {
     "name": "stdout",
     "output_type": "stream",
     "text": [
      "['alt.atheism', 'comp.graphics', 'comp.os.ms-windows.misc', 'comp.sys.ibm.pc.hardware', 'comp.sys.mac.hardware', 'comp.windows.x', 'misc.forsale', 'rec.autos', 'rec.motorcycles', 'rec.sport.baseball', 'rec.sport.hockey', 'sci.crypt', 'sci.electronics', 'sci.med', 'sci.space', 'soc.religion.christian', 'talk.politics.guns', 'talk.politics.mideast', 'talk.politics.misc', 'talk.religion.misc']\n",
      "From: lerxst@wam.umd.edu (where's my thing)\n",
      "Subject: WHAT car is this!?\n",
      "Nntp-Posting-Host: rac3.wam.umd.edu\n",
      "Organization: University of Maryland, College Park\n",
      "Lines: 15\n",
      "\n",
      " I was wondering if anyone out there could enlighten me on this car I saw\n",
      "the other day. It was a 2-door sports car, looked to be from the late 60s/\n",
      "early 70s. It was called a Bricklin. The doors were really small. In addition,\n",
      "the front bumper was separate from the rest of the body. This is \n",
      "all I know. If anyone can tellme a model name, engine specs, years\n",
      "of production, where this car is made, history, or whatever info you\n",
      "have on this funky looking car, please e-mail.\n",
      "\n",
      "Thanks,\n",
      "- IL\n",
      "   ---- brought to you by your neighborhood Lerxst ----\n",
      "\n",
      "\n",
      "\n",
      "\n",
      "\n",
      "7\n"
     ]
    }
   ],
   "source": [
    "from sklearn.datasets import fetch_20newsgroups\n",
    "twenty_train = fetch_20newsgroups(subset='train', shuffle=True)\n",
    "print(twenty_train.target_names)\n",
    "print(twenty_train.data[0])\n",
    "print(twenty_train.target[0])"
   ]
  },
  {
   "cell_type": "code",
   "execution_count": 12,
   "id": "01df03df",
   "metadata": {},
   "outputs": [
    {
     "data": {
      "text/plain": [
       "['alt.atheism',\n",
       " 'comp.graphics',\n",
       " 'comp.os.ms-windows.misc',\n",
       " 'comp.sys.ibm.pc.hardware',\n",
       " 'comp.sys.mac.hardware',\n",
       " 'comp.windows.x',\n",
       " 'misc.forsale',\n",
       " 'rec.autos',\n",
       " 'rec.motorcycles',\n",
       " 'rec.sport.baseball',\n",
       " 'rec.sport.hockey',\n",
       " 'sci.crypt',\n",
       " 'sci.electronics',\n",
       " 'sci.med',\n",
       " 'sci.space',\n",
       " 'soc.religion.christian',\n",
       " 'talk.politics.guns',\n",
       " 'talk.politics.mideast',\n",
       " 'talk.politics.misc',\n",
       " 'talk.religion.misc']"
      ]
     },
     "execution_count": 12,
     "metadata": {},
     "output_type": "execute_result"
    }
   ],
   "source": [
    "twenty_train.target_names"
   ]
  },
  {
   "cell_type": "markdown",
   "id": "7f049971",
   "metadata": {},
   "source": [
    "### 문서 분류(파이프 라인 사용)"
   ]
  },
  {
   "cell_type": "code",
   "execution_count": 13,
   "id": "a662ebd4",
   "metadata": {},
   "outputs": [],
   "source": [
    "from sklearn.pipeline import Pipeline \n",
    "from sklearn.feature_extraction.text import CountVectorizer\n",
    "from sklearn.feature_extraction.text import TfidfTransformer\n",
    "from sklearn.naive_bayes import MultinomialNB\n",
    "\n",
    "text_clf = Pipeline([('vect', CountVectorizer()), ('tfidf', TfidfTransformer()), ('clf', MultinomialNB())])\n",
    "\n",
    "text_clf = text_clf.fit(twenty_train.data, twenty_train.target)"
   ]
  },
  {
   "cell_type": "code",
   "execution_count": 14,
   "id": "d84d47a2",
   "metadata": {},
   "outputs": [
    {
     "data": {
      "text/plain": [
       "0.7738980350504514"
      ]
     },
     "execution_count": 14,
     "metadata": {},
     "output_type": "execute_result"
    }
   ],
   "source": [
    "import numpy as np\n",
    "twenty_test = fetch_20newsgroups(subset='test', shuffle=True)\n",
    "predicted = text_clf.predict(twenty_test.data)\n",
    "np.mean(predicted == twenty_test.target)"
   ]
  },
  {
   "cell_type": "code",
   "execution_count": 15,
   "id": "60d35b20",
   "metadata": {},
   "outputs": [
    {
     "data": {
      "text/plain": [
       "array([ 7, 11,  0, 17,  0, 13, 15, 15,  5,  1])"
      ]
     },
     "execution_count": 15,
     "metadata": {},
     "output_type": "execute_result"
    }
   ],
   "source": [
    "predicted[:10]"
   ]
  },
  {
   "cell_type": "code",
   "execution_count": 16,
   "id": "95eabde7",
   "metadata": {},
   "outputs": [
    {
     "data": {
      "text/plain": [
       "array([ 7,  5,  0, 17, 19, 13, 15, 15,  5,  1])"
      ]
     },
     "execution_count": 16,
     "metadata": {},
     "output_type": "execute_result"
    }
   ],
   "source": [
    "twenty_test.target[:10]"
   ]
  },
  {
   "cell_type": "markdown",
   "id": "9f7c29b0",
   "metadata": {},
   "source": [
    "### Grid Search"
   ]
  },
  {
   "cell_type": "code",
   "execution_count": 17,
   "id": "f08d5752",
   "metadata": {},
   "outputs": [
    {
     "name": "stdout",
     "output_type": "stream",
     "text": [
      "Fitting 5 folds for each of 12 candidates, totalling 60 fits\n",
      "Best score : 0.9140891823370072\n"
     ]
    },
    {
     "data": {
      "text/plain": [
       "{'memory': None,\n",
       " 'steps': [('vect', CountVectorizer(ngram_range=(1, 2))),\n",
       "  ('tfidf', TfidfTransformer()),\n",
       "  ('clf', MultinomialNB(alpha=0.01))],\n",
       " 'verbose': False,\n",
       " 'vect': CountVectorizer(ngram_range=(1, 2)),\n",
       " 'tfidf': TfidfTransformer(),\n",
       " 'clf': MultinomialNB(alpha=0.01),\n",
       " 'vect__analyzer': 'word',\n",
       " 'vect__binary': False,\n",
       " 'vect__decode_error': 'strict',\n",
       " 'vect__dtype': numpy.int64,\n",
       " 'vect__encoding': 'utf-8',\n",
       " 'vect__input': 'content',\n",
       " 'vect__lowercase': True,\n",
       " 'vect__max_df': 1.0,\n",
       " 'vect__max_features': None,\n",
       " 'vect__min_df': 1,\n",
       " 'vect__ngram_range': (1, 2),\n",
       " 'vect__preprocessor': None,\n",
       " 'vect__stop_words': None,\n",
       " 'vect__strip_accents': None,\n",
       " 'vect__token_pattern': '(?u)\\\\b\\\\w\\\\w+\\\\b',\n",
       " 'vect__tokenizer': None,\n",
       " 'vect__vocabulary': None,\n",
       " 'tfidf__norm': 'l2',\n",
       " 'tfidf__smooth_idf': True,\n",
       " 'tfidf__sublinear_tf': False,\n",
       " 'tfidf__use_idf': True,\n",
       " 'clf__alpha': 0.01,\n",
       " 'clf__class_prior': None,\n",
       " 'clf__fit_prior': True}"
      ]
     },
     "execution_count": 17,
     "metadata": {},
     "output_type": "execute_result"
    }
   ],
   "source": [
    "from sklearn.model_selection import GridSearchCV\n",
    "\n",
    "from sklearn.pipeline import Pipeline \n",
    "from sklearn.feature_extraction.text import CountVectorizer\n",
    "from sklearn.feature_extraction.text import TfidfTransformer\n",
    "from sklearn.naive_bayes import MultinomialNB\n",
    "\n",
    "text_clf = Pipeline([('vect', CountVectorizer()), ('tfidf', TfidfTransformer()), ('clf', MultinomialNB())])\n",
    "\n",
    "parameters_clf = {'vect__ngram_range':[(1, 1), (1, 2)],\n",
    "                  'tfidf__use_idf' : (True, False), \n",
    "                  'clf__alpha': (1, 0.5, 0.01)}\n",
    "\n",
    "gs_clf =  GridSearchCV(text_clf, parameters_clf, n_jobs=-1, verbose=2)\n",
    "gs_clf = gs_clf.fit(twenty_train.data, twenty_train.target)\n",
    "\n",
    "print(\"Best score : {}\".format(gs_clf.best_score_))\n",
    "best_parameters = gs_clf.best_estimator_.get_params()\n",
    "best_parameters"
   ]
  },
  {
   "cell_type": "code",
   "execution_count": 18,
   "id": "8f5c1b02",
   "metadata": {},
   "outputs": [
    {
     "data": {
      "text/plain": [
       "{'memory': None,\n",
       " 'steps': [('vect', CountVectorizer(ngram_range=(1, 2))),\n",
       "  ('tfidf', TfidfTransformer()),\n",
       "  ('clf', MultinomialNB(alpha=0.01))],\n",
       " 'verbose': False,\n",
       " 'vect': CountVectorizer(ngram_range=(1, 2)),\n",
       " 'tfidf': TfidfTransformer(),\n",
       " 'clf': MultinomialNB(alpha=0.01),\n",
       " 'vect__analyzer': 'word',\n",
       " 'vect__binary': False,\n",
       " 'vect__decode_error': 'strict',\n",
       " 'vect__dtype': numpy.int64,\n",
       " 'vect__encoding': 'utf-8',\n",
       " 'vect__input': 'content',\n",
       " 'vect__lowercase': True,\n",
       " 'vect__max_df': 1.0,\n",
       " 'vect__max_features': None,\n",
       " 'vect__min_df': 1,\n",
       " 'vect__ngram_range': (1, 2),\n",
       " 'vect__preprocessor': None,\n",
       " 'vect__stop_words': None,\n",
       " 'vect__strip_accents': None,\n",
       " 'vect__token_pattern': '(?u)\\\\b\\\\w\\\\w+\\\\b',\n",
       " 'vect__tokenizer': None,\n",
       " 'vect__vocabulary': None,\n",
       " 'tfidf__norm': 'l2',\n",
       " 'tfidf__smooth_idf': True,\n",
       " 'tfidf__sublinear_tf': False,\n",
       " 'tfidf__use_idf': True,\n",
       " 'clf__alpha': 0.01,\n",
       " 'clf__class_prior': None,\n",
       " 'clf__fit_prior': True}"
      ]
     },
     "execution_count": 18,
     "metadata": {},
     "output_type": "execute_result"
    }
   ],
   "source": [
    "best_parameters = gs_clf.best_estimator_.get_params()\n",
    "best_parameters"
   ]
  },
  {
   "cell_type": "markdown",
   "id": "a4ca2213",
   "metadata": {},
   "source": [
    "### Parameter 적용"
   ]
  },
  {
   "cell_type": "code",
   "execution_count": 19,
   "id": "c74ad0d2",
   "metadata": {},
   "outputs": [
    {
     "data": {
      "text/plain": [
       "0.8344397238449283"
      ]
     },
     "execution_count": 19,
     "metadata": {},
     "output_type": "execute_result"
    }
   ],
   "source": [
    "predicted = gs_clf.best_estimator_.predict(twenty_test.data)\n",
    "np.mean(predicted == twenty_test.target)"
   ]
  },
  {
   "cell_type": "markdown",
   "id": "1ff74fd9",
   "metadata": {},
   "source": [
    "## sklearn 활용 (한글 뉴스 분류)"
   ]
  },
  {
   "cell_type": "code",
   "execution_count": 21,
   "id": "0957c17f",
   "metadata": {},
   "outputs": [
    {
     "data": {
      "text/html": [
       "<div>\n",
       "<style scoped>\n",
       "    .dataframe tbody tr th:only-of-type {\n",
       "        vertical-align: middle;\n",
       "    }\n",
       "\n",
       "    .dataframe tbody tr th {\n",
       "        vertical-align: top;\n",
       "    }\n",
       "\n",
       "    .dataframe thead th {\n",
       "        text-align: right;\n",
       "    }\n",
       "</style>\n",
       "<table border=\"1\" class=\"dataframe\">\n",
       "  <thead>\n",
       "    <tr style=\"text-align: right;\">\n",
       "      <th></th>\n",
       "      <th>url</th>\n",
       "      <th>category1</th>\n",
       "      <th>category2</th>\n",
       "      <th>date</th>\n",
       "      <th>title</th>\n",
       "      <th>media</th>\n",
       "      <th>content</th>\n",
       "    </tr>\n",
       "  </thead>\n",
       "  <tbody>\n",
       "    <tr>\n",
       "      <th>0</th>\n",
       "      <td>https://news.naver.com/main/read.nhn?mode=LS2D...</td>\n",
       "      <td>IT/과학</td>\n",
       "      <td>모바일</td>\n",
       "      <td>2019-05-02</td>\n",
       "      <td>인권단체 중국, 신장위구르 소수민족 감시용 모바일앱 가동</td>\n",
       "      <td>연합뉴스</td>\n",
       "      <td>HRW \"개인 정보 수집·보고서 작성·조사 활동에 앱 활용\" \"36가지 감시유형…뒷...</td>\n",
       "    </tr>\n",
       "    <tr>\n",
       "      <th>1</th>\n",
       "      <td>https://news.naver.com/main/read.nhn?mode=LS2D...</td>\n",
       "      <td>IT/과학</td>\n",
       "      <td>모바일</td>\n",
       "      <td>2019-05-09</td>\n",
       "      <td>카카오, 1분기 매출 7000억 넘어서…8분기째 최고치 경신(종합)</td>\n",
       "      <td>뉴시스</td>\n",
       "      <td>영업익 166.0%↑·순이익 19.</td>\n",
       "    </tr>\n",
       "    <tr>\n",
       "      <th>2</th>\n",
       "      <td>https://news.naver.com/main/read.nhn?mode=LS2D...</td>\n",
       "      <td>IT/과학</td>\n",
       "      <td>과학 일반</td>\n",
       "      <td>2019-12-11</td>\n",
       "      <td>테라젠이텍스, '유전체 정보 관리 시스템' 특허 취득</td>\n",
       "      <td>연합뉴스</td>\n",
       "      <td>(서울=연합뉴스) 김잔디 기자 = 테라젠이텍스는 유전체 분석 정보 관리 시스템에 관...</td>\n",
       "    </tr>\n",
       "    <tr>\n",
       "      <th>3</th>\n",
       "      <td>https://news.naver.com/main/read.nhn?mode=LS2D...</td>\n",
       "      <td>IT/과학</td>\n",
       "      <td>컴퓨터</td>\n",
       "      <td>2019-10-14</td>\n",
       "      <td>두나무-삼성증권-딥서치, 비상장 주식 통합 거래 지원 플랫폼 출범</td>\n",
       "      <td>디지털데일리</td>\n",
       "      <td>'증권플러스 비상장' 서비스를 설명중인 두나무 이성현 핀테크사업실장 [디지털데일리 ...</td>\n",
       "    </tr>\n",
       "    <tr>\n",
       "      <th>4</th>\n",
       "      <td>https://news.naver.com/main/read.nhn?mode=LS2D...</td>\n",
       "      <td>IT/과학</td>\n",
       "      <td>통신/뉴미디어</td>\n",
       "      <td>2019-10-24</td>\n",
       "      <td>과기정통부, 태풍 미탁 피해, 특별재난지역 전파사용료 6개월간 전액감면</td>\n",
       "      <td>전자신문</td>\n",
       "      <td>과기정통부 로고 과학기술정보통신부는 18호 태풍 '미탁'으로 인해 특별재난지역으로 ...</td>\n",
       "    </tr>\n",
       "    <tr>\n",
       "      <th>...</th>\n",
       "      <td>...</td>\n",
       "      <td>...</td>\n",
       "      <td>...</td>\n",
       "      <td>...</td>\n",
       "      <td>...</td>\n",
       "      <td>...</td>\n",
       "      <td>...</td>\n",
       "    </tr>\n",
       "    <tr>\n",
       "      <th>4995</th>\n",
       "      <td>https://news.naver.com/main/read.nhn?mode=LS2D...</td>\n",
       "      <td>생활/문화</td>\n",
       "      <td>종교</td>\n",
       "      <td>2019-06-29</td>\n",
       "      <td>[가정예배 365-6월 29일] 부흥의 회복</td>\n",
       "      <td>국민일보</td>\n",
       "      <td>찬송 : ‘나의 죄를 정케 하사’ 320장(통 350장) 신앙고백 : 사도신경 본문...</td>\n",
       "    </tr>\n",
       "    <tr>\n",
       "      <th>4996</th>\n",
       "      <td>https://news.naver.com/main/read.nhn?mode=LS2D...</td>\n",
       "      <td>생활/문화</td>\n",
       "      <td>건강정보</td>\n",
       "      <td>2019-07-09</td>\n",
       "      <td>쉽게 구할 수 있는 암 예방 식품 5</td>\n",
       "      <td>코메디닷컴</td>\n",
       "      <td>[사진=jv_food01/gettyimagesbank] 전문가들은 \"암은 여러 가지...</td>\n",
       "    </tr>\n",
       "    <tr>\n",
       "      <th>4997</th>\n",
       "      <td>https://news.naver.com/main/read.nhn?mode=LS2D...</td>\n",
       "      <td>생활/문화</td>\n",
       "      <td>날씨</td>\n",
       "      <td>2019-08-03</td>\n",
       "      <td>[오늘의 날씨] 부산·경남(3일, 토)…낮엔 폭염, 밤엔 열대야</td>\n",
       "      <td>뉴스1</td>\n",
       "      <td>자료사진 © News1 (부산ㆍ경남=뉴스1) 박기범 기자 = 3일 부산·경남은 가끔...</td>\n",
       "    </tr>\n",
       "    <tr>\n",
       "      <th>4998</th>\n",
       "      <td>https://news.naver.com/main/read.nhn?mode=LS2D...</td>\n",
       "      <td>생활/문화</td>\n",
       "      <td>공연/전시</td>\n",
       "      <td>2019-07-11</td>\n",
       "      <td>아야스·진발라 “알고리즘·무속적 우주론…내년 광주비엔날레엔 ‘인간 지성’ 다룰 것”</td>\n",
       "      <td>경향신문</td>\n",
       "      <td>ㆍ예술감독 아야스·진발라, 계획 밝혀 ㆍ40주년 5·18은 다른 방식으로 준비 광주...</td>\n",
       "    </tr>\n",
       "    <tr>\n",
       "      <th>4999</th>\n",
       "      <td>https://news.naver.com/main/read.nhn?mode=LS2D...</td>\n",
       "      <td>생활/문화</td>\n",
       "      <td>도로/교통</td>\n",
       "      <td>2019-02-16</td>\n",
       "      <td>제주항공, 지난해 연 매출 1조원 돌파…창사 이래 처음</td>\n",
       "      <td>한국경제</td>\n",
       "      <td>[ 박상재 기자  ] / 사진=제주항공 저비용항공사(LCC)인 제주항공이 노선을 공...</td>\n",
       "    </tr>\n",
       "  </tbody>\n",
       "</table>\n",
       "<p>5000 rows × 7 columns</p>\n",
       "</div>"
      ],
      "text/plain": [
       "                                                    url category1 category2  \\\n",
       "0     https://news.naver.com/main/read.nhn?mode=LS2D...     IT/과학       모바일   \n",
       "1     https://news.naver.com/main/read.nhn?mode=LS2D...     IT/과학       모바일   \n",
       "2     https://news.naver.com/main/read.nhn?mode=LS2D...     IT/과학     과학 일반   \n",
       "3     https://news.naver.com/main/read.nhn?mode=LS2D...     IT/과학       컴퓨터   \n",
       "4     https://news.naver.com/main/read.nhn?mode=LS2D...     IT/과학   통신/뉴미디어   \n",
       "...                                                 ...       ...       ...   \n",
       "4995  https://news.naver.com/main/read.nhn?mode=LS2D...     생활/문화        종교   \n",
       "4996  https://news.naver.com/main/read.nhn?mode=LS2D...     생활/문화      건강정보   \n",
       "4997  https://news.naver.com/main/read.nhn?mode=LS2D...     생활/문화        날씨   \n",
       "4998  https://news.naver.com/main/read.nhn?mode=LS2D...     생활/문화     공연/전시   \n",
       "4999  https://news.naver.com/main/read.nhn?mode=LS2D...     생활/문화     도로/교통   \n",
       "\n",
       "            date                                           title   media  \\\n",
       "0     2019-05-02                 인권단체 중국, 신장위구르 소수민족 감시용 모바일앱 가동    연합뉴스   \n",
       "1     2019-05-09           카카오, 1분기 매출 7000억 넘어서…8분기째 최고치 경신(종합)     뉴시스   \n",
       "2     2019-12-11                   테라젠이텍스, '유전체 정보 관리 시스템' 특허 취득    연합뉴스   \n",
       "3     2019-10-14            두나무-삼성증권-딥서치, 비상장 주식 통합 거래 지원 플랫폼 출범  디지털데일리   \n",
       "4     2019-10-24         과기정통부, 태풍 미탁 피해, 특별재난지역 전파사용료 6개월간 전액감면    전자신문   \n",
       "...          ...                                             ...     ...   \n",
       "4995  2019-06-29                        [가정예배 365-6월 29일] 부흥의 회복    국민일보   \n",
       "4996  2019-07-09                            쉽게 구할 수 있는 암 예방 식품 5   코메디닷컴   \n",
       "4997  2019-08-03             [오늘의 날씨] 부산·경남(3일, 토)…낮엔 폭염, 밤엔 열대야     뉴스1   \n",
       "4998  2019-07-11  아야스·진발라 “알고리즘·무속적 우주론…내년 광주비엔날레엔 ‘인간 지성’ 다룰 것”    경향신문   \n",
       "4999  2019-02-16                  제주항공, 지난해 연 매출 1조원 돌파…창사 이래 처음    한국경제   \n",
       "\n",
       "                                                content  \n",
       "0     HRW \"개인 정보 수집·보고서 작성·조사 활동에 앱 활용\" \"36가지 감시유형…뒷...  \n",
       "1                                   영업익 166.0%↑·순이익 19.  \n",
       "2     (서울=연합뉴스) 김잔디 기자 = 테라젠이텍스는 유전체 분석 정보 관리 시스템에 관...  \n",
       "3     '증권플러스 비상장' 서비스를 설명중인 두나무 이성현 핀테크사업실장 [디지털데일리 ...  \n",
       "4     과기정통부 로고 과학기술정보통신부는 18호 태풍 '미탁'으로 인해 특별재난지역으로 ...  \n",
       "...                                                 ...  \n",
       "4995  찬송 : ‘나의 죄를 정케 하사’ 320장(통 350장) 신앙고백 : 사도신경 본문...  \n",
       "4996  [사진=jv_food01/gettyimagesbank] 전문가들은 \"암은 여러 가지...  \n",
       "4997  자료사진 © News1 (부산ㆍ경남=뉴스1) 박기범 기자 = 3일 부산·경남은 가끔...  \n",
       "4998  ㆍ예술감독 아야스·진발라, 계획 밝혀 ㆍ40주년 5·18은 다른 방식으로 준비 광주...  \n",
       "4999  [ 박상재 기자  ] / 사진=제주항공 저비용항공사(LCC)인 제주항공이 노선을 공...  \n",
       "\n",
       "[5000 rows x 7 columns]"
      ]
     },
     "execution_count": 21,
     "metadata": {},
     "output_type": "execute_result"
    }
   ],
   "source": [
    "import pandas as pd\n",
    "df = pd.read_csv(\"./2019news_1000.csv\")\n",
    "df"
   ]
  },
  {
   "cell_type": "code",
   "execution_count": 22,
   "id": "f2d910c2",
   "metadata": {},
   "outputs": [],
   "source": [
    "from sklearn.model_selection import train_test_split\n",
    "train_data, valid_data,  train_label, valid_label = train_test_split(df['content'], df['category1'], test_size=0.1, random_state=42 )"
   ]
  },
  {
   "cell_type": "code",
   "execution_count": 23,
   "id": "14d46303",
   "metadata": {},
   "outputs": [
    {
     "data": {
      "text/plain": [
       "3716    프리패브(Pre-Fab) 공법을 적용해 재활용품 보관소를 만드는 모습. [포스코건설...\n",
       "3779    [머니투데이 지영호 기자] 홈인테리어 전문기업 한샘이 30일 한샘 오프라인 매장에서...\n",
       "135     보안 업계 홀수해 징크스는 10여년 전으로 거슬러 올라간다. 2009년 발생한 북한...\n",
       "4480    '반려동물을 생각한다' © 뉴스1 (서울=뉴스1) 김연수 기자 = 반려동물 산업이 ...\n",
       "1437    전날 저녁부터 건강 이상 감지…당 안팎 만류에도 단식 이어가 저녁 예배 참석 후 단...\n",
       "47      부산대 문한섭 교수팀 성과…국제 학술지에 논문 게재 양자얽힘 광원에 사용된 루비듐 ...\n",
       "1360    폼페이오, 北 규탄보다 대화에 무게…訪韓 비건이 구체적 메시지 내놓을 듯 北, 당분...\n",
       "734     배송주기, 배송시작일 설정 기능 추가 (지디넷코리아=백봉삼  기자)글로벌 전자상거래...\n",
       "1534    지난해 11월 이후 3개월만···다양한 교류사업 제안 방침 12일 오전 서울 경복궁...\n",
       "2004    [민언련 종편 모니터 보고서] 10월 3주 차 '최악의 문제 발언 10선' [오마이...\n",
       "Name: content, dtype: object"
      ]
     },
     "execution_count": 23,
     "metadata": {},
     "output_type": "execute_result"
    }
   ],
   "source": [
    "train_data[:10]"
   ]
  },
  {
   "cell_type": "code",
   "execution_count": 24,
   "id": "a74381b9",
   "metadata": {},
   "outputs": [
    {
     "data": {
      "text/plain": [
       "3716       경제\n",
       "3779       경제\n",
       "135     IT/과학\n",
       "4480    생활/문화\n",
       "1437       정치\n",
       "47      IT/과학\n",
       "1360       정치\n",
       "734     IT/과학\n",
       "1534       정치\n",
       "2004       사회\n",
       "Name: category1, dtype: object"
      ]
     },
     "execution_count": 24,
     "metadata": {},
     "output_type": "execute_result"
    }
   ],
   "source": [
    "train_label[:10]"
   ]
  },
  {
   "cell_type": "code",
   "execution_count": 25,
   "id": "fce47a39",
   "metadata": {},
   "outputs": [
    {
     "data": {
      "text/plain": [
       "array(['IT/과학', '정치', '사회', '경제', '생활/문화'], dtype=object)"
      ]
     },
     "execution_count": 25,
     "metadata": {},
     "output_type": "execute_result"
    }
   ],
   "source": [
    "df['category1'].unique()"
   ]
  },
  {
   "cell_type": "code",
   "execution_count": 26,
   "id": "1f319c4e",
   "metadata": {},
   "outputs": [],
   "source": [
    "from sklearn.pipeline import Pipeline\n",
    "from sklearn.feature_extraction.text import CountVectorizer\n",
    "from sklearn.feature_extraction.text import TfidfTransformer\n",
    "from sklearn.naive_bayes import MultinomialNB\n",
    "\n",
    "text_clf = Pipeline([('vect', CountVectorizer(ngram_range=(1, 2))), \n",
    "                     ('tfidf', TfidfTransformer(use_idf=True)), \n",
    "                     ('clf', MultinomialNB(alpha=0.01))])\n",
    "\n",
    "text_clf = text_clf.fit(train_data, train_label)"
   ]
  },
  {
   "cell_type": "code",
   "execution_count": 27,
   "id": "ebedeccc",
   "metadata": {},
   "outputs": [
    {
     "data": {
      "text/plain": [
       "0.754"
      ]
     },
     "execution_count": 27,
     "metadata": {},
     "output_type": "execute_result"
    }
   ],
   "source": [
    "import numpy as np\n",
    "\n",
    "predicted = text_clf.predict(valid_data)\n",
    "np.mean(predicted == valid_label)"
   ]
  },
  {
   "cell_type": "markdown",
   "id": "78dd475b",
   "metadata": {},
   "source": [
    "### 서포트 벡터 머신(SVM, Support Vector Machine)"
   ]
  },
  {
   "cell_type": "code",
   "execution_count": 28,
   "id": "e05c19b0",
   "metadata": {},
   "outputs": [],
   "source": [
    "from sklearn.linear_model import SGDClassifier\n",
    "\n",
    "svm_clf = Pipeline([('vect', C)])"
   ]
  },
  {
   "cell_type": "markdown",
   "id": "8371ce6c",
   "metadata": {},
   "source": [
    "#### 문서 분류"
   ]
  },
  {
   "cell_type": "code",
   "execution_count": null,
   "id": "942a2232",
   "metadata": {},
   "outputs": [],
   "source": []
  }
 ],
 "metadata": {
  "kernelspec": {
   "display_name": "Python 3",
   "language": "python",
   "name": "python3"
  },
  "language_info": {
   "codemirror_mode": {
    "name": "ipython",
    "version": 3
   },
   "file_extension": ".py",
   "mimetype": "text/x-python",
   "name": "python",
   "nbconvert_exporter": "python",
   "pygments_lexer": "ipython3",
   "version": "3.8.10"
  },
  "toc": {
   "base_numbering": 1,
   "nav_menu": {},
   "number_sections": true,
   "sideBar": true,
   "skip_h1_title": false,
   "title_cell": "Table of Contents",
   "title_sidebar": "Contents",
   "toc_cell": false,
   "toc_position": {},
   "toc_section_display": true,
   "toc_window_display": false
  },
  "varInspector": {
   "cols": {
    "lenName": 16,
    "lenType": 16,
    "lenVar": 40
   },
   "kernels_config": {
    "python": {
     "delete_cmd_postfix": "",
     "delete_cmd_prefix": "del ",
     "library": "var_list.py",
     "varRefreshCmd": "print(var_dic_list())"
    },
    "r": {
     "delete_cmd_postfix": ") ",
     "delete_cmd_prefix": "rm(",
     "library": "var_list.r",
     "varRefreshCmd": "cat(var_dic_list()) "
    }
   },
   "types_to_exclude": [
    "module",
    "function",
    "builtin_function_or_method",
    "instance",
    "_Feature"
   ],
   "window_display": false
  }
 },
 "nbformat": 4,
 "nbformat_minor": 5
}
