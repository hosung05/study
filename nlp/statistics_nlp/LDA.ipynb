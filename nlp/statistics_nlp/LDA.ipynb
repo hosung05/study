{
 "cells": [
  {
   "cell_type": "code",
   "execution_count": 1,
   "id": "60472eba",
   "metadata": {},
   "outputs": [],
   "source": [
    "import random\n",
    "import numpy as np\n",
    "from nltk.tokenize import word_tokenize\n",
    "from nltk.stem import PorterStemmer\n",
    "from nltk.corpus import stopwords\n",
    "from collections import defaultdict"
   ]
  },
  {
   "cell_type": "code",
   "execution_count": 2,
   "metadata": {},
   "outputs": [],
   "source": [
    "topic_indices = [0, 1, 0, 1, 0, 1, 1, 0, 0, 0, 1,0 ,1, 1, 1, 0, 0]"
   ]
  },
  {
   "cell_type": "code",
   "execution_count": 3,
   "metadata": {},
   "outputs": [],
   "source": [
    "doc_ls = [\"Cute kitty\",\n",
    "\"Eat rice or cake\",\n",
    "\"Kitty and hamster\",\n",
    "\"Eat bread\",\n",
    "\"Rice, bread and cake\",\n",
    "\"Cute hamster eats bread and cake\"]"
   ]
  },
  {
   "cell_type": "code",
   "execution_count": 14,
   "metadata": {},
   "outputs": [],
   "source": [
    "class LDA:\n",
    "\n",
    "    def __init__(self, docs, topic_num, alpha=0.1, beta = 0.001) -> None:\n",
    "        self.alpha = alpha\n",
    "        self.beta = beta\n",
    "        self.k = topic_num\n",
    "        self.docs = docs\n",
    "\n",
    "        def randomly_analysis_topic (self):\n",
    "            dic = defaultdict()\n",
    "            t2i = defaultdict(lambda: len(t2i))\n",
    "            i2t = defaultdict()\n",
    "\n",
    "            porter = PorterStemmer()\n",
    "            stopword = stopwords.words('english')\n",
    "            stopword.append(',')\n",
    "            index = 0\n",
    "            for d, tokens in enumerate([word_tokenize(doc) for doc in self.docs]):\n",
    "                for w, token in enumerate([porter.stem(token.lower()) for token in tokens if token not in stopword]):\n",
    "                    i2t[t2i[token]]= token\n",
    "                    dic[(d, t2i[token], w)] = topic_indices[index]\n",
    "                    # dic[(d, t2i[token], w)] = random.randint(0, self.k -1)\n",
    "                    index += 1\n",
    "\n",
    "        return dic, t2i, i2t\n",
    "\n",
    "\n",
    "        #  for d, tokens in enumerate(word_tokenize[doc] for doc in self.docs):\n",
    "        #      for w, token in enumerate([porter.stem(token.lower()) for token in tokens if token not in stopword ]):\n",
    "        # for doc in self.docs:\n",
    "        #     for token in word_tokenize(doc):\n",
    "        #         i2t[t2i[token]] = token\n",
    "\n",
    "    def topic_modeling(self, count=3):\n",
    "        self.term_topic, t2i, i2t = self.randomly_analysis_topic()"
   ]
  },
  {
   "cell_type": "code",
   "execution_count": 8,
   "metadata": {},
   "outputs": [],
   "source": [
    "lda = LDA(doc_ls,5)"
   ]
  },
  {
   "cell_type": "code",
   "execution_count": null,
   "metadata": {},
   "outputs": [],
   "source": []
  }
 ],
 "metadata": {
  "kernelspec": {
   "name": "python3",
   "display_name": "Python 3.8.10 64-bit ('nlp': conda)"
  },
  "language_info": {
   "codemirror_mode": {
    "name": "ipython",
    "version": 3
   },
   "file_extension": ".py",
   "mimetype": "text/x-python",
   "name": "python",
   "nbconvert_exporter": "python",
   "pygments_lexer": "ipython3",
   "version": "3.8.10"
  },
  "toc": {
   "base_numbering": 1,
   "nav_menu": {},
   "number_sections": true,
   "sideBar": true,
   "skip_h1_title": false,
   "title_cell": "Table of Contents",
   "title_sidebar": "Contents",
   "toc_cell": false,
   "toc_position": {},
   "toc_section_display": true,
   "toc_window_display": false
  },
  "varInspector": {
   "cols": {
    "lenName": 16,
    "lenType": 16,
    "lenVar": 40
   },
   "kernels_config": {
    "python": {
     "delete_cmd_postfix": "",
     "delete_cmd_prefix": "del ",
     "library": "var_list.py",
     "varRefreshCmd": "print(var_dic_list())"
    },
    "r": {
     "delete_cmd_postfix": ") ",
     "delete_cmd_prefix": "rm(",
     "library": "var_list.r",
     "varRefreshCmd": "cat(var_dic_list()) "
    }
   },
   "types_to_exclude": [
    "module",
    "function",
    "builtin_function_or_method",
    "instance",
    "_Feature"
   ],
   "window_display": false
  },
  "interpreter": {
   "hash": "73d4940103e11300043f00ad330523cc1a06dd889af7ec99652e23643049fdd9"
  }
 },
 "nbformat": 4,
 "nbformat_minor": 5
}