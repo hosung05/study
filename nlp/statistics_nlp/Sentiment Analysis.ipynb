{
 "cells": [
  {
   "cell_type": "markdown",
   "id": "bfb314db",
   "metadata": {},
   "source": [
    "# 감정분석(Sentiment Analysis)"
   ]
  },
  {
   "cell_type": "markdown",
   "id": "c7989301",
   "metadata": {},
   "source": [
    "## 사전기반 감정분석"
   ]
  },
  {
   "cell_type": "code",
   "execution_count": 2,
   "id": "712f6508",
   "metadata": {},
   "outputs": [
    {
     "name": "stdout",
     "output_type": "stream",
     "text": [
      "--2021-07-06 11:34:58--  https://raw.githubusercontent.com/park1200656/KnuSentiLex/master/neg_pol_word.txt\n",
      "Resolving raw.githubusercontent.com (raw.githubusercontent.com)... 185.199.109.133, 185.199.110.133, 185.199.108.133, ...\n",
      "Connecting to raw.githubusercontent.com (raw.githubusercontent.com)|185.199.109.133|:443... connected.\n",
      "HTTP request sent, awaiting response... 200 OK\n",
      "Length: 176542 (172K) [text/plain]\n",
      "Saving to: `neg_pol_word.txt'\n",
      "\n",
      "neg_pol_word.txt    100%[===================>] 172.40K  --.-KB/s    in 0.1s    \n",
      "\n",
      "2021-07-06 11:34:58 (1.27 MB/s) - `neg_pol_word.txt' saved [176542/176542]\n",
      "\n",
      "--2021-07-06 11:34:59--  https://raw.githubusercontent.com/park1200656/KnuSentiLex/master/pos_pol_word.txt\n",
      "Resolving raw.githubusercontent.com (raw.githubusercontent.com)... 185.199.110.133, 185.199.108.133, 185.199.111.133, ...\n",
      "Connecting to raw.githubusercontent.com (raw.githubusercontent.com)|185.199.110.133|:443... connected.\n",
      "HTTP request sent, awaiting response... 200 OK\n",
      "Length: 85007 (83K) [text/plain]\n",
      "Saving to: `pos_pol_word.txt'\n",
      "\n",
      "pos_pol_word.txt    100%[===================>]  83.01K  --.-KB/s    in 0.08s   \n",
      "\n",
      "2021-07-06 11:34:59 (1.05 MB/s) - `pos_pol_word.txt' saved [85007/85007]\n",
      "\n"
     ]
    }
   ],
   "source": [
    "#KnuSentiLex 다운로드\n",
    "!wget https://raw.githubusercontent.com/park1200656/KnuSentiLex/master/neg_pol_word.txt\n",
    "!wget https://raw.githubusercontent.com/park1200656/KnuSentiLex/master/pos_pol_word.txt"
   ]
  },
  {
   "cell_type": "code",
   "execution_count": 11,
   "id": "f7da4355",
   "metadata": {},
   "outputs": [
    {
     "name": "stdout",
     "output_type": "stream",
     "text": [
      "['(-;', '(^^)', '(^-^)', '(^^*', '(^_^)', '(^o^)', '*^^*', '/^o^\\\\', ':(', \":'-(\"]\n",
      "['가난', '가난뱅이', '가난살이', '가난살이하다', '가난설음', '가난에', '가난에 쪼들려서', '가난하게', '가난하고', '가난하고 어렵다']\n"
     ]
    }
   ],
   "source": [
    "dct = {}\n",
    "\n",
    "with open('./data/pos_pol_word.txt') as pos, open('./data/neg_pol_word.txt') as neg:\n",
    "    dct['pos'] = pos.read().split('\\n')[19:]\n",
    "    dct['neg'] = neg.read().split(\"\\n\")[19:]\n",
    "\n",
    "\n",
    "print(dct['pos'][:10])\n",
    "print(dct['neg'][:10])"
   ]
  },
  {
   "cell_type": "code",
   "execution_count": 12,
   "id": "31984c11",
   "metadata": {},
   "outputs": [],
   "source": [
    "txt = \"코로나19의 여파로 전 세계 교사들과 학생들 모두 혼란스러운 시기를 보내고 있습니다. 초유의 상황에서도, 학생들을 위해 최선을 다하려는 선생님들의 노력이 계속되고 있는데요. 어려움 속에서, 선생님들은 어떤 방법으로 사랑을 전하고 있을까요? 뉴스G에서 전해드립니다. [리포트] 중국 저장성의 한 산골 마을. 초등학교 교사 왕진량 씨는 지난 2월 말부터, 매일 새벽 다섯 시면 부지런히 집을 나섭니다. 온라인 수업을 받을 수 없는, 깊은 산골 마을에 살고 있는 학생들을 찾아가기 위해서인데요. 선생님이 하루 동안 이동하는 거리는 대략 30km정도. 차도 없이 도보로 네 개의 마을을 돌아다니며 학생들을 만납니다. 매일 이어지는 강행군이지만, 오로지 아이들의 학습이 중단되어서는 안 된다는 생각뿐입니다. 혹시 모를 사태에 대비해 학생들과의 접촉은 최대한 줄입니다. 숙제를 내주고, 검사 후에 모르는 문제를 알려주는 식으로 일대일 수업을 진행하고 있는데요. 아이들에게 배우는 즐거움이 얼마나 소중한 것인지 잘 알기에, 선생님은 이렇게라도 수업을 할 수 있다는 데서 행복을 느낍니다. 영국의 한 초등학교 교사인 젠 포울스 씨는 매일 아침, 무거운 짐을 앞 뒤, 양 옆으로 짊어지고 씩씩하게 발걸음을 옮깁니다. 코로나19로 학교가 문을 닫은 뒤, 형편이 어려운 학생들을 위해 매일 78인분의 점심 도시락을 배달하고 있는데요. 선생님이 재직 중인 초등학교는 전체 학생의 41퍼센트가 무상 급식 대상자이기 때문입니다. 도시락의 무게는 18kg, 걸어야 하는 거리는 8km에 달하지만 기다리는 학생들을 생각하며 지치지 않고 발걸음을 재촉합니다. 학생들은 창문을 통해서 반갑게 인사하기도 하고, 선생님이 볼 수 있게 감사 메시지를 붙여 놓기도 하는데요. 선생님이 정성껏 준비해 손수 배달한 사랑의 도시락. 봉쇄된 도시의 굶주린 아이들에게 소중한 한 끼 식사, 그 이상의 의미가 되고 있습니다. 미국 사우스다코타 주의 중학교 수학 교사인 크리스 와바 씨는, 커다란 화이트보드를 들고 학생의 집을 찾았습니다. 온라인 수업 후, 학생에게 이메일로 방정식 풀이법에 대한 질문을 받았기 때문인데요. 이메일로 답변해주는 것보다 직접 풀이 과정을 보여주는 게 낫다는 생각이었죠. 깜짝 놀란 학생을 마주한 채, 선생님은 현관문 앞에서 열정적으로 문제를 풀기 시작했습니다. 이 열정적인 강의는, 학생이 풀이법을 완벽히 이해할 때까지 이어졌는데요. 바이러스는 전 세계 교실에 혼란을 불러왔지만, 선생님들의 노력은 저마다의 방식으로 계속되고 있습니다. 어려움 속에서도 학생들을 위해 안간힘을 쓰고 있는 모든 선생님들에게, 응원과 박수를 함께 보냅니다.\""
   ]
  },
  {
   "cell_type": "code",
   "execution_count": 13,
   "id": "5f8ce7c2",
   "metadata": {},
   "outputs": [],
   "source": [
    "def analyze_sentiment(txt, dct) :\n",
    "  pos = []\n",
    "  neg = []\n",
    "\n",
    "  for p in dct['pos']:\n",
    "      if p in txt:\n",
    "          pos.append(p)\n",
    "\n",
    "#   for t in txt:\n",
    "#       if t in pos:\n",
    "#           pos.append(t)  \n",
    "\n",
    "  for n in dct['neg']:\n",
    "      if n in txt:\n",
    "          neg.append(n)\n",
    "\n",
    "  return (len(pos)/(len(pos) + len(neg)), pos), (len(neg)/(len(pos) + len(neg)), neg)"
   ]
  },
  {
   "cell_type": "code",
   "execution_count": 14,
   "id": "85c570c2",
   "metadata": {},
   "outputs": [
    {
     "name": "stdout",
     "output_type": "stream",
     "text": [
      "(0.6470588235294118, ['낫다', '대상', '사랑을', '씩씩하게', '열정', '운', '잘', '정', '정성껏', '함께', '감사', '복을', '부지런', '부지런히', '사랑', '사랑의', '소중한', '즐거움', '즐거움이', '행복', '행복을', ''])\n",
      "(0.35294117647058826, ['방정', '어려운', '어려움', '해', '혼란스러운', '화', '굶주린', '모르는', '바이러스', '우는', '짐', ''])\n"
     ]
    }
   ],
   "source": [
    "pos, neg = analyze_sentiment(txt, dct)\n",
    "print(pos)\n",
    "print(neg)"
   ]
  },
  {
   "cell_type": "code",
   "execution_count": 16,
   "id": "3fec77ca",
   "metadata": {},
   "outputs": [
    {
     "name": "stdout",
     "output_type": "stream",
     "text": [
      "--2021-07-06 13:15:37--  https://github.com/e9t/nsmc/raw/master/ratings.txt\n",
      "Resolving github.com (github.com)... 52.78.231.108\n",
      "Connecting to github.com (github.com)|52.78.231.108|:443... connected.\n",
      "HTTP request sent, awaiting response... 302 Found\n",
      "Location: https://raw.githubusercontent.com/e9t/nsmc/master/ratings.txt [following]\n",
      "--2021-07-06 13:15:37--  https://raw.githubusercontent.com/e9t/nsmc/master/ratings.txt\n",
      "Resolving raw.githubusercontent.com (raw.githubusercontent.com)... 185.199.110.133, 185.199.108.133, 185.199.111.133, ...\n",
      "Connecting to raw.githubusercontent.com (raw.githubusercontent.com)|185.199.110.133|:443... connected.\n",
      "HTTP request sent, awaiting response... 200 OK\n",
      "Length: 19515078 (19M) [text/plain]\n",
      "Saving to: `ratings.txt'\n",
      "\n",
      "ratings.txt         100%[===================>]  18.61M  16.6MB/s    in 1.1s    \n",
      "\n",
      "2021-07-06 13:15:40 (16.6 MB/s) - `ratings.txt' saved [19515078/19515078]\n",
      "\n"
     ]
    }
   ],
   "source": [
    "!wget https://github.com/e9t/nsmc/raw/master/ratings.txt"
   ]
  },
  {
   "cell_type": "code",
   "execution_count": 17,
   "id": "03455169",
   "metadata": {},
   "outputs": [],
   "source": [
    "import pandas as pd\n",
    "import numpy as np\n",
    "df = pd.read_csv(\"./data/ratings.txt\",sep='\\t').dropna()"
   ]
  },
  {
   "cell_type": "code",
   "execution_count": 18,
   "id": "265b640f",
   "metadata": {},
   "outputs": [],
   "source": [
    "from sklearn.model_selection import train_test_split\n",
    "from sklearn.feature_extraction.text import CountVectorizer\n",
    "from sklearn.feature_extraction.text import TfidfTransformer\n",
    "from sklearn.naive_bayes import MultinomialNB\n",
    "\n",
    "X_train, X_test, y_train, y_test = train_test_split()"
   ]
  },
  {
   "cell_type": "code",
   "execution_count": null,
   "id": "f939845c",
   "metadata": {},
   "outputs": [],
   "source": []
  }
 ],
 "metadata": {
  "kernelspec": {
   "display_name": "Python 3",
   "language": "python",
   "name": "python3"
  },
  "language_info": {
   "codemirror_mode": {
    "name": "ipython",
    "version": 3
   },
   "file_extension": ".py",
   "mimetype": "text/x-python",
   "name": "python",
   "nbconvert_exporter": "python",
   "pygments_lexer": "ipython3",
   "version": "3.8.10"
  },
  "toc": {
   "base_numbering": 1,
   "nav_menu": {},
   "number_sections": true,
   "sideBar": true,
   "skip_h1_title": false,
   "title_cell": "Table of Contents",
   "title_sidebar": "Contents",
   "toc_cell": false,
   "toc_position": {},
   "toc_section_display": true,
   "toc_window_display": false
  },
  "varInspector": {
   "cols": {
    "lenName": 16,
    "lenType": 16,
    "lenVar": 40
   },
   "kernels_config": {
    "python": {
     "delete_cmd_postfix": "",
     "delete_cmd_prefix": "del ",
     "library": "var_list.py",
     "varRefreshCmd": "print(var_dic_list())"
    },
    "r": {
     "delete_cmd_postfix": ") ",
     "delete_cmd_prefix": "rm(",
     "library": "var_list.r",
     "varRefreshCmd": "cat(var_dic_list()) "
    }
   },
   "types_to_exclude": [
    "module",
    "function",
    "builtin_function_or_method",
    "instance",
    "_Feature"
   ],
   "window_display": false
  }
 },
 "nbformat": 4,
 "nbformat_minor": 5
}
