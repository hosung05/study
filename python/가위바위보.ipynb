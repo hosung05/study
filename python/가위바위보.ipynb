{
 "cells": [
  {
   "cell_type": "code",
   "execution_count": 1,
   "id": "4efe059d",
   "metadata": {},
   "outputs": [],
   "source": [
    "import pickle"
   ]
  },
  {
   "cell_type": "code",
   "execution_count": null,
   "id": "85fdb87b",
   "metadata": {},
   "outputs": [],
   "source": [
    "total = 0\n",
    "win = 0\n",
    "try:\n",
    "    with open(\"score.pkl\", 'rb') as file:\n",
    "        total = pickle.load(total, file)\n",
    "        win = pickle.load(win, file)\n",
    "except Exception \n",
    "\n"
   ]
  },
  {
   "cell_type": "code",
   "execution_count": 2,
   "id": "00da53cd",
   "metadata": {},
   "outputs": [
    {
     "name": "stdout",
     "output_type": "stream",
     "text": [
      "가위(1), 바위(2), 보(3)을 입력해주세요 :1\n"
     ]
    }
   ],
   "source": [
    "user = int(input(\"가위(1), 바위(2), 보(3)을 입력해주세요 :\"))\n",
    "computer = random.randint(1,3)\n",
    "\n",
    "while user in [1,2,3]:\n",
    "    if user == 1 and computer == 3:\n",
    "        win += 1\n",
    "    elif user == 2 and computer == 1:\n",
    "        win += 1\n",
    "    elif user == 3 and computer == 2:\n",
    "        win += 1\n",
    "    total += 1\n",
    "    "
   ]
  },
  {
   "cell_type": "code",
   "execution_count": null,
   "id": "6f5b6d86",
   "metadata": {},
   "outputs": [],
   "source": [
    "score_data = []\n",
    "with open(\"score_data.pkl\",\"rb\") as file:\n",
    "    score_data = pickle.load(file)\n",
    "    \n",
    "while True:\n",
    "    menu = input(\"메뉴를 선택해주세요(1 - 입력, 2 - 조회, 3- 삭제, 0-종료):\")\n",
    "        if menu == '1':\n",
    "            name = input(\"이름:\")\n",
    "            math = input(\"수학:\")\n",
    "            sci = input(\"과학:\")\n",
    "            eng = input(\"영어:\")\n",
    "            \n",
    "            user = {\"name\":name, \"math\":math, \"science\":sci, \"english\":eng}\n",
    "            score_data.append(user)\n",
    "            \n",
    "        elif menu == '2':\n",
    "            for k, v in enumerate(score_data):\n",
    "                print(f\"[{i}]이름: {user['name']},수학 : {user['math']}\")\n",
    "        elif menu == '2':\n",
    "            \n",
    "        elif menu == '0':\n",
    "            break\n",
    "            \n",
    "with open(\"score_data.pkl\", \"wb\") as file:\n",
    "    pickle.dump(score_data, file)"
   ]
  }
 ],
 "metadata": {
  "kernelspec": {
   "display_name": "Python 3",
   "language": "python",
   "name": "python3"
  },
  "language_info": {
   "codemirror_mode": {
    "name": "ipython",
    "version": 3
   },
   "file_extension": ".py",
   "mimetype": "text/x-python",
   "name": "python",
   "nbconvert_exporter": "python",
   "pygments_lexer": "ipython3",
   "version": "3.7.10"
  },
  "toc": {
   "base_numbering": 1,
   "nav_menu": {},
   "number_sections": true,
   "sideBar": true,
   "skip_h1_title": false,
   "title_cell": "Table of Contents",
   "title_sidebar": "Contents",
   "toc_cell": false,
   "toc_position": {},
   "toc_section_display": true,
   "toc_window_display": false
  },
  "varInspector": {
   "cols": {
    "lenName": 16,
    "lenType": 16,
    "lenVar": 40
   },
   "kernels_config": {
    "python": {
     "delete_cmd_postfix": "",
     "delete_cmd_prefix": "del ",
     "library": "var_list.py",
     "varRefreshCmd": "print(var_dic_list())"
    },
    "r": {
     "delete_cmd_postfix": ") ",
     "delete_cmd_prefix": "rm(",
     "library": "var_list.r",
     "varRefreshCmd": "cat(var_dic_list()) "
    }
   },
   "types_to_exclude": [
    "module",
    "function",
    "builtin_function_or_method",
    "instance",
    "_Feature"
   ],
   "window_display": false
  }
 },
 "nbformat": 4,
 "nbformat_minor": 5
}
