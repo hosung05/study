{
 "cells": [
  {
   "cell_type": "markdown",
   "id": "0b642b00",
   "metadata": {},
   "source": [
    "# 리스트의 가장 큰수 가장 작은수 구하기"
   ]
  },
  {
   "cell_type": "code",
   "execution_count": 1,
   "id": "050ccbb4",
   "metadata": {},
   "outputs": [],
   "source": [
    "a = [32, 45, 2, 5, 76]\n",
    "small = a[0]\n",
    "for i in a:"
   ]
  },
  {
   "cell_type": "markdown",
   "id": "fa48899d",
   "metadata": {},
   "source": [
    "# split()"
   ]
  },
  {
   "cell_type": "code",
   "execution_count": 4,
   "id": "e065fad1",
   "metadata": {},
   "outputs": [
    {
     "data": {
      "text/plain": [
       "['사과', '배', '옥수수', '당근']"
      ]
     },
     "execution_count": 4,
     "metadata": {},
     "output_type": "execute_result"
    }
   ],
   "source": [
    "fruit = \"사과,배,옥수수,당근\"\n",
    "fruit_list = fruit.split(\",\")\n",
    "fruit_list"
   ]
  },
  {
   "cell_type": "code",
   "execution_count": 5,
   "id": "5cfa59b5",
   "metadata": {},
   "outputs": [
    {
     "data": {
      "text/plain": [
       "['사과', '배', '옥수수', '당근']"
      ]
     },
     "execution_count": 5,
     "metadata": {},
     "output_type": "execute_result"
    }
   ],
   "source": [
    "fruit_1 = \"사과 배 옥수수 당근\"\n",
    "fruit_list1 = fruit_1.split()\n",
    "fruit_list1"
   ]
  },
  {
   "cell_type": "code",
   "execution_count": 7,
   "id": "4ef8b8f2",
   "metadata": {},
   "outputs": [
    {
     "data": {
      "text/plain": [
       "'사과 배 옥수수 당근'"
      ]
     },
     "execution_count": 7,
     "metadata": {},
     "output_type": "execute_result"
    }
   ],
   "source": [
    "fruit = \" \".join(fruit_list)\n",
    "fruit"
   ]
  },
  {
   "cell_type": "code",
   "execution_count": 13,
   "id": "09d1754d",
   "metadata": {},
   "outputs": [
    {
     "data": {
      "text/plain": [
       "'Python'"
      ]
     },
     "execution_count": 13,
     "metadata": {},
     "output_type": "execute_result"
    }
   ],
   "source": [
    "\"aaaaPythonaaaa\".strip('a')"
   ]
  },
  {
   "cell_type": "code",
   "execution_count": 14,
   "id": "87c7a937",
   "metadata": {},
   "outputs": [
    {
     "data": {
      "text/plain": [
       "'Python is powerful'"
      ]
     },
     "execution_count": 14,
     "metadata": {},
     "output_type": "execute_result"
    }
   ],
   "source": [
    "test_str_multi = \"##***!!!##.... Python is powerful.!... %%!#.. \"\n",
    "test_str_multi.strip('*.#! %')"
   ]
  },
  {
   "cell_type": "code",
   "execution_count": 15,
   "id": "921459b0",
   "metadata": {},
   "outputs": [],
   "source": [
    "str_lr = \"000Python is easy to learn.000\""
   ]
  },
  {
   "cell_type": "code",
   "execution_count": 16,
   "id": "c0ca338f",
   "metadata": {},
   "outputs": [
    {
     "name": "stdout",
     "output_type": "stream",
     "text": [
      "Python is easy to learn.\n"
     ]
    }
   ],
   "source": [
    "print(str_lr.strip('0'))"
   ]
  },
  {
   "cell_type": "code",
   "execution_count": 17,
   "id": "9ee60d57",
   "metadata": {},
   "outputs": [
    {
     "name": "stdout",
     "output_type": "stream",
     "text": [
      "Python is easy to learn.000\n"
     ]
    }
   ],
   "source": [
    "print(str_lr.lstrip('0'))"
   ]
  },
  {
   "cell_type": "code",
   "execution_count": 18,
   "id": "ee5b0c4f",
   "metadata": {},
   "outputs": [
    {
     "name": "stdout",
     "output_type": "stream",
     "text": [
      "000Python is easy to learn.\n"
     ]
    }
   ],
   "source": [
    "print(str_lr.rstrip('0'))"
   ]
  },
  {
   "cell_type": "code",
   "execution_count": 34,
   "id": "81312a28",
   "metadata": {},
   "outputs": [],
   "source": [
    "coffee_menu = \" 에스프레소, 아메리카노, 카페라테 , 카푸치노 \""
   ]
  },
  {
   "cell_type": "code",
   "execution_count": 44,
   "id": "ba5af002",
   "metadata": {},
   "outputs": [
    {
     "data": {
      "text/plain": [
       "'에스프레소, 아메리카노, 카페라테 , 카푸치노'"
      ]
     },
     "execution_count": 44,
     "metadata": {},
     "output_type": "execute_result"
    }
   ],
   "source": [
    "coffee_menu = coffee_menu.strip(' ')\n",
    "coffee_menu"
   ]
  },
  {
   "cell_type": "code",
   "execution_count": 46,
   "id": "1443172f",
   "metadata": {},
   "outputs": [
    {
     "data": {
      "text/plain": [
       "'에스프레소, 아메리카노, 카페라테 , 카푸치노'"
      ]
     },
     "execution_count": 46,
     "metadata": {},
     "output_type": "execute_result"
    }
   ],
   "source": [
    "coffee_menu.strip(', ')"
   ]
  },
  {
   "cell_type": "code",
   "execution_count": null,
   "id": "f5dac69d",
   "metadata": {},
   "outputs": [],
   "source": []
  },
  {
   "cell_type": "code",
   "execution_count": 31,
   "id": "0fdd82e8",
   "metadata": {},
   "outputs": [],
   "source": [
    "coffee_menu = coffee_menu.replace(\" \",'')"
   ]
  },
  {
   "cell_type": "code",
   "execution_count": 33,
   "id": "917f341a",
   "metadata": {},
   "outputs": [
    {
     "data": {
      "text/plain": [
       "['에스프레소', '아메리카노', '카페라테', '카푸치노']"
      ]
     },
     "execution_count": 33,
     "metadata": {},
     "output_type": "execute_result"
    }
   ],
   "source": [
    "coffee_menu.split(',')"
   ]
  },
  {
   "cell_type": "code",
   "execution_count": 47,
   "id": "828f5165",
   "metadata": {},
   "outputs": [
    {
     "data": {
      "text/plain": [
       "0"
      ]
     },
     "execution_count": 47,
     "metadata": {},
     "output_type": "execute_result"
    }
   ],
   "source": [
    "str_f = \"Regular expression\"\n",
    "str_f.find(\"Regular\")"
   ]
  },
  {
   "cell_type": "code",
   "execution_count": 48,
   "id": "e176efb0",
   "metadata": {},
   "outputs": [
    {
     "data": {
      "text/plain": [
       "8"
      ]
     },
     "execution_count": 48,
     "metadata": {},
     "output_type": "execute_result"
    }
   ],
   "source": [
    "str_f.find(\"expression\")"
   ]
  },
  {
   "cell_type": "code",
   "execution_count": 49,
   "id": "b3eca746",
   "metadata": {},
   "outputs": [
    {
     "data": {
      "text/plain": [
       "9"
      ]
     },
     "execution_count": 49,
     "metadata": {},
     "output_type": "execute_result"
    }
   ],
   "source": [
    "str_f.find('x')"
   ]
  },
  {
   "cell_type": "code",
   "execution_count": null,
   "id": "44c7b59c",
   "metadata": {},
   "outputs": [],
   "source": [
    "str"
   ]
  },
  {
   "cell_type": "code",
   "execution_count": 51,
   "id": "789a31e8",
   "metadata": {},
   "outputs": [
    {
     "data": {
      "text/plain": [
       "[0, 1, 2, 3, 4, 5, 6, 7, 8, 9]"
      ]
     },
     "execution_count": 51,
     "metadata": {},
     "output_type": "execute_result"
    }
   ],
   "source": [
    "a = [i for i in range(10)]\n",
    "a"
   ]
  },
  {
   "cell_type": "code",
   "execution_count": 53,
   "id": "657da173",
   "metadata": {},
   "outputs": [
    {
     "data": {
      "text/plain": [
       "[5, 6, 7, 8, 9, 10, 11, 12, 13, 14]"
      ]
     },
     "execution_count": 53,
     "metadata": {},
     "output_type": "execute_result"
    }
   ],
   "source": [
    "b = [i + 5 for i in range(10)]\n",
    "b"
   ]
  },
  {
   "cell_type": "code",
   "execution_count": 55,
   "id": "ff4f4628",
   "metadata": {},
   "outputs": [
    {
     "data": {
      "text/plain": [
       "[0, 3, 6, 9, 12, 15, 18, 21, 24, 27]"
      ]
     },
     "execution_count": 55,
     "metadata": {},
     "output_type": "execute_result"
    }
   ],
   "source": [
    "c = [i * 3 for i in range(10)]\n",
    "c"
   ]
  },
  {
   "cell_type": "code",
   "execution_count": 58,
   "id": "814bd3f9",
   "metadata": {},
   "outputs": [
    {
     "data": {
      "text/plain": [
       "[0, 2, 4, 6, 8]"
      ]
     },
     "execution_count": 58,
     "metadata": {},
     "output_type": "execute_result"
    }
   ],
   "source": [
    "jjack = [i for i in range(10) if i % 2 ==0]\n",
    "jjack"
   ]
  },
  {
   "cell_type": "code",
   "execution_count": 59,
   "id": "4af49274",
   "metadata": {},
   "outputs": [
    {
     "data": {
      "text/plain": [
       "[1, 3, 5, 7, 9]"
      ]
     },
     "execution_count": 59,
     "metadata": {},
     "output_type": "execute_result"
    }
   ],
   "source": [
    "hol = [i for i in range(10) if i % 2 == 1]\n",
    "hol"
   ]
  },
  {
   "cell_type": "code",
   "execution_count": 61,
   "id": "1a4b42a8",
   "metadata": {},
   "outputs": [],
   "source": [
    "d = [i * j for i in range(2, 10) for j in range(2, 10)]"
   ]
  },
  {
   "cell_type": "code",
   "execution_count": 84,
   "id": "7bd7e891",
   "metadata": {},
   "outputs": [],
   "source": [
    "a = [[10, 20], [30, 40], [50, 60]]"
   ]
  },
  {
   "cell_type": "code",
   "execution_count": 67,
   "id": "23f4d3eb",
   "metadata": {},
   "outputs": [
    {
     "data": {
      "text/plain": [
       "list"
      ]
     },
     "execution_count": 67,
     "metadata": {},
     "output_type": "execute_result"
    }
   ],
   "source": [
    "type(a[0])"
   ]
  },
  {
   "cell_type": "code",
   "execution_count": 66,
   "id": "a2ceaa9c",
   "metadata": {},
   "outputs": [
    {
     "data": {
      "text/plain": [
       "int"
      ]
     },
     "execution_count": 66,
     "metadata": {},
     "output_type": "execute_result"
    }
   ],
   "source": [
    "type(a[0][0])"
   ]
  },
  {
   "cell_type": "code",
   "execution_count": 69,
   "id": "d323253e",
   "metadata": {},
   "outputs": [],
   "source": [
    "a[0].append(10)"
   ]
  },
  {
   "cell_type": "code",
   "execution_count": 70,
   "id": "c80fdd25",
   "metadata": {},
   "outputs": [
    {
     "data": {
      "text/plain": [
       "[10, 20, 10]"
      ]
     },
     "execution_count": 70,
     "metadata": {},
     "output_type": "execute_result"
    }
   ],
   "source": [
    "a[0]"
   ]
  },
  {
   "cell_type": "code",
   "execution_count": 71,
   "id": "cd6de2fc",
   "metadata": {},
   "outputs": [],
   "source": [
    "a[1].append(20)"
   ]
  },
  {
   "cell_type": "code",
   "execution_count": 72,
   "id": "1dac1457",
   "metadata": {},
   "outputs": [
    {
     "data": {
      "text/plain": [
       "[30, 40, 20]"
      ]
     },
     "execution_count": 72,
     "metadata": {},
     "output_type": "execute_result"
    }
   ],
   "source": [
    "a[1]"
   ]
  },
  {
   "cell_type": "code",
   "execution_count": 73,
   "id": "4d61c306",
   "metadata": {},
   "outputs": [],
   "source": [
    "a[2].append(70)"
   ]
  },
  {
   "cell_type": "code",
   "execution_count": 74,
   "id": "8a65c24a",
   "metadata": {},
   "outputs": [
    {
     "data": {
      "text/plain": [
       "[50, 60, 70]"
      ]
     },
     "execution_count": 74,
     "metadata": {},
     "output_type": "execute_result"
    }
   ],
   "source": [
    "a[2]"
   ]
  },
  {
   "cell_type": "code",
   "execution_count": 76,
   "id": "503de676",
   "metadata": {},
   "outputs": [],
   "source": [
    "a[2].extend([80,90])"
   ]
  },
  {
   "cell_type": "code",
   "execution_count": 77,
   "id": "0af268d4",
   "metadata": {},
   "outputs": [
    {
     "data": {
      "text/plain": [
       "[[10, 20, 10], [30, 40, 20], [50, 60, 70, 80, 90]]"
      ]
     },
     "execution_count": 77,
     "metadata": {},
     "output_type": "execute_result"
    }
   ],
   "source": [
    "a"
   ]
  },
  {
   "cell_type": "code",
   "execution_count": 80,
   "id": "ef7f732c",
   "metadata": {},
   "outputs": [
    {
     "name": "stdout",
     "output_type": "stream",
     "text": [
      "10 20\n",
      "30 40\n",
      "50 60\n"
     ]
    }
   ],
   "source": [
    "for x, y in a:\n",
    "    print(x, y)"
   ]
  },
  {
   "cell_type": "code",
   "execution_count": 86,
   "id": "5015be4e",
   "metadata": {},
   "outputs": [
    {
     "name": "stdout",
     "output_type": "stream",
     "text": [
      "10 20 \n",
      "30 40 \n",
      "50 60 \n"
     ]
    }
   ],
   "source": [
    "for i in a:\n",
    "    for j in i:\n",
    "        print(j, end=\" \")\n",
    "    print()"
   ]
  },
  {
   "cell_type": "code",
   "execution_count": 87,
   "id": "4896eedc",
   "metadata": {},
   "outputs": [
    {
     "name": "stdout",
     "output_type": "stream",
     "text": [
      "10 20 \n",
      "30 40 \n",
      "50 60 \n"
     ]
    }
   ],
   "source": [
    "for i in range(len(a)):\n",
    "    for j in range(len(a[i])):\n",
    "        print(a[i][j], end=\" \")\n",
    "    print()"
   ]
  },
  {
   "cell_type": "code",
   "execution_count": 88,
   "id": "7ec8c598",
   "metadata": {},
   "outputs": [
    {
     "name": "stdout",
     "output_type": "stream",
     "text": [
      "0 0 10\n",
      "0 1 20\n",
      "1 0 30\n",
      "1 1 40\n",
      "2 0 50\n",
      "2 1 60\n"
     ]
    }
   ],
   "source": [
    "for idx, val in enumerate(a):\n",
    "    for idx2, val2 in enumerate(val):\n",
    "        print(idx, idx2, val2)"
   ]
  },
  {
   "cell_type": "markdown",
   "id": "60c9dfb5",
   "metadata": {},
   "source": [
    "## 실습 1"
   ]
  },
  {
   "cell_type": "code",
   "execution_count": 93,
   "id": "8fc9a4c9",
   "metadata": {},
   "outputs": [
    {
     "name": "stdout",
     "output_type": "stream",
     "text": [
      "['school', 'science', 'mountain']\n"
     ]
    }
   ],
   "source": [
    "word = [\"school\", \"game\", \"piano\", \"science\", \"hotel\" ,\"mountain\"]\n",
    "new_word = [i for i in word if (len(i) >= 6)]\n",
    "print(new_word)"
   ]
  },
  {
   "cell_type": "code",
   "execution_count": 94,
   "id": "84eed48d",
   "metadata": {
    "scrolled": true
   },
   "outputs": [
    {
     "name": "stdout",
     "output_type": "stream",
     "text": [
      "[6, 4, 5, 7, 5, 8]\n"
     ]
    }
   ],
   "source": [
    "word = [\"school\", \"game\", \"piano\", \"science\", \"hotel\" ,\"mountain\"]\n",
    "new_word = [len(i) for i in word]\n",
    "print(new_word)"
   ]
  },
  {
   "cell_type": "markdown",
   "id": "95eeb7d4",
   "metadata": {},
   "source": [
    "## 실습 2"
   ]
  },
  {
   "cell_type": "code",
   "execution_count": 151,
   "id": "93742343",
   "metadata": {},
   "outputs": [],
   "source": [
    "a = [[10, 20], [30, 40], [50, 60]]\n",
    "b = [[2, 3], [4, 5], [6, 7]]\n",
    "new_list = []\n",
    "\n",
    "\n",
    "for i in range(len(a)):\n",
    "    new_list2 = []\n",
    "    for j in range(len(a[i])):\n",
    "        new_list2.append(a[i][j] * b[i][j])\n",
    "    new_list.append(new_list2)"
   ]
  },
  {
   "cell_type": "code",
   "execution_count": 152,
   "id": "29c3cd44",
   "metadata": {},
   "outputs": [
    {
     "data": {
      "text/plain": [
       "[[20, 60], [120, 200], [300, 420]]"
      ]
     },
     "execution_count": 152,
     "metadata": {},
     "output_type": "execute_result"
    }
   ],
   "source": [
    "new_list"
   ]
  },
  {
   "cell_type": "code",
   "execution_count": 5,
   "id": "e44eec3a",
   "metadata": {},
   "outputs": [
    {
     "name": "stdout",
     "output_type": "stream",
     "text": [
      "[[20, 60], [120, 200], [300, 420]]\n"
     ]
    }
   ],
   "source": [
    "a = [[10,20],[30,40],[50,60]]\n",
    "b = [[2,3],[4,5],[6,7]]\n",
    "c = []\n",
    "for a_l, b_l in zip(a,b):\n",
    "    temp = []\n",
    "    for i, j in zip(a_l, b_l):\n",
    "        temp.append(i*j)\n",
    "    c.append(temp)\n",
    "print(c)"
   ]
  },
  {
   "cell_type": "code",
   "execution_count": null,
   "id": "a3243576",
   "metadata": {},
   "outputs": [],
   "source": [
    "total = []\n",
    "for i in rangee(len(a))\n",
    "    temp = []\n",
    "    for j in range(len(a[i]))\n",
    "    "
   ]
  },
  {
   "cell_type": "code",
   "execution_count": 107,
   "id": "afab003f",
   "metadata": {},
   "outputs": [],
   "source": [
    "a = [[10, 20], [30, 40], [50, 60]]\n",
    "b = [[2, 3], [4, 5], [6, 7]]"
   ]
  },
  {
   "cell_type": "markdown",
   "id": "30eb753c",
   "metadata": {},
   "source": [
    "## 실습 3"
   ]
  },
  {
   "cell_type": "code",
   "execution_count": 4,
   "id": "0bb04cc9",
   "metadata": {},
   "outputs": [
    {
     "name": "stdout",
     "output_type": "stream",
     "text": [
      "[[0, 0], [0, 0], [0, 0]]\n"
     ]
    }
   ],
   "source": [
    "a = []\n",
    "for i in range(3):\n",
    "    temp = []\n",
    "\n",
    "    for j in range(2):\n",
    "        temp.append(0)\n",
    "    a.append(temp)\n",
    "print(a)"
   ]
  },
  {
   "cell_type": "code",
   "execution_count": 9,
   "id": "45a69227",
   "metadata": {},
   "outputs": [
    {
     "name": "stdout",
     "output_type": "stream",
     "text": [
      "[[1, 2], [3, 4], [5, 6]]\n"
     ]
    }
   ],
   "source": [
    "a = []\n",
    "\n",
    "for i in range(3):\n",
    "    temp = []\n",
    "    for j in range(2):\n",
    "        temp.append(i*2+1+j) \n",
    "    a.append(temp)\n",
    "print(a)"
   ]
  },
  {
   "cell_type": "code",
   "execution_count": 10,
   "id": "b2007834",
   "metadata": {},
   "outputs": [],
   "source": [
    "file = open(\"file.txt\", \"w\")\n",
    "file.write(\"\"\"first file\n",
    "안녕하세요\"\"\")\n",
    "file.close()\n"
   ]
  },
  {
   "cell_type": "code",
   "execution_count": 16,
   "id": "949fc291",
   "metadata": {},
   "outputs": [],
   "source": [
    "import pickle"
   ]
  },
  {
   "cell_type": "code",
   "execution_count": 36,
   "id": "b6b79823",
   "metadata": {},
   "outputs": [],
   "source": [
    "text = [\"First File\", \"Second Line\"]\n",
    "with open(\"data.pkl\",\"wb\")as file:\n",
    "    pickle.dump(text, file)"
   ]
  },
  {
   "cell_type": "code",
   "execution_count": 19,
   "id": "86984c59",
   "metadata": {},
   "outputs": [
    {
     "name": "stdout",
     "output_type": "stream",
     "text": [
      "['First File', 'Second Line']\n"
     ]
    }
   ],
   "source": [
    "with open(\"data.pkl\",\"rb\") as file:\n",
    "    data = pickle.load(file)\n",
    "    print(data)"
   ]
  },
  {
   "cell_type": "code",
   "execution_count": 20,
   "id": "b44652f9",
   "metadata": {},
   "outputs": [
    {
     "data": {
      "text/plain": [
       "list"
      ]
     },
     "execution_count": 20,
     "metadata": {},
     "output_type": "execute_result"
    }
   ],
   "source": [
    "type(data)"
   ]
  },
  {
   "cell_type": "code",
   "execution_count": 37,
   "id": "0935ba37",
   "metadata": {},
   "outputs": [],
   "source": [
    "total = 0\n",
    "win_count = 0"
   ]
  },
  {
   "cell_type": "markdown",
   "id": "f9e0793c",
   "metadata": {},
   "source": [
    "### 실습1. 가위 바위 보 게임 업그레이드"
   ]
  },
  {
   "cell_type": "code",
   "execution_count": 40,
   "id": "2465120c",
   "metadata": {},
   "outputs": [
    {
     "name": "stdout",
     "output_type": "stream",
     "text": [
      "가위(1), 바위(2), 보(3) 을 입력해주세요 : 1\n",
      "유저 : 가위,컴퓨터 : 바위)\n",
      "가위(1), 바위(2), 보(3) 을 입력해주세요 : 2\n",
      "유저 : 바위,컴퓨터 : 바위)\n",
      "가위(1), 바위(2), 보(3) 을 입력해주세요 : 3\n",
      "유저 : 보,컴퓨터 : 가위)\n",
      "가위(1), 바위(2), 보(3) 을 입력해주세요 : 4\n",
      "게임종료(전체:11,4)\n"
     ]
    }
   ],
   "source": [
    "import random\n",
    "data_dict = {'1':'가위','2':'바위','3':'보'}\n",
    "user = input(\"가위(1), 바위(2), 보(3) 을 입력해주세요 : \")\n",
    "\n",
    "while (int(user) < 4):\n",
    "    computer = str(random.randint(1,3))\n",
    "    if user == '1':\n",
    "        if computer == '3':\n",
    "            total += 1\n",
    "            win_count += 1\n",
    "        else:\n",
    "            total += 1\n",
    "    elif user == '2':\n",
    "        if computer == '1':\n",
    "            total += 1\n",
    "            win_count += 1\n",
    "        else:\n",
    "            total += 1\n",
    "    else:\n",
    "        if computer == '2':\n",
    "            total += 1\n",
    "            win_count += 1\n",
    "        else:\n",
    "            total += 1\n",
    "    print(f'유저 : {data_dict[user]},컴퓨터 : {data_dict[computer]})')\n",
    "    user = input(\"가위(1), 바위(2), 보(3) 을 입력해주세요 : \")\n",
    "    \n",
    "print(f'게임종료(전체:{total},{win_count})')\n",
    "\n",
    "with open(\"game_data\", \"wb\") as file:\n",
    "    pickle.dump(total, file)\n",
    "    pickle.dump(win_count, file)\n",
    "    \n",
    "with open(\"game_data\", \"rb\") as file:\n",
    "    pickle.load(file)\n",
    "    pickle.load(file)"
   ]
  },
  {
   "cell_type": "code",
   "execution_count": 34,
   "id": "78620330",
   "metadata": {},
   "outputs": [
    {
     "name": "stdout",
     "output_type": "stream",
     "text": [
      "메뉴를 선택해주세요(1 - 입력, 2 - 조회, 3 - 삭제, 0 - 종료)1\n"
     ]
    }
   ],
   "source": [
    "menu = input(\"메뉴를 선택해주세요(1 - 입력, 2 - 조회, 3 - 삭제, 0 - 종료)\")\n",
    "if menu == '1':\n",
    "    name = input(\"이름\":)\n",
    "    math = input(\"수학\":)\n",
    "    sci = input(\"과학\":)\n",
    "    eng = input(\"영어\":)\n",
    "    stu_data = {'이름':name, \"수학\":math, \"과학\":sci, \"영어\":eng}\n",
    "elif menu == '2':\n",
    "    for i in range()\n",
    "    print()\n",
    "elif menu == '3':\n",
    "    \n",
    "\n",
    "elif menu == '0':\n",
    "    \n",
    "    \n",
    "with open(\"exam_data\", \"wb\") as file:\n",
    "    pickle.dump(name, file)\n",
    "    pickle.dump(math, file)\n",
    "    pickle.dump(sci, file)\n",
    "    pickle.dump(stu_data, file)\n",
    "    \n",
    "    \n",
    "with open(\"exam_data\", \"rb\") as file:\n",
    "    pickle.load(stu_data, file)"
   ]
  },
  {
   "cell_type": "code",
   "execution_count": 35,
   "id": "99f05b8a",
   "metadata": {},
   "outputs": [
    {
     "data": {
      "text/plain": [
       "str"
      ]
     },
     "execution_count": 35,
     "metadata": {},
     "output_type": "execute_result"
    }
   ],
   "source": [
    "type(menu)"
   ]
  },
  {
   "cell_type": "code",
   "execution_count": 43,
   "id": "fe6cc2e1",
   "metadata": {},
   "outputs": [],
   "source": [
    "def plus(a,b):\n",
    "    print(\"함수입니다.\")\n",
    "    return a + b\n"
   ]
  },
  {
   "cell_type": "code",
   "execution_count": 44,
   "id": "6fa6daee",
   "metadata": {},
   "outputs": [
    {
     "name": "stdout",
     "output_type": "stream",
     "text": [
      "함수입니다.\n"
     ]
    },
    {
     "data": {
      "text/plain": [
       "3"
      ]
     },
     "execution_count": 44,
     "metadata": {},
     "output_type": "execute_result"
    }
   ],
   "source": [
    "plus(1,2)"
   ]
  },
  {
   "cell_type": "code",
   "execution_count": 47,
   "id": "c9c9c27e",
   "metadata": {},
   "outputs": [
    {
     "name": "stdout",
     "output_type": "stream",
     "text": [
      "함수입니다.\n"
     ]
    },
    {
     "data": {
      "text/plain": [
       "'gb'"
      ]
     },
     "execution_count": 47,
     "metadata": {},
     "output_type": "execute_result"
    }
   ],
   "source": [
    "plus('g','b')"
   ]
  },
  {
   "cell_type": "code",
   "execution_count": 69,
   "id": "80c235b5",
   "metadata": {},
   "outputs": [],
   "source": [
    "def func2(a, b):\n",
    "    list(f'{a}, {b}')\n",
    "    print(f'{a}, {b}')"
   ]
  },
  {
   "cell_type": "code",
   "execution_count": 70,
   "id": "1253223d",
   "metadata": {},
   "outputs": [
    {
     "name": "stdout",
     "output_type": "stream",
     "text": [
      "정, 호성\n"
     ]
    }
   ],
   "source": [
    "a=func2(\"정\", \"호성\")"
   ]
  },
  {
   "cell_type": "code",
   "execution_count": 71,
   "id": "32f17059",
   "metadata": {},
   "outputs": [
    {
     "data": {
      "text/plain": [
       "NoneType"
      ]
     },
     "execution_count": 71,
     "metadata": {},
     "output_type": "execute_result"
    }
   ],
   "source": [
    "type(a)"
   ]
  },
  {
   "cell_type": "code",
   "execution_count": null,
   "id": "de7ef003",
   "metadata": {},
   "outputs": [],
   "source": [
    "def id_check(id):\n",
    "    if id == 'admin':\n",
    "        print('Invlid id : admin')\n",
    "    "
   ]
  },
  {
   "cell_type": "code",
   "execution_count": 72,
   "id": "91e4dc36",
   "metadata": {},
   "outputs": [],
   "source": [
    "def func(a):\n",
    "    b = a + 1\n",
    "    print(a, b)"
   ]
  },
  {
   "cell_type": "code",
   "execution_count": 74,
   "id": "6699eff8",
   "metadata": {},
   "outputs": [
    {
     "name": "stdout",
     "output_type": "stream",
     "text": [
      "2 3\n"
     ]
    }
   ],
   "source": [
    "a= func(2)"
   ]
  },
  {
   "cell_type": "code",
   "execution_count": 75,
   "id": "ae808412",
   "metadata": {},
   "outputs": [
    {
     "data": {
      "text/plain": [
       "NoneType"
      ]
     },
     "execution_count": 75,
     "metadata": {},
     "output_type": "execute_result"
    }
   ],
   "source": [
    "type(a)"
   ]
  },
  {
   "cell_type": "code",
   "execution_count": null,
   "id": "c89c993e",
   "metadata": {},
   "outputs": [],
   "source": []
  }
 ],
 "metadata": {
  "kernelspec": {
   "display_name": "Python 3",
   "language": "python",
   "name": "python3"
  },
  "language_info": {
   "codemirror_mode": {
    "name": "ipython",
    "version": 3
   },
   "file_extension": ".py",
   "mimetype": "text/x-python",
   "name": "python",
   "nbconvert_exporter": "python",
   "pygments_lexer": "ipython3",
   "version": "3.7.10"
  },
  "toc": {
   "base_numbering": 1,
   "nav_menu": {},
   "number_sections": true,
   "sideBar": true,
   "skip_h1_title": false,
   "title_cell": "Table of Contents",
   "title_sidebar": "Contents",
   "toc_cell": false,
   "toc_position": {},
   "toc_section_display": true,
   "toc_window_display": false
  },
  "varInspector": {
   "cols": {
    "lenName": 16,
    "lenType": 16,
    "lenVar": 40
   },
   "kernels_config": {
    "python": {
     "delete_cmd_postfix": "",
     "delete_cmd_prefix": "del ",
     "library": "var_list.py",
     "varRefreshCmd": "print(var_dic_list())"
    },
    "r": {
     "delete_cmd_postfix": ") ",
     "delete_cmd_prefix": "rm(",
     "library": "var_list.r",
     "varRefreshCmd": "cat(var_dic_list()) "
    }
   },
   "types_to_exclude": [
    "module",
    "function",
    "builtin_function_or_method",
    "instance",
    "_Feature"
   ],
   "window_display": false
  }
 },
 "nbformat": 4,
 "nbformat_minor": 5
}
