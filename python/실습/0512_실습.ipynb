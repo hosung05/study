{
 "cells": [
  {
   "cell_type": "code",
   "execution_count": 1,
   "metadata": {},
   "outputs": [],
   "source": [
    "fruit = ['사과','오렌지']\n",
    "vegetable = ['당근','호박']"
   ]
  },
  {
   "cell_type": "code",
   "execution_count": 8,
   "metadata": {},
   "outputs": [
    {
     "name": "stdout",
     "output_type": "stream",
     "text": [
      "등록할 카테고리를 선택해주세요 (과일, 채소):채소\n",
      "등록할 채소를 입력해주세요당근\n",
      "채소\n",
      "당근\n",
      "이미 등록된 야채입니다\n"
     ]
    }
   ],
   "source": [
    "category = input(\"등록할 카테고리를 선택해주세요 (과일, 채소):\")\n",
    "item = input(\"등록할 {}를 입력해주세요\".format(category))\n",
    "print(category)\n",
    "print(item)\n",
    "\n",
    "\n",
    "if category not in ['과일','채소']:\n",
    "    print('존재하지 않은 카테고리입니다')\n",
    "else:\n",
    "    if category == '과일':\n",
    "        if item in fruit:\n",
    "            print('이미 등록된 과일입니다')\n",
    "        else:\n",
    "            fruit.append(item)\n",
    "            print(fruit)\n",
    "    else:\n",
    "        if item in vegetable:\n",
    "            print('이미 등록된 채소입니다')\n",
    "        else:\n",
    "            vegetable.append(item)\n",
    "            print(vegetable)"
   ]
  },
  {
   "cell_type": "code",
   "execution_count": 15,
   "metadata": {},
   "outputs": [
    {
     "name": "stdout",
     "output_type": "stream",
     "text": [
      "등록할 카테고리를 선택해주세요 (과일, 채소):채소\n",
      "등록할 채소를 입력해주세요당근\n",
      "채소\n",
      "당근\n",
      "item list : ['당근', '호박']\n",
      "이미 등록된 채소입니다\n"
     ]
    }
   ],
   "source": [
    "category = input(\"등록할 카테고리를 선택해주세요 (과일, 채소):\")\n",
    "item = input(\"등록할 {}를 입력해주세요\".format(category))\n",
    "print(category)\n",
    "print(item)\n",
    "\n",
    "category_list = ['과일','채소']\n",
    "category_dict = {'과일': fruit, '채소':vegetable}\n",
    "\n",
    "if category not in category_list:\n",
    "    print('존재하지 않은 카테고리입니다')\n",
    "else:\n",
    "    item_list = category_dict[category]\n",
    "    print(f'item list : {item_list}')\n",
    "    if item in item_list:\n",
    "        print(f'이미 등록된 {category}입니다')\n",
    "    else:\n",
    "        item_list.append(item)\n",
    "        print(item_list)"
   ]
  },
  {
   "cell_type": "code",
   "execution_count": 12,
   "metadata": {},
   "outputs": [
    {
     "data": {
      "text/plain": [
       "['사과', '오렌지']"
      ]
     },
     "execution_count": 12,
     "metadata": {},
     "output_type": "execute_result"
    }
   ],
   "source": [
    "category_list = ['과일','채소']\n",
    "category_dict = {'과일': fruit, '채소':vegetable}\n",
    "\n",
    "category_name = '과일'\n",
    "category_dict[category_name]"
   ]
  },
  {
   "cell_type": "markdown",
   "metadata": {},
   "source": [
    "# 반복문"
   ]
  },
  {
   "cell_type": "code",
   "execution_count": 17,
   "metadata": {},
   "outputs": [
    {
     "name": "stdout",
     "output_type": "stream",
     "text": [
      "0 번째\n",
      "완료\n",
      "1 번째\n",
      "완료\n",
      "2 번째\n",
      "완료\n",
      "3 번째\n",
      "완료\n",
      "4 번째\n",
      "완료\n",
      "5 번째\n",
      "완료\n",
      "6 번째\n",
      "완료\n",
      "7 번째\n",
      "완료\n",
      "8 번째\n",
      "완료\n",
      "9 번째\n",
      "완료\n"
     ]
    }
   ],
   "source": [
    "for i in range(10):\n",
    "    print(f'{i} 번째')\n",
    "    print(\"완료\")"
   ]
  },
  {
   "cell_type": "code",
   "execution_count": 18,
   "metadata": {},
   "outputs": [
    {
     "name": "stdout",
     "output_type": "stream",
     "text": [
      "10\n",
      "9\n",
      "8\n",
      "7\n",
      "6\n",
      "5\n",
      "4\n",
      "3\n",
      "2\n",
      "1\n"
     ]
    }
   ],
   "source": [
    "for i in range(10, 0, -1):\n",
    "    print(i)"
   ]
  },
  {
   "cell_type": "code",
   "execution_count": 19,
   "metadata": {},
   "outputs": [
    {
     "name": "stdout",
     "output_type": "stream",
     "text": [
      "1\n",
      "2\n",
      "3\n",
      "4\n",
      "5\n",
      "6\n",
      "7\n"
     ]
    }
   ],
   "source": [
    "a = [1, 2, 3, 4, 5, 6, 7]\n",
    "for i in a:\n",
    "    print(i)"
   ]
  },
  {
   "cell_type": "code",
   "execution_count": 41,
   "metadata": {},
   "outputs": [
    {
     "name": "stdout",
     "output_type": "stream",
     "text": [
      "0 : 1\n",
      "1 : 2\n",
      "2 : 3\n",
      "3 : 4\n",
      "4 : 5\n",
      "5 : 6\n",
      "6 : 7\n"
     ]
    }
   ],
   "source": [
    "a = [1, 2, 3, 4, 5, 6, 7]\n",
    "for i in range(len(a)):\n",
    "    print(\"{} : {}\".format(i, a[i]))"
   ]
  },
  {
   "cell_type": "code",
   "execution_count": 42,
   "metadata": {},
   "outputs": [
    {
     "name": "stdout",
     "output_type": "stream",
     "text": [
      "0 => 1\n",
      "1 => 2\n",
      "2 => 3\n",
      "3 => 4\n",
      "4 => 5\n",
      "5 => 6\n",
      "6 => 7\n"
     ]
    }
   ],
   "source": [
    "a = [1, 2, 3, 4, 5, 6, 7]\n",
    "for i, num in enumerate(a):\n",
    "    print(f\"{i} => {num}\")\n",
    "    "
   ]
  },
  {
   "cell_type": "code",
   "execution_count": 21,
   "metadata": {},
   "outputs": [
    {
     "name": "stdout",
     "output_type": "stream",
     "text": [
      "Orange"
     ]
    }
   ],
   "source": [
    "a = \"Orange\"\n",
    "for i in a:\n",
    "    print(i, end=\"\")"
   ]
  },
  {
   "cell_type": "code",
   "execution_count": 38,
   "metadata": {},
   "outputs": [
    {
     "name": "stdout",
     "output_type": "stream",
     "text": [
      "name : Tom\n",
      "math : 80\n",
      "english : 90\n"
     ]
    }
   ],
   "source": [
    "a = {\"name\":\"Tom\", \"math\":80, \"english\":90}\n",
    "for k in a:\n",
    "    print(f\"{k} : {a[k]}\")"
   ]
  },
  {
   "cell_type": "code",
   "execution_count": 33,
   "metadata": {},
   "outputs": [
    {
     "name": "stdout",
     "output_type": "stream",
     "text": [
      "name\n",
      "math\n",
      "english\n"
     ]
    }
   ],
   "source": [
    "for key in a.keys():\n",
    "    print(key)"
   ]
  },
  {
   "cell_type": "code",
   "execution_count": 34,
   "metadata": {},
   "outputs": [
    {
     "name": "stdout",
     "output_type": "stream",
     "text": [
      "Tom\n",
      "80\n",
      "90\n"
     ]
    }
   ],
   "source": [
    "for value in a.values():\n",
    "    print(value)"
   ]
  },
  {
   "cell_type": "code",
   "execution_count": 35,
   "metadata": {},
   "outputs": [
    {
     "name": "stdout",
     "output_type": "stream",
     "text": [
      "('name', 'Tom')\n",
      "('math', 80)\n",
      "('english', 90)\n"
     ]
    }
   ],
   "source": [
    "for item in a.items():\n",
    "    print(item)"
   ]
  },
  {
   "cell_type": "code",
   "execution_count": 40,
   "metadata": {},
   "outputs": [
    {
     "name": "stdout",
     "output_type": "stream",
     "text": [
      "name : Tom\n",
      "math : 80\n",
      "english : 90\n"
     ]
    }
   ],
   "source": [
    "for k, v in a.items():\n",
    "    print(f'{k} : {v}')"
   ]
  },
  {
   "cell_type": "code",
   "execution_count": 39,
   "metadata": {},
   "outputs": [
    {
     "name": "stdout",
     "output_type": "stream",
     "text": [
      "10\n",
      "20\n"
     ]
    }
   ],
   "source": [
    "x, y = 10, 20\n",
    "print(x)\n",
    "print(y)"
   ]
  },
  {
   "cell_type": "code",
   "execution_count": 43,
   "metadata": {},
   "outputs": [
    {
     "name": "stdout",
     "output_type": "stream",
     "text": [
      "******************** 0\n",
      "j :  0\n",
      "j :  1\n",
      "j :  2\n",
      "j :  3\n",
      "j :  4\n",
      "******************** 1\n",
      "j :  0\n",
      "j :  1\n",
      "j :  2\n",
      "j :  3\n",
      "j :  4\n",
      "******************** 2\n",
      "j :  0\n",
      "j :  1\n",
      "j :  2\n",
      "j :  3\n",
      "j :  4\n",
      "******************** 3\n",
      "j :  0\n",
      "j :  1\n",
      "j :  2\n",
      "j :  3\n",
      "j :  4\n",
      "******************** 4\n",
      "j :  0\n",
      "j :  1\n",
      "j :  2\n",
      "j :  3\n",
      "j :  4\n"
     ]
    }
   ],
   "source": [
    "for i in range(5):\n",
    "    print(\"*\"*20, i)\n",
    "    for j in range(5):\n",
    "        print('j : ', j)"
   ]
  },
  {
   "cell_type": "code",
   "execution_count": 47,
   "metadata": {},
   "outputs": [
    {
     "data": {
      "text/plain": [
       "[30, 60, 90, 200, -70, 50]"
      ]
     },
     "execution_count": 47,
     "metadata": {},
     "output_type": "execute_result"
    }
   ],
   "source": [
    "x = [3, 6, 9, 20, -7, 5]\n",
    "\n",
    "for i in range(len(x)):\n",
    "    x[i] *= 10\n",
    "    \n",
    "x"
   ]
  },
  {
   "cell_type": "code",
   "execution_count": 48,
   "metadata": {},
   "outputs": [
    {
     "data": {
      "text/plain": [
       "{'math': 80, 'science': 90, 'english': 30}"
      ]
     },
     "execution_count": 48,
     "metadata": {},
     "output_type": "execute_result"
    }
   ],
   "source": [
    "y = {\"math\": 70, \"science\":80, \"english\":20}\n",
    "for k in y:\n",
    "    y[k] += 10\n",
    "y"
   ]
  },
  {
   "cell_type": "code",
   "execution_count": 49,
   "metadata": {},
   "outputs": [
    {
     "name": "stdout",
     "output_type": "stream",
     "text": [
      "몇단을 출력하시겠습니까?3\n",
      "3 * 1 = 3\n",
      "3 * 2 = 6\n",
      "3 * 3 = 9\n",
      "3 * 4 = 12\n",
      "3 * 5 = 15\n",
      "3 * 6 = 18\n",
      "3 * 7 = 21\n",
      "3 * 8 = 24\n",
      "3 * 9 = 27\n"
     ]
    }
   ],
   "source": [
    "num = int(input(\"몇단을 출력하시겠습니까?\"))\n",
    "for i in range(1, 10):\n",
    "    print(\"{} * {} = {}\".format(num, i, num * i))"
   ]
  },
  {
   "cell_type": "code",
   "execution_count": 54,
   "metadata": {},
   "outputs": [
    {
     "data": {
      "text/plain": [
       "['school', 'science', 'mountain']"
      ]
     },
     "execution_count": 54,
     "metadata": {},
     "output_type": "execute_result"
    }
   ],
   "source": [
    "words = ['school', 'game', 'piano', 'science', 'hotel', 'mountain']\n",
    "new_words = []\n",
    "for word in words:\n",
    "    if len(word) >= 6:\n",
    "        new_words.append(word)\n",
    "        \n",
    "new_words"
   ]
  },
  {
   "cell_type": "code",
   "execution_count": 55,
   "metadata": {},
   "outputs": [
    {
     "name": "stdout",
     "output_type": "stream",
     "text": [
      "1 * 1 = 1\n",
      "1 * 2 = 2\n",
      "1 * 3 = 3\n",
      "1 * 4 = 4\n",
      "1 * 5 = 5\n",
      "1 * 6 = 6\n",
      "1 * 7 = 7\n",
      "1 * 8 = 8\n",
      "1 * 9 = 9\n",
      "2 * 1 = 2\n",
      "2 * 2 = 4\n",
      "2 * 3 = 6\n",
      "2 * 4 = 8\n",
      "2 * 5 = 10\n",
      "2 * 6 = 12\n",
      "2 * 7 = 14\n",
      "2 * 8 = 16\n",
      "2 * 9 = 18\n",
      "3 * 1 = 3\n",
      "3 * 2 = 6\n",
      "3 * 3 = 9\n",
      "3 * 4 = 12\n",
      "3 * 5 = 15\n",
      "3 * 6 = 18\n",
      "3 * 7 = 21\n",
      "3 * 8 = 24\n",
      "3 * 9 = 27\n",
      "4 * 1 = 4\n",
      "4 * 2 = 8\n",
      "4 * 3 = 12\n",
      "4 * 4 = 16\n",
      "4 * 5 = 20\n",
      "4 * 6 = 24\n",
      "4 * 7 = 28\n",
      "4 * 8 = 32\n",
      "4 * 9 = 36\n",
      "5 * 1 = 5\n",
      "5 * 2 = 10\n",
      "5 * 3 = 15\n",
      "5 * 4 = 20\n",
      "5 * 5 = 25\n",
      "5 * 6 = 30\n",
      "5 * 7 = 35\n",
      "5 * 8 = 40\n",
      "5 * 9 = 45\n",
      "6 * 1 = 6\n",
      "6 * 2 = 12\n",
      "6 * 3 = 18\n",
      "6 * 4 = 24\n",
      "6 * 5 = 30\n",
      "6 * 6 = 36\n",
      "6 * 7 = 42\n",
      "6 * 8 = 48\n",
      "6 * 9 = 54\n",
      "7 * 1 = 7\n",
      "7 * 2 = 14\n",
      "7 * 3 = 21\n",
      "7 * 4 = 28\n",
      "7 * 5 = 35\n",
      "7 * 6 = 42\n",
      "7 * 7 = 49\n",
      "7 * 8 = 56\n",
      "7 * 9 = 63\n",
      "8 * 1 = 8\n",
      "8 * 2 = 16\n",
      "8 * 3 = 24\n",
      "8 * 4 = 32\n",
      "8 * 5 = 40\n",
      "8 * 6 = 48\n",
      "8 * 7 = 56\n",
      "8 * 8 = 64\n",
      "8 * 9 = 72\n",
      "9 * 1 = 9\n",
      "9 * 2 = 18\n",
      "9 * 3 = 27\n",
      "9 * 4 = 36\n",
      "9 * 5 = 45\n",
      "9 * 6 = 54\n",
      "9 * 7 = 63\n",
      "9 * 8 = 72\n",
      "9 * 9 = 81\n"
     ]
    }
   ],
   "source": [
    "for num in range(1, 10):\n",
    "    for i in range(1, 10):\n",
    "        print(\"{} * {} = {}\".format(num, i, num * i))"
   ]
  },
  {
   "cell_type": "code",
   "execution_count": 60,
   "metadata": {},
   "outputs": [
    {
     "name": "stdout",
     "output_type": "stream",
     "text": [
      "0, 0, [3, 6, 9, 20, -7, 5]\n",
      "0, 1, [3, 6, 9, 20, -7, 5]\n",
      "0, 2, [3, 6, 9, 20, -7, 5]\n",
      "0, 3, [3, 6, 9, -7, 20, 5]\n",
      "0, 4, [3, 6, 9, -7, 5, 20]\n",
      "1, 0, [3, 6, 9, -7, 5, 20]\n",
      "1, 1, [3, 6, 9, -7, 5, 20]\n",
      "1, 2, [3, 6, -7, 9, 5, 20]\n",
      "1, 3, [3, 6, -7, 5, 9, 20]\n",
      "2, 0, [3, 6, -7, 5, 9, 20]\n",
      "2, 1, [3, -7, 6, 5, 9, 20]\n",
      "2, 2, [3, -7, 5, 6, 9, 20]\n",
      "3, 0, [-7, 3, 5, 6, 9, 20]\n",
      "3, 1, [-7, 3, 5, 6, 9, 20]\n",
      "4, 0, [-7, 3, 5, 6, 9, 20]\n"
     ]
    }
   ],
   "source": [
    "x = [3, 6, 9, 20, -7, 5]\n",
    "\n",
    "for i in range(len(x) - 1):\n",
    "    for j in range(len(x) - i - 1):\n",
    "        if x[j] > x[j + 1]:\n",
    "            x[j], x[j + 1] = x[j + 1], x[j]\n",
    "        print(f\"{i}, {j}, {x}\")\n"
   ]
  },
  {
   "cell_type": "code",
   "execution_count": 64,
   "metadata": {},
   "outputs": [
    {
     "name": "stdout",
     "output_type": "stream",
     "text": [
      "-7\n",
      "[-7, 3, 5, 6, 9, 20]\n"
     ]
    }
   ],
   "source": [
    "a = [3, 6, 9, 20, -7, 5]\n",
    "b = []\n",
    "print(min(a))\n",
    "for i in range(min(a),max(a) + 1):\n",
    "    if i in a:\n",
    "        b.append(i)\n",
    "\n",
    "print(b)\n",
    "\n"
   ]
  },
  {
   "cell_type": "code",
   "execution_count": 65,
   "metadata": {},
   "outputs": [
    {
     "name": "stdout",
     "output_type": "stream",
     "text": [
      "-7 , 3 , 5 , 6 , 9 , 20\n"
     ]
    }
   ],
   "source": [
    "a=[3,6,9,20,-7,5]\n",
    "for x in a:\n",
    "    for y in a:\n",
    "        for z in a:\n",
    "            for c in a:\n",
    "                for d in a:\n",
    "                    for k in a:\n",
    "                        if x<y<z<c<d<k:\n",
    "                            print(x,\",\",y,\",\",z,\",\",c,\",\",d,\",\",k)\n"
   ]
  },
  {
   "cell_type": "code",
   "execution_count": 72,
   "metadata": {},
   "outputs": [
    {
     "data": {
      "text/plain": [
       "[-7, 3, 5, 6, 9, 20]"
      ]
     },
     "execution_count": 72,
     "metadata": {},
     "output_type": "execute_result"
    }
   ],
   "source": [
    "numbers = [3, 6, 9, 20, -7, 5]\n",
    "\n",
    "for i in range(len(numbers)):\n",
    "    for x in range(i+1,len(numbers)):\n",
    "        if numbers[i]>numbers[x]:\n",
    "            numbers.insert(i, numbers.pop(x))\n",
    "numbers\n"
   ]
  },
  {
   "cell_type": "code",
   "execution_count": 73,
   "metadata": {},
   "outputs": [
    {
     "name": "stdout",
     "output_type": "stream",
     "text": [
      "1\n",
      "2\n",
      "3의 공배수\n",
      "4\n",
      "5의 공배수\n",
      "3의 공배수\n",
      "7\n",
      "8\n",
      "3의 공배수\n",
      "5의 공배수\n",
      "11\n",
      "3의 공배수\n",
      "13\n",
      "14\n",
      "3과 5의 공배수\n",
      "16\n",
      "17\n",
      "3의 공배수\n",
      "19\n",
      "5의 공배수\n",
      "3의 공배수\n",
      "22\n",
      "23\n",
      "3의 공배수\n",
      "5의 공배수\n",
      "26\n",
      "3의 공배수\n",
      "28\n",
      "29\n",
      "3과 5의 공배수\n",
      "31\n",
      "32\n",
      "3의 공배수\n",
      "34\n",
      "5의 공배수\n",
      "3의 공배수\n",
      "37\n",
      "38\n",
      "3의 공배수\n",
      "5의 공배수\n",
      "41\n",
      "3의 공배수\n",
      "43\n",
      "44\n",
      "3과 5의 공배수\n",
      "46\n",
      "47\n",
      "3의 공배수\n",
      "49\n",
      "5의 공배수\n",
      "3의 공배수\n",
      "52\n",
      "53\n",
      "3의 공배수\n",
      "5의 공배수\n",
      "56\n",
      "3의 공배수\n",
      "58\n",
      "59\n",
      "3과 5의 공배수\n",
      "61\n",
      "62\n",
      "3의 공배수\n",
      "64\n",
      "5의 공배수\n",
      "3의 공배수\n",
      "67\n",
      "68\n",
      "3의 공배수\n",
      "5의 공배수\n",
      "71\n",
      "3의 공배수\n",
      "73\n",
      "74\n",
      "3과 5의 공배수\n",
      "76\n",
      "77\n",
      "3의 공배수\n",
      "79\n",
      "5의 공배수\n",
      "3의 공배수\n",
      "82\n",
      "83\n",
      "3의 공배수\n",
      "5의 공배수\n",
      "86\n",
      "3의 공배수\n",
      "88\n",
      "89\n",
      "3과 5의 공배수\n",
      "91\n",
      "92\n",
      "3의 공배수\n",
      "94\n",
      "5의 공배수\n",
      "3의 공배수\n",
      "97\n",
      "98\n",
      "3의 공배수\n",
      "5의 공배수\n"
     ]
    }
   ],
   "source": [
    "for i in range(1, 101):\n",
    "    if i % 3 == 0 and i % 5 == 0:\n",
    "        print(\"3과 5의 공배수\")\n",
    "    elif i % 3 == 0:\n",
    "        print(\"3의 공배수\")\n",
    "    elif i % 5 == 0:\n",
    "        print(\"5의 공배수\")\n",
    "    else:\n",
    "        print(i)"
   ]
  },
  {
   "cell_type": "code",
   "execution_count": 75,
   "metadata": {},
   "outputs": [
    {
     "name": "stdout",
     "output_type": "stream",
     "text": [
      "0 번째\n",
      "1 번째\n",
      "2 번째\n",
      "3 번째\n",
      "4 번째\n",
      "5 번째\n",
      "6 번째\n",
      "7 번째\n",
      "8 번째\n",
      "9 번째\n"
     ]
    }
   ],
   "source": [
    "i = 0\n",
    "while i < 10:\n",
    "    print(f\"{i} 번째\")\n",
    "    i += 1 # i = i + 1"
   ]
  },
  {
   "cell_type": "code",
   "execution_count": 77,
   "metadata": {},
   "outputs": [
    {
     "name": "stdout",
     "output_type": "stream",
     "text": [
      "반복횟수?5\n",
      "입력한 횟수만큼 반복\n",
      "입력한 횟수만큼 반복\n",
      "입력한 횟수만큼 반복\n",
      "입력한 횟수만큼 반복\n",
      "입력한 횟수만큼 반복\n"
     ]
    }
   ],
   "source": [
    "count = int(input(\"반복횟수?\"))\n",
    "i = 0\n",
    "while i < count:\n",
    "    print(\"입력한 횟수만큼 반복\")\n",
    "    i += 1"
   ]
  },
  {
   "cell_type": "code",
   "execution_count": 79,
   "metadata": {},
   "outputs": [
    {
     "name": "stdout",
     "output_type": "stream",
     "text": [
      "5를 입력하면 반복이 중단됩니다.1\n",
      "5를 입력하면 반복이 중단됩니다.3\n",
      "5를 입력하면 반복이 중단됩니다.2\n",
      "5를 입력하면 반복이 중단됩니다.5\n",
      "중단\n"
     ]
    }
   ],
   "source": [
    "i = 0\n",
    "while i != 5:\n",
    "    i = int(input(\"5를 입력하면 반복이 중단됩니다.\"))\n",
    "print(\"중단\")"
   ]
  },
  {
   "cell_type": "code",
   "execution_count": 80,
   "metadata": {},
   "outputs": [
    {
     "data": {
      "text/plain": [
       "0.9478347287768221"
      ]
     },
     "execution_count": 80,
     "metadata": {},
     "output_type": "execute_result"
    }
   ],
   "source": [
    "import random\n",
    "random.random()"
   ]
  },
  {
   "cell_type": "code",
   "execution_count": 92,
   "metadata": {},
   "outputs": [
    {
     "data": {
      "text/plain": [
       "3"
      ]
     },
     "execution_count": 92,
     "metadata": {},
     "output_type": "execute_result"
    }
   ],
   "source": [
    "random.randint(1, 3)"
   ]
  },
  {
   "cell_type": "code",
   "execution_count": 94,
   "metadata": {},
   "outputs": [
    {
     "name": "stdout",
     "output_type": "stream",
     "text": [
      "값을 입력해주세요30\n",
      "값을 입력해주세요20\n",
      "값을 입력해주세요5040\n",
      "값을 입력해주세요30\n",
      "값을 입력해주세요0\n",
      "합계는 ?  5120\n"
     ]
    }
   ],
   "source": [
    "i = -1\n",
    "total = 0\n",
    "while i != 0:\n",
    "    i = int(input(\"값을 입력해주세요\"))\n",
    "    total += i\n",
    "    \n",
    "print(\"합계는 ? \", total)\n"
   ]
  },
  {
   "cell_type": "code",
   "execution_count": 97,
   "metadata": {},
   "outputs": [
    {
     "name": "stdout",
     "output_type": "stream",
     "text": [
      "가위(1), 바위(2), 보(3) 을 입력해주세요 :3\n",
      "유저 : 보, 컴퓨터 : 가위\n",
      "가위(1), 바위(2), 보(3) 을 입력해주세요 :2\n",
      "유저 : 바위, 컴퓨터 : 보\n",
      "가위(1), 바위(2), 보(3) 을 입력해주세요 :3\n",
      "유저 : 보, 컴퓨터 : 바위\n",
      "가위(1), 바위(2), 보(3) 을 입력해주세요 :1\n",
      "유저 : 가위, 컴퓨터 : 바위\n",
      "가위(1), 바위(2), 보(3) 을 입력해주세요 :4\n",
      "게임종료 (전체:4 ,승리:1)\n"
     ]
    }
   ],
   "source": [
    "import random\n",
    "user = 1\n",
    "comp = 0\n",
    "\n",
    "win = 0\n",
    "total = 0\n",
    "\n",
    "game_table = {1:\"가위\", 2:\"바위\", 3:\"보\"}\n",
    "\n",
    "while user in [1, 2, 3]:\n",
    "    user = int(input(\"가위(1), 바위(2), 보(3) 을 입력해주세요 :\"))\n",
    "    comp = random.randint(1, 3)\n",
    "    \n",
    "    if (user == 1 and comp == 3) or (user == 2 and comp == 1) or (user == 3 and comp == 2):\n",
    "        win += 1\n",
    "    \n",
    "    if user in [1, 2, 3]:\n",
    "        total += 1\n",
    "        print(f\"유저 : {game_table[user]}, 컴퓨터 : {game_table[comp]}\")\n",
    "    \n",
    "print(f\"게임종료 (전체:{total} ,승리:{win})\")  "
   ]
  },
  {
   "cell_type": "code",
   "execution_count": 98,
   "metadata": {},
   "outputs": [
    {
     "data": {
      "text/plain": [
       "1"
      ]
     },
     "execution_count": 98,
     "metadata": {},
     "output_type": "execute_result"
    }
   ],
   "source": [
    "5 % 2"
   ]
  },
  {
   "cell_type": "code",
   "execution_count": null,
   "metadata": {},
   "outputs": [],
   "source": []
  }
 ],
 "metadata": {
  "kernelspec": {
   "display_name": "Python 3",
   "language": "python",
   "name": "python3"
  },
  "language_info": {
   "codemirror_mode": {
    "name": "ipython",
    "version": 3
   },
   "file_extension": ".py",
   "mimetype": "text/x-python",
   "name": "python",
   "nbconvert_exporter": "python",
   "pygments_lexer": "ipython3",
   "version": "3.7.9"
  }
 },
 "nbformat": 4,
 "nbformat_minor": 4
}
