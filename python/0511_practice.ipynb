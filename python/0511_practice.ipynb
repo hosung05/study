{
 "cells": [
  {
   "cell_type": "markdown",
   "id": "af04fe48",
   "metadata": {},
   "source": [
    "# if 조건문"
   ]
  },
  {
   "cell_type": "code",
   "execution_count": 2,
   "id": "8d5ca6de",
   "metadata": {},
   "outputs": [
    {
     "name": "stdout",
     "output_type": "stream",
     "text": [
      "finish\n"
     ]
    }
   ],
   "source": [
    "a = 10\n",
    "if a == 20:\n",
    "    print(\"a는 10입니다\")\n",
    "print(\"finish\")"
   ]
  },
  {
   "cell_type": "code",
   "execution_count": 10,
   "id": "92a34b27",
   "metadata": {},
   "outputs": [],
   "source": [
    "x = 'B'"
   ]
  },
  {
   "cell_type": "code",
   "execution_count": 11,
   "id": "eeb31039",
   "metadata": {},
   "outputs": [
    {
     "name": "stdout",
     "output_type": "stream",
     "text": [
      "x는 B\n"
     ]
    }
   ],
   "source": [
    "if x == 'A':\n",
    "    print('x는 A')\n",
    "elif x =='B':\n",
    "    print('x는 B')\n",
    "elif x =='C':\n",
    "    print('x는 C')\n",
    "else:\n",
    "\n",
    "    print('x는 A, B, C가 아니다')"
   ]
  },
  {
   "cell_type": "code",
   "execution_count": 19,
   "id": "bd467772",
   "metadata": {},
   "outputs": [
    {
     "name": "stdout",
     "output_type": "stream",
     "text": [
      "첫번째 점수를 입력해주세요 : 60\n",
      "두번째 점수를 입력해주세요 : 80\n",
      "세번째 점수를 입력해주세요 : 90\n"
     ]
    }
   ],
   "source": [
    "score1 = int(input(\"첫번째 점수를 입력해주세요 : \"))\n",
    "score2 = int(input(\"두번째 점수를 입력해주세요 : \"))\n",
    "score3 = int(input(\"세번째 점수를 입력해주세요 : \"))"
   ]
  },
  {
   "cell_type": "code",
   "execution_count": 17,
   "id": "f66f1567",
   "metadata": {},
   "outputs": [
    {
     "name": "stdout",
     "output_type": "stream",
     "text": [
      "불합격\n"
     ]
    }
   ],
   "source": [
    "if (0 <= score1 <= 100) and (0 <= score2 <= 100) and (0 <= score3 <= 100):\n",
    "    if (score1 > 65) and (score2 > 65) and (score3 > 65):\n",
    "        print(\"합격\")\n",
    "    else:\n",
    "        print(\"불합격\")\n",
    "else:\n",
    "    print(\"잘못된 점수가 입력되었습니다.\")"
   ]
  },
  {
   "cell_type": "markdown",
   "id": "f6166c2f",
   "metadata": {},
   "source": []
  },
  {
   "cell_type": "code",
   "execution_count": 1,
   "id": "2baf49d7",
   "metadata": {},
   "outputs": [],
   "source": [
    "fruit = ['사과','오렌지']\n",
    "vegetable = ['당근','호박']"
   ]
  },
  {
   "cell_type": "code",
   "execution_count": 31,
   "id": "b1635fac",
   "metadata": {},
   "outputs": [
    {
     "name": "stdout",
     "output_type": "stream",
     "text": [
      "등록할 카테고리를 선택해주세요('과일','채소'):채소\n",
      "등록할 채소를 입력해주세요 : 당근\n",
      "“이미등록된 채소입니다.”\n"
     ]
    }
   ],
   "source": [
    "category = input(\"등록할 카테고리를 선택해주세요('과일','채소') : \")\n",
    "if category == '과일':\n",
    "    input_fruit = input(\"등록할 과일을 입력해주세요 : \")\n",
    "    if input_fruit in fruit:\n",
    "        print(\"“이미등록된 과일입니다.”\")\n",
    "    else:\n",
    "        fruit.append(input_fruit)\n",
    "        print(fruit)\n",
    "        \n",
    "elif category == '채소':\n",
    "    input_vege = input(\"등록할 채소를 입력해주세요 : \")\n",
    "    if input_vege in vegetable:\n",
    "        print(\"“이미등록된 채소입니다.”\")\n",
    "    else:\n",
    "        vegetable.append(input_vege)\n",
    "        print(vegetable)\n",
    "else:\n",
    "    print(\"존재하지 않는 카테고리입니다.\")"
   ]
  },
  {
   "cell_type": "code",
   "execution_count": 2,
   "id": "f8ac86ee",
   "metadata": {},
   "outputs": [
    {
     "name": "stdout",
     "output_type": "stream",
     "text": [
      "등록할 카테고리를 선택해주세요('과일','채소') : 과일\n",
      "등록할 과일를 입력해주세요.당근\n",
      "과일\n",
      "당근\n",
      "['사과', '오렌지', '당근']\n"
     ]
    }
   ],
   "source": [
    "category_list = ['과일','채소']\n",
    "category_dict = {'과일':fruit, '채소':vegetable}\n",
    "category = input(\"등록할 카테고리를 선택해주세요('과일','채소') : \")\n",
    "item = input(\"등록할 {}를 입력해주세요.\".format(category))\n",
    "print(category)\n",
    "print(item)\n",
    "\n",
    "if category not in ['과일', '채소']: # 예외 case를 먼저 확인하여 filtering\n",
    "    print(\"존재하지 않는 카테고리입니다.\")\n",
    "else:\n",
    "    if item in category_dict[category]\n",
    "        print(f'이미 등록된 {category}입니다')\n",
    "    else:\n",
    "        item in item_list:\n",
    "            \n",
    "    if category == '과일':\n",
    "        if item in fruit:\n",
    "            print('이미 등록된 과일입니다.')\n",
    "        else:\n",
    "            fruit.append(item)\n",
    "            print(fruit)\n",
    "    else:\n",
    "        if item in vegetable:\n",
    "            print(\"이미 등록된 채소입니다.\")\n",
    "        else:\n",
    "            vegetable.append(item)\n",
    "            print(vegetable)"
   ]
  },
  {
   "cell_type": "code",
   "execution_count": null,
   "id": "e306891b",
   "metadata": {},
   "outputs": [],
   "source": [
    "category_list = ['과일','채소']\n",
    "category_dict = {'과일':fruit, '채소':vegetable}\n",
    "\n",
    "category_name = '채소'\n",
    "category_dict[category_name]"
   ]
  }
 ],
 "metadata": {
  "kernelspec": {
   "display_name": "Python 3",
   "language": "python",
   "name": "python3"
  },
  "language_info": {
   "codemirror_mode": {
    "name": "ipython",
    "version": 3
   },
   "file_extension": ".py",
   "mimetype": "text/x-python",
   "name": "python",
   "nbconvert_exporter": "python",
   "pygments_lexer": "ipython3",
   "version": "3.7.10"
  },
  "toc": {
   "base_numbering": 1,
   "nav_menu": {},
   "number_sections": true,
   "sideBar": true,
   "skip_h1_title": false,
   "title_cell": "Table of Contents",
   "title_sidebar": "Contents",
   "toc_cell": false,
   "toc_position": {},
   "toc_section_display": true,
   "toc_window_display": false
  },
  "varInspector": {
   "cols": {
    "lenName": 16,
    "lenType": 16,
    "lenVar": 40
   },
   "kernels_config": {
    "python": {
     "delete_cmd_postfix": "",
     "delete_cmd_prefix": "del ",
     "library": "var_list.py",
     "varRefreshCmd": "print(var_dic_list())"
    },
    "r": {
     "delete_cmd_postfix": ") ",
     "delete_cmd_prefix": "rm(",
     "library": "var_list.r",
     "varRefreshCmd": "cat(var_dic_list()) "
    }
   },
   "types_to_exclude": [
    "module",
    "function",
    "builtin_function_or_method",
    "instance",
    "_Feature"
   ],
   "window_display": false
  }
 },
 "nbformat": 4,
 "nbformat_minor": 5
}
