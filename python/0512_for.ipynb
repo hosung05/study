{
 "cells": [
  {
   "cell_type": "markdown",
   "id": "5e34e980",
   "metadata": {},
   "source": [
    "# index 접근"
   ]
  },
  {
   "cell_type": "code",
   "execution_count": 1,
   "id": "eda9c00c",
   "metadata": {},
   "outputs": [],
   "source": [
    "a = list(range(10))"
   ]
  },
  {
   "cell_type": "code",
   "execution_count": 2,
   "id": "86799bd5",
   "metadata": {},
   "outputs": [
    {
     "data": {
      "text/plain": [
       "[0, 1, 2]"
      ]
     },
     "execution_count": 2,
     "metadata": {},
     "output_type": "execute_result"
    }
   ],
   "source": [
    "a[:3]"
   ]
  },
  {
   "cell_type": "code",
   "execution_count": 3,
   "id": "bd88732e",
   "metadata": {},
   "outputs": [
    {
     "data": {
      "text/plain": [
       "True"
      ]
     },
     "execution_count": 3,
     "metadata": {},
     "output_type": "execute_result"
    }
   ],
   "source": [
    "1 in a"
   ]
  },
  {
   "cell_type": "code",
   "execution_count": 4,
   "id": "6ef5018b",
   "metadata": {},
   "outputs": [
    {
     "data": {
      "text/plain": [
       "False"
      ]
     },
     "execution_count": 4,
     "metadata": {},
     "output_type": "execute_result"
    }
   ],
   "source": [
    "11 in a"
   ]
  },
  {
   "cell_type": "code",
   "execution_count": 5,
   "id": "8417667a",
   "metadata": {},
   "outputs": [
    {
     "data": {
      "text/plain": [
       "9"
      ]
     },
     "execution_count": 5,
     "metadata": {},
     "output_type": "execute_result"
    }
   ],
   "source": [
    "a.pop()"
   ]
  },
  {
   "cell_type": "code",
   "execution_count": 6,
   "id": "f39897b1",
   "metadata": {},
   "outputs": [
    {
     "data": {
      "text/plain": [
       "[0, 1, 2, 3, 4, 5, 6, 7, 8]"
      ]
     },
     "execution_count": 6,
     "metadata": {},
     "output_type": "execute_result"
    }
   ],
   "source": [
    "a"
   ]
  },
  {
   "cell_type": "code",
   "execution_count": 8,
   "id": "a3afab81",
   "metadata": {},
   "outputs": [
    {
     "data": {
      "text/plain": [
       "2"
      ]
     },
     "execution_count": 8,
     "metadata": {},
     "output_type": "execute_result"
    }
   ],
   "source": [
    "a.pop(2)"
   ]
  },
  {
   "cell_type": "code",
   "execution_count": 9,
   "id": "31647320",
   "metadata": {},
   "outputs": [
    {
     "data": {
      "text/plain": [
       "[0, 1, 3, 4, 5, 6, 7, 8]"
      ]
     },
     "execution_count": 9,
     "metadata": {},
     "output_type": "execute_result"
    }
   ],
   "source": [
    "a"
   ]
  },
  {
   "cell_type": "code",
   "execution_count": 10,
   "id": "1e627ef1",
   "metadata": {},
   "outputs": [
    {
     "data": {
      "text/plain": [
       "2"
      ]
     },
     "execution_count": 10,
     "metadata": {},
     "output_type": "execute_result"
    }
   ],
   "source": [
    "a.index(3) # 3의 인덱스를 찾아냄"
   ]
  },
  {
   "cell_type": "markdown",
   "id": "975fc0e2",
   "metadata": {},
   "source": [
    "# 반복문"
   ]
  },
  {
   "cell_type": "code",
   "execution_count": 4,
   "id": "b61ec299",
   "metadata": {},
   "outputs": [
    {
     "name": "stdout",
     "output_type": "stream",
     "text": [
      "0번째\n",
      "1번째\n",
      "2번째\n",
      "3번째\n",
      "4번째\n",
      "5번째\n",
      "6번째\n",
      "7번째\n",
      "8번째\n",
      "9번째\n",
      "완료\n"
     ]
    }
   ],
   "source": [
    "for i in range(10):\n",
    "    print(f'{i}번째')\n",
    "print('완료')"
   ]
  },
  {
   "cell_type": "code",
   "execution_count": 1,
   "id": "4e03083a",
   "metadata": {},
   "outputs": [
    {
     "data": {
      "text/plain": [
       "[10, 9, 8, 7, 6, 5, 4, 3, 2, 1]"
      ]
     },
     "execution_count": 1,
     "metadata": {},
     "output_type": "execute_result"
    }
   ],
   "source": [
    "list(range(10,0,-1))"
   ]
  },
  {
   "cell_type": "code",
   "execution_count": 5,
   "id": "79384adb",
   "metadata": {},
   "outputs": [
    {
     "name": "stdout",
     "output_type": "stream",
     "text": [
      "10\n",
      "9\n",
      "8\n",
      "7\n",
      "6\n",
      "5\n",
      "4\n",
      "3\n",
      "2\n",
      "1\n"
     ]
    }
   ],
   "source": [
    "for i in range(10, 0, -1):\n",
    "    "
   ]
  },
  {
   "cell_type": "code",
   "execution_count": 11,
   "id": "b82cca2f",
   "metadata": {},
   "outputs": [
    {
     "name": "stdout",
     "output_type": "stream",
     "text": [
      "Orange"
     ]
    }
   ],
   "source": [
    "a =\"Orange\"\n",
    "for i in a:\n",
    "    print(i, end = '')"
   ]
  },
  {
   "cell_type": "code",
   "execution_count": 16,
   "id": "918d3a7c",
   "metadata": {},
   "outputs": [
    {
     "name": "stdout",
     "output_type": "stream",
     "text": [
      "name\n",
      "math\n",
      "english\n"
     ]
    }
   ],
   "source": [
    "a = {\"name\":'Tom',\"math\":80,\"english\":90}\n",
    "for i in a:\n",
    "    print(i)"
   ]
  },
  {
   "cell_type": "code",
   "execution_count": 38,
   "id": "384da3ab",
   "metadata": {},
   "outputs": [
    {
     "name": "stdout",
     "output_type": "stream",
     "text": [
      "name: Tom\n",
      "math: 80\n",
      "english: 90\n"
     ]
    }
   ],
   "source": [
    "a = {\"name\":'Tom',\"math\":80,\"english\":90}\n",
    "for i in a:\n",
    "    print(f'{i}: {a[i]}')"
   ]
  },
  {
   "cell_type": "code",
   "execution_count": 21,
   "id": "8f199fa0",
   "metadata": {},
   "outputs": [
    {
     "name": "stdout",
     "output_type": "stream",
     "text": [
      "name\n",
      "math\n",
      "english\n"
     ]
    }
   ],
   "source": [
    "for item in a.keys():\n",
    "    print(item)"
   ]
  },
  {
   "cell_type": "code",
   "execution_count": 22,
   "id": "459b7c16",
   "metadata": {},
   "outputs": [
    {
     "name": "stdout",
     "output_type": "stream",
     "text": [
      "Tom\n",
      "80\n",
      "90\n"
     ]
    }
   ],
   "source": [
    "for value in a.values():\n",
    "    print(value)"
   ]
  },
  {
   "cell_type": "code",
   "execution_count": 23,
   "id": "208aa8f6",
   "metadata": {},
   "outputs": [
    {
     "name": "stdout",
     "output_type": "stream",
     "text": [
      "('name', 'Tom')\n",
      "('math', 80)\n",
      "('english', 90)\n"
     ]
    }
   ],
   "source": [
    "for item in a.items():\n",
    "    print(item)"
   ]
  },
  {
   "cell_type": "code",
   "execution_count": 24,
   "id": "db4be07a",
   "metadata": {},
   "outputs": [
    {
     "name": "stdout",
     "output_type": "stream",
     "text": [
      "name : Tom\n",
      "math : 80\n",
      "english : 90\n"
     ]
    }
   ],
   "source": [
    "for k, v in a.items():\n",
    "    print(f'{k} : {v}')\n"
   ]
  },
  {
   "cell_type": "code",
   "execution_count": null,
   "id": "8c3e5bd6",
   "metadata": {},
   "outputs": [],
   "source": []
  },
  {
   "cell_type": "code",
   "execution_count": 25,
   "id": "14d32186",
   "metadata": {},
   "outputs": [
    {
     "name": "stdout",
     "output_type": "stream",
     "text": [
      "0 = > 1\n",
      "1 = > 2\n",
      "2 = > 3\n",
      "3 = > 4\n",
      "4 = > 5\n",
      "5 = > 6\n",
      "6 = > 7\n"
     ]
    }
   ],
   "source": [
    "a = [1, 2, 3, 4, 5, 6, 7]\n",
    "for i, num in enumerate(a):\n",
    "    print(f'{i} = > {num}')"
   ]
  },
  {
   "cell_type": "code",
   "execution_count": 27,
   "id": "d9bc3420",
   "metadata": {},
   "outputs": [
    {
     "name": "stdout",
     "output_type": "stream",
     "text": [
      "*************** 0\n",
      "j :  0\n",
      "j :  1\n",
      "j :  2\n",
      "j :  3\n",
      "j :  4\n",
      "*************** 1\n",
      "j :  0\n",
      "j :  1\n",
      "j :  2\n",
      "j :  3\n",
      "j :  4\n",
      "*************** 2\n",
      "j :  0\n",
      "j :  1\n",
      "j :  2\n",
      "j :  3\n",
      "j :  4\n",
      "*************** 3\n",
      "j :  0\n",
      "j :  1\n",
      "j :  2\n",
      "j :  3\n",
      "j :  4\n",
      "*************** 4\n",
      "j :  0\n",
      "j :  1\n",
      "j :  2\n",
      "j :  3\n",
      "j :  4\n"
     ]
    }
   ],
   "source": [
    "for i in range(0,5):\n",
    "    print(\"***************\", i)\n",
    "    for j in range(5):\n",
    "        print('j : ',j)"
   ]
  },
  {
   "cell_type": "code",
   "execution_count": 35,
   "id": "f705985b",
   "metadata": {},
   "outputs": [
    {
     "data": {
      "text/plain": [
       "[30, 60, 90, 200, -70, 50]"
      ]
     },
     "execution_count": 35,
     "metadata": {},
     "output_type": "execute_result"
    }
   ],
   "source": [
    "x = [3, 6, 9, 20, -7, 5]\n",
    "a = []\n",
    "for i in x:\n",
    "    a.append(i * 10)\n",
    "a"
   ]
  },
  {
   "cell_type": "code",
   "execution_count": 85,
   "id": "3b983353",
   "metadata": {},
   "outputs": [
    {
     "data": {
      "text/plain": [
       "[30, 60, 90, 200, -70, 50]"
      ]
     },
     "execution_count": 85,
     "metadata": {},
     "output_type": "execute_result"
    }
   ],
   "source": [
    "x = [3, 6, 9, 20, -7, 5]\n",
    "for i in range(len(x)):\n",
    "    x[i] *= 10\n",
    "x"
   ]
  },
  {
   "cell_type": "code",
   "execution_count": 45,
   "id": "eeb24add",
   "metadata": {},
   "outputs": [],
   "source": [
    "y = {\"math\": 70, \"science\": 80, \"english\": 20}"
   ]
  },
  {
   "cell_type": "code",
   "execution_count": 41,
   "id": "a96084b7",
   "metadata": {},
   "outputs": [
    {
     "data": {
      "text/plain": [
       "dict"
      ]
     },
     "execution_count": 41,
     "metadata": {},
     "output_type": "execute_result"
    }
   ],
   "source": [
    "type(y)"
   ]
  },
  {
   "cell_type": "code",
   "execution_count": 47,
   "id": "d0fe3c61",
   "metadata": {},
   "outputs": [
    {
     "data": {
      "text/plain": [
       "{'math': 80, 'science': 90, 'english': 30}"
      ]
     },
     "execution_count": 47,
     "metadata": {},
     "output_type": "execute_result"
    }
   ],
   "source": [
    "for k, v in y.items():\n",
    "    y[k] = v + 10\n",
    "    \n",
    "y"
   ]
  },
  {
   "cell_type": "code",
   "execution_count": 53,
   "id": "0d4ffb3f",
   "metadata": {},
   "outputs": [
    {
     "name": "stdout",
     "output_type": "stream",
     "text": [
      "몇단을 출력하시겠습니까? : 9\n",
      "9 * 1 = 9\n",
      "9 * 2 = 18\n",
      "9 * 3 = 27\n",
      "9 * 4 = 36\n",
      "9 * 5 = 45\n",
      "9 * 6 = 54\n",
      "9 * 7 = 63\n",
      "9 * 8 = 72\n",
      "9 * 9 = 81\n"
     ]
    }
   ],
   "source": [
    "num = int(input(\"몇단을 출력하시겠습니까? : \"))\n",
    "\n",
    "for i in range(1, 10):\n",
    "    print(f'{num} * {i} = {num * i}')"
   ]
  },
  {
   "cell_type": "code",
   "execution_count": 65,
   "id": "9e0b5967",
   "metadata": {},
   "outputs": [],
   "source": [
    "words = [\"school\", \"game\", \"piano\", \"science\", \"hotel\", \"mountain\"]\n",
    "new_list = []"
   ]
  },
  {
   "cell_type": "code",
   "execution_count": 66,
   "id": "ff68844b",
   "metadata": {},
   "outputs": [
    {
     "data": {
      "text/plain": [
       "['school', 'science', 'mountain']"
      ]
     },
     "execution_count": 66,
     "metadata": {},
     "output_type": "execute_result"
    }
   ],
   "source": [
    "for i in range(len(words)):\n",
    "    if len(words[i]) >= 6:\n",
    "        new_list.append(words[i])\n",
    "new_list"
   ]
  },
  {
   "cell_type": "code",
   "execution_count": 69,
   "id": "11418bfc",
   "metadata": {},
   "outputs": [
    {
     "name": "stdout",
     "output_type": "stream",
     "text": [
      "1 * 1 = 1\n",
      "1 * 2 = 2\n",
      "1 * 3 = 3\n",
      "1 * 4 = 4\n",
      "1 * 5 = 5\n",
      "1 * 6 = 6\n",
      "1 * 7 = 7\n",
      "1 * 8 = 8\n",
      "1 * 9 = 9\n",
      "2 * 1 = 2\n",
      "2 * 2 = 4\n",
      "2 * 3 = 6\n",
      "2 * 4 = 8\n",
      "2 * 5 = 10\n",
      "2 * 6 = 12\n",
      "2 * 7 = 14\n",
      "2 * 8 = 16\n",
      "2 * 9 = 18\n",
      "3 * 1 = 3\n",
      "3 * 2 = 6\n",
      "3 * 3 = 9\n",
      "3 * 4 = 12\n",
      "3 * 5 = 15\n",
      "3 * 6 = 18\n",
      "3 * 7 = 21\n",
      "3 * 8 = 24\n",
      "3 * 9 = 27\n",
      "4 * 1 = 4\n",
      "4 * 2 = 8\n",
      "4 * 3 = 12\n",
      "4 * 4 = 16\n",
      "4 * 5 = 20\n",
      "4 * 6 = 24\n",
      "4 * 7 = 28\n",
      "4 * 8 = 32\n",
      "4 * 9 = 36\n",
      "5 * 1 = 5\n",
      "5 * 2 = 10\n",
      "5 * 3 = 15\n",
      "5 * 4 = 20\n",
      "5 * 5 = 25\n",
      "5 * 6 = 30\n",
      "5 * 7 = 35\n",
      "5 * 8 = 40\n",
      "5 * 9 = 45\n",
      "6 * 1 = 6\n",
      "6 * 2 = 12\n",
      "6 * 3 = 18\n",
      "6 * 4 = 24\n",
      "6 * 5 = 30\n",
      "6 * 6 = 36\n",
      "6 * 7 = 42\n",
      "6 * 8 = 48\n",
      "6 * 9 = 54\n",
      "7 * 1 = 7\n",
      "7 * 2 = 14\n",
      "7 * 3 = 21\n",
      "7 * 4 = 28\n",
      "7 * 5 = 35\n",
      "7 * 6 = 42\n",
      "7 * 7 = 49\n",
      "7 * 8 = 56\n",
      "7 * 9 = 63\n",
      "8 * 1 = 8\n",
      "8 * 2 = 16\n",
      "8 * 3 = 24\n",
      "8 * 4 = 32\n",
      "8 * 5 = 40\n",
      "8 * 6 = 48\n",
      "8 * 7 = 56\n",
      "8 * 8 = 64\n",
      "8 * 9 = 72\n",
      "9 * 1 = 9\n",
      "9 * 2 = 18\n",
      "9 * 3 = 27\n",
      "9 * 4 = 36\n",
      "9 * 5 = 45\n",
      "9 * 6 = 54\n",
      "9 * 7 = 63\n",
      "9 * 8 = 72\n",
      "9 * 9 = 81\n"
     ]
    }
   ],
   "source": [
    "for i in range(1, 10):\n",
    "    for j in range(1, 10):\n",
    "        print(f'{i} * {j} = {i * j}')\n",
    "    "
   ]
  },
  {
   "cell_type": "markdown",
   "id": "980bb4dc",
   "metadata": {},
   "source": [
    "#### 정렬 알고리즘(1) - select sort"
   ]
  },
  {
   "cell_type": "code",
   "execution_count": 98,
   "id": "51b73632",
   "metadata": {},
   "outputs": [
    {
     "name": "stdout",
     "output_type": "stream",
     "text": [
      "0,1,[3, 6, 9, 20, -7, 5]\n",
      "0,2,[3, 6, 9, 20, -7, 5]\n",
      "0,3,[3, 6, 9, 20, -7, 5]\n",
      "0,4,[-7, 6, 9, 20, 3, 5]\n",
      "0,5,[-7, 6, 9, 20, 3, 5]\n",
      "1,2,[-7, 6, 9, 20, 3, 5]\n",
      "1,3,[-7, 6, 9, 20, 3, 5]\n",
      "1,4,[-7, 3, 9, 20, 6, 5]\n",
      "1,5,[-7, 3, 9, 20, 6, 5]\n",
      "2,3,[-7, 3, 9, 20, 6, 5]\n",
      "2,4,[-7, 3, 6, 20, 9, 5]\n",
      "2,5,[-7, 3, 5, 20, 9, 6]\n",
      "3,4,[-7, 3, 5, 9, 20, 6]\n",
      "3,5,[-7, 3, 5, 6, 20, 9]\n",
      "4,5,[-7, 3, 5, 6, 9, 20]\n"
     ]
    },
    {
     "data": {
      "text/plain": [
       "[-7, 3, 5, 6, 9, 20]"
      ]
     },
     "execution_count": 98,
     "metadata": {},
     "output_type": "execute_result"
    }
   ],
   "source": [
    "a = [3, 6, 9, 20, -7, 5,]\n",
    "\n",
    "for i in range(len(a)-1):\n",
    "    for j in range(i + 1, len(a)):\n",
    "        if a[i] > a[j]:\n",
    "            a[i], a[j] = a[j], a[i]\n",
    "        print(f'{i},{j},{a}')\n",
    "a"
   ]
  },
  {
   "cell_type": "markdown",
   "id": "9ac3262b",
   "metadata": {},
   "source": [
    "#### 정렬 알고리즘 (2) - bubble sort"
   ]
  },
  {
   "cell_type": "code",
   "execution_count": 96,
   "id": "8551def0",
   "metadata": {},
   "outputs": [
    {
     "name": "stdout",
     "output_type": "stream",
     "text": [
      "0,3,[3, 6, 9, -7, 20, 5, -8]\n",
      "0,4,[3, 6, 9, -7, 5, 20, -8]\n",
      "0,5,[3, 6, 9, -7, 5, -8, 20]\n",
      "1,2,[3, 6, -7, 9, 5, -8, 20]\n",
      "1,3,[3, 6, -7, 5, 9, -8, 20]\n",
      "1,4,[3, 6, -7, 5, -8, 9, 20]\n",
      "2,1,[3, -7, 6, 5, -8, 9, 20]\n",
      "2,2,[3, -7, 5, 6, -8, 9, 20]\n",
      "2,3,[3, -7, 5, -8, 6, 9, 20]\n",
      "3,0,[-7, 3, 5, -8, 6, 9, 20]\n",
      "3,2,[-7, 3, -8, 5, 6, 9, 20]\n",
      "4,1,[-7, -8, 3, 5, 6, 9, 20]\n",
      "5,0,[-8, -7, 3, 5, 6, 9, 20]\n"
     ]
    },
    {
     "data": {
      "text/plain": [
       "[-8, -7, 3, 5, 6, 9, 20]"
      ]
     },
     "execution_count": 96,
     "metadata": {},
     "output_type": "execute_result"
    }
   ],
   "source": [
    "a = [3, 6, 9, 20, -7, 5, -8]\n",
    "\n",
    "for i in range(len(a)-1):\n",
    "    for j in range(len(a) - i - 1):\n",
    "        if a[j] > a[j+1]:\n",
    "            a[j], a[j + 1] = a[j + 1], a[j]\n",
    "            print(f'{i},{j},{a}')\n",
    "\n",
    "a"
   ]
  },
  {
   "cell_type": "code",
   "execution_count": 90,
   "id": "93cb64e1",
   "metadata": {},
   "outputs": [
    {
     "data": {
      "text/plain": [
       "[20, 9, 6, 5, 3, -7, -8]"
      ]
     },
     "execution_count": 90,
     "metadata": {},
     "output_type": "execute_result"
    }
   ],
   "source": [
    "a.sort(reverse = True)\n",
    "a"
   ]
  },
  {
   "cell_type": "code",
   "execution_count": 77,
   "id": "882f7a1f",
   "metadata": {},
   "outputs": [
    {
     "name": "stdout",
     "output_type": "stream",
     "text": [
      "1\n",
      "2\n",
      "3의 배수\n",
      "4\n",
      "5의 배수\n",
      "3의 배수\n",
      "7\n",
      "8\n",
      "3의 배수\n",
      "5의 배수\n",
      "11\n",
      "3의 배수\n",
      "13\n",
      "14\n",
      "3과 5의 공배수\n",
      "16\n",
      "17\n",
      "3의 배수\n",
      "19\n",
      "5의 배수\n",
      "3의 배수\n",
      "22\n",
      "23\n",
      "3의 배수\n",
      "5의 배수\n",
      "26\n",
      "3의 배수\n",
      "28\n",
      "29\n",
      "3과 5의 공배수\n",
      "31\n",
      "32\n",
      "3의 배수\n",
      "34\n",
      "5의 배수\n",
      "3의 배수\n",
      "37\n",
      "38\n",
      "3의 배수\n",
      "5의 배수\n",
      "41\n",
      "3의 배수\n",
      "43\n",
      "44\n",
      "3과 5의 공배수\n",
      "46\n",
      "47\n",
      "3의 배수\n",
      "49\n",
      "5의 배수\n",
      "3의 배수\n",
      "52\n",
      "53\n",
      "3의 배수\n",
      "5의 배수\n",
      "56\n",
      "3의 배수\n",
      "58\n",
      "59\n",
      "3과 5의 공배수\n",
      "61\n",
      "62\n",
      "3의 배수\n",
      "64\n",
      "5의 배수\n",
      "3의 배수\n",
      "67\n",
      "68\n",
      "3의 배수\n",
      "5의 배수\n",
      "71\n",
      "3의 배수\n",
      "73\n",
      "74\n",
      "3과 5의 공배수\n",
      "76\n",
      "77\n",
      "3의 배수\n",
      "79\n",
      "5의 배수\n",
      "3의 배수\n",
      "82\n",
      "83\n",
      "3의 배수\n",
      "5의 배수\n",
      "86\n",
      "3의 배수\n",
      "88\n",
      "89\n",
      "3과 5의 공배수\n",
      "91\n",
      "92\n",
      "3의 배수\n",
      "94\n",
      "5의 배수\n",
      "3의 배수\n",
      "97\n",
      "98\n",
      "3의 배수\n",
      "5의 배수\n"
     ]
    }
   ],
   "source": [
    "for i in range(1,101):\n",
    "    if (i % 3) == 0 and (i % 5) == 0:\n",
    "        print(\"3과 5의 공배수\")\n",
    "    elif (i % 3) == 0:\n",
    "        print(\"3의 배수\")\n",
    "    elif (i % 5) == 0:\n",
    "        print(\"5의 배수\")\n",
    "    else:\n",
    "        print(i)"
   ]
  },
  {
   "cell_type": "code",
   "execution_count": 128,
   "id": "d887c585",
   "metadata": {},
   "outputs": [
    {
     "name": "stdout",
     "output_type": "stream",
     "text": [
      "값을 입력해주세요 : 70\n",
      "값을 입력해주세요 : 80\n",
      "값을 입력해주세요 : 90\n",
      "값을 입력해주세요 : 0\n",
      "240\n"
     ]
    }
   ],
   "source": [
    "sum_a = 0\n",
    "a = int(input(\"값을 입력해주세요 : \"))\n",
    "while (a != 0):\n",
    "    sum_a = sum_a + a\n",
    "    a = int(input(\"값을 입력해주세요 : \"))\n",
    "    \n",
    "print(sum_a)"
   ]
  },
  {
   "cell_type": "code",
   "execution_count": 114,
   "id": "f4b6d245",
   "metadata": {},
   "outputs": [],
   "source": [
    "import random"
   ]
  },
  {
   "cell_type": "code",
   "execution_count": null,
   "id": "b84ee743",
   "metadata": {},
   "outputs": [],
   "source": []
  },
  {
   "cell_type": "code",
   "execution_count": 115,
   "id": "2c384733",
   "metadata": {},
   "outputs": [
    {
     "data": {
      "text/plain": [
       "2"
      ]
     },
     "execution_count": 115,
     "metadata": {},
     "output_type": "execute_result"
    }
   ],
   "source": [
    "while random.randint(1,3)"
   ]
  },
  {
   "cell_type": "code",
   "execution_count": 124,
   "id": "e0c91326",
   "metadata": {},
   "outputs": [
    {
     "name": "stdout",
     "output_type": "stream",
     "text": [
      "가위(1), 바위(2), 보(3) 을 입력해주세요 : 2\n",
      "유저 : 바위,컴퓨터 : 보)\n",
      "가위(1), 바위(2), 보(3) 을 입력해주세요 : 3\n",
      "유저 : 보,컴퓨터 : 바위)\n",
      "가위(1), 바위(2), 보(3) 을 입력해주세요 : 1\n",
      "유저 : 가위,컴퓨터 : 가위)\n",
      "가위(1), 바위(2), 보(3) 을 입력해주세요 : 2\n",
      "유저 : 바위,컴퓨터 : 바위)\n",
      "가위(1), 바위(2), 보(3) 을 입력해주세요 : 4\n",
      "게임종료(전체:4,1)\n"
     ]
    }
   ],
   "source": [
    "import random\n",
    "data_dict = {'1':'가위','2':'바위','3':'보'}\n",
    "user = input(\"가위(1), 바위(2), 보(3) 을 입력해주세요 : \")\n",
    "\n",
    "while (int(user) < 4):\n",
    "    computer = str(random.randint(1,3))\n",
    "    if user == '1':\n",
    "        if computer == '3':\n",
    "            total += 1\n",
    "            win_count += 1\n",
    "        else:\n",
    "            total += 1\n",
    "    elif user == '2':\n",
    "        if computer == '1':\n",
    "            total += 1\n",
    "            win_count += 1\n",
    "        else:\n",
    "            total += 1\n",
    "    else:\n",
    "        if computer == '2':\n",
    "            total += 1\n",
    "            win_count += 1\n",
    "        else:\n",
    "            total += 1\n",
    "    print(f'유저 : {data_dict[user]},컴퓨터 : {data_dict[computer]})')\n",
    "    user = input(\"가위(1), 바위(2), 보(3) 을 입력해주세요 : \")\n",
    "    \n",
    "print(f'게임종료(전체:{total},{win_count})')\n",
    "\n",
    "with open(\"game_data\", \"wb\") as file:\n",
    "    pickle.dump(total, file)\n",
    "    pickle.dump(win_count, file)\n",
    "    \n",
    "with open(\"game_data\", \"rb\") as file:\n",
    "    pickle.load(file)\n",
    "    pickle.load(file)"
   ]
  },
  {
   "cell_type": "code",
   "execution_count": 134,
   "id": "4564310e",
   "metadata": {},
   "outputs": [],
   "source": [
    "data_dict = {1:'가위',2:'바위',3:'보'}\n",
    "\n"
   ]
  },
  {
   "cell_type": "code",
   "execution_count": 135,
   "id": "e36d8c3e",
   "metadata": {},
   "outputs": [
    {
     "data": {
      "text/plain": [
       "dict"
      ]
     },
     "execution_count": 135,
     "metadata": {},
     "output_type": "execute_result"
    }
   ],
   "source": [
    "type(data_dict)"
   ]
  },
  {
   "cell_type": "code",
   "execution_count": 136,
   "id": "382729d2",
   "metadata": {},
   "outputs": [
    {
     "data": {
      "text/plain": [
       "'가위'"
      ]
     },
     "execution_count": 136,
     "metadata": {},
     "output_type": "execute_result"
    }
   ],
   "source": [
    "data_dict[1]"
   ]
  },
  {
   "cell_type": "code",
   "execution_count": 144,
   "id": "f69a3c6f",
   "metadata": {},
   "outputs": [
    {
     "data": {
      "text/plain": [
       "20"
      ]
     },
     "execution_count": 144,
     "metadata": {},
     "output_type": "execute_result"
    }
   ],
   "source": [
    "user"
   ]
  },
  {
   "cell_type": "code",
   "execution_count": 147,
   "id": "7e30cb4a",
   "metadata": {},
   "outputs": [
    {
     "name": "stdout",
     "output_type": "stream",
     "text": [
      "숫자를 입력하세요:20\n",
      "1\n",
      "2\n",
      "3\n",
      "4\n",
      "5\n",
      "6\n",
      "7\n",
      "8\n",
      "9\n",
      "10\n",
      "11\n",
      "12\n",
      "13\n",
      "14\n",
      "15\n",
      "16\n",
      "17\n",
      "18\n",
      "19\n",
      "20\n"
     ]
    }
   ],
   "source": [
    "user = int(input(\"숫자를 입력하세요:\"))\n",
    "cnt = 0\n",
    "while True:\n",
    "    if cnt == user:\n",
    "        break\n",
    "    cnt += 1\n",
    "    print(cnt)"
   ]
  },
  {
   "cell_type": "code",
   "execution_count": 155,
   "id": "bae602ee",
   "metadata": {},
   "outputs": [
    {
     "name": "stdout",
     "output_type": "stream",
     "text": [
      " 숫자를 입력하세요: 20\n",
      "0\n",
      "2\n",
      "4\n",
      "6\n",
      "8\n",
      "10\n",
      "12\n",
      "14\n",
      "16\n",
      "18\n",
      "20\n"
     ]
    }
   ],
   "source": [
    "user = int(input(\" 숫자를 입력하세요: \"))\n",
    "for i in range(user+1):\n",
    "    if i % 2 == 1:\n",
    "        continue\n",
    "    print(i)"
   ]
  },
  {
   "cell_type": "code",
   "execution_count": null,
   "id": "9d22a03b",
   "metadata": {},
   "outputs": [],
   "source": [
    "user = int(input(\"숫자를 입력하세요 : \"))\n"
   ]
  }
 ],
 "metadata": {
  "kernelspec": {
   "display_name": "Python 3",
   "language": "python",
   "name": "python3"
  },
  "language_info": {
   "codemirror_mode": {
    "name": "ipython",
    "version": 3
   },
   "file_extension": ".py",
   "mimetype": "text/x-python",
   "name": "python",
   "nbconvert_exporter": "python",
   "pygments_lexer": "ipython3",
   "version": "3.7.10"
  },
  "toc": {
   "base_numbering": 1,
   "nav_menu": {},
   "number_sections": true,
   "sideBar": true,
   "skip_h1_title": false,
   "title_cell": "Table of Contents",
   "title_sidebar": "Contents",
   "toc_cell": false,
   "toc_position": {},
   "toc_section_display": true,
   "toc_window_display": false
  },
  "varInspector": {
   "cols": {
    "lenName": 16,
    "lenType": 16,
    "lenVar": 40
   },
   "kernels_config": {
    "python": {
     "delete_cmd_postfix": "",
     "delete_cmd_prefix": "del ",
     "library": "var_list.py",
     "varRefreshCmd": "print(var_dic_list())"
    },
    "r": {
     "delete_cmd_postfix": ") ",
     "delete_cmd_prefix": "rm(",
     "library": "var_list.r",
     "varRefreshCmd": "cat(var_dic_list()) "
    }
   },
   "types_to_exclude": [
    "module",
    "function",
    "builtin_function_or_method",
    "instance",
    "_Feature"
   ],
   "window_display": false
  }
 },
 "nbformat": 4,
 "nbformat_minor": 5
}
